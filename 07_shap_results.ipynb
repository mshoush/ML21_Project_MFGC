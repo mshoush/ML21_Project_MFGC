{
 "cells": [
  {
   "cell_type": "code",
   "execution_count": 1,
   "id": "6996514f",
   "metadata": {},
   "outputs": [],
   "source": [
    "# import pandas for data wrangling\n",
    "import pandas as pd\n",
    "\n",
    "\n",
    "# import numpy for Scientific computations\n",
    "import numpy as np\n",
    "\n",
    "\n",
    "# import machine learning libraries\n",
    "import xgboost as xgb\n",
    "from sklearn.metrics import accuracy_score\n",
    "\n",
    "\n",
    "# import packages for hyperparameters tuning\n",
    "from hyperopt import STATUS_OK, Trials, fmin, hp, tpe\n",
    "\n",
    "\n",
    "# Input data files are available in the \"../input/\" directory.\n",
    "# For example, running this (by clicking run or pressing Shift+Enter) will list all files under the input directory\n",
    "\n",
    "import os\n",
    "# Any results you write to the current directory are saved as output."
   ]
  },
  {
   "cell_type": "code",
   "execution_count": 2,
   "id": "9107ee78",
   "metadata": {},
   "outputs": [],
   "source": [
    "def read_data(file):    \n",
    "    df_all_v1 = pd.read_csv(file)\n",
    "    try:\n",
    "        df_all_v1 = df_all_v1.drop(['Unnamed: 0', 'Registration_date', 'EMTAK_by_number', 'Client_ID_by_Eesti_Pank'],axis=1)\n",
    "    except: \n",
    "        df_all_v1 = df_all_v1.drop(['Registration_date', 'EMTAK_by_number', 'Client_ID_by_Eesti_Pank'],axis=1)\n",
    "        \n",
    "    df_all_v1 = df_all_v1.sort_values(by=['year_quarter'])\n",
    "    \n",
    "    return df_all_v1"
   ]
  },
  {
   "cell_type": "code",
   "execution_count": 3,
   "id": "d03130f6",
   "metadata": {},
   "outputs": [],
   "source": [
    "files = [#'./data/full_v1.csv',\n",
    "#         './data/full_v2.csv',\n",
    "#         './data/before_v1.csv',\n",
    "#         './data/before_v2.csv',\n",
    "        './data/during_v1.csv',\n",
    "        './data/during_v2.csv']\n",
    "\n",
    "dfs = {}\n",
    "for file in files:\n",
    "    name = file.split('/')[2]\n",
    "    df = read_data(file)\n",
    "    dfs[name] = df\n",
    "    #break"
   ]
  },
  {
   "cell_type": "code",
   "execution_count": 4,
   "id": "72efd3ee",
   "metadata": {},
   "outputs": [
    {
     "data": {
      "text/plain": [
       "((164194, 15), (383122, 15))"
      ]
     },
     "execution_count": 4,
     "metadata": {},
     "output_type": "execute_result"
    }
   ],
   "source": [
    "data = dfs['during_v1.csv'].reset_index(drop=True)\n",
    "data = data.drop([ 'Registration_number', 'year_quarter'], axis=1)\n",
    "data['label'] = [2 if label == 'growing' else 1 if label == 'stable' else 0 for label in data['label']]\n",
    "\n",
    "train_df, test_df = np.split(data, [int(0.3 *len(df))]) \n",
    "train_df.shape, test_df.shape"
   ]
  },
  {
   "cell_type": "code",
   "execution_count": 5,
   "id": "fc9ea65e",
   "metadata": {},
   "outputs": [],
   "source": [
    "best_hyperparams = {'colsample_bytree': 0.6000000000000001, 'eta': 0.125, 'gamma': 0.65, 'max_depth': 2, 'min_child_weight': 2.0, 'n_estimators': 995.0, 'subsample': 0.7000000000000001}\n"
   ]
  },
  {
   "cell_type": "code",
   "execution_count": 6,
   "id": "7798ef52",
   "metadata": {
    "scrolled": true
   },
   "outputs": [
    {
     "name": "stdout",
     "output_type": "stream",
     "text": [
      "[12:22:48] WARNING: ../src/learner.cc:541: \n",
      "Parameters: { scale_pos_weight } might not be used.\n",
      "\n",
      "  This may not be accurate due to some parameters are only used in language bindings but\n",
      "  passed down to XGBoost core.  Or some parameters are not used but slip through this\n",
      "  verification. Please open an issue if you find above cases.\n",
      "\n",
      "\n",
      "[12:22:49] WARNING: ../src/learner.cc:1061: Starting in XGBoost 1.3.0, the default evaluation metric used with the objective 'multi:softprob' was changed from 'merror' to 'mlogloss'. Explicitly set eval_metric if you'd like to restore the old behavior.\n"
     ]
    }
   ],
   "source": [
    "y_train = np.array(train_df['label'])\n",
    "X_train = train_df.drop(['label'], axis=1)\n",
    "\n",
    "\n",
    "y_test = np.array(test_df['label'])\n",
    "X_test = test_df.drop(['label'], axis=1)\n",
    "\n",
    "clf = xgb.XGBClassifier(base_score=0.5, booster='gbtree', colsample_bylevel=1.0,\n",
    "         gamma=best_hyperparams['gamma'], max_delta_step=0.0, min_child_weight=best_hyperparams['min_child_weight'],\n",
    "         missing=None, n_jobs=-1, objective='multi:softprob', random_state=42, reg_alpha=0.0,\n",
    "         reg_lambda=1.0, scale_pos_weight=1.0, tree_method='auto',\n",
    "         colsample_bytree =best_hyperparams['colsample_bytree'], \n",
    "         eta = best_hyperparams['eta'], \n",
    "         max_depth = best_hyperparams['max_depth'], \n",
    "         subsample = best_hyperparams['subsample'], \n",
    "         n_estimators = int(best_hyperparams['n_estimators']),\n",
    "                          nthread= 4, use_label_encoder=False)\n",
    "mcl = clf.fit(X_train, y_train)\n",
    "#predicting the data\n",
    "y_pred = clf.predict(X_test)\n",
    "y_prob_pred = clf.predict_proba(X_test)\n",
    "pred = mcl.predict(X_test)\n",
    "proba = mcl.predict_proba(X_test)\n",
    "\n",
    "#store our flower labels for results\n",
    "y_map = pd.DataFrame(data=data['label'], columns=['class'])\n",
    "y_map['label'] = y_map['class'].map({0:'Failing',1:'Stabel',2:'Growing'})\n",
    "\n"
   ]
  },
  {
   "cell_type": "code",
   "execution_count": 7,
   "id": "4522b0da",
   "metadata": {},
   "outputs": [],
   "source": [
    "import shap\n",
    "import math"
   ]
  },
  {
   "cell_type": "code",
   "execution_count": 31,
   "id": "d05e1ca1",
   "metadata": {},
   "outputs": [],
   "source": [
    "xgc = mcl\n",
    "explainer = shap.TreeExplainer(xgc)\n",
    "shap_values = explainer.shap_values(X_test)\n"
   ]
  },
  {
   "cell_type": "code",
   "execution_count": 35,
   "id": "3b4729b2",
   "metadata": {},
   "outputs": [
    {
     "data": {
      "text/plain": [
       "array(['Failing', 'Stabel', 'Growing'], dtype='<U7')"
      ]
     },
     "execution_count": 35,
     "metadata": {},
     "output_type": "execute_result"
    }
   ],
   "source": [
    "np.array(['Failing', 'Stabel', 'Growing'])"
   ]
  },
  {
   "cell_type": "code",
   "execution_count": 38,
   "id": "b4947975",
   "metadata": {
    "scrolled": true
   },
   "outputs": [
    {
     "data": {
      "image/png": "[encoded data removed]",
      "text/plain": [
       "<Figure size 576x511.2 with 1 Axes>"
      ]
     },
     "metadata": {
      "needs_background": "light"
     },
     "output_type": "display_data"
    }
   ],
   "source": [
    "import matplotlib.pyplot as plt\n",
    "shap.summary_plot(shap_values, X_test, show=False, class_names=np.array(['Failing', 'Stabel', 'Growing']))\n",
    "plt.tight_layout()\n",
    "plt.grid(True)\n",
    "pl.savefig(\"./summary_plot.pdf\")"
   ]
  },
  {
   "cell_type": "code",
   "execution_count": null,
   "id": "6c86c3cc",
   "metadata": {},
   "outputs": [],
   "source": []
  },
  {
   "cell_type": "code",
   "execution_count": null,
   "id": "d12afcc1",
   "metadata": {},
   "outputs": [],
   "source": []
  },
  {
   "cell_type": "code",
   "execution_count": null,
   "id": "ea9eb810",
   "metadata": {},
   "outputs": [],
   "source": []
  }
 ],
 "metadata": {
  "kernelspec": {
   "display_name": "Python 3",
   "language": "python",
   "name": "python3"
  },
  "language_info": {
   "codemirror_mode": {
    "name": "ipython",
    "version": 3
   },
   "file_extension": ".py",
   "mimetype": "text/x-python",
   "name": "python",
   "nbconvert_exporter": "python",
   "pygments_lexer": "ipython3",
   "version": "3.8.5"
  }
 },
 "nbformat": 4,
 "nbformat_minor": 5
}

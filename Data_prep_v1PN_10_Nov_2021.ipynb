{
 "cells": [
  {
   "cell_type": "code",
   "metadata": {
    "collapsed": true,
    "pycharm": {
     "name": "#%%\n"
    }
   },
   "source": [
    "# import libraries\n",
    "import pandas as pd\n",
    "import glob\n",
    "import os\n",
    "import numpy as np\n",
    "os.chdir(\"./data/csv/\")"
   ],
   "execution_count": 2,
   "outputs": []
  },
  {
   "cell_type": "markdown",
   "source": [
    "# 1. Read and combine all csv files"
   ],
   "metadata": {
    "collapsed": false,
    "pycharm": {
     "name": "#%% md\n"
    }
   }
  },
  {
   "cell_type": "code",
   "execution_count": 3,
   "outputs": [
    {
     "name": "stderr",
     "output_type": "stream",
     "text": [
      "/Library/Frameworks/Python.framework/Versions/3.8/lib/python3.8/site-packages/IPython/core/interactiveshell.py:3444: DtypeWarning: Columns (0) have mixed types.Specify dtype option on import or set low_memory=False.\n",
      "  exec(code_obj, self.user_global_ns, self.user_ns)\n"
     ]
    },
    {
     "data": {
      "text/plain": "'tasutud_maksud_2017_i_kv.csv'"
     },
     "execution_count": 3,
     "metadata": {},
     "output_type": "execute_result"
    }
   ],
   "source": [
    "# Read all csv filenames and combine a list of them\n",
    "filenames =  [i for i in glob.glob('*.{}'.format('csv'))]\n",
    "# Sort filenames in list to ensure dates are in order\n",
    "filenames = sorted(filenames)\n",
    "\n",
    "# Read first file as a reference table and format features\n",
    "df = pd.read_csv(filenames[0])\n",
    "year = str(filenames[0]).split(\"_\")[2]\n",
    "quarter = str(filenames[0]).split(\"_\")[3].replace('iv', '4').replace('iii', '3').replace('ii', '2').replace('i','1')\n",
    "df = df.rename(columns={    'All_taxes': 'All_taxes'+'_'+str(year)+'_'+str(quarter),\\\n",
    "                            'Labor_taxes': 'Labor_taxes'+'_'+str(year)+'_'+str(quarter), \\\n",
    "                            'Turnover': 'Turnover'+'_'+str(year)+'_'+str(quarter),\\\n",
    "                            'number_of_employees': 'number_of_employees'+'_'+str(year)+'_'+str(quarter)})\n",
    "# Remove the loaded filename from files list\n",
    "filenames.pop(0)"
   ],
   "metadata": {
    "collapsed": false,
    "pycharm": {
     "name": "#%%\n"
    }
   }
  },
  {
   "cell_type": "code",
   "execution_count": 4,
   "outputs": [
    {
     "name": "stdout",
     "output_type": "stream",
     "text": [
      "(121846, 10)\n"
     ]
    },
    {
     "data": {
      "text/plain": "  Registration_number                                           Name  \\\n0             1052855                                   SIIRI ÜHISTU   \n1             1294104  LASNAMÄE 52D, GARAAŽIÜHISTU (LIKVIDEERIMISEL)   \n2             1834405     ED. VILDE 53, GARAAŽIEHITAJATE KOOPERATIIV   \n3             1834411                       TOMP, GARAAŽIKOOPERATIIV   \n4             1834517                       GARAAŽIKOOPERATIIV NR 12   \n\n       Type Registered_for_VAT         County Business_area_by_EMTAK_system  \\\n0  Äriühing                 ei  Harju maakond                           NaN   \n1  Äriühing                 ei  Harju maakond                           NaN   \n2  Äriühing                 ei  Harju maakond                           NaN   \n3  Äriühing                 ei  Harju maakond                           NaN   \n4  Äriühing                 ei  Harju maakond       KINNISVARAALANE TEGEVUS   \n\n   All_taxes_2017_1  Labor_taxes_2017_1  Turnover_2017_1  \\\n0             52.75                 0.0              NaN   \n1            182.00                 0.0              NaN   \n2             64.02                 0.0              NaN   \n3           2285.00                 0.0              NaN   \n4            144.00                 0.0              NaN   \n\n   number_of_employees_2017_1  \n0                         NaN  \n1                         NaN  \n2                         NaN  \n3                         NaN  \n4                         NaN  ",
      "text/html": "<div>\n<style scoped>\n    .dataframe tbody tr th:only-of-type {\n        vertical-align: middle;\n    }\n\n    .dataframe tbody tr th {\n        vertical-align: top;\n    }\n\n    .dataframe thead th {\n        text-align: right;\n    }\n</style>\n<table border=\"1\" class=\"dataframe\">\n  <thead>\n    <tr style=\"text-align: right;\">\n      <th></th>\n      <th>Registration_number</th>\n      <th>Name</th>\n      <th>Type</th>\n      <th>Registered_for_VAT</th>\n      <th>County</th>\n      <th>Business_area_by_EMTAK_system</th>\n      <th>All_taxes_2017_1</th>\n      <th>Labor_taxes_2017_1</th>\n      <th>Turnover_2017_1</th>\n      <th>number_of_employees_2017_1</th>\n    </tr>\n  </thead>\n  <tbody>\n    <tr>\n      <th>0</th>\n      <td>1052855</td>\n      <td>SIIRI ÜHISTU</td>\n      <td>Äriühing</td>\n      <td>ei</td>\n      <td>Harju maakond</td>\n      <td>NaN</td>\n      <td>52.75</td>\n      <td>0.0</td>\n      <td>NaN</td>\n      <td>NaN</td>\n    </tr>\n    <tr>\n      <th>1</th>\n      <td>1294104</td>\n      <td>LASNAMÄE 52D, GARAAŽIÜHISTU (LIKVIDEERIMISEL)</td>\n      <td>Äriühing</td>\n      <td>ei</td>\n      <td>Harju maakond</td>\n      <td>NaN</td>\n      <td>182.00</td>\n      <td>0.0</td>\n      <td>NaN</td>\n      <td>NaN</td>\n    </tr>\n    <tr>\n      <th>2</th>\n      <td>1834405</td>\n      <td>ED. VILDE 53, GARAAŽIEHITAJATE KOOPERATIIV</td>\n      <td>Äriühing</td>\n      <td>ei</td>\n      <td>Harju maakond</td>\n      <td>NaN</td>\n      <td>64.02</td>\n      <td>0.0</td>\n      <td>NaN</td>\n      <td>NaN</td>\n    </tr>\n    <tr>\n      <th>3</th>\n      <td>1834411</td>\n      <td>TOMP, GARAAŽIKOOPERATIIV</td>\n      <td>Äriühing</td>\n      <td>ei</td>\n      <td>Harju maakond</td>\n      <td>NaN</td>\n      <td>2285.00</td>\n      <td>0.0</td>\n      <td>NaN</td>\n      <td>NaN</td>\n    </tr>\n    <tr>\n      <th>4</th>\n      <td>1834517</td>\n      <td>GARAAŽIKOOPERATIIV NR 12</td>\n      <td>Äriühing</td>\n      <td>ei</td>\n      <td>Harju maakond</td>\n      <td>KINNISVARAALANE TEGEVUS</td>\n      <td>144.00</td>\n      <td>0.0</td>\n      <td>NaN</td>\n      <td>NaN</td>\n    </tr>\n  </tbody>\n</table>\n</div>"
     },
     "execution_count": 4,
     "metadata": {},
     "output_type": "execute_result"
    }
   ],
   "source": [
    "print(df.shape)\n",
    "df.head()"
   ],
   "metadata": {
    "collapsed": false,
    "pycharm": {
     "name": "#%%\n"
    }
   }
  },
  {
   "cell_type": "code",
   "execution_count": 83,
   "outputs": [
    {
     "name": "stdout",
     "output_type": "stream",
     "text": [
      "tasutud_maksud_2017_ii_kv_05_07_2017.xlsx.csv\n",
      "(119856, 11)\n",
      "tasutud_maksud_2017_iii_kv_09.10.2017.xlsx.csv\n",
      "(119751, 11)\n",
      "tasutud_maksud_2017_iv_kv_10.01.2018.xlsx.csv\n",
      "(124703, 11)\n",
      "tasutud_maksud_2018_i_kvartal.xlsx.csv\n",
      "(124591, 11)\n",
      "tasutud_maksud_2018_ii_kvartal.xlsx.csv\n",
      "(131414, 11)\n",
      "tasutud_maksud_2018_iii_kvartal.xlsx.csv\n",
      "(127356, 11)\n",
      "tasutud_maksud_2018_iv_kvartal.xlsx.csv\n",
      "(131839, 11)\n",
      "tasutud_maksud_2019_i_kvartal.xlsx.csv\n",
      "(131492, 11)\n",
      "tasutud_maksud_2019_ii_kvartal.xlsx.csv\n",
      "(138261, 11)\n",
      "tasutud_maksud_2019_iii_kvartal.xlsx.csv\n",
      "(133796, 11)\n",
      "tasutud_maksud_2019_iv_kvartal.xlsx.csv\n",
      "(138383, 11)\n",
      "tasutud_maksud_2020_i_kvartal.xlsx.csv\n",
      "(142890, 11)\n",
      "tasutud_maksud_2020_ii_kvartal.xlsx.csv\n",
      "(140502, 11)\n",
      "tasutud_maksud_2020_iii_kvartal.xlsx.csv\n",
      "(141711, 11)\n",
      "tasutud_maksud_2020_iv_kvartal.xlsx.csv\n",
      "(147626, 11)\n",
      "tasutud_maksud_2021_i_kvartal.xlsx.csv\n",
      "(152266, 11)\n",
      "tasutud_maksud_2021_ii_kvartal.xlsx.csv\n",
      "(145635, 11)\n",
      "tasutud_maksud_2021_iii_kvartal.xlsx.csv\n",
      "(147257, 11)\n"
     ]
    },
    {
     "name": "stderr",
     "output_type": "stream",
     "text": [
      "/Library/Frameworks/Python.framework/Versions/3.8/lib/python3.8/site-packages/IPython/core/interactiveshell.py:3444: DtypeWarning: Columns (0) have mixed types.Specify dtype option on import or set low_memory=False.\n",
      "  exec(code_obj, self.user_global_ns, self.user_ns)\n"
     ]
    }
   ],
   "source": [
    "# Read all other csv files and add relevant data to the initial dataframe\n",
    "#for i in range (1, len(filenames)):\n",
    "for f in filenames:\n",
    "    print(f)\n",
    "    # Extract period information\n",
    "    year = str(f).split(\"_\")[2]\n",
    "    quarter = str(f).split(\"_\")[3].replace('iv', '4').replace('iii', '3').replace('ii', '2').replace('i','1')\n",
    "    df_new = pd.read_csv(f)\n",
    "    df_new_info = df_new.rename(columns={'Registrikood': 'Registration_number',\\\n",
    "                                        'All_taxes': 'All_taxes'+'_'+str(year)+'_'+str(quarter),\\\n",
    "                                        'Labor_taxes': 'Labor_taxes'+'_'+str(year)+'_'+str(quarter), \\\n",
    "                                        'Turnover': 'Turnover'+'_'+str(year)+'_'+str(quarter),\\\n",
    "                                        'number_of_employees': 'number_of_employees'+'_'+str(year)+'_'+str(quarter)})\n",
    "    #df.merge(df_new, on='Registration_number')\n",
    "    print(df_new_info.shape)\n",
    "    df = pd.concat([df, df_new_info], axis=1)"
   ],
   "metadata": {
    "collapsed": false,
    "pycharm": {
     "name": "#%%\n"
    }
   }
  },
  {
   "cell_type": "code",
   "execution_count": 84,
   "outputs": [
    {
     "name": "stdout",
     "output_type": "stream",
     "text": [
      "(152266, 208)\n"
     ]
    },
    {
     "data": {
      "text/plain": "  Registration_number                                           Name  \\\n0             1052855                                   SIIRI ÜHISTU   \n1             1294104  LASNAMÄE 52D, GARAAŽIÜHISTU (LIKVIDEERIMISEL)   \n2             1834405     ED. VILDE 53, GARAAŽIEHITAJATE KOOPERATIIV   \n3             1834411                       TOMP, GARAAŽIKOOPERATIIV   \n4             1834517                       GARAAŽIKOOPERATIIV NR 12   \n\n       Type Registered_for_VAT         County Business_area_by_EMTAK_system  \\\n0  Äriühing                 ei  Harju maakond                           NaN   \n1  Äriühing                 ei  Harju maakond                           NaN   \n2  Äriühing                 ei  Harju maakond                           NaN   \n3  Äriühing                 ei  Harju maakond                           NaN   \n4  Äriühing                 ei  Harju maakond       KINNISVARAALANE TEGEVUS   \n\n   All_taxes_2017_1  Labor_taxes_2017_1  Turnover_2017_1  \\\n0             52.75                 0.0              NaN   \n1            182.00                 0.0              NaN   \n2             64.02                 0.0              NaN   \n3           2285.00                 0.0              NaN   \n4            144.00                 0.0              NaN   \n\n   number_of_employees_2017_1  ...                     Name      Type  \\\n0                         NaN  ...  AMSERV AUTO AKTSIASELTS  Äriühing   \n1                         NaN  ...         EESTI RAAMAT, OÜ  Äriühing   \n2                         NaN  ...              ALDO KOPPEL       FIE   \n3                         NaN  ...       ARAVETE APTEEK, TÜ  Äriühing   \n4                         NaN  ...    KIVIÕLI KAUBAHOOV, AS  Äriühing   \n\n  Registered_for_VAT                      Business_area_by_EMTAK_system  \\\n0                jah  HULGI- JA JAEKAUBANDUS; MOOTORSÕIDUKITE JA MOO...   \n1                jah                                       INFO JA SIDE   \n2                jah           PÕLLUMAJANDUS, METSAMAJANDUS JA KALAPÜÜK   \n3                jah  HULGI- JA JAEKAUBANDUS; MOOTORSÕIDUKITE JA MOO...   \n4                jah  HULGI- JA JAEKAUBANDUS; MOOTORSÕIDUKITE JA MOO...   \n\n                       County All_taxes_2021_3  Labor_taxes_2021_3  \\\n0           Harju ( Tallinn )       1375328.87           801558.09   \n1           Harju ( Tallinn )         26769.12            21439.10   \n2  Ida-Viru ( Lüganuse vald )          3981.87                0.00   \n3        Järva ( Järva vald )          7137.62             5784.00   \n4  Ida-Viru ( Lüganuse vald )        216776.30            94754.24   \n\n   Turnover_2021_3  number_of_employees_2021_3  year_quarter  \n0      21587224.27                       191.0      2021_iii  \n1        144389.47                        12.0      2021_iii  \n2         27513.89                         NaN      2021_iii  \n3        158316.90                         2.0      2021_iii  \n4       1582858.28                        39.0      2021_iii  \n\n[5 rows x 208 columns]",
      "text/html": "<div>\n<style scoped>\n    .dataframe tbody tr th:only-of-type {\n        vertical-align: middle;\n    }\n\n    .dataframe tbody tr th {\n        vertical-align: top;\n    }\n\n    .dataframe thead th {\n        text-align: right;\n    }\n</style>\n<table border=\"1\" class=\"dataframe\">\n  <thead>\n    <tr style=\"text-align: right;\">\n      <th></th>\n      <th>Registration_number</th>\n      <th>Name</th>\n      <th>Type</th>\n      <th>Registered_for_VAT</th>\n      <th>County</th>\n      <th>Business_area_by_EMTAK_system</th>\n      <th>All_taxes_2017_1</th>\n      <th>Labor_taxes_2017_1</th>\n      <th>Turnover_2017_1</th>\n      <th>number_of_employees_2017_1</th>\n      <th>...</th>\n      <th>Name</th>\n      <th>Type</th>\n      <th>Registered_for_VAT</th>\n      <th>Business_area_by_EMTAK_system</th>\n      <th>County</th>\n      <th>All_taxes_2021_3</th>\n      <th>Labor_taxes_2021_3</th>\n      <th>Turnover_2021_3</th>\n      <th>number_of_employees_2021_3</th>\n      <th>year_quarter</th>\n    </tr>\n  </thead>\n  <tbody>\n    <tr>\n      <th>0</th>\n      <td>1052855</td>\n      <td>SIIRI ÜHISTU</td>\n      <td>Äriühing</td>\n      <td>ei</td>\n      <td>Harju maakond</td>\n      <td>NaN</td>\n      <td>52.75</td>\n      <td>0.0</td>\n      <td>NaN</td>\n      <td>NaN</td>\n      <td>...</td>\n      <td>AMSERV AUTO AKTSIASELTS</td>\n      <td>Äriühing</td>\n      <td>jah</td>\n      <td>HULGI- JA JAEKAUBANDUS; MOOTORSÕIDUKITE JA MOO...</td>\n      <td>Harju ( Tallinn )</td>\n      <td>1375328.87</td>\n      <td>801558.09</td>\n      <td>21587224.27</td>\n      <td>191.0</td>\n      <td>2021_iii</td>\n    </tr>\n    <tr>\n      <th>1</th>\n      <td>1294104</td>\n      <td>LASNAMÄE 52D, GARAAŽIÜHISTU (LIKVIDEERIMISEL)</td>\n      <td>Äriühing</td>\n      <td>ei</td>\n      <td>Harju maakond</td>\n      <td>NaN</td>\n      <td>182.00</td>\n      <td>0.0</td>\n      <td>NaN</td>\n      <td>NaN</td>\n      <td>...</td>\n      <td>EESTI RAAMAT, OÜ</td>\n      <td>Äriühing</td>\n      <td>jah</td>\n      <td>INFO JA SIDE</td>\n      <td>Harju ( Tallinn )</td>\n      <td>26769.12</td>\n      <td>21439.10</td>\n      <td>144389.47</td>\n      <td>12.0</td>\n      <td>2021_iii</td>\n    </tr>\n    <tr>\n      <th>2</th>\n      <td>1834405</td>\n      <td>ED. VILDE 53, GARAAŽIEHITAJATE KOOPERATIIV</td>\n      <td>Äriühing</td>\n      <td>ei</td>\n      <td>Harju maakond</td>\n      <td>NaN</td>\n      <td>64.02</td>\n      <td>0.0</td>\n      <td>NaN</td>\n      <td>NaN</td>\n      <td>...</td>\n      <td>ALDO KOPPEL</td>\n      <td>FIE</td>\n      <td>jah</td>\n      <td>PÕLLUMAJANDUS, METSAMAJANDUS JA KALAPÜÜK</td>\n      <td>Ida-Viru ( Lüganuse vald )</td>\n      <td>3981.87</td>\n      <td>0.00</td>\n      <td>27513.89</td>\n      <td>NaN</td>\n      <td>2021_iii</td>\n    </tr>\n    <tr>\n      <th>3</th>\n      <td>1834411</td>\n      <td>TOMP, GARAAŽIKOOPERATIIV</td>\n      <td>Äriühing</td>\n      <td>ei</td>\n      <td>Harju maakond</td>\n      <td>NaN</td>\n      <td>2285.00</td>\n      <td>0.0</td>\n      <td>NaN</td>\n      <td>NaN</td>\n      <td>...</td>\n      <td>ARAVETE APTEEK, TÜ</td>\n      <td>Äriühing</td>\n      <td>jah</td>\n      <td>HULGI- JA JAEKAUBANDUS; MOOTORSÕIDUKITE JA MOO...</td>\n      <td>Järva ( Järva vald )</td>\n      <td>7137.62</td>\n      <td>5784.00</td>\n      <td>158316.90</td>\n      <td>2.0</td>\n      <td>2021_iii</td>\n    </tr>\n    <tr>\n      <th>4</th>\n      <td>1834517</td>\n      <td>GARAAŽIKOOPERATIIV NR 12</td>\n      <td>Äriühing</td>\n      <td>ei</td>\n      <td>Harju maakond</td>\n      <td>KINNISVARAALANE TEGEVUS</td>\n      <td>144.00</td>\n      <td>0.0</td>\n      <td>NaN</td>\n      <td>NaN</td>\n      <td>...</td>\n      <td>KIVIÕLI KAUBAHOOV, AS</td>\n      <td>Äriühing</td>\n      <td>jah</td>\n      <td>HULGI- JA JAEKAUBANDUS; MOOTORSÕIDUKITE JA MOO...</td>\n      <td>Ida-Viru ( Lüganuse vald )</td>\n      <td>216776.30</td>\n      <td>94754.24</td>\n      <td>1582858.28</td>\n      <td>39.0</td>\n      <td>2021_iii</td>\n    </tr>\n  </tbody>\n</table>\n<p>5 rows × 208 columns</p>\n</div>"
     },
     "execution_count": 84,
     "metadata": {},
     "output_type": "execute_result"
    }
   ],
   "source": [
    "print(df.shape)\n",
    "df.head()"
   ],
   "metadata": {
    "collapsed": false,
    "pycharm": {
     "name": "#%%\n"
    }
   }
  },
  {
   "cell_type": "code",
   "execution_count": 5,
   "outputs": [
    {
     "name": "stdout",
     "output_type": "stream",
     "text": [
      "tasutud_maksud_2017_ii_kv_05_07_2017.xlsx.csv\n"
     ]
    },
    {
     "name": "stderr",
     "output_type": "stream",
     "text": [
      "/Library/Frameworks/Python.framework/Versions/3.8/lib/python3.8/site-packages/IPython/core/interactiveshell.py:3444: DtypeWarning: Columns (0) have mixed types.Specify dtype option on import or set low_memory=False.\n",
      "  exec(code_obj, self.user_global_ns, self.user_ns)\n"
     ]
    },
    {
     "data": {
      "text/plain": "  Registration_number                                           Name  \\\n0             1834322                     KASEKE, GARAAŽIKOOPERATIIV   \n1             1834552  SEEBI-3, GARAAŽIKOOPERATIIV (LIKVIDEERIMISEL)   \n2            10000018                                 AMSERV AUTO AS   \n3            10000024                               EESTI RAAMAT, OÜ   \n4            10000127                             ARAVETE APTEEK, TÜ   \n\n       Type Registered_for_VAT  \\\n0  Äriühing                 ei   \n1  Äriühing                 ei   \n2  Äriühing                jah   \n3  Äriühing                jah   \n4  Äriühing                jah   \n\n                       Business_area_by_EMTAK_system         County  \\\n0                                                NaN  Harju maakond   \n1                                                NaN  Harju maakond   \n2  HULGI- JA JAEKAUBANDUS; MOOTORSŐIDUKITE JA MOO...  Harju maakond   \n3                                       INFO JA SIDE  Harju maakond   \n4  HULGI- JA JAEKAUBANDUS; MOOTORSŐIDUKITE JA MOO...  Järva maakond   \n\n   All_taxes_2017_2  Labor_taxes_2017_2  Turnover_2017_2  \\\n0           1355.00                0.00              NaN   \n1             21.00                0.00              NaN   \n2         478729.57           505439.41              NaN   \n3           8484.90             7931.42         59869.39   \n4           5881.07             2931.11        111968.64   \n\n   number_of_employees_2017_2 year_quarter  \n0                         NaN      2017_ii  \n1                         NaN      2017_ii  \n2                       199.0      2017_ii  \n3                         8.0      2017_ii  \n4                         2.0      2017_ii  ",
      "text/html": "<div>\n<style scoped>\n    .dataframe tbody tr th:only-of-type {\n        vertical-align: middle;\n    }\n\n    .dataframe tbody tr th {\n        vertical-align: top;\n    }\n\n    .dataframe thead th {\n        text-align: right;\n    }\n</style>\n<table border=\"1\" class=\"dataframe\">\n  <thead>\n    <tr style=\"text-align: right;\">\n      <th></th>\n      <th>Registration_number</th>\n      <th>Name</th>\n      <th>Type</th>\n      <th>Registered_for_VAT</th>\n      <th>Business_area_by_EMTAK_system</th>\n      <th>County</th>\n      <th>All_taxes_2017_2</th>\n      <th>Labor_taxes_2017_2</th>\n      <th>Turnover_2017_2</th>\n      <th>number_of_employees_2017_2</th>\n      <th>year_quarter</th>\n    </tr>\n  </thead>\n  <tbody>\n    <tr>\n      <th>0</th>\n      <td>1834322</td>\n      <td>KASEKE, GARAAŽIKOOPERATIIV</td>\n      <td>Äriühing</td>\n      <td>ei</td>\n      <td>NaN</td>\n      <td>Harju maakond</td>\n      <td>1355.00</td>\n      <td>0.00</td>\n      <td>NaN</td>\n      <td>NaN</td>\n      <td>2017_ii</td>\n    </tr>\n    <tr>\n      <th>1</th>\n      <td>1834552</td>\n      <td>SEEBI-3, GARAAŽIKOOPERATIIV (LIKVIDEERIMISEL)</td>\n      <td>Äriühing</td>\n      <td>ei</td>\n      <td>NaN</td>\n      <td>Harju maakond</td>\n      <td>21.00</td>\n      <td>0.00</td>\n      <td>NaN</td>\n      <td>NaN</td>\n      <td>2017_ii</td>\n    </tr>\n    <tr>\n      <th>2</th>\n      <td>10000018</td>\n      <td>AMSERV AUTO AS</td>\n      <td>Äriühing</td>\n      <td>jah</td>\n      <td>HULGI- JA JAEKAUBANDUS; MOOTORSŐIDUKITE JA MOO...</td>\n      <td>Harju maakond</td>\n      <td>478729.57</td>\n      <td>505439.41</td>\n      <td>NaN</td>\n      <td>199.0</td>\n      <td>2017_ii</td>\n    </tr>\n    <tr>\n      <th>3</th>\n      <td>10000024</td>\n      <td>EESTI RAAMAT, OÜ</td>\n      <td>Äriühing</td>\n      <td>jah</td>\n      <td>INFO JA SIDE</td>\n      <td>Harju maakond</td>\n      <td>8484.90</td>\n      <td>7931.42</td>\n      <td>59869.39</td>\n      <td>8.0</td>\n      <td>2017_ii</td>\n    </tr>\n    <tr>\n      <th>4</th>\n      <td>10000127</td>\n      <td>ARAVETE APTEEK, TÜ</td>\n      <td>Äriühing</td>\n      <td>jah</td>\n      <td>HULGI- JA JAEKAUBANDUS; MOOTORSŐIDUKITE JA MOO...</td>\n      <td>Järva maakond</td>\n      <td>5881.07</td>\n      <td>2931.11</td>\n      <td>111968.64</td>\n      <td>2.0</td>\n      <td>2017_ii</td>\n    </tr>\n  </tbody>\n</table>\n</div>"
     },
     "execution_count": 5,
     "metadata": {},
     "output_type": "execute_result"
    }
   ],
   "source": [
    "f=filenames[0]\n",
    "print(f)\n",
    "# Extract period information\n",
    "year = str(f).split(\"_\")[2]\n",
    "quarter = str(f).split(\"_\")[3].replace('iv', '4').replace('iii', '3').replace('ii', '2').replace('i','1')\n",
    "df_new = pd.read_csv(f)\n",
    "df_new = df_new.rename(columns={'All_taxes': 'All_taxes'+'_'+str(year)+'_'+str(quarter),\\\n",
    "                                        'Labor_taxes': 'Labor_taxes'+'_'+str(year)+'_'+str(quarter), \\\n",
    "                                        'Turnover': 'Turnover'+'_'+str(year)+'_'+str(quarter),\\\n",
    "                                        'number_of_employees': 'number_of_employees'+'_'+str(year)+'_'+str(quarter)})\n",
    "df_new.head()"
   ],
   "metadata": {
    "collapsed": false,
    "pycharm": {
     "name": "#%%\n"
    }
   }
  },
  {
   "cell_type": "code",
   "execution_count": 6,
   "outputs": [
    {
     "name": "stdout",
     "output_type": "stream",
     "text": [
      "(119856, 1)\n"
     ]
    },
    {
     "data": {
      "text/plain": "                 Registration_number\nAll_taxes_2017_2                    \n1355.00                     10048605\n21.00                       10000828\n478729.57                        NaN\n8484.90                          NaN\n5881.07                          NaN",
      "text/html": "<div>\n<style scoped>\n    .dataframe tbody tr th:only-of-type {\n        vertical-align: middle;\n    }\n\n    .dataframe tbody tr th {\n        vertical-align: top;\n    }\n\n    .dataframe thead th {\n        text-align: right;\n    }\n</style>\n<table border=\"1\" class=\"dataframe\">\n  <thead>\n    <tr style=\"text-align: right;\">\n      <th></th>\n      <th>Registration_number</th>\n    </tr>\n    <tr>\n      <th>All_taxes_2017_2</th>\n      <th></th>\n    </tr>\n  </thead>\n  <tbody>\n    <tr>\n      <th>1355.00</th>\n      <td>10048605</td>\n    </tr>\n    <tr>\n      <th>21.00</th>\n      <td>10000828</td>\n    </tr>\n    <tr>\n      <th>478729.57</th>\n      <td>NaN</td>\n    </tr>\n    <tr>\n      <th>8484.90</th>\n      <td>NaN</td>\n    </tr>\n    <tr>\n      <th>5881.07</th>\n      <td>NaN</td>\n    </tr>\n  </tbody>\n</table>\n</div>"
     },
     "execution_count": 6,
     "metadata": {},
     "output_type": "execute_result"
    }
   ],
   "source": [
    "df_new_info = pd.DataFrame(df_new.Registration_number, df_new.All_taxes_2017_2)\n",
    "#df.merge(df_new, on='Registration_number')\n",
    "print(df_new_info.shape)\n",
    "df_new_info.head()"
   ],
   "metadata": {
    "collapsed": false,
    "pycharm": {
     "name": "#%%\n"
    }
   }
  },
  {
   "cell_type": "markdown",
   "source": [
    "# 2. Read Excel file with company estimation and deletion dates\n"
   ],
   "metadata": {
    "collapsed": false,
    "pycharm": {
     "name": "#%% md\n"
    }
   }
  }
 ],
 "metadata": {
  "kernelspec": {
   "name": "pycharm-99298bfd",
   "language": "python",
   "display_name": "PyCharm (_project)"
  },
  "language_info": {
   "codemirror_mode": {
    "name": "ipython",
    "version": 2
   },
   "file_extension": ".py",
   "mimetype": "text/x-python",
   "name": "python",
   "nbconvert_exporter": "python",
   "pygments_lexer": "ipython2",
   "version": "2.7.6"
  }
 },
 "nbformat": 4,
 "nbformat_minor": 0
}
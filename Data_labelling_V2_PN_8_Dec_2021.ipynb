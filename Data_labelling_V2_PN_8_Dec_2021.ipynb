{
 "cells": [
  {
   "cell_type": "markdown",
   "metadata": {
    "collapsed": true,
    "pycharm": {
     "name": "#%% md\n"
    }
   },
   "source": [
    "# Data labelling (part 2, version 1)\n",
    "\n",
    "The second version of labelling we decided to label the data according to the changes in turnover as following:\n",
    "- yearly turnover growth has to be at least 20% (eq 5% in average of the quarter)\n",
    "- the continuous average annual employment growth rate (CGR) has to be in TOP 10% of the companies\n",
    "- the absolute change in the number of employees has to be more than 10 and CGR has to be more (or equal than 2 times E(beg) - the number of employees in the beginning)\n",
    "- turnover per employee has to be in the TOP 10% of the companies\n",
    "\n",
    "In order to use 3 classes we decided, that if company matches all 4 categories, it is considered as growing, none of them as failing and all other companies as stable"
   ]
  },
  {
   "cell_type": "code",
   "execution_count": 1,
   "outputs": [],
   "source": [
    "# Import libraries\n",
    "\n",
    "import numpy as np\n",
    "import pandas as pd"
   ],
   "metadata": {
    "collapsed": false,
    "pycharm": {
     "name": "#%%\n"
    }
   }
  },
  {
   "cell_type": "code",
   "execution_count": 2,
   "outputs": [
    {
     "data": {
      "text/plain": "   Unnamed: 0  Registration_number  Business_area_by_EMTAK_system  All_taxes  \\\n0           0             10000024                              1   12126.74   \n1           1             10000024                              1    8484.90   \n2           2             10000024                              1   10468.75   \n3           3             10000024                              1    7887.05   \n4           4             10000024                              1    9320.26   \n\n   Labor_taxes  Turnover  number_of_employees year_quarter  EMTAK_by_number  \\\n0     11533.92  51486.75                  9.0       2017_1           5811.0   \n1      7931.42  59869.39                  8.0       2017_2           5811.0   \n2     10068.65  55895.57                  8.0       2017_3           5811.0   \n3      7751.34  57334.79                  9.0       2017_4           5811.0   \n4      8757.33  59484.22                 10.0       2018_1           5811.0   \n\n   Client_ID_by_Eesti_Pank Registration_date  Deletion_Date  cum_sum_turnover  \\\n0                      8.0        1990-07-17              1          51486.75   \n1                      8.0        1990-07-17              1         111356.14   \n2                      8.0        1990-07-17              1         167251.71   \n3                      8.0        1990-07-17              1         224586.50   \n4                      8.0        1990-07-17              1         284070.72   \n\n   cum_perc_turnover  combined_taxes  cum_sum_combined_taxes  revenue_growth  \\\n0               2.74        23660.66                23660.66            0.00   \n1               5.92        16416.32                40076.98            0.16   \n2               8.89        20537.40                60614.38           -0.07   \n3              11.93        15638.39                76252.77            0.03   \n4              15.09        18077.59                94330.36            0.04   \n\n   profit_per_employee  emp_growth_rate_CGR  ACE  \n0              5720.75             0.015141  3.0  \n1              7483.67             0.015141  3.0  \n2              6986.95             0.015141  3.0  \n3              6370.53             0.015141  3.0  \n4              5948.42             0.015141  3.0  ",
      "text/html": "<div>\n<style scoped>\n    .dataframe tbody tr th:only-of-type {\n        vertical-align: middle;\n    }\n\n    .dataframe tbody tr th {\n        vertical-align: top;\n    }\n\n    .dataframe thead th {\n        text-align: right;\n    }\n</style>\n<table border=\"1\" class=\"dataframe\">\n  <thead>\n    <tr style=\"text-align: right;\">\n      <th></th>\n      <th>Unnamed: 0</th>\n      <th>Registration_number</th>\n      <th>Business_area_by_EMTAK_system</th>\n      <th>All_taxes</th>\n      <th>Labor_taxes</th>\n      <th>Turnover</th>\n      <th>number_of_employees</th>\n      <th>year_quarter</th>\n      <th>EMTAK_by_number</th>\n      <th>Client_ID_by_Eesti_Pank</th>\n      <th>Registration_date</th>\n      <th>Deletion_Date</th>\n      <th>cum_sum_turnover</th>\n      <th>cum_perc_turnover</th>\n      <th>combined_taxes</th>\n      <th>cum_sum_combined_taxes</th>\n      <th>revenue_growth</th>\n      <th>profit_per_employee</th>\n      <th>emp_growth_rate_CGR</th>\n      <th>ACE</th>\n    </tr>\n  </thead>\n  <tbody>\n    <tr>\n      <th>0</th>\n      <td>0</td>\n      <td>10000024</td>\n      <td>1</td>\n      <td>12126.74</td>\n      <td>11533.92</td>\n      <td>51486.75</td>\n      <td>9.0</td>\n      <td>2017_1</td>\n      <td>5811.0</td>\n      <td>8.0</td>\n      <td>1990-07-17</td>\n      <td>1</td>\n      <td>51486.75</td>\n      <td>2.74</td>\n      <td>23660.66</td>\n      <td>23660.66</td>\n      <td>0.00</td>\n      <td>5720.75</td>\n      <td>0.015141</td>\n      <td>3.0</td>\n    </tr>\n    <tr>\n      <th>1</th>\n      <td>1</td>\n      <td>10000024</td>\n      <td>1</td>\n      <td>8484.90</td>\n      <td>7931.42</td>\n      <td>59869.39</td>\n      <td>8.0</td>\n      <td>2017_2</td>\n      <td>5811.0</td>\n      <td>8.0</td>\n      <td>1990-07-17</td>\n      <td>1</td>\n      <td>111356.14</td>\n      <td>5.92</td>\n      <td>16416.32</td>\n      <td>40076.98</td>\n      <td>0.16</td>\n      <td>7483.67</td>\n      <td>0.015141</td>\n      <td>3.0</td>\n    </tr>\n    <tr>\n      <th>2</th>\n      <td>2</td>\n      <td>10000024</td>\n      <td>1</td>\n      <td>10468.75</td>\n      <td>10068.65</td>\n      <td>55895.57</td>\n      <td>8.0</td>\n      <td>2017_3</td>\n      <td>5811.0</td>\n      <td>8.0</td>\n      <td>1990-07-17</td>\n      <td>1</td>\n      <td>167251.71</td>\n      <td>8.89</td>\n      <td>20537.40</td>\n      <td>60614.38</td>\n      <td>-0.07</td>\n      <td>6986.95</td>\n      <td>0.015141</td>\n      <td>3.0</td>\n    </tr>\n    <tr>\n      <th>3</th>\n      <td>3</td>\n      <td>10000024</td>\n      <td>1</td>\n      <td>7887.05</td>\n      <td>7751.34</td>\n      <td>57334.79</td>\n      <td>9.0</td>\n      <td>2017_4</td>\n      <td>5811.0</td>\n      <td>8.0</td>\n      <td>1990-07-17</td>\n      <td>1</td>\n      <td>224586.50</td>\n      <td>11.93</td>\n      <td>15638.39</td>\n      <td>76252.77</td>\n      <td>0.03</td>\n      <td>6370.53</td>\n      <td>0.015141</td>\n      <td>3.0</td>\n    </tr>\n    <tr>\n      <th>4</th>\n      <td>4</td>\n      <td>10000024</td>\n      <td>1</td>\n      <td>9320.26</td>\n      <td>8757.33</td>\n      <td>59484.22</td>\n      <td>10.0</td>\n      <td>2018_1</td>\n      <td>5811.0</td>\n      <td>8.0</td>\n      <td>1990-07-17</td>\n      <td>1</td>\n      <td>284070.72</td>\n      <td>15.09</td>\n      <td>18077.59</td>\n      <td>94330.36</td>\n      <td>0.04</td>\n      <td>5948.42</td>\n      <td>0.015141</td>\n      <td>3.0</td>\n    </tr>\n  </tbody>\n</table>\n</div>"
     },
     "execution_count": 2,
     "metadata": {},
     "output_type": "execute_result"
    }
   ],
   "source": [
    "# Load data\n",
    "\n",
    "df = pd.read_csv('./data/dataframes/full_period_unlabeled.csv')\n",
    "df.head()"
   ],
   "metadata": {
    "collapsed": false,
    "pycharm": {
     "name": "#%%\n"
    }
   }
  },
  {
   "cell_type": "code",
   "execution_count": 3,
   "outputs": [
    {
     "data": {
      "text/plain": "(1617211, 20)"
     },
     "execution_count": 3,
     "metadata": {},
     "output_type": "execute_result"
    }
   ],
   "source": [
    "df.shape"
   ],
   "metadata": {
    "collapsed": false,
    "pycharm": {
     "name": "#%%\n"
    }
   }
  },
  {
   "cell_type": "code",
   "execution_count": 4,
   "outputs": [
    {
     "data": {
      "text/plain": "   Registration_number  Business_area_by_EMTAK_system  All_taxes  Labor_taxes  \\\n0             10000024                              1   12126.74     11533.92   \n1             10000024                              1    8484.90      7931.42   \n2             10000024                              1   10468.75     10068.65   \n3             10000024                              1    7887.05      7751.34   \n4             10000024                              1    9320.26      8757.33   \n\n   Turnover  number_of_employees year_quarter  EMTAK_by_number  \\\n0  51486.75                  9.0       2017_1           5811.0   \n1  59869.39                  8.0       2017_2           5811.0   \n2  55895.57                  8.0       2017_3           5811.0   \n3  57334.79                  9.0       2017_4           5811.0   \n4  59484.22                 10.0       2018_1           5811.0   \n\n   Client_ID_by_Eesti_Pank Registration_date  Deletion_Date  cum_sum_turnover  \\\n0                      8.0        1990-07-17              1          51486.75   \n1                      8.0        1990-07-17              1         111356.14   \n2                      8.0        1990-07-17              1         167251.71   \n3                      8.0        1990-07-17              1         224586.50   \n4                      8.0        1990-07-17              1         284070.72   \n\n   cum_perc_turnover  combined_taxes  cum_sum_combined_taxes  revenue_growth  \\\n0               2.74        23660.66                23660.66            0.00   \n1               5.92        16416.32                40076.98            0.16   \n2               8.89        20537.40                60614.38           -0.07   \n3              11.93        15638.39                76252.77            0.03   \n4              15.09        18077.59                94330.36            0.04   \n\n   profit_per_employee  emp_growth_rate_CGR  ACE  \n0              5720.75             0.015141  3.0  \n1              7483.67             0.015141  3.0  \n2              6986.95             0.015141  3.0  \n3              6370.53             0.015141  3.0  \n4              5948.42             0.015141  3.0  ",
      "text/html": "<div>\n<style scoped>\n    .dataframe tbody tr th:only-of-type {\n        vertical-align: middle;\n    }\n\n    .dataframe tbody tr th {\n        vertical-align: top;\n    }\n\n    .dataframe thead th {\n        text-align: right;\n    }\n</style>\n<table border=\"1\" class=\"dataframe\">\n  <thead>\n    <tr style=\"text-align: right;\">\n      <th></th>\n      <th>Registration_number</th>\n      <th>Business_area_by_EMTAK_system</th>\n      <th>All_taxes</th>\n      <th>Labor_taxes</th>\n      <th>Turnover</th>\n      <th>number_of_employees</th>\n      <th>year_quarter</th>\n      <th>EMTAK_by_number</th>\n      <th>Client_ID_by_Eesti_Pank</th>\n      <th>Registration_date</th>\n      <th>Deletion_Date</th>\n      <th>cum_sum_turnover</th>\n      <th>cum_perc_turnover</th>\n      <th>combined_taxes</th>\n      <th>cum_sum_combined_taxes</th>\n      <th>revenue_growth</th>\n      <th>profit_per_employee</th>\n      <th>emp_growth_rate_CGR</th>\n      <th>ACE</th>\n    </tr>\n  </thead>\n  <tbody>\n    <tr>\n      <th>0</th>\n      <td>10000024</td>\n      <td>1</td>\n      <td>12126.74</td>\n      <td>11533.92</td>\n      <td>51486.75</td>\n      <td>9.0</td>\n      <td>2017_1</td>\n      <td>5811.0</td>\n      <td>8.0</td>\n      <td>1990-07-17</td>\n      <td>1</td>\n      <td>51486.75</td>\n      <td>2.74</td>\n      <td>23660.66</td>\n      <td>23660.66</td>\n      <td>0.00</td>\n      <td>5720.75</td>\n      <td>0.015141</td>\n      <td>3.0</td>\n    </tr>\n    <tr>\n      <th>1</th>\n      <td>10000024</td>\n      <td>1</td>\n      <td>8484.90</td>\n      <td>7931.42</td>\n      <td>59869.39</td>\n      <td>8.0</td>\n      <td>2017_2</td>\n      <td>5811.0</td>\n      <td>8.0</td>\n      <td>1990-07-17</td>\n      <td>1</td>\n      <td>111356.14</td>\n      <td>5.92</td>\n      <td>16416.32</td>\n      <td>40076.98</td>\n      <td>0.16</td>\n      <td>7483.67</td>\n      <td>0.015141</td>\n      <td>3.0</td>\n    </tr>\n    <tr>\n      <th>2</th>\n      <td>10000024</td>\n      <td>1</td>\n      <td>10468.75</td>\n      <td>10068.65</td>\n      <td>55895.57</td>\n      <td>8.0</td>\n      <td>2017_3</td>\n      <td>5811.0</td>\n      <td>8.0</td>\n      <td>1990-07-17</td>\n      <td>1</td>\n      <td>167251.71</td>\n      <td>8.89</td>\n      <td>20537.40</td>\n      <td>60614.38</td>\n      <td>-0.07</td>\n      <td>6986.95</td>\n      <td>0.015141</td>\n      <td>3.0</td>\n    </tr>\n    <tr>\n      <th>3</th>\n      <td>10000024</td>\n      <td>1</td>\n      <td>7887.05</td>\n      <td>7751.34</td>\n      <td>57334.79</td>\n      <td>9.0</td>\n      <td>2017_4</td>\n      <td>5811.0</td>\n      <td>8.0</td>\n      <td>1990-07-17</td>\n      <td>1</td>\n      <td>224586.50</td>\n      <td>11.93</td>\n      <td>15638.39</td>\n      <td>76252.77</td>\n      <td>0.03</td>\n      <td>6370.53</td>\n      <td>0.015141</td>\n      <td>3.0</td>\n    </tr>\n    <tr>\n      <th>4</th>\n      <td>10000024</td>\n      <td>1</td>\n      <td>9320.26</td>\n      <td>8757.33</td>\n      <td>59484.22</td>\n      <td>10.0</td>\n      <td>2018_1</td>\n      <td>5811.0</td>\n      <td>8.0</td>\n      <td>1990-07-17</td>\n      <td>1</td>\n      <td>284070.72</td>\n      <td>15.09</td>\n      <td>18077.59</td>\n      <td>94330.36</td>\n      <td>0.04</td>\n      <td>5948.42</td>\n      <td>0.015141</td>\n      <td>3.0</td>\n    </tr>\n  </tbody>\n</table>\n</div>"
     },
     "execution_count": 4,
     "metadata": {},
     "output_type": "execute_result"
    }
   ],
   "source": [
    "df = df.drop('Unnamed: 0', axis=1)\n",
    "df.reset_index(drop=True)\n",
    "df.head()"
   ],
   "metadata": {
    "collapsed": false,
    "pycharm": {
     "name": "#%%\n"
    }
   }
  },
  {
   "cell_type": "code",
   "execution_count": 5,
   "outputs": [
    {
     "data": {
      "text/plain": "(1617211, 19)"
     },
     "execution_count": 5,
     "metadata": {},
     "output_type": "execute_result"
    }
   ],
   "source": [
    "df.shape"
   ],
   "metadata": {
    "collapsed": false,
    "pycharm": {
     "name": "#%%\n"
    }
   }
  },
  {
   "cell_type": "code",
   "execution_count": 6,
   "outputs": [],
   "source": [
    "# Define labelling function\n",
    "\n",
    "def add_labels(g):\n",
    "    ex_df = pd.DataFrame(g).reset_index()\n",
    "\n",
    "    mean_growth = ex_df['revenue_growth'].mean()\n",
    "    #print(list(ex_df['Registration_number'])[1] + ' ' + str(mean_growth))\n",
    "    if mean_growth > 5:\n",
    "        ex_df['label'] = 'growing'\n",
    "    elif mean_growth < 0:\n",
    "        ex_df['label'] = 'failing'\n",
    "    else:\n",
    "        ex_df['label'] = 'stable'\n",
    "    return ex_df"
   ],
   "metadata": {
    "collapsed": false,
    "pycharm": {
     "name": "#%%\n"
    }
   }
  },
  {
   "cell_type": "code",
   "execution_count": 7,
   "outputs": [],
   "source": [
    "# Label the data\n",
    "\n",
    "df_labelled = df.groupby(\"Registration_number\").apply(add_labels).reset_index(drop=True)"
   ],
   "metadata": {
    "collapsed": false,
    "pycharm": {
     "name": "#%%\n"
    }
   }
  },
  {
   "cell_type": "code",
   "execution_count": 8,
   "outputs": [
    {
     "data": {
      "text/plain": "   Registration_number  Business_area_by_EMTAK_system  All_taxes  Labor_taxes  \\\n0             10000024                              1   12126.74     11533.92   \n1             10000024                              1    8484.90      7931.42   \n2             10000024                              1   10468.75     10068.65   \n3             10000024                              1    7887.05      7751.34   \n4             10000024                              1    9320.26      8757.33   \n\n   Turnover  number_of_employees year_quarter  EMTAK_by_number  \\\n0  51486.75                  9.0       2017_1           5811.0   \n1  59869.39                  8.0       2017_2           5811.0   \n2  55895.57                  8.0       2017_3           5811.0   \n3  57334.79                  9.0       2017_4           5811.0   \n4  59484.22                 10.0       2018_1           5811.0   \n\n   Client_ID_by_Eesti_Pank Registration_date  Deletion_Date  cum_sum_turnover  \\\n0                      8.0        1990-07-17              1          51486.75   \n1                      8.0        1990-07-17              1         111356.14   \n2                      8.0        1990-07-17              1         167251.71   \n3                      8.0        1990-07-17              1         224586.50   \n4                      8.0        1990-07-17              1         284070.72   \n\n   cum_perc_turnover  combined_taxes  cum_sum_combined_taxes  revenue_growth  \\\n0               2.74        23660.66                23660.66            0.00   \n1               5.92        16416.32                40076.98            0.16   \n2               8.89        20537.40                60614.38           -0.07   \n3              11.93        15638.39                76252.77            0.03   \n4              15.09        18077.59                94330.36            0.04   \n\n   profit_per_employee  emp_growth_rate_CGR  ACE   label  \n0              5720.75             0.015141  3.0  stable  \n1              7483.67             0.015141  3.0  stable  \n2              6986.95             0.015141  3.0  stable  \n3              6370.53             0.015141  3.0  stable  \n4              5948.42             0.015141  3.0  stable  ",
      "text/html": "<div>\n<style scoped>\n    .dataframe tbody tr th:only-of-type {\n        vertical-align: middle;\n    }\n\n    .dataframe tbody tr th {\n        vertical-align: top;\n    }\n\n    .dataframe thead th {\n        text-align: right;\n    }\n</style>\n<table border=\"1\" class=\"dataframe\">\n  <thead>\n    <tr style=\"text-align: right;\">\n      <th></th>\n      <th>Registration_number</th>\n      <th>Business_area_by_EMTAK_system</th>\n      <th>All_taxes</th>\n      <th>Labor_taxes</th>\n      <th>Turnover</th>\n      <th>number_of_employees</th>\n      <th>year_quarter</th>\n      <th>EMTAK_by_number</th>\n      <th>Client_ID_by_Eesti_Pank</th>\n      <th>Registration_date</th>\n      <th>Deletion_Date</th>\n      <th>cum_sum_turnover</th>\n      <th>cum_perc_turnover</th>\n      <th>combined_taxes</th>\n      <th>cum_sum_combined_taxes</th>\n      <th>revenue_growth</th>\n      <th>profit_per_employee</th>\n      <th>emp_growth_rate_CGR</th>\n      <th>ACE</th>\n      <th>label</th>\n    </tr>\n  </thead>\n  <tbody>\n    <tr>\n      <th>0</th>\n      <td>10000024</td>\n      <td>1</td>\n      <td>12126.74</td>\n      <td>11533.92</td>\n      <td>51486.75</td>\n      <td>9.0</td>\n      <td>2017_1</td>\n      <td>5811.0</td>\n      <td>8.0</td>\n      <td>1990-07-17</td>\n      <td>1</td>\n      <td>51486.75</td>\n      <td>2.74</td>\n      <td>23660.66</td>\n      <td>23660.66</td>\n      <td>0.00</td>\n      <td>5720.75</td>\n      <td>0.015141</td>\n      <td>3.0</td>\n      <td>stable</td>\n    </tr>\n    <tr>\n      <th>1</th>\n      <td>10000024</td>\n      <td>1</td>\n      <td>8484.90</td>\n      <td>7931.42</td>\n      <td>59869.39</td>\n      <td>8.0</td>\n      <td>2017_2</td>\n      <td>5811.0</td>\n      <td>8.0</td>\n      <td>1990-07-17</td>\n      <td>1</td>\n      <td>111356.14</td>\n      <td>5.92</td>\n      <td>16416.32</td>\n      <td>40076.98</td>\n      <td>0.16</td>\n      <td>7483.67</td>\n      <td>0.015141</td>\n      <td>3.0</td>\n      <td>stable</td>\n    </tr>\n    <tr>\n      <th>2</th>\n      <td>10000024</td>\n      <td>1</td>\n      <td>10468.75</td>\n      <td>10068.65</td>\n      <td>55895.57</td>\n      <td>8.0</td>\n      <td>2017_3</td>\n      <td>5811.0</td>\n      <td>8.0</td>\n      <td>1990-07-17</td>\n      <td>1</td>\n      <td>167251.71</td>\n      <td>8.89</td>\n      <td>20537.40</td>\n      <td>60614.38</td>\n      <td>-0.07</td>\n      <td>6986.95</td>\n      <td>0.015141</td>\n      <td>3.0</td>\n      <td>stable</td>\n    </tr>\n    <tr>\n      <th>3</th>\n      <td>10000024</td>\n      <td>1</td>\n      <td>7887.05</td>\n      <td>7751.34</td>\n      <td>57334.79</td>\n      <td>9.0</td>\n      <td>2017_4</td>\n      <td>5811.0</td>\n      <td>8.0</td>\n      <td>1990-07-17</td>\n      <td>1</td>\n      <td>224586.50</td>\n      <td>11.93</td>\n      <td>15638.39</td>\n      <td>76252.77</td>\n      <td>0.03</td>\n      <td>6370.53</td>\n      <td>0.015141</td>\n      <td>3.0</td>\n      <td>stable</td>\n    </tr>\n    <tr>\n      <th>4</th>\n      <td>10000024</td>\n      <td>1</td>\n      <td>9320.26</td>\n      <td>8757.33</td>\n      <td>59484.22</td>\n      <td>10.0</td>\n      <td>2018_1</td>\n      <td>5811.0</td>\n      <td>8.0</td>\n      <td>1990-07-17</td>\n      <td>1</td>\n      <td>284070.72</td>\n      <td>15.09</td>\n      <td>18077.59</td>\n      <td>94330.36</td>\n      <td>0.04</td>\n      <td>5948.42</td>\n      <td>0.015141</td>\n      <td>3.0</td>\n      <td>stable</td>\n    </tr>\n  </tbody>\n</table>\n</div>"
     },
     "execution_count": 8,
     "metadata": {},
     "output_type": "execute_result"
    }
   ],
   "source": [
    "df_labelled = df_labelled.drop('index', axis=1)\n",
    "df_labelled.reset_index(drop=True, inplace=True)\n",
    "df_labelled.head()"
   ],
   "metadata": {
    "collapsed": false,
    "pycharm": {
     "name": "#%%\n"
    }
   }
  },
  {
   "cell_type": "code",
   "execution_count": 9,
   "outputs": [
    {
     "data": {
      "text/plain": "         Registration_number\nlabel                       \nfailing               104512\ngrowing               508911\nstable               1003788",
      "text/html": "<div>\n<style scoped>\n    .dataframe tbody tr th:only-of-type {\n        vertical-align: middle;\n    }\n\n    .dataframe tbody tr th {\n        vertical-align: top;\n    }\n\n    .dataframe thead th {\n        text-align: right;\n    }\n</style>\n<table border=\"1\" class=\"dataframe\">\n  <thead>\n    <tr style=\"text-align: right;\">\n      <th></th>\n      <th>Registration_number</th>\n    </tr>\n    <tr>\n      <th>label</th>\n      <th></th>\n    </tr>\n  </thead>\n  <tbody>\n    <tr>\n      <th>failing</th>\n      <td>104512</td>\n    </tr>\n    <tr>\n      <th>growing</th>\n      <td>508911</td>\n    </tr>\n    <tr>\n      <th>stable</th>\n      <td>1003788</td>\n    </tr>\n  </tbody>\n</table>\n</div>"
     },
     "execution_count": 9,
     "metadata": {},
     "output_type": "execute_result"
    }
   ],
   "source": [
    "# Counting how much we have in each class\n",
    "\n",
    "df_companies = df_labelled.groupby('label').count()\n",
    "df_companies = df_companies.iloc[:,0:1]\n",
    "df_companies.head()"
   ],
   "metadata": {
    "collapsed": false,
    "pycharm": {
     "name": "#%%\n"
    }
   }
  },
  {
   "cell_type": "code",
   "execution_count": 10,
   "outputs": [],
   "source": [
    "# Splitting by timeframe and saving data\n",
    "\n",
    "df_labelled.to_csv('./data/dataframes/full_period_labeled_v1.csv')"
   ],
   "metadata": {
    "collapsed": false,
    "pycharm": {
     "name": "#%%\n"
    }
   }
  },
  {
   "cell_type": "code",
   "execution_count": 11,
   "outputs": [],
   "source": [
    "# Filter out data that is before 1st quarter of 2020\n",
    "\n",
    "df_before = df_labelled.copy(deep=True)"
   ],
   "metadata": {
    "collapsed": false,
    "pycharm": {
     "name": "#%%\n"
    }
   }
  },
  {
   "cell_type": "code",
   "execution_count": 12,
   "outputs": [],
   "source": [
    "df_before = df_before.loc[df_before.apply(lambda x: x.year_quarter in ['2017_1', '2017_2', '2017_3', '2017_4', '2018_1', '2018_2', '2018_3', '2018_4', '2019_1', '2019_2', '2019_3', '2019_4', '2020_1'], axis=1)]"
   ],
   "metadata": {
    "collapsed": false,
    "pycharm": {
     "name": "#%%\n"
    }
   }
  },
  {
   "cell_type": "code",
   "execution_count": 13,
   "outputs": [
    {
     "data": {
      "text/plain": "   Registration_number  Business_area_by_EMTAK_system  All_taxes  Labor_taxes  \\\n0             10000024                              1   12126.74     11533.92   \n1             10000024                              1    8484.90      7931.42   \n2             10000024                              1   10468.75     10068.65   \n3             10000024                              1    7887.05      7751.34   \n4             10000024                              1    9320.26      8757.33   \n\n   Turnover  number_of_employees year_quarter  EMTAK_by_number  \\\n0  51486.75                  9.0       2017_1           5811.0   \n1  59869.39                  8.0       2017_2           5811.0   \n2  55895.57                  8.0       2017_3           5811.0   \n3  57334.79                  9.0       2017_4           5811.0   \n4  59484.22                 10.0       2018_1           5811.0   \n\n   Client_ID_by_Eesti_Pank Registration_date  Deletion_Date  cum_sum_turnover  \\\n0                      8.0        1990-07-17              1          51486.75   \n1                      8.0        1990-07-17              1         111356.14   \n2                      8.0        1990-07-17              1         167251.71   \n3                      8.0        1990-07-17              1         224586.50   \n4                      8.0        1990-07-17              1         284070.72   \n\n   cum_perc_turnover  combined_taxes  cum_sum_combined_taxes  revenue_growth  \\\n0               2.74        23660.66                23660.66            0.00   \n1               5.92        16416.32                40076.98            0.16   \n2               8.89        20537.40                60614.38           -0.07   \n3              11.93        15638.39                76252.77            0.03   \n4              15.09        18077.59                94330.36            0.04   \n\n   profit_per_employee  emp_growth_rate_CGR  ACE   label  \n0              5720.75             0.015141  3.0  stable  \n1              7483.67             0.015141  3.0  stable  \n2              6986.95             0.015141  3.0  stable  \n3              6370.53             0.015141  3.0  stable  \n4              5948.42             0.015141  3.0  stable  ",
      "text/html": "<div>\n<style scoped>\n    .dataframe tbody tr th:only-of-type {\n        vertical-align: middle;\n    }\n\n    .dataframe tbody tr th {\n        vertical-align: top;\n    }\n\n    .dataframe thead th {\n        text-align: right;\n    }\n</style>\n<table border=\"1\" class=\"dataframe\">\n  <thead>\n    <tr style=\"text-align: right;\">\n      <th></th>\n      <th>Registration_number</th>\n      <th>Business_area_by_EMTAK_system</th>\n      <th>All_taxes</th>\n      <th>Labor_taxes</th>\n      <th>Turnover</th>\n      <th>number_of_employees</th>\n      <th>year_quarter</th>\n      <th>EMTAK_by_number</th>\n      <th>Client_ID_by_Eesti_Pank</th>\n      <th>Registration_date</th>\n      <th>Deletion_Date</th>\n      <th>cum_sum_turnover</th>\n      <th>cum_perc_turnover</th>\n      <th>combined_taxes</th>\n      <th>cum_sum_combined_taxes</th>\n      <th>revenue_growth</th>\n      <th>profit_per_employee</th>\n      <th>emp_growth_rate_CGR</th>\n      <th>ACE</th>\n      <th>label</th>\n    </tr>\n  </thead>\n  <tbody>\n    <tr>\n      <th>0</th>\n      <td>10000024</td>\n      <td>1</td>\n      <td>12126.74</td>\n      <td>11533.92</td>\n      <td>51486.75</td>\n      <td>9.0</td>\n      <td>2017_1</td>\n      <td>5811.0</td>\n      <td>8.0</td>\n      <td>1990-07-17</td>\n      <td>1</td>\n      <td>51486.75</td>\n      <td>2.74</td>\n      <td>23660.66</td>\n      <td>23660.66</td>\n      <td>0.00</td>\n      <td>5720.75</td>\n      <td>0.015141</td>\n      <td>3.0</td>\n      <td>stable</td>\n    </tr>\n    <tr>\n      <th>1</th>\n      <td>10000024</td>\n      <td>1</td>\n      <td>8484.90</td>\n      <td>7931.42</td>\n      <td>59869.39</td>\n      <td>8.0</td>\n      <td>2017_2</td>\n      <td>5811.0</td>\n      <td>8.0</td>\n      <td>1990-07-17</td>\n      <td>1</td>\n      <td>111356.14</td>\n      <td>5.92</td>\n      <td>16416.32</td>\n      <td>40076.98</td>\n      <td>0.16</td>\n      <td>7483.67</td>\n      <td>0.015141</td>\n      <td>3.0</td>\n      <td>stable</td>\n    </tr>\n    <tr>\n      <th>2</th>\n      <td>10000024</td>\n      <td>1</td>\n      <td>10468.75</td>\n      <td>10068.65</td>\n      <td>55895.57</td>\n      <td>8.0</td>\n      <td>2017_3</td>\n      <td>5811.0</td>\n      <td>8.0</td>\n      <td>1990-07-17</td>\n      <td>1</td>\n      <td>167251.71</td>\n      <td>8.89</td>\n      <td>20537.40</td>\n      <td>60614.38</td>\n      <td>-0.07</td>\n      <td>6986.95</td>\n      <td>0.015141</td>\n      <td>3.0</td>\n      <td>stable</td>\n    </tr>\n    <tr>\n      <th>3</th>\n      <td>10000024</td>\n      <td>1</td>\n      <td>7887.05</td>\n      <td>7751.34</td>\n      <td>57334.79</td>\n      <td>9.0</td>\n      <td>2017_4</td>\n      <td>5811.0</td>\n      <td>8.0</td>\n      <td>1990-07-17</td>\n      <td>1</td>\n      <td>224586.50</td>\n      <td>11.93</td>\n      <td>15638.39</td>\n      <td>76252.77</td>\n      <td>0.03</td>\n      <td>6370.53</td>\n      <td>0.015141</td>\n      <td>3.0</td>\n      <td>stable</td>\n    </tr>\n    <tr>\n      <th>4</th>\n      <td>10000024</td>\n      <td>1</td>\n      <td>9320.26</td>\n      <td>8757.33</td>\n      <td>59484.22</td>\n      <td>10.0</td>\n      <td>2018_1</td>\n      <td>5811.0</td>\n      <td>8.0</td>\n      <td>1990-07-17</td>\n      <td>1</td>\n      <td>284070.72</td>\n      <td>15.09</td>\n      <td>18077.59</td>\n      <td>94330.36</td>\n      <td>0.04</td>\n      <td>5948.42</td>\n      <td>0.015141</td>\n      <td>3.0</td>\n      <td>stable</td>\n    </tr>\n  </tbody>\n</table>\n</div>"
     },
     "execution_count": 13,
     "metadata": {},
     "output_type": "execute_result"
    }
   ],
   "source": [
    "df_before.head()"
   ],
   "metadata": {
    "collapsed": false,
    "pycharm": {
     "name": "#%%\n"
    }
   }
  },
  {
   "cell_type": "code",
   "execution_count": 14,
   "outputs": [
    {
     "data": {
      "text/plain": "(1069895, 20)"
     },
     "execution_count": 14,
     "metadata": {},
     "output_type": "execute_result"
    }
   ],
   "source": [
    "df_before.shape"
   ],
   "metadata": {
    "collapsed": false,
    "pycharm": {
     "name": "#%%\n"
    }
   }
  },
  {
   "cell_type": "code",
   "execution_count": 15,
   "outputs": [],
   "source": [
    "# Save acquired data into a csv\n",
    "\n",
    "df_before.to_csv(\"./data/dataframes/before_covid_labelled_v1.csv\", index=False)"
   ],
   "metadata": {
    "collapsed": false,
    "pycharm": {
     "name": "#%%\n"
    }
   }
  },
  {
   "cell_type": "code",
   "execution_count": 16,
   "outputs": [],
   "source": [
    "# Filter out data that is since 2nd quarter of 2020\n",
    "\n",
    "df_during = df_labelled.copy(deep=True)"
   ],
   "metadata": {
    "collapsed": false,
    "pycharm": {
     "name": "#%%\n"
    }
   }
  },
  {
   "cell_type": "code",
   "execution_count": 17,
   "outputs": [],
   "source": [
    "df_during = df_during.loc[df_during.apply(lambda x: x.year_quarter in ['2020_2', '2020_3', '2020_4', '2021_1', '2021_2', '2021_3'], axis=1)]\n"
   ],
   "metadata": {
    "collapsed": false,
    "pycharm": {
     "name": "#%%\n"
    }
   }
  },
  {
   "cell_type": "code",
   "execution_count": 18,
   "outputs": [
    {
     "data": {
      "text/plain": "    Registration_number  Business_area_by_EMTAK_system  All_taxes  \\\n13             10000024                              1   18474.78   \n14             10000024                              1   18969.94   \n15             10000024                              1   20981.29   \n16             10000024                              1   22353.85   \n17             10000024                              1   19685.75   \n\n    Labor_taxes   Turnover  number_of_employees year_quarter  EMTAK_by_number  \\\n13     10983.73  137159.52                  9.0       2020_2           5811.0   \n14     14565.42  107660.58                 10.0       2020_3           5811.0   \n15     15506.56  147818.28                 10.0       2020_4           5811.0   \n16     18034.91  140346.67                 11.0       2021_1           5811.0   \n17     18454.83  162231.81                 12.0       2021_2           5811.0   \n\n    Client_ID_by_Eesti_Pank Registration_date  Deletion_Date  \\\n13                      8.0        1990-07-17              1   \n14                      8.0        1990-07-17              1   \n15                      8.0        1990-07-17              1   \n16                      8.0        1990-07-17              1   \n17                      8.0        1990-07-17              1   \n\n    cum_sum_turnover  cum_perc_turnover  combined_taxes  \\\n13        1179457.60              62.67        29458.51   \n14        1287118.18              68.39        33535.36   \n15        1434936.46              76.25        36487.85   \n16        1575283.13              83.71        40388.76   \n17        1737514.94              92.33        38140.58   \n\n    cum_sum_combined_taxes  revenue_growth  profit_per_employee  \\\n13               350586.87            0.06             15239.95   \n14               384122.23           -0.22             10766.06   \n15               420610.08            0.37             14781.83   \n16               460998.84           -0.05             12758.79   \n17               499139.42            0.16             13519.32   \n\n    emp_growth_rate_CGR  ACE   label  \n13             0.015141  3.0  stable  \n14             0.015141  3.0  stable  \n15             0.015141  3.0  stable  \n16             0.015141  3.0  stable  \n17             0.015141  3.0  stable  ",
      "text/html": "<div>\n<style scoped>\n    .dataframe tbody tr th:only-of-type {\n        vertical-align: middle;\n    }\n\n    .dataframe tbody tr th {\n        vertical-align: top;\n    }\n\n    .dataframe thead th {\n        text-align: right;\n    }\n</style>\n<table border=\"1\" class=\"dataframe\">\n  <thead>\n    <tr style=\"text-align: right;\">\n      <th></th>\n      <th>Registration_number</th>\n      <th>Business_area_by_EMTAK_system</th>\n      <th>All_taxes</th>\n      <th>Labor_taxes</th>\n      <th>Turnover</th>\n      <th>number_of_employees</th>\n      <th>year_quarter</th>\n      <th>EMTAK_by_number</th>\n      <th>Client_ID_by_Eesti_Pank</th>\n      <th>Registration_date</th>\n      <th>Deletion_Date</th>\n      <th>cum_sum_turnover</th>\n      <th>cum_perc_turnover</th>\n      <th>combined_taxes</th>\n      <th>cum_sum_combined_taxes</th>\n      <th>revenue_growth</th>\n      <th>profit_per_employee</th>\n      <th>emp_growth_rate_CGR</th>\n      <th>ACE</th>\n      <th>label</th>\n    </tr>\n  </thead>\n  <tbody>\n    <tr>\n      <th>13</th>\n      <td>10000024</td>\n      <td>1</td>\n      <td>18474.78</td>\n      <td>10983.73</td>\n      <td>137159.52</td>\n      <td>9.0</td>\n      <td>2020_2</td>\n      <td>5811.0</td>\n      <td>8.0</td>\n      <td>1990-07-17</td>\n      <td>1</td>\n      <td>1179457.60</td>\n      <td>62.67</td>\n      <td>29458.51</td>\n      <td>350586.87</td>\n      <td>0.06</td>\n      <td>15239.95</td>\n      <td>0.015141</td>\n      <td>3.0</td>\n      <td>stable</td>\n    </tr>\n    <tr>\n      <th>14</th>\n      <td>10000024</td>\n      <td>1</td>\n      <td>18969.94</td>\n      <td>14565.42</td>\n      <td>107660.58</td>\n      <td>10.0</td>\n      <td>2020_3</td>\n      <td>5811.0</td>\n      <td>8.0</td>\n      <td>1990-07-17</td>\n      <td>1</td>\n      <td>1287118.18</td>\n      <td>68.39</td>\n      <td>33535.36</td>\n      <td>384122.23</td>\n      <td>-0.22</td>\n      <td>10766.06</td>\n      <td>0.015141</td>\n      <td>3.0</td>\n      <td>stable</td>\n    </tr>\n    <tr>\n      <th>15</th>\n      <td>10000024</td>\n      <td>1</td>\n      <td>20981.29</td>\n      <td>15506.56</td>\n      <td>147818.28</td>\n      <td>10.0</td>\n      <td>2020_4</td>\n      <td>5811.0</td>\n      <td>8.0</td>\n      <td>1990-07-17</td>\n      <td>1</td>\n      <td>1434936.46</td>\n      <td>76.25</td>\n      <td>36487.85</td>\n      <td>420610.08</td>\n      <td>0.37</td>\n      <td>14781.83</td>\n      <td>0.015141</td>\n      <td>3.0</td>\n      <td>stable</td>\n    </tr>\n    <tr>\n      <th>16</th>\n      <td>10000024</td>\n      <td>1</td>\n      <td>22353.85</td>\n      <td>18034.91</td>\n      <td>140346.67</td>\n      <td>11.0</td>\n      <td>2021_1</td>\n      <td>5811.0</td>\n      <td>8.0</td>\n      <td>1990-07-17</td>\n      <td>1</td>\n      <td>1575283.13</td>\n      <td>83.71</td>\n      <td>40388.76</td>\n      <td>460998.84</td>\n      <td>-0.05</td>\n      <td>12758.79</td>\n      <td>0.015141</td>\n      <td>3.0</td>\n      <td>stable</td>\n    </tr>\n    <tr>\n      <th>17</th>\n      <td>10000024</td>\n      <td>1</td>\n      <td>19685.75</td>\n      <td>18454.83</td>\n      <td>162231.81</td>\n      <td>12.0</td>\n      <td>2021_2</td>\n      <td>5811.0</td>\n      <td>8.0</td>\n      <td>1990-07-17</td>\n      <td>1</td>\n      <td>1737514.94</td>\n      <td>92.33</td>\n      <td>38140.58</td>\n      <td>499139.42</td>\n      <td>0.16</td>\n      <td>13519.32</td>\n      <td>0.015141</td>\n      <td>3.0</td>\n      <td>stable</td>\n    </tr>\n  </tbody>\n</table>\n</div>"
     },
     "execution_count": 18,
     "metadata": {},
     "output_type": "execute_result"
    }
   ],
   "source": [
    "df_during.head()"
   ],
   "metadata": {
    "collapsed": false,
    "pycharm": {
     "name": "#%%\n"
    }
   }
  },
  {
   "cell_type": "code",
   "execution_count": 19,
   "outputs": [
    {
     "data": {
      "text/plain": "(547316, 20)"
     },
     "execution_count": 19,
     "metadata": {},
     "output_type": "execute_result"
    }
   ],
   "source": [
    "df_during.shape"
   ],
   "metadata": {
    "collapsed": false,
    "pycharm": {
     "name": "#%%\n"
    }
   }
  },
  {
   "cell_type": "code",
   "execution_count": 20,
   "outputs": [],
   "source": [
    "# Save acquired data into a csv\n",
    "\n",
    "df_during.to_csv(\"./data/dataframes/during_covid_labelled_v1.csv\", index=False)"
   ],
   "metadata": {
    "collapsed": false,
    "pycharm": {
     "name": "#%%\n"
    }
   }
  },
  {
   "cell_type": "code",
   "execution_count": 20,
   "outputs": [],
   "source": [],
   "metadata": {
    "collapsed": false,
    "pycharm": {
     "name": "#%%\n"
    }
   }
  }
 ],
 "metadata": {
  "kernelspec": {
   "display_name": "Python 3",
   "language": "python",
   "name": "python3"
  },
  "language_info": {
   "codemirror_mode": {
    "name": "ipython",
    "version": 2
   },
   "file_extension": ".py",
   "mimetype": "text/x-python",
   "name": "python",
   "nbconvert_exporter": "python",
   "pygments_lexer": "ipython2",
   "version": "2.7.6"
  }
 },
 "nbformat": 4,
 "nbformat_minor": 0
}
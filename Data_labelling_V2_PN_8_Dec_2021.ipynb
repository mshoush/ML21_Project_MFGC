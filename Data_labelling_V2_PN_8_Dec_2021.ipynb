{
 "cells": [
  {
   "cell_type": "markdown",
   "metadata": {
    "collapsed": true,
    "pycharm": {
     "name": "#%% md\n"
    }
   },
   "source": [
    "# Data labelling (part 2, version 1)\n",
    "\n",
    "The second version of labelling we decided to label the data according to the changes in turnover as following:\n",
    "- yearly turnover growth has to be at least 20% (eq 5% in average of the quarter)\n",
    "- the continuous average annual employment growth rate (CGR) has to be in TOP 10% of the companies\n",
    "- the absolute change in the number of employees has to be more than 10 and CGR has to be more (or equal than 2 times E(beg) - the number of employees in the beginning)\n",
    "- turnover per employee has to be in the TOP 10% of the companies\n",
    "\n",
    "In order to use 3 classes we decided, that if company matches all 4 categories, it is considered as growing, none of them as failing and all other companies as stable"
   ]
  },
  {
   "cell_type": "code",
   "execution_count": 64,
   "outputs": [],
   "source": [
    "# Import libraries\n",
    "\n",
    "import numpy as np\n",
    "import pandas as pd"
   ],
   "metadata": {
    "collapsed": false,
    "pycharm": {
     "name": "#%%\n"
    }
   }
  },
  {
   "cell_type": "code",
   "execution_count": 65,
   "outputs": [
    {
     "data": {
      "text/plain": "   Unnamed: 0  Registration_number  Business_area_by_EMTAK_system  All_taxes  \\\n0           0             10000024                              1   12126.74   \n1           1             10000024                              1    8484.90   \n2           2             10000024                              1   10468.75   \n3           3             10000024                              1    7887.05   \n4           4             10000024                              1    9320.26   \n\n   Labor_taxes  Turnover  number_of_employees year_quarter  EMTAK_by_number  \\\n0     11533.92  51486.75                  9.0       2017_1           5811.0   \n1      7931.42  59869.39                  8.0       2017_2           5811.0   \n2     10068.65  55895.57                  8.0       2017_3           5811.0   \n3      7751.34  57334.79                  9.0       2017_4           5811.0   \n4      8757.33  59484.22                 10.0       2018_1           5811.0   \n\n   Client_ID_by_Eesti_Pank Registration_date  Deletion_Date  cum_sum_turnover  \\\n0                      8.0        1990-07-17              1          51486.75   \n1                      8.0        1990-07-17              1         111356.14   \n2                      8.0        1990-07-17              1         167251.71   \n3                      8.0        1990-07-17              1         224586.50   \n4                      8.0        1990-07-17              1         284070.72   \n\n   cum_perc_turnover  combined_taxes  cum_sum_combined_taxes  revenue_growth  \\\n0               2.74        23660.66                23660.66            0.00   \n1               5.92        16416.32                40076.98            0.16   \n2               8.89        20537.40                60614.38           -0.07   \n3              11.93        15638.39                76252.77            0.03   \n4              15.09        18077.59                94330.36            0.04   \n\n   profit_per_employee  emp_growth_rate_CGR  ACE  \n0              5720.75             0.015141  3.0  \n1              7483.67             0.015141  3.0  \n2              6986.95             0.015141  3.0  \n3              6370.53             0.015141  3.0  \n4              5948.42             0.015141  3.0  ",
      "text/html": "<div>\n<style scoped>\n    .dataframe tbody tr th:only-of-type {\n        vertical-align: middle;\n    }\n\n    .dataframe tbody tr th {\n        vertical-align: top;\n    }\n\n    .dataframe thead th {\n        text-align: right;\n    }\n</style>\n<table border=\"1\" class=\"dataframe\">\n  <thead>\n    <tr style=\"text-align: right;\">\n      <th></th>\n      <th>Unnamed: 0</th>\n      <th>Registration_number</th>\n      <th>Business_area_by_EMTAK_system</th>\n      <th>All_taxes</th>\n      <th>Labor_taxes</th>\n      <th>Turnover</th>\n      <th>number_of_employees</th>\n      <th>year_quarter</th>\n      <th>EMTAK_by_number</th>\n      <th>Client_ID_by_Eesti_Pank</th>\n      <th>Registration_date</th>\n      <th>Deletion_Date</th>\n      <th>cum_sum_turnover</th>\n      <th>cum_perc_turnover</th>\n      <th>combined_taxes</th>\n      <th>cum_sum_combined_taxes</th>\n      <th>revenue_growth</th>\n      <th>profit_per_employee</th>\n      <th>emp_growth_rate_CGR</th>\n      <th>ACE</th>\n    </tr>\n  </thead>\n  <tbody>\n    <tr>\n      <th>0</th>\n      <td>0</td>\n      <td>10000024</td>\n      <td>1</td>\n      <td>12126.74</td>\n      <td>11533.92</td>\n      <td>51486.75</td>\n      <td>9.0</td>\n      <td>2017_1</td>\n      <td>5811.0</td>\n      <td>8.0</td>\n      <td>1990-07-17</td>\n      <td>1</td>\n      <td>51486.75</td>\n      <td>2.74</td>\n      <td>23660.66</td>\n      <td>23660.66</td>\n      <td>0.00</td>\n      <td>5720.75</td>\n      <td>0.015141</td>\n      <td>3.0</td>\n    </tr>\n    <tr>\n      <th>1</th>\n      <td>1</td>\n      <td>10000024</td>\n      <td>1</td>\n      <td>8484.90</td>\n      <td>7931.42</td>\n      <td>59869.39</td>\n      <td>8.0</td>\n      <td>2017_2</td>\n      <td>5811.0</td>\n      <td>8.0</td>\n      <td>1990-07-17</td>\n      <td>1</td>\n      <td>111356.14</td>\n      <td>5.92</td>\n      <td>16416.32</td>\n      <td>40076.98</td>\n      <td>0.16</td>\n      <td>7483.67</td>\n      <td>0.015141</td>\n      <td>3.0</td>\n    </tr>\n    <tr>\n      <th>2</th>\n      <td>2</td>\n      <td>10000024</td>\n      <td>1</td>\n      <td>10468.75</td>\n      <td>10068.65</td>\n      <td>55895.57</td>\n      <td>8.0</td>\n      <td>2017_3</td>\n      <td>5811.0</td>\n      <td>8.0</td>\n      <td>1990-07-17</td>\n      <td>1</td>\n      <td>167251.71</td>\n      <td>8.89</td>\n      <td>20537.40</td>\n      <td>60614.38</td>\n      <td>-0.07</td>\n      <td>6986.95</td>\n      <td>0.015141</td>\n      <td>3.0</td>\n    </tr>\n    <tr>\n      <th>3</th>\n      <td>3</td>\n      <td>10000024</td>\n      <td>1</td>\n      <td>7887.05</td>\n      <td>7751.34</td>\n      <td>57334.79</td>\n      <td>9.0</td>\n      <td>2017_4</td>\n      <td>5811.0</td>\n      <td>8.0</td>\n      <td>1990-07-17</td>\n      <td>1</td>\n      <td>224586.50</td>\n      <td>11.93</td>\n      <td>15638.39</td>\n      <td>76252.77</td>\n      <td>0.03</td>\n      <td>6370.53</td>\n      <td>0.015141</td>\n      <td>3.0</td>\n    </tr>\n    <tr>\n      <th>4</th>\n      <td>4</td>\n      <td>10000024</td>\n      <td>1</td>\n      <td>9320.26</td>\n      <td>8757.33</td>\n      <td>59484.22</td>\n      <td>10.0</td>\n      <td>2018_1</td>\n      <td>5811.0</td>\n      <td>8.0</td>\n      <td>1990-07-17</td>\n      <td>1</td>\n      <td>284070.72</td>\n      <td>15.09</td>\n      <td>18077.59</td>\n      <td>94330.36</td>\n      <td>0.04</td>\n      <td>5948.42</td>\n      <td>0.015141</td>\n      <td>3.0</td>\n    </tr>\n  </tbody>\n</table>\n</div>"
     },
     "execution_count": 65,
     "metadata": {},
     "output_type": "execute_result"
    }
   ],
   "source": [
    "# Load data\n",
    "\n",
    "df = pd.read_csv('./data/dataframes/labelled/full_period_unlabeled.csv')\n",
    "df.head()"
   ],
   "metadata": {
    "collapsed": false,
    "pycharm": {
     "name": "#%%\n"
    }
   }
  },
  {
   "cell_type": "code",
   "execution_count": 66,
   "outputs": [
    {
     "data": {
      "text/plain": "(1617211, 20)"
     },
     "execution_count": 66,
     "metadata": {},
     "output_type": "execute_result"
    }
   ],
   "source": [
    "df.shape"
   ],
   "metadata": {
    "collapsed": false,
    "pycharm": {
     "name": "#%%\n"
    }
   }
  },
  {
   "cell_type": "code",
   "execution_count": 67,
   "outputs": [
    {
     "data": {
      "text/plain": "   Registration_number  Business_area_by_EMTAK_system  All_taxes  Labor_taxes  \\\n0             10000024                              1   12126.74     11533.92   \n1             10000024                              1    8484.90      7931.42   \n2             10000024                              1   10468.75     10068.65   \n3             10000024                              1    7887.05      7751.34   \n4             10000024                              1    9320.26      8757.33   \n\n   Turnover  number_of_employees year_quarter  EMTAK_by_number  \\\n0  51486.75                  9.0       2017_1           5811.0   \n1  59869.39                  8.0       2017_2           5811.0   \n2  55895.57                  8.0       2017_3           5811.0   \n3  57334.79                  9.0       2017_4           5811.0   \n4  59484.22                 10.0       2018_1           5811.0   \n\n   Client_ID_by_Eesti_Pank Registration_date  Deletion_Date  cum_sum_turnover  \\\n0                      8.0        1990-07-17              1          51486.75   \n1                      8.0        1990-07-17              1         111356.14   \n2                      8.0        1990-07-17              1         167251.71   \n3                      8.0        1990-07-17              1         224586.50   \n4                      8.0        1990-07-17              1         284070.72   \n\n   cum_perc_turnover  combined_taxes  cum_sum_combined_taxes  revenue_growth  \\\n0               2.74        23660.66                23660.66            0.00   \n1               5.92        16416.32                40076.98            0.16   \n2               8.89        20537.40                60614.38           -0.07   \n3              11.93        15638.39                76252.77            0.03   \n4              15.09        18077.59                94330.36            0.04   \n\n   profit_per_employee  emp_growth_rate_CGR  ACE  \n0              5720.75             0.015141  3.0  \n1              7483.67             0.015141  3.0  \n2              6986.95             0.015141  3.0  \n3              6370.53             0.015141  3.0  \n4              5948.42             0.015141  3.0  ",
      "text/html": "<div>\n<style scoped>\n    .dataframe tbody tr th:only-of-type {\n        vertical-align: middle;\n    }\n\n    .dataframe tbody tr th {\n        vertical-align: top;\n    }\n\n    .dataframe thead th {\n        text-align: right;\n    }\n</style>\n<table border=\"1\" class=\"dataframe\">\n  <thead>\n    <tr style=\"text-align: right;\">\n      <th></th>\n      <th>Registration_number</th>\n      <th>Business_area_by_EMTAK_system</th>\n      <th>All_taxes</th>\n      <th>Labor_taxes</th>\n      <th>Turnover</th>\n      <th>number_of_employees</th>\n      <th>year_quarter</th>\n      <th>EMTAK_by_number</th>\n      <th>Client_ID_by_Eesti_Pank</th>\n      <th>Registration_date</th>\n      <th>Deletion_Date</th>\n      <th>cum_sum_turnover</th>\n      <th>cum_perc_turnover</th>\n      <th>combined_taxes</th>\n      <th>cum_sum_combined_taxes</th>\n      <th>revenue_growth</th>\n      <th>profit_per_employee</th>\n      <th>emp_growth_rate_CGR</th>\n      <th>ACE</th>\n    </tr>\n  </thead>\n  <tbody>\n    <tr>\n      <th>0</th>\n      <td>10000024</td>\n      <td>1</td>\n      <td>12126.74</td>\n      <td>11533.92</td>\n      <td>51486.75</td>\n      <td>9.0</td>\n      <td>2017_1</td>\n      <td>5811.0</td>\n      <td>8.0</td>\n      <td>1990-07-17</td>\n      <td>1</td>\n      <td>51486.75</td>\n      <td>2.74</td>\n      <td>23660.66</td>\n      <td>23660.66</td>\n      <td>0.00</td>\n      <td>5720.75</td>\n      <td>0.015141</td>\n      <td>3.0</td>\n    </tr>\n    <tr>\n      <th>1</th>\n      <td>10000024</td>\n      <td>1</td>\n      <td>8484.90</td>\n      <td>7931.42</td>\n      <td>59869.39</td>\n      <td>8.0</td>\n      <td>2017_2</td>\n      <td>5811.0</td>\n      <td>8.0</td>\n      <td>1990-07-17</td>\n      <td>1</td>\n      <td>111356.14</td>\n      <td>5.92</td>\n      <td>16416.32</td>\n      <td>40076.98</td>\n      <td>0.16</td>\n      <td>7483.67</td>\n      <td>0.015141</td>\n      <td>3.0</td>\n    </tr>\n    <tr>\n      <th>2</th>\n      <td>10000024</td>\n      <td>1</td>\n      <td>10468.75</td>\n      <td>10068.65</td>\n      <td>55895.57</td>\n      <td>8.0</td>\n      <td>2017_3</td>\n      <td>5811.0</td>\n      <td>8.0</td>\n      <td>1990-07-17</td>\n      <td>1</td>\n      <td>167251.71</td>\n      <td>8.89</td>\n      <td>20537.40</td>\n      <td>60614.38</td>\n      <td>-0.07</td>\n      <td>6986.95</td>\n      <td>0.015141</td>\n      <td>3.0</td>\n    </tr>\n    <tr>\n      <th>3</th>\n      <td>10000024</td>\n      <td>1</td>\n      <td>7887.05</td>\n      <td>7751.34</td>\n      <td>57334.79</td>\n      <td>9.0</td>\n      <td>2017_4</td>\n      <td>5811.0</td>\n      <td>8.0</td>\n      <td>1990-07-17</td>\n      <td>1</td>\n      <td>224586.50</td>\n      <td>11.93</td>\n      <td>15638.39</td>\n      <td>76252.77</td>\n      <td>0.03</td>\n      <td>6370.53</td>\n      <td>0.015141</td>\n      <td>3.0</td>\n    </tr>\n    <tr>\n      <th>4</th>\n      <td>10000024</td>\n      <td>1</td>\n      <td>9320.26</td>\n      <td>8757.33</td>\n      <td>59484.22</td>\n      <td>10.0</td>\n      <td>2018_1</td>\n      <td>5811.0</td>\n      <td>8.0</td>\n      <td>1990-07-17</td>\n      <td>1</td>\n      <td>284070.72</td>\n      <td>15.09</td>\n      <td>18077.59</td>\n      <td>94330.36</td>\n      <td>0.04</td>\n      <td>5948.42</td>\n      <td>0.015141</td>\n      <td>3.0</td>\n    </tr>\n  </tbody>\n</table>\n</div>"
     },
     "execution_count": 67,
     "metadata": {},
     "output_type": "execute_result"
    }
   ],
   "source": [
    "df = df.drop('Unnamed: 0', axis=1)\n",
    "df.reset_index(drop=True)\n",
    "df.head()"
   ],
   "metadata": {
    "collapsed": false,
    "pycharm": {
     "name": "#%%\n"
    }
   }
  },
  {
   "cell_type": "code",
   "execution_count": 68,
   "outputs": [
    {
     "data": {
      "text/plain": "(1617211, 19)"
     },
     "execution_count": 68,
     "metadata": {},
     "output_type": "execute_result"
    }
   ],
   "source": [
    "df.shape"
   ],
   "metadata": {
    "collapsed": false,
    "pycharm": {
     "name": "#%%\n"
    }
   }
  },
  {
   "cell_type": "code",
   "execution_count": 69,
   "outputs": [
    {
     "data": {
      "text/plain": "   Registration_number\n0             14529365\n1             14867010\n2             16071924\n3             14166980\n4             14771698",
      "text/html": "<div>\n<style scoped>\n    .dataframe tbody tr th:only-of-type {\n        vertical-align: middle;\n    }\n\n    .dataframe tbody tr th {\n        vertical-align: top;\n    }\n\n    .dataframe thead th {\n        text-align: right;\n    }\n</style>\n<table border=\"1\" class=\"dataframe\">\n  <thead>\n    <tr style=\"text-align: right;\">\n      <th></th>\n      <th>Registration_number</th>\n    </tr>\n  </thead>\n  <tbody>\n    <tr>\n      <th>0</th>\n      <td>14529365</td>\n    </tr>\n    <tr>\n      <th>1</th>\n      <td>14867010</td>\n    </tr>\n    <tr>\n      <th>2</th>\n      <td>16071924</td>\n    </tr>\n    <tr>\n      <th>3</th>\n      <td>14166980</td>\n    </tr>\n    <tr>\n      <th>4</th>\n      <td>14771698</td>\n    </tr>\n  </tbody>\n</table>\n</div>"
     },
     "execution_count": 69,
     "metadata": {},
     "output_type": "execute_result"
    }
   ],
   "source": [
    "# Create list of companies CGR in TOP 10%\n",
    "df_cgr_top = df[['Registration_number', 'emp_growth_rate_CGR']].copy(deep=True)\n",
    "df_cgr_top = df_cgr_top.drop_duplicates(keep='first')\n",
    "top = int(round(df_cgr_top.shape[0] * 0.1, 0))\n",
    "df_cgr_top = df_cgr_top.sort_values(by='emp_growth_rate_CGR', ascending=False).head(top)\n",
    "df_cgr_top = df_cgr_top.reset_index(drop=True)\n",
    "df_cgr_top = df_cgr_top.drop('emp_growth_rate_CGR', axis=1)\n",
    "df_cgr_top.head()"
   ],
   "metadata": {
    "collapsed": false,
    "pycharm": {
     "name": "#%%\n"
    }
   }
  },
  {
   "cell_type": "code",
   "execution_count": 70,
   "outputs": [
    {
     "data": {
      "text/plain": "(10878, 1)"
     },
     "execution_count": 70,
     "metadata": {},
     "output_type": "execute_result"
    }
   ],
   "source": [
    "df_cgr_top.shape"
   ],
   "metadata": {
    "collapsed": false,
    "pycharm": {
     "name": "#%%\n"
    }
   }
  },
  {
   "cell_type": "code",
   "execution_count": 71,
   "outputs": [
    {
     "data": {
      "text/plain": "   Registration_number\n0             14529365\n1             14867010\n2             16071924\n3             14166980\n4             14771698",
      "text/html": "<div>\n<style scoped>\n    .dataframe tbody tr th:only-of-type {\n        vertical-align: middle;\n    }\n\n    .dataframe tbody tr th {\n        vertical-align: top;\n    }\n\n    .dataframe thead th {\n        text-align: right;\n    }\n</style>\n<table border=\"1\" class=\"dataframe\">\n  <thead>\n    <tr style=\"text-align: right;\">\n      <th></th>\n      <th>Registration_number</th>\n    </tr>\n  </thead>\n  <tbody>\n    <tr>\n      <th>0</th>\n      <td>14529365</td>\n    </tr>\n    <tr>\n      <th>1</th>\n      <td>14867010</td>\n    </tr>\n    <tr>\n      <th>2</th>\n      <td>16071924</td>\n    </tr>\n    <tr>\n      <th>3</th>\n      <td>14166980</td>\n    </tr>\n    <tr>\n      <th>4</th>\n      <td>14771698</td>\n    </tr>\n  </tbody>\n</table>\n</div>"
     },
     "execution_count": 71,
     "metadata": {},
     "output_type": "execute_result"
    }
   ],
   "source": [
    "# Create list of TOP 10% of companies by profit_per_employee\n",
    "df_ppe_top = df[['Registration_number', 'emp_growth_rate_CGR']].copy(deep=True)\n",
    "df_ppe_top = df_ppe_top.drop_duplicates(keep='first')\n",
    "df_ppe_top = df_ppe_top.sort_values(by='emp_growth_rate_CGR', ascending=False).head(top)\n",
    "df_ppe_top = df_ppe_top.reset_index(drop=True)\n",
    "df_ppe_top = df_ppe_top.drop('emp_growth_rate_CGR', axis=1)\n",
    "df_ppe_top.head()"
   ],
   "metadata": {
    "collapsed": false,
    "pycharm": {
     "name": "#%%\n"
    }
   }
  },
  {
   "cell_type": "code",
   "execution_count": 72,
   "outputs": [
    {
     "data": {
      "text/plain": "(10878, 1)"
     },
     "execution_count": 72,
     "metadata": {},
     "output_type": "execute_result"
    }
   ],
   "source": [
    "df_ppe_top.shape"
   ],
   "metadata": {
    "collapsed": false,
    "pycharm": {
     "name": "#%%\n"
    }
   }
  },
  {
   "cell_type": "code",
   "execution_count": 73,
   "outputs": [],
   "source": [
    "# Define labelling function\n",
    "\n",
    "def add_labels(g, reg):\n",
    "\n",
    "    ex_df = pd.DataFrame(g).reset_index()\n",
    "    classifier = 0\n",
    "    E_end = list(ex_df['number_of_employees'])[-1]\n",
    "\n",
    "    # condition 1\n",
    "    mean_growth = ex_df['revenue_growth'].mean()\n",
    "    if mean_growth > 5:\n",
    "        classifier += 1\n",
    "\n",
    "    # condition 2\n",
    "    if reg in df_cgr_top.values:\n",
    "        classifier += 1\n",
    "\n",
    "    # condition 3\n",
    "    if ex_df['ACE'].mean() > 10 and E_end * 2 >= ex_df['emp_growth_rate_CGR'].mean():\n",
    "        classifier += 1\n",
    "\n",
    "    # condition 4\n",
    "    if reg in df_ppe_top.values:\n",
    "        classifier += 1\n",
    "\n",
    "    # add label according to contitions met\n",
    "    if classifier == 4:\n",
    "        ex_df['label'] = 'growing'\n",
    "    elif classifier == 0:\n",
    "        ex_df['label'] = 'failing'\n",
    "    else:\n",
    "        ex_df['label'] = 'stable'\n",
    "\n",
    "    return ex_df\n"
   ],
   "metadata": {
    "collapsed": false,
    "pycharm": {
     "name": "#%%\n"
    }
   }
  },
  {
   "cell_type": "code",
   "execution_count": 74,
   "outputs": [],
   "source": [
    "# Label the data\n",
    "df_labelled = df.groupby(\"Registration_number\").apply(lambda x: add_labels(x, x.name)).reset_index(drop=True)"
   ],
   "metadata": {
    "collapsed": false,
    "pycharm": {
     "name": "#%%\n"
    }
   }
  },
  {
   "cell_type": "code",
   "execution_count": 75,
   "outputs": [
    {
     "data": {
      "text/plain": "   Registration_number  Business_area_by_EMTAK_system  All_taxes  Labor_taxes  \\\n0             10000024                              1   12126.74     11533.92   \n1             10000024                              1    8484.90      7931.42   \n2             10000024                              1   10468.75     10068.65   \n3             10000024                              1    7887.05      7751.34   \n4             10000024                              1    9320.26      8757.33   \n\n   Turnover  number_of_employees year_quarter  EMTAK_by_number  \\\n0  51486.75                  9.0       2017_1           5811.0   \n1  59869.39                  8.0       2017_2           5811.0   \n2  55895.57                  8.0       2017_3           5811.0   \n3  57334.79                  9.0       2017_4           5811.0   \n4  59484.22                 10.0       2018_1           5811.0   \n\n   Client_ID_by_Eesti_Pank Registration_date  Deletion_Date  cum_sum_turnover  \\\n0                      8.0        1990-07-17              1          51486.75   \n1                      8.0        1990-07-17              1         111356.14   \n2                      8.0        1990-07-17              1         167251.71   \n3                      8.0        1990-07-17              1         224586.50   \n4                      8.0        1990-07-17              1         284070.72   \n\n   cum_perc_turnover  combined_taxes  cum_sum_combined_taxes  revenue_growth  \\\n0               2.74        23660.66                23660.66            0.00   \n1               5.92        16416.32                40076.98            0.16   \n2               8.89        20537.40                60614.38           -0.07   \n3              11.93        15638.39                76252.77            0.03   \n4              15.09        18077.59                94330.36            0.04   \n\n   profit_per_employee  emp_growth_rate_CGR  ACE    label  \n0              5720.75             0.015141  3.0  failing  \n1              7483.67             0.015141  3.0  failing  \n2              6986.95             0.015141  3.0  failing  \n3              6370.53             0.015141  3.0  failing  \n4              5948.42             0.015141  3.0  failing  ",
      "text/html": "<div>\n<style scoped>\n    .dataframe tbody tr th:only-of-type {\n        vertical-align: middle;\n    }\n\n    .dataframe tbody tr th {\n        vertical-align: top;\n    }\n\n    .dataframe thead th {\n        text-align: right;\n    }\n</style>\n<table border=\"1\" class=\"dataframe\">\n  <thead>\n    <tr style=\"text-align: right;\">\n      <th></th>\n      <th>Registration_number</th>\n      <th>Business_area_by_EMTAK_system</th>\n      <th>All_taxes</th>\n      <th>Labor_taxes</th>\n      <th>Turnover</th>\n      <th>number_of_employees</th>\n      <th>year_quarter</th>\n      <th>EMTAK_by_number</th>\n      <th>Client_ID_by_Eesti_Pank</th>\n      <th>Registration_date</th>\n      <th>Deletion_Date</th>\n      <th>cum_sum_turnover</th>\n      <th>cum_perc_turnover</th>\n      <th>combined_taxes</th>\n      <th>cum_sum_combined_taxes</th>\n      <th>revenue_growth</th>\n      <th>profit_per_employee</th>\n      <th>emp_growth_rate_CGR</th>\n      <th>ACE</th>\n      <th>label</th>\n    </tr>\n  </thead>\n  <tbody>\n    <tr>\n      <th>0</th>\n      <td>10000024</td>\n      <td>1</td>\n      <td>12126.74</td>\n      <td>11533.92</td>\n      <td>51486.75</td>\n      <td>9.0</td>\n      <td>2017_1</td>\n      <td>5811.0</td>\n      <td>8.0</td>\n      <td>1990-07-17</td>\n      <td>1</td>\n      <td>51486.75</td>\n      <td>2.74</td>\n      <td>23660.66</td>\n      <td>23660.66</td>\n      <td>0.00</td>\n      <td>5720.75</td>\n      <td>0.015141</td>\n      <td>3.0</td>\n      <td>failing</td>\n    </tr>\n    <tr>\n      <th>1</th>\n      <td>10000024</td>\n      <td>1</td>\n      <td>8484.90</td>\n      <td>7931.42</td>\n      <td>59869.39</td>\n      <td>8.0</td>\n      <td>2017_2</td>\n      <td>5811.0</td>\n      <td>8.0</td>\n      <td>1990-07-17</td>\n      <td>1</td>\n      <td>111356.14</td>\n      <td>5.92</td>\n      <td>16416.32</td>\n      <td>40076.98</td>\n      <td>0.16</td>\n      <td>7483.67</td>\n      <td>0.015141</td>\n      <td>3.0</td>\n      <td>failing</td>\n    </tr>\n    <tr>\n      <th>2</th>\n      <td>10000024</td>\n      <td>1</td>\n      <td>10468.75</td>\n      <td>10068.65</td>\n      <td>55895.57</td>\n      <td>8.0</td>\n      <td>2017_3</td>\n      <td>5811.0</td>\n      <td>8.0</td>\n      <td>1990-07-17</td>\n      <td>1</td>\n      <td>167251.71</td>\n      <td>8.89</td>\n      <td>20537.40</td>\n      <td>60614.38</td>\n      <td>-0.07</td>\n      <td>6986.95</td>\n      <td>0.015141</td>\n      <td>3.0</td>\n      <td>failing</td>\n    </tr>\n    <tr>\n      <th>3</th>\n      <td>10000024</td>\n      <td>1</td>\n      <td>7887.05</td>\n      <td>7751.34</td>\n      <td>57334.79</td>\n      <td>9.0</td>\n      <td>2017_4</td>\n      <td>5811.0</td>\n      <td>8.0</td>\n      <td>1990-07-17</td>\n      <td>1</td>\n      <td>224586.50</td>\n      <td>11.93</td>\n      <td>15638.39</td>\n      <td>76252.77</td>\n      <td>0.03</td>\n      <td>6370.53</td>\n      <td>0.015141</td>\n      <td>3.0</td>\n      <td>failing</td>\n    </tr>\n    <tr>\n      <th>4</th>\n      <td>10000024</td>\n      <td>1</td>\n      <td>9320.26</td>\n      <td>8757.33</td>\n      <td>59484.22</td>\n      <td>10.0</td>\n      <td>2018_1</td>\n      <td>5811.0</td>\n      <td>8.0</td>\n      <td>1990-07-17</td>\n      <td>1</td>\n      <td>284070.72</td>\n      <td>15.09</td>\n      <td>18077.59</td>\n      <td>94330.36</td>\n      <td>0.04</td>\n      <td>5948.42</td>\n      <td>0.015141</td>\n      <td>3.0</td>\n      <td>failing</td>\n    </tr>\n  </tbody>\n</table>\n</div>"
     },
     "execution_count": 75,
     "metadata": {},
     "output_type": "execute_result"
    }
   ],
   "source": [
    "df_labelled = df_labelled.drop('index', axis=1)\n",
    "df_labelled.reset_index(drop=True, inplace=True)\n",
    "df_labelled.head()"
   ],
   "metadata": {
    "collapsed": false,
    "pycharm": {
     "name": "#%%\n"
    }
   }
  },
  {
   "cell_type": "code",
   "execution_count": 76,
   "outputs": [
    {
     "data": {
      "text/plain": "         Registration_number\nlabel                       \nfailing               949157\ngrowing                 2911\nstable                665143",
      "text/html": "<div>\n<style scoped>\n    .dataframe tbody tr th:only-of-type {\n        vertical-align: middle;\n    }\n\n    .dataframe tbody tr th {\n        vertical-align: top;\n    }\n\n    .dataframe thead th {\n        text-align: right;\n    }\n</style>\n<table border=\"1\" class=\"dataframe\">\n  <thead>\n    <tr style=\"text-align: right;\">\n      <th></th>\n      <th>Registration_number</th>\n    </tr>\n    <tr>\n      <th>label</th>\n      <th></th>\n    </tr>\n  </thead>\n  <tbody>\n    <tr>\n      <th>failing</th>\n      <td>949157</td>\n    </tr>\n    <tr>\n      <th>growing</th>\n      <td>2911</td>\n    </tr>\n    <tr>\n      <th>stable</th>\n      <td>665143</td>\n    </tr>\n  </tbody>\n</table>\n</div>"
     },
     "execution_count": 76,
     "metadata": {},
     "output_type": "execute_result"
    }
   ],
   "source": [
    "# Counting how much we have in each class\n",
    "\n",
    "df_companies = df_labelled.groupby('label').count()\n",
    "df_companies = df_companies.iloc[:,0:1]\n",
    "df_companies.head()"
   ],
   "metadata": {
    "collapsed": false,
    "pycharm": {
     "name": "#%%\n"
    }
   }
  },
  {
   "cell_type": "code",
   "execution_count": 79,
   "outputs": [
    {
     "data": {
      "text/plain": "(1617211, 20)"
     },
     "execution_count": 79,
     "metadata": {},
     "output_type": "execute_result"
    }
   ],
   "source": [
    "df_labelled.shape"
   ],
   "metadata": {
    "collapsed": false,
    "pycharm": {
     "name": "#%%\n"
    }
   }
  },
  {
   "cell_type": "code",
   "execution_count": 93,
   "outputs": [
    {
     "data": {
      "text/plain": "(108784, 20)"
     },
     "execution_count": 93,
     "metadata": {},
     "output_type": "execute_result"
    }
   ],
   "source": [
    "# Get a list of unique companies\n",
    "df_companies_list = df_labelled.drop_duplicates('Registration_number')\n",
    "df_companies_list.shape"
   ],
   "metadata": {
    "collapsed": false,
    "pycharm": {
     "name": "#%%\n"
    }
   }
  },
  {
   "cell_type": "code",
   "execution_count": 95,
   "outputs": [
    {
     "data": {
      "text/plain": "         Registration_number\nlabel                       \nfailing                63306\ngrowing                  213\nstable                 45265",
      "text/html": "<div>\n<style scoped>\n    .dataframe tbody tr th:only-of-type {\n        vertical-align: middle;\n    }\n\n    .dataframe tbody tr th {\n        vertical-align: top;\n    }\n\n    .dataframe thead th {\n        text-align: right;\n    }\n</style>\n<table border=\"1\" class=\"dataframe\">\n  <thead>\n    <tr style=\"text-align: right;\">\n      <th></th>\n      <th>Registration_number</th>\n    </tr>\n    <tr>\n      <th>label</th>\n      <th></th>\n    </tr>\n  </thead>\n  <tbody>\n    <tr>\n      <th>failing</th>\n      <td>63306</td>\n    </tr>\n    <tr>\n      <th>growing</th>\n      <td>213</td>\n    </tr>\n    <tr>\n      <th>stable</th>\n      <td>45265</td>\n    </tr>\n  </tbody>\n</table>\n</div>"
     },
     "execution_count": 95,
     "metadata": {},
     "output_type": "execute_result"
    }
   ],
   "source": [
    "df_label_statistics = df_companies_list.groupby('label').count()\n",
    "df_label_statistics = df_label_statistics.iloc[:,0:1]\n",
    "df_label_statistics"
   ],
   "metadata": {
    "collapsed": false,
    "pycharm": {
     "name": "#%%\n"
    }
   }
  },
  {
   "cell_type": "code",
   "execution_count": 110,
   "outputs": [
    {
     "data": {
      "text/plain": "(0.0, 65.0)"
     },
     "execution_count": 110,
     "metadata": {},
     "output_type": "execute_result"
    },
    {
     "data": {
      "text/plain": "<Figure size 432x288 with 1 Axes>",
      "image/png": "[encoded data removed]"
     },
     "metadata": {},
     "output_type": "display_data"
    }
   ],
   "source": [
    "# Print company distribution graph\n",
    "import matplotlib.pyplot as plt\n",
    "import matplotlib.ticker as mtick\n",
    "%matplotlib inline\n",
    "plt.style.use('ggplot')\n",
    "\n",
    "colors = [ '#FF9633','#FFE333', '#93FF33']\n",
    "ax = (df_companies_list['label'].value_counts()*100.0 /len(df_companies_list)).plot(kind='bar',\n",
    "                                                                stacked = True,\n",
    "                                                                rot = 0,\n",
    "                                                                color = colors)\n",
    "ax.yaxis.set_major_formatter(mtick.PercentFormatter())\n",
    "ax.set_ylabel('% Companies')\n",
    "#ax.set_xlabel('Label')\n",
    "ax.set_ylabel('% Companies')\n",
    "ax.set_title('Labels by 4 parameters')\n",
    "\n",
    "# create a list to collect the plt.patches data\n",
    "totals = []\n",
    "\n",
    "# find the values and append to list\n",
    "for i in ax.patches:\n",
    "    totals.append(i.get_width())\n",
    "\n",
    "# set individual bar lables using above list\n",
    "total = sum(totals)\n",
    "\n",
    "for i in ax.patches:\n",
    "    # get_width pulls left or right; get_y pushes up or down\n",
    "    ax.text(i.get_x()+.1, i.get_height()+2, \\\n",
    "            str(round((i.get_height()/total), 1))+'%',\n",
    "            fontsize=12,\n",
    "            color='black')\n",
    "\n",
    "# change axe margins\n",
    "ax = plt.gca()\n",
    "ax.set_ylim([0, 65])"
   ],
   "metadata": {
    "collapsed": false,
    "pycharm": {
     "name": "#%%\n"
    }
   }
  },
  {
   "cell_type": "code",
   "execution_count": 37,
   "outputs": [],
   "source": [
    "# Splitting by timeframe and saving data\n",
    "\n",
    "df_labelled.to_csv('./data/dataframes/full_period_labeled_v2.csv')"
   ],
   "metadata": {
    "collapsed": false,
    "pycharm": {
     "name": "#%%\n"
    }
   }
  },
  {
   "cell_type": "code",
   "execution_count": 38,
   "outputs": [],
   "source": [
    "# Filter out data that is before 1st quarter of 2020\n",
    "\n",
    "df_before = df_labelled.copy(deep=True)"
   ],
   "metadata": {
    "collapsed": false,
    "pycharm": {
     "name": "#%%\n"
    }
   }
  },
  {
   "cell_type": "code",
   "execution_count": 39,
   "outputs": [],
   "source": [
    "df_before = df_before.loc[df_before.apply(lambda x: x.year_quarter in ['2017_1', '2017_2', '2017_3', '2017_4', '2018_1', '2018_2', '2018_3', '2018_4', '2019_1', '2019_2', '2019_3', '2019_4', '2020_1'], axis=1)]"
   ],
   "metadata": {
    "collapsed": false,
    "pycharm": {
     "name": "#%%\n"
    }
   }
  },
  {
   "cell_type": "code",
   "execution_count": 40,
   "outputs": [
    {
     "data": {
      "text/plain": "   Registration_number  Business_area_by_EMTAK_system  All_taxes  Labor_taxes  \\\n0             10000024                              1   12126.74     11533.92   \n1             10000024                              1    8484.90      7931.42   \n2             10000024                              1   10468.75     10068.65   \n3             10000024                              1    7887.05      7751.34   \n4             10000024                              1    9320.26      8757.33   \n\n   Turnover  number_of_employees year_quarter  EMTAK_by_number  \\\n0  51486.75                  9.0       2017_1           5811.0   \n1  59869.39                  8.0       2017_2           5811.0   \n2  55895.57                  8.0       2017_3           5811.0   \n3  57334.79                  9.0       2017_4           5811.0   \n4  59484.22                 10.0       2018_1           5811.0   \n\n   Client_ID_by_Eesti_Pank Registration_date  Deletion_Date  cum_sum_turnover  \\\n0                      8.0        1990-07-17              1          51486.75   \n1                      8.0        1990-07-17              1         111356.14   \n2                      8.0        1990-07-17              1         167251.71   \n3                      8.0        1990-07-17              1         224586.50   \n4                      8.0        1990-07-17              1         284070.72   \n\n   cum_perc_turnover  combined_taxes  cum_sum_combined_taxes  revenue_growth  \\\n0               2.74        23660.66                23660.66            0.00   \n1               5.92        16416.32                40076.98            0.16   \n2               8.89        20537.40                60614.38           -0.07   \n3              11.93        15638.39                76252.77            0.03   \n4              15.09        18077.59                94330.36            0.04   \n\n   profit_per_employee  emp_growth_rate_CGR  ACE    label  \n0              5720.75             0.015141  3.0  failing  \n1              7483.67             0.015141  3.0  failing  \n2              6986.95             0.015141  3.0  failing  \n3              6370.53             0.015141  3.0  failing  \n4              5948.42             0.015141  3.0  failing  ",
      "text/html": "<div>\n<style scoped>\n    .dataframe tbody tr th:only-of-type {\n        vertical-align: middle;\n    }\n\n    .dataframe tbody tr th {\n        vertical-align: top;\n    }\n\n    .dataframe thead th {\n        text-align: right;\n    }\n</style>\n<table border=\"1\" class=\"dataframe\">\n  <thead>\n    <tr style=\"text-align: right;\">\n      <th></th>\n      <th>Registration_number</th>\n      <th>Business_area_by_EMTAK_system</th>\n      <th>All_taxes</th>\n      <th>Labor_taxes</th>\n      <th>Turnover</th>\n      <th>number_of_employees</th>\n      <th>year_quarter</th>\n      <th>EMTAK_by_number</th>\n      <th>Client_ID_by_Eesti_Pank</th>\n      <th>Registration_date</th>\n      <th>Deletion_Date</th>\n      <th>cum_sum_turnover</th>\n      <th>cum_perc_turnover</th>\n      <th>combined_taxes</th>\n      <th>cum_sum_combined_taxes</th>\n      <th>revenue_growth</th>\n      <th>profit_per_employee</th>\n      <th>emp_growth_rate_CGR</th>\n      <th>ACE</th>\n      <th>label</th>\n    </tr>\n  </thead>\n  <tbody>\n    <tr>\n      <th>0</th>\n      <td>10000024</td>\n      <td>1</td>\n      <td>12126.74</td>\n      <td>11533.92</td>\n      <td>51486.75</td>\n      <td>9.0</td>\n      <td>2017_1</td>\n      <td>5811.0</td>\n      <td>8.0</td>\n      <td>1990-07-17</td>\n      <td>1</td>\n      <td>51486.75</td>\n      <td>2.74</td>\n      <td>23660.66</td>\n      <td>23660.66</td>\n      <td>0.00</td>\n      <td>5720.75</td>\n      <td>0.015141</td>\n      <td>3.0</td>\n      <td>failing</td>\n    </tr>\n    <tr>\n      <th>1</th>\n      <td>10000024</td>\n      <td>1</td>\n      <td>8484.90</td>\n      <td>7931.42</td>\n      <td>59869.39</td>\n      <td>8.0</td>\n      <td>2017_2</td>\n      <td>5811.0</td>\n      <td>8.0</td>\n      <td>1990-07-17</td>\n      <td>1</td>\n      <td>111356.14</td>\n      <td>5.92</td>\n      <td>16416.32</td>\n      <td>40076.98</td>\n      <td>0.16</td>\n      <td>7483.67</td>\n      <td>0.015141</td>\n      <td>3.0</td>\n      <td>failing</td>\n    </tr>\n    <tr>\n      <th>2</th>\n      <td>10000024</td>\n      <td>1</td>\n      <td>10468.75</td>\n      <td>10068.65</td>\n      <td>55895.57</td>\n      <td>8.0</td>\n      <td>2017_3</td>\n      <td>5811.0</td>\n      <td>8.0</td>\n      <td>1990-07-17</td>\n      <td>1</td>\n      <td>167251.71</td>\n      <td>8.89</td>\n      <td>20537.40</td>\n      <td>60614.38</td>\n      <td>-0.07</td>\n      <td>6986.95</td>\n      <td>0.015141</td>\n      <td>3.0</td>\n      <td>failing</td>\n    </tr>\n    <tr>\n      <th>3</th>\n      <td>10000024</td>\n      <td>1</td>\n      <td>7887.05</td>\n      <td>7751.34</td>\n      <td>57334.79</td>\n      <td>9.0</td>\n      <td>2017_4</td>\n      <td>5811.0</td>\n      <td>8.0</td>\n      <td>1990-07-17</td>\n      <td>1</td>\n      <td>224586.50</td>\n      <td>11.93</td>\n      <td>15638.39</td>\n      <td>76252.77</td>\n      <td>0.03</td>\n      <td>6370.53</td>\n      <td>0.015141</td>\n      <td>3.0</td>\n      <td>failing</td>\n    </tr>\n    <tr>\n      <th>4</th>\n      <td>10000024</td>\n      <td>1</td>\n      <td>9320.26</td>\n      <td>8757.33</td>\n      <td>59484.22</td>\n      <td>10.0</td>\n      <td>2018_1</td>\n      <td>5811.0</td>\n      <td>8.0</td>\n      <td>1990-07-17</td>\n      <td>1</td>\n      <td>284070.72</td>\n      <td>15.09</td>\n      <td>18077.59</td>\n      <td>94330.36</td>\n      <td>0.04</td>\n      <td>5948.42</td>\n      <td>0.015141</td>\n      <td>3.0</td>\n      <td>failing</td>\n    </tr>\n  </tbody>\n</table>\n</div>"
     },
     "execution_count": 40,
     "metadata": {},
     "output_type": "execute_result"
    }
   ],
   "source": [
    "df_before.head()"
   ],
   "metadata": {
    "collapsed": false,
    "pycharm": {
     "name": "#%%\n"
    }
   }
  },
  {
   "cell_type": "code",
   "execution_count": 41,
   "outputs": [
    {
     "data": {
      "text/plain": "(1069895, 20)"
     },
     "execution_count": 41,
     "metadata": {},
     "output_type": "execute_result"
    }
   ],
   "source": [
    "df_before.shape"
   ],
   "metadata": {
    "collapsed": false,
    "pycharm": {
     "name": "#%%\n"
    }
   }
  },
  {
   "cell_type": "code",
   "execution_count": 42,
   "outputs": [],
   "source": [
    "# Save acquired data into a csv\n",
    "\n",
    "df_before.to_csv(\"./data/dataframes/before_covid_labelled_v2.csv\", index=False)"
   ],
   "metadata": {
    "collapsed": false,
    "pycharm": {
     "name": "#%%\n"
    }
   }
  },
  {
   "cell_type": "code",
   "execution_count": 43,
   "outputs": [],
   "source": [
    "# Filter out data that is since 2nd quarter of 2020\n",
    "\n",
    "df_during = df_labelled.copy(deep=True)"
   ],
   "metadata": {
    "collapsed": false,
    "pycharm": {
     "name": "#%%\n"
    }
   }
  },
  {
   "cell_type": "code",
   "execution_count": 44,
   "outputs": [],
   "source": [
    "df_during = df_during.loc[df_during.apply(lambda x: x.year_quarter in ['2020_2', '2020_3', '2020_4', '2021_1', '2021_2', '2021_3'], axis=1)]"
   ],
   "metadata": {
    "collapsed": false,
    "pycharm": {
     "name": "#%%\n"
    }
   }
  },
  {
   "cell_type": "code",
   "execution_count": 45,
   "outputs": [
    {
     "data": {
      "text/plain": "    Registration_number  Business_area_by_EMTAK_system  All_taxes  \\\n13             10000024                              1   18474.78   \n14             10000024                              1   18969.94   \n15             10000024                              1   20981.29   \n16             10000024                              1   22353.85   \n17             10000024                              1   19685.75   \n\n    Labor_taxes   Turnover  number_of_employees year_quarter  EMTAK_by_number  \\\n13     10983.73  137159.52                  9.0       2020_2           5811.0   \n14     14565.42  107660.58                 10.0       2020_3           5811.0   \n15     15506.56  147818.28                 10.0       2020_4           5811.0   \n16     18034.91  140346.67                 11.0       2021_1           5811.0   \n17     18454.83  162231.81                 12.0       2021_2           5811.0   \n\n    Client_ID_by_Eesti_Pank Registration_date  Deletion_Date  \\\n13                      8.0        1990-07-17              1   \n14                      8.0        1990-07-17              1   \n15                      8.0        1990-07-17              1   \n16                      8.0        1990-07-17              1   \n17                      8.0        1990-07-17              1   \n\n    cum_sum_turnover  cum_perc_turnover  combined_taxes  \\\n13        1179457.60              62.67        29458.51   \n14        1287118.18              68.39        33535.36   \n15        1434936.46              76.25        36487.85   \n16        1575283.13              83.71        40388.76   \n17        1737514.94              92.33        38140.58   \n\n    cum_sum_combined_taxes  revenue_growth  profit_per_employee  \\\n13               350586.87            0.06             15239.95   \n14               384122.23           -0.22             10766.06   \n15               420610.08            0.37             14781.83   \n16               460998.84           -0.05             12758.79   \n17               499139.42            0.16             13519.32   \n\n    emp_growth_rate_CGR  ACE    label  \n13             0.015141  3.0  failing  \n14             0.015141  3.0  failing  \n15             0.015141  3.0  failing  \n16             0.015141  3.0  failing  \n17             0.015141  3.0  failing  ",
      "text/html": "<div>\n<style scoped>\n    .dataframe tbody tr th:only-of-type {\n        vertical-align: middle;\n    }\n\n    .dataframe tbody tr th {\n        vertical-align: top;\n    }\n\n    .dataframe thead th {\n        text-align: right;\n    }\n</style>\n<table border=\"1\" class=\"dataframe\">\n  <thead>\n    <tr style=\"text-align: right;\">\n      <th></th>\n      <th>Registration_number</th>\n      <th>Business_area_by_EMTAK_system</th>\n      <th>All_taxes</th>\n      <th>Labor_taxes</th>\n      <th>Turnover</th>\n      <th>number_of_employees</th>\n      <th>year_quarter</th>\n      <th>EMTAK_by_number</th>\n      <th>Client_ID_by_Eesti_Pank</th>\n      <th>Registration_date</th>\n      <th>Deletion_Date</th>\n      <th>cum_sum_turnover</th>\n      <th>cum_perc_turnover</th>\n      <th>combined_taxes</th>\n      <th>cum_sum_combined_taxes</th>\n      <th>revenue_growth</th>\n      <th>profit_per_employee</th>\n      <th>emp_growth_rate_CGR</th>\n      <th>ACE</th>\n      <th>label</th>\n    </tr>\n  </thead>\n  <tbody>\n    <tr>\n      <th>13</th>\n      <td>10000024</td>\n      <td>1</td>\n      <td>18474.78</td>\n      <td>10983.73</td>\n      <td>137159.52</td>\n      <td>9.0</td>\n      <td>2020_2</td>\n      <td>5811.0</td>\n      <td>8.0</td>\n      <td>1990-07-17</td>\n      <td>1</td>\n      <td>1179457.60</td>\n      <td>62.67</td>\n      <td>29458.51</td>\n      <td>350586.87</td>\n      <td>0.06</td>\n      <td>15239.95</td>\n      <td>0.015141</td>\n      <td>3.0</td>\n      <td>failing</td>\n    </tr>\n    <tr>\n      <th>14</th>\n      <td>10000024</td>\n      <td>1</td>\n      <td>18969.94</td>\n      <td>14565.42</td>\n      <td>107660.58</td>\n      <td>10.0</td>\n      <td>2020_3</td>\n      <td>5811.0</td>\n      <td>8.0</td>\n      <td>1990-07-17</td>\n      <td>1</td>\n      <td>1287118.18</td>\n      <td>68.39</td>\n      <td>33535.36</td>\n      <td>384122.23</td>\n      <td>-0.22</td>\n      <td>10766.06</td>\n      <td>0.015141</td>\n      <td>3.0</td>\n      <td>failing</td>\n    </tr>\n    <tr>\n      <th>15</th>\n      <td>10000024</td>\n      <td>1</td>\n      <td>20981.29</td>\n      <td>15506.56</td>\n      <td>147818.28</td>\n      <td>10.0</td>\n      <td>2020_4</td>\n      <td>5811.0</td>\n      <td>8.0</td>\n      <td>1990-07-17</td>\n      <td>1</td>\n      <td>1434936.46</td>\n      <td>76.25</td>\n      <td>36487.85</td>\n      <td>420610.08</td>\n      <td>0.37</td>\n      <td>14781.83</td>\n      <td>0.015141</td>\n      <td>3.0</td>\n      <td>failing</td>\n    </tr>\n    <tr>\n      <th>16</th>\n      <td>10000024</td>\n      <td>1</td>\n      <td>22353.85</td>\n      <td>18034.91</td>\n      <td>140346.67</td>\n      <td>11.0</td>\n      <td>2021_1</td>\n      <td>5811.0</td>\n      <td>8.0</td>\n      <td>1990-07-17</td>\n      <td>1</td>\n      <td>1575283.13</td>\n      <td>83.71</td>\n      <td>40388.76</td>\n      <td>460998.84</td>\n      <td>-0.05</td>\n      <td>12758.79</td>\n      <td>0.015141</td>\n      <td>3.0</td>\n      <td>failing</td>\n    </tr>\n    <tr>\n      <th>17</th>\n      <td>10000024</td>\n      <td>1</td>\n      <td>19685.75</td>\n      <td>18454.83</td>\n      <td>162231.81</td>\n      <td>12.0</td>\n      <td>2021_2</td>\n      <td>5811.0</td>\n      <td>8.0</td>\n      <td>1990-07-17</td>\n      <td>1</td>\n      <td>1737514.94</td>\n      <td>92.33</td>\n      <td>38140.58</td>\n      <td>499139.42</td>\n      <td>0.16</td>\n      <td>13519.32</td>\n      <td>0.015141</td>\n      <td>3.0</td>\n      <td>failing</td>\n    </tr>\n  </tbody>\n</table>\n</div>"
     },
     "execution_count": 45,
     "metadata": {},
     "output_type": "execute_result"
    }
   ],
   "source": [
    "df_during.head()"
   ],
   "metadata": {
    "collapsed": false,
    "pycharm": {
     "name": "#%%\n"
    }
   }
  },
  {
   "cell_type": "code",
   "execution_count": 46,
   "outputs": [
    {
     "data": {
      "text/plain": "(547316, 20)"
     },
     "execution_count": 46,
     "metadata": {},
     "output_type": "execute_result"
    }
   ],
   "source": [
    "df_during.shape"
   ],
   "metadata": {
    "collapsed": false,
    "pycharm": {
     "name": "#%%\n"
    }
   }
  },
  {
   "cell_type": "code",
   "execution_count": 47,
   "outputs": [],
   "source": [
    "# Save acquired data into a csv\n",
    "\n",
    "df_during.to_csv(\"./data/dataframes/during_covid_labelled_v2.csv\", index=False)"
   ],
   "metadata": {
    "collapsed": false,
    "pycharm": {
     "name": "#%%\n"
    }
   }
  },
  {
   "cell_type": "code",
   "execution_count": 48,
   "outputs": [],
   "source": [
    "# View best performers\n",
    "\n",
    "df_review = df_labelled[df_labelled['label']=='growing']"
   ],
   "metadata": {
    "collapsed": false,
    "pycharm": {
     "name": "#%%\n"
    }
   }
  },
  {
   "cell_type": "code",
   "execution_count": 53,
   "outputs": [
    {
     "data": {
      "text/plain": "array([10002394, 10045653, 10242313, 10261888, 10333501, 10335003,\n       10541122, 10629868, 10708409, 10817713, 10827153, 10842177,\n       10861909, 10903973, 10926454, 10941086, 10964710, 11168854,\n       11250958, 11474646, 11481209, 11517634, 11663152, 11668037,\n       11724994, 11894130, 11935774, 12083348, 12182222, 12207226,\n       12223685, 12248780, 12271537, 12308234, 12309915, 12315753,\n       12330211, 12334812, 12339620, 12378198, 12383236, 12391997,\n       12441488, 12449797, 12473809, 12535031, 12552561, 12593212,\n       12600283, 12638966, 12649579, 12667399, 12680371, 12734109,\n       12755442, 12759598, 12798799, 12800510, 12824077, 12847026,\n       12853191, 12858159, 12869341, 12871869, 12876200, 12879718,\n       12916046, 12916617, 12918045, 12918157, 12931206, 12932789,\n       12963593, 12973469, 12982161, 12989482, 12993265, 14021307,\n       14024257, 14027391, 14032953, 14034801, 14047399, 14069314,\n       14082314, 14083231, 14094795, 14103554, 14110442, 14114233,\n       14120720, 14125515, 14125768, 14131711, 14135867, 14137798,\n       14138297, 14151814, 14152104, 14164188, 14168654, 14180709,\n       14187166, 14194522, 14203959, 14214839, 14219268, 14219452,\n       14221503, 14229700, 14230364, 14231186, 14235600, 14238403,\n       14245082, 14249111, 14254425, 14256269, 14265989, 14268829,\n       14281178, 14287502, 14288039, 14299907, 14301076, 14303431,\n       14305105, 14308859, 14320990, 14332027, 14348020, 14362511,\n       14362936, 14366213, 14372076, 14372372, 14372751, 14387416,\n       14398041, 14412730, 14412829, 14419300, 14420450, 14424376,\n       14428575, 14429764, 14442606, 14490433, 14490634, 14491444,\n       14492018, 14494342, 14496312, 14504477, 14529365, 14532752,\n       14542710, 14547765, 14562948, 14563646, 14568218, 14578748,\n       14582922, 14600672, 14601200, 14601476, 14601571, 14613999,\n       14614148, 14620746, 14655466, 14669735, 14674179, 14694153,\n       14712655, 14714973, 14717109, 14717492, 14717865, 14720100,\n       14726456, 14736259, 14737069, 14747085, 14758829, 14760223,\n       14761978, 14766214, 14771698, 14789592, 14791577, 14819235,\n       14819531, 14821628, 14821769, 14859938, 14867010, 14873080,\n       14883440, 14905443, 14918262, 14939347, 14957747, 14974639,\n       14979789, 16004359, 16013252, 16036141, 16039317, 16065384,\n       16071924, 16077430, 16097332])"
     },
     "execution_count": 53,
     "metadata": {},
     "output_type": "execute_result"
    }
   ],
   "source": [
    "df_review.Registration_number.unique()"
   ],
   "metadata": {
    "collapsed": false,
    "pycharm": {
     "name": "#%%\n"
    }
   }
  },
  {
   "cell_type": "code",
   "execution_count": 54,
   "outputs": [
    {
     "data": {
      "text/plain": "     Registration_number  Business_area_by_EMTAK_system  All_taxes  \\\n971             10002394                              1   23838.37   \n972             10002394                              1   54916.22   \n973             10002394                              1   42641.80   \n974             10002394                              1   47919.49   \n975             10002394                              1   53800.33   \n\n     Labor_taxes   Turnover  number_of_employees year_quarter  \\\n971     25035.72  235898.93                 11.0       2017_1   \n972     38283.22  236399.19                 11.0       2017_2   \n973     45156.59  193430.82                 12.0       2017_3   \n974     49831.88  174620.46                 11.0       2017_4   \n975     37668.69  604322.82                 11.0       2018_1   \n\n     EMTAK_by_number  Client_ID_by_Eesti_Pank Registration_date  \\\n971           5911.0                      8.0        1995-11-16   \n972           5911.0                      8.0        1995-11-16   \n973           5911.0                      8.0        1995-11-16   \n974           5911.0                      8.0        1995-11-16   \n975           5911.0                      8.0        1995-11-16   \n\n     Deletion_Date  cum_sum_turnover  cum_perc_turnover  combined_taxes  \\\n971              1         235898.93               1.03        48874.09   \n972              1         472298.12               2.07        93199.44   \n973              1         665728.94               2.91        87798.39   \n974              1         840349.40               3.68        97751.37   \n975              1        1444672.22               6.32        91469.02   \n\n     cum_sum_combined_taxes  revenue_growth  profit_per_employee  \\\n971                48874.09            0.00             21445.36   \n972               142073.53            0.00             21490.84   \n973               229871.92           -0.18             16119.24   \n974               327623.29           -0.10             15874.59   \n975               419092.31            2.46             54938.44   \n\n     emp_growth_rate_CGR   ACE    label  \n971              0.04321  14.0  growing  \n972              0.04321  14.0  growing  \n973              0.04321  14.0  growing  \n974              0.04321  14.0  growing  \n975              0.04321  14.0  growing  ",
      "text/html": "<div>\n<style scoped>\n    .dataframe tbody tr th:only-of-type {\n        vertical-align: middle;\n    }\n\n    .dataframe tbody tr th {\n        vertical-align: top;\n    }\n\n    .dataframe thead th {\n        text-align: right;\n    }\n</style>\n<table border=\"1\" class=\"dataframe\">\n  <thead>\n    <tr style=\"text-align: right;\">\n      <th></th>\n      <th>Registration_number</th>\n      <th>Business_area_by_EMTAK_system</th>\n      <th>All_taxes</th>\n      <th>Labor_taxes</th>\n      <th>Turnover</th>\n      <th>number_of_employees</th>\n      <th>year_quarter</th>\n      <th>EMTAK_by_number</th>\n      <th>Client_ID_by_Eesti_Pank</th>\n      <th>Registration_date</th>\n      <th>Deletion_Date</th>\n      <th>cum_sum_turnover</th>\n      <th>cum_perc_turnover</th>\n      <th>combined_taxes</th>\n      <th>cum_sum_combined_taxes</th>\n      <th>revenue_growth</th>\n      <th>profit_per_employee</th>\n      <th>emp_growth_rate_CGR</th>\n      <th>ACE</th>\n      <th>label</th>\n    </tr>\n  </thead>\n  <tbody>\n    <tr>\n      <th>971</th>\n      <td>10002394</td>\n      <td>1</td>\n      <td>23838.37</td>\n      <td>25035.72</td>\n      <td>235898.93</td>\n      <td>11.0</td>\n      <td>2017_1</td>\n      <td>5911.0</td>\n      <td>8.0</td>\n      <td>1995-11-16</td>\n      <td>1</td>\n      <td>235898.93</td>\n      <td>1.03</td>\n      <td>48874.09</td>\n      <td>48874.09</td>\n      <td>0.00</td>\n      <td>21445.36</td>\n      <td>0.04321</td>\n      <td>14.0</td>\n      <td>growing</td>\n    </tr>\n    <tr>\n      <th>972</th>\n      <td>10002394</td>\n      <td>1</td>\n      <td>54916.22</td>\n      <td>38283.22</td>\n      <td>236399.19</td>\n      <td>11.0</td>\n      <td>2017_2</td>\n      <td>5911.0</td>\n      <td>8.0</td>\n      <td>1995-11-16</td>\n      <td>1</td>\n      <td>472298.12</td>\n      <td>2.07</td>\n      <td>93199.44</td>\n      <td>142073.53</td>\n      <td>0.00</td>\n      <td>21490.84</td>\n      <td>0.04321</td>\n      <td>14.0</td>\n      <td>growing</td>\n    </tr>\n    <tr>\n      <th>973</th>\n      <td>10002394</td>\n      <td>1</td>\n      <td>42641.80</td>\n      <td>45156.59</td>\n      <td>193430.82</td>\n      <td>12.0</td>\n      <td>2017_3</td>\n      <td>5911.0</td>\n      <td>8.0</td>\n      <td>1995-11-16</td>\n      <td>1</td>\n      <td>665728.94</td>\n      <td>2.91</td>\n      <td>87798.39</td>\n      <td>229871.92</td>\n      <td>-0.18</td>\n      <td>16119.24</td>\n      <td>0.04321</td>\n      <td>14.0</td>\n      <td>growing</td>\n    </tr>\n    <tr>\n      <th>974</th>\n      <td>10002394</td>\n      <td>1</td>\n      <td>47919.49</td>\n      <td>49831.88</td>\n      <td>174620.46</td>\n      <td>11.0</td>\n      <td>2017_4</td>\n      <td>5911.0</td>\n      <td>8.0</td>\n      <td>1995-11-16</td>\n      <td>1</td>\n      <td>840349.40</td>\n      <td>3.68</td>\n      <td>97751.37</td>\n      <td>327623.29</td>\n      <td>-0.10</td>\n      <td>15874.59</td>\n      <td>0.04321</td>\n      <td>14.0</td>\n      <td>growing</td>\n    </tr>\n    <tr>\n      <th>975</th>\n      <td>10002394</td>\n      <td>1</td>\n      <td>53800.33</td>\n      <td>37668.69</td>\n      <td>604322.82</td>\n      <td>11.0</td>\n      <td>2018_1</td>\n      <td>5911.0</td>\n      <td>8.0</td>\n      <td>1995-11-16</td>\n      <td>1</td>\n      <td>1444672.22</td>\n      <td>6.32</td>\n      <td>91469.02</td>\n      <td>419092.31</td>\n      <td>2.46</td>\n      <td>54938.44</td>\n      <td>0.04321</td>\n      <td>14.0</td>\n      <td>growing</td>\n    </tr>\n  </tbody>\n</table>\n</div>"
     },
     "execution_count": 54,
     "metadata": {},
     "output_type": "execute_result"
    }
   ],
   "source": [
    "df_review.head()"
   ],
   "metadata": {
    "collapsed": false,
    "pycharm": {
     "name": "#%%\n"
    }
   }
  },
  {
   "cell_type": "code",
   "execution_count": 56,
   "outputs": [
    {
     "data": {
      "text/plain": "Registration_number               213\nBusiness_area_by_EMTAK_system      20\nAll_taxes                        2571\nLabor_taxes                      2617\nTurnover                         2462\nnumber_of_employees               174\nyear_quarter                       19\nEMTAK_by_number                    97\nClient_ID_by_Eesti_Pank             3\nRegistration_date                 195\nDeletion_Date                       2\ncum_sum_turnover                 2488\ncum_perc_turnover                1939\ncombined_taxes                   2759\ncum_sum_combined_taxes           2868\nrevenue_growth                    773\nprofit_per_employee              2469\nemp_growth_rate_CGR               200\nACE                                53\nlabel                               1\ndtype: int64"
     },
     "execution_count": 56,
     "metadata": {},
     "output_type": "execute_result"
    }
   ],
   "source": [
    "df_review.nunique()"
   ],
   "metadata": {
    "collapsed": false,
    "pycharm": {
     "name": "#%%\n"
    }
   }
  },
  {
   "cell_type": "code",
   "execution_count": 57,
   "outputs": [
    {
     "data": {
      "text/plain": "array(['1995-11-16', '1990-07-28', '1997-07-30', '1992-01-17',\n       '1995-02-21', '1997-12-08', '1999-03-10', '2000-03-22',\n       '2000-11-03', '2001-12-31', '2002-01-15', '2002-02-07',\n       '2002-04-22', '2002-10-31', '2003-03-13', '2003-04-15',\n       '2003-09-02', '2005-09-30', '2006-04-27', '2008-03-06',\n       '2008-04-04', '2008-07-18', '2009-06-01', '2009-06-10',\n       '2009-09-25', '2010-02-12', '2010-05-05', '2011-03-30',\n       '2011-10-26', '2011-12-19', '2012-01-23', '2012-03-14',\n       '2012-04-23', '2012-06-29', '2012-07-03', '2012-07-16',\n       '2012-08-17', '2012-08-28', '2012-09-06', '2012-11-13',\n       '2012-11-26', '2012-12-13', '2013-03-20', '2013-04-05',\n       '2013-05-15', '2013-09-11', '2013-10-14', '2014-01-06',\n       '2014-01-17', '2014-04-02', '2014-04-22', '2014-05-28',\n       '2014-06-27', '2014-10-10', '2014-11-19', '2014-11-26',\n       '2015-02-11', '2015-02-16', '2015-03-27', '2015-05-07',\n       '2015-05-20', '2015-05-29', '2015-06-25', '2015-06-30',\n       '2015-07-08', '2015-07-15', '2015-09-21', '2015-09-22',\n       '2015-09-23', '2015-10-16', '2015-10-20', '2015-12-15',\n       '2016-01-06', '2016-01-21', '2016-02-03', '2016-02-10',\n       '2016-03-28', '2016-04-01', '2016-04-06', '2016-04-15',\n       '2016-04-19', '2016-05-11', '2016-06-20', '2016-07-15',\n       '2016-07-18', '2016-08-10', '2016-08-26', '2016-09-08',\n       '2016-09-14', '2016-09-26', '2016-10-03', '2016-10-12',\n       '2016-10-18', '2016-10-21', '2016-11-15', nan, '2016-12-14',\n       '2017-01-06', '2017-01-18', '2017-01-30', '2017-02-14',\n       '2017-03-03', '2017-03-10', '2017-03-15', '2017-03-28',\n       '2017-03-29', '2017-03-30', '2017-04-06', '2017-04-10',\n       '2017-04-21', '2017-04-26', '2017-05-05', '2017-05-09',\n       '2017-05-25', '2017-05-30', '2017-06-21', '2017-07-03',\n       '2017-07-25', '2017-07-26', '2017-07-31', '2017-08-02',\n       '2017-08-09', '2017-08-29', '2017-09-13', '2017-10-09',\n       '2017-10-31', '2017-11-07', '2017-11-16', '2017-12-11',\n       '2017-12-29', '2018-01-22', '2018-01-31', '2018-02-01',\n       '2018-02-07', '2018-02-13', '2018-02-14', '2018-03-06',\n       '2018-05-17', '2018-05-18', '2018-05-21', '2018-05-24',\n       '2018-05-28', '2018-06-08', '2018-07-19', '2018-07-25',\n       '2018-08-10', '2018-08-21', '2018-09-10', '2018-09-11',\n       '2018-09-17', '2018-10-02', '2018-10-09', '2018-11-05',\n       '2018-11-06', '2018-11-07', '2018-11-26', '2018-12-05',\n       '2019-02-05', '2019-02-26', '2019-03-04', '2019-04-01',\n       '2019-04-26', '2019-04-30', '2019-05-06', '2019-05-08',\n       '2019-05-20', '2019-06-03', '2019-06-04', '2019-06-19',\n       '2019-07-09', '2019-07-11', '2019-07-15', '2019-07-22',\n       '2019-07-30', '2019-08-26', '2019-08-28', '2019-10-04',\n       '2019-10-08', '2019-12-02', '2019-12-11', '2019-12-20',\n       '2020-01-08', '2020-02-05', '2020-02-21', '2020-03-18',\n       '2020-04-24', '2020-05-19', '2020-05-28', '2020-07-08',\n       '2020-07-21', '2020-08-25', '2020-08-28', '2020-09-30',\n       '2020-10-08', '2020-10-16', '2020-11-13'], dtype=object)"
     },
     "execution_count": 57,
     "metadata": {},
     "output_type": "execute_result"
    }
   ],
   "source": [
    "# List of company establishment dates\n",
    "df_review.Registration_date.unique()"
   ],
   "metadata": {
    "collapsed": false,
    "pycharm": {
     "name": "#%%\n"
    }
   }
  },
  {
   "cell_type": "code",
   "execution_count": null,
   "outputs": [],
   "source": [],
   "metadata": {
    "collapsed": false,
    "pycharm": {
     "name": "#%%\n"
    }
   }
  }
 ],
 "metadata": {
  "kernelspec": {
   "display_name": "Python 3",
   "language": "python",
   "name": "python3"
  },
  "language_info": {
   "codemirror_mode": {
    "name": "ipython",
    "version": 2
   },
   "file_extension": ".py",
   "mimetype": "text/x-python",
   "name": "python",
   "nbconvert_exporter": "python",
   "pygments_lexer": "ipython2",
   "version": "2.7.6"
  }
 },
 "nbformat": 4,
 "nbformat_minor": 0
}
{
 "cells": [
  {
   "cell_type": "code",
   "execution_count": 1,
   "metadata": {
    "pycharm": {
     "name": "#%%\n"
    },
    "tags": []
   },
   "outputs": [],
   "source": [
    "# import libraries\n",
    "import pandas as pd\n",
    "import glob\n",
    "import os\n",
    "import numpy as np"
   ]
  },
  {
   "cell_type": "markdown",
   "metadata": {
    "pycharm": {
     "name": "#%% md\n"
    },
    "tags": []
   },
   "source": [
    " 1. Read and combine all csv files"
   ]
  },
  {
   "cell_type": "code",
   "execution_count": 2,
   "metadata": {
    "pycharm": {
     "name": "#%%\n"
    }
   },
   "outputs": [
    {
     "name": "stderr",
     "output_type": "stream",
     "text": [
      "/Library/Frameworks/Python.framework/Versions/3.8/lib/python3.8/site-packages/IPython/core/interactiveshell.py:3444: DtypeWarning: Columns (0) have mixed types.Specify dtype option on import or set low_memory=False.\n",
      "  exec(code_obj, self.user_global_ns, self.user_ns)\n"
     ]
    }
   ],
   "source": [
    "os.chdir('./data/csv')\n",
    "# Read all csv filenames and combine a list of them\n",
    "filenames =  [i for i in glob.glob('*.{}'.format('csv'))]\n",
    "# Sort filenames in list to ensure dates are in order\n",
    "filenames = sorted(filenames)\n",
    "\n",
    "# Read first file as a reference table and format features\n",
    "df = pd.read_csv(filenames[0])\n",
    "year = str(filenames[0]).split(\"_\")[2]\n",
    "quarter = str(filenames[0]).split(\"_\")[3].replace('iv', '4').replace('iii', '3').replace('ii', '2').replace('i','1')\n",
    "filenames.pop(0)\n",
    "df['year_quarter'] = str(year)+\"_\"+str(quarter)\n",
    "df['Registration_number'] = df['Registration_number'].astype(str)\n",
    "#df['Registration_number'] = pd.to_numeric(df['Registration_number'])"
   ]
  },
  {
   "cell_type": "code",
   "execution_count": 3,
   "metadata": {
    "pycharm": {
     "name": "#%%\n"
    }
   },
   "outputs": [
    {
     "name": "stdout",
     "output_type": "stream",
     "text": [
      "<class 'pandas.core.frame.DataFrame'>\n",
      "RangeIndex: 121846 entries, 0 to 121845\n",
      "Data columns (total 11 columns):\n",
      " #   Column                         Non-Null Count   Dtype  \n",
      "---  ------                         --------------   -----  \n",
      " 0   Registration_number            121846 non-null  object \n",
      " 1   Name                           121846 non-null  object \n",
      " 2   Type                           121846 non-null  object \n",
      " 3   Registered_for_VAT             121846 non-null  object \n",
      " 4   County                         118774 non-null  object \n",
      " 5   Business_area_by_EMTAK_system  117569 non-null  object \n",
      " 6   All_taxes                      103243 non-null  float64\n",
      " 7   Labor_taxes                    103243 non-null  float64\n",
      " 8   Turnover                       84940 non-null   float64\n",
      " 9   number_of_employees            81075 non-null   float64\n",
      " 10  year_quarter                   121846 non-null  object \n",
      "dtypes: float64(4), object(7)\n",
      "memory usage: 10.2+ MB\n"
     ]
    },
    {
     "data": {
      "text/plain": "  Registration_number                                           Name  \\\n0             1052855                                   SIIRI ÜHISTU   \n1             1294104  LASNAMÄE 52D, GARAAŽIÜHISTU (LIKVIDEERIMISEL)   \n2             1834405     ED. VILDE 53, GARAAŽIEHITAJATE KOOPERATIIV   \n3             1834411                       TOMP, GARAAŽIKOOPERATIIV   \n4             1834517                       GARAAŽIKOOPERATIIV NR 12   \n\n       Type Registered_for_VAT         County Business_area_by_EMTAK_system  \\\n0  Äriühing                 ei  Harju maakond                           NaN   \n1  Äriühing                 ei  Harju maakond                           NaN   \n2  Äriühing                 ei  Harju maakond                           NaN   \n3  Äriühing                 ei  Harju maakond                           NaN   \n4  Äriühing                 ei  Harju maakond       KINNISVARAALANE TEGEVUS   \n\n   All_taxes  Labor_taxes  Turnover  number_of_employees year_quarter  \n0      52.75          0.0       NaN                  NaN       2017_1  \n1     182.00          0.0       NaN                  NaN       2017_1  \n2      64.02          0.0       NaN                  NaN       2017_1  \n3    2285.00          0.0       NaN                  NaN       2017_1  \n4     144.00          0.0       NaN                  NaN       2017_1  ",
      "text/html": "<div>\n<style scoped>\n    .dataframe tbody tr th:only-of-type {\n        vertical-align: middle;\n    }\n\n    .dataframe tbody tr th {\n        vertical-align: top;\n    }\n\n    .dataframe thead th {\n        text-align: right;\n    }\n</style>\n<table border=\"1\" class=\"dataframe\">\n  <thead>\n    <tr style=\"text-align: right;\">\n      <th></th>\n      <th>Registration_number</th>\n      <th>Name</th>\n      <th>Type</th>\n      <th>Registered_for_VAT</th>\n      <th>County</th>\n      <th>Business_area_by_EMTAK_system</th>\n      <th>All_taxes</th>\n      <th>Labor_taxes</th>\n      <th>Turnover</th>\n      <th>number_of_employees</th>\n      <th>year_quarter</th>\n    </tr>\n  </thead>\n  <tbody>\n    <tr>\n      <th>0</th>\n      <td>1052855</td>\n      <td>SIIRI ÜHISTU</td>\n      <td>Äriühing</td>\n      <td>ei</td>\n      <td>Harju maakond</td>\n      <td>NaN</td>\n      <td>52.75</td>\n      <td>0.0</td>\n      <td>NaN</td>\n      <td>NaN</td>\n      <td>2017_1</td>\n    </tr>\n    <tr>\n      <th>1</th>\n      <td>1294104</td>\n      <td>LASNAMÄE 52D, GARAAŽIÜHISTU (LIKVIDEERIMISEL)</td>\n      <td>Äriühing</td>\n      <td>ei</td>\n      <td>Harju maakond</td>\n      <td>NaN</td>\n      <td>182.00</td>\n      <td>0.0</td>\n      <td>NaN</td>\n      <td>NaN</td>\n      <td>2017_1</td>\n    </tr>\n    <tr>\n      <th>2</th>\n      <td>1834405</td>\n      <td>ED. VILDE 53, GARAAŽIEHITAJATE KOOPERATIIV</td>\n      <td>Äriühing</td>\n      <td>ei</td>\n      <td>Harju maakond</td>\n      <td>NaN</td>\n      <td>64.02</td>\n      <td>0.0</td>\n      <td>NaN</td>\n      <td>NaN</td>\n      <td>2017_1</td>\n    </tr>\n    <tr>\n      <th>3</th>\n      <td>1834411</td>\n      <td>TOMP, GARAAŽIKOOPERATIIV</td>\n      <td>Äriühing</td>\n      <td>ei</td>\n      <td>Harju maakond</td>\n      <td>NaN</td>\n      <td>2285.00</td>\n      <td>0.0</td>\n      <td>NaN</td>\n      <td>NaN</td>\n      <td>2017_1</td>\n    </tr>\n    <tr>\n      <th>4</th>\n      <td>1834517</td>\n      <td>GARAAŽIKOOPERATIIV NR 12</td>\n      <td>Äriühing</td>\n      <td>ei</td>\n      <td>Harju maakond</td>\n      <td>KINNISVARAALANE TEGEVUS</td>\n      <td>144.00</td>\n      <td>0.0</td>\n      <td>NaN</td>\n      <td>NaN</td>\n      <td>2017_1</td>\n    </tr>\n  </tbody>\n</table>\n</div>"
     },
     "execution_count": 3,
     "metadata": {},
     "output_type": "execute_result"
    }
   ],
   "source": [
    "df.info()\n",
    "df.head()"
   ]
  },
  {
   "cell_type": "code",
   "execution_count": 4,
   "metadata": {
    "pycharm": {
     "name": "#%%\n"
    }
   },
   "outputs": [
    {
     "name": "stdout",
     "output_type": "stream",
     "text": [
      "tasutud_maksud_2017_ii_kv_05_07_2017.xlsx.csv\n"
     ]
    },
    {
     "name": "stderr",
     "output_type": "stream",
     "text": [
      "/Library/Frameworks/Python.framework/Versions/3.8/lib/python3.8/site-packages/IPython/core/interactiveshell.py:3444: DtypeWarning: Columns (0) have mixed types.Specify dtype option on import or set low_memory=False.\n",
      "  exec(code_obj, self.user_global_ns, self.user_ns)\n"
     ]
    },
    {
     "name": "stdout",
     "output_type": "stream",
     "text": [
      "tasutud_maksud_2017_iii_kv_09.10.2017.xlsx.csv\n",
      "tasutud_maksud_2017_iv_kv_10.01.2018.xlsx.csv\n",
      "tasutud_maksud_2018_i_kvartal.xlsx.csv\n",
      "tasutud_maksud_2018_ii_kvartal.xlsx.csv\n",
      "tasutud_maksud_2018_iii_kvartal.xlsx.csv\n",
      "tasutud_maksud_2018_iv_kvartal.xlsx.csv\n",
      "tasutud_maksud_2019_i_kvartal.xlsx.csv\n",
      "tasutud_maksud_2019_ii_kvartal.xlsx.csv\n",
      "tasutud_maksud_2019_iii_kvartal.xlsx.csv\n",
      "tasutud_maksud_2019_iv_kvartal.xlsx.csv\n",
      "tasutud_maksud_2020_i_kvartal.xlsx.csv\n",
      "tasutud_maksud_2020_ii_kvartal.xlsx.csv\n",
      "tasutud_maksud_2020_iii_kvartal.xlsx.csv\n",
      "tasutud_maksud_2020_iv_kvartal.xlsx.csv\n",
      "tasutud_maksud_2021_i_kvartal.xlsx.csv\n",
      "tasutud_maksud_2021_ii_kvartal.xlsx.csv\n",
      "tasutud_maksud_2021_iii_kvartal.xlsx.csv\n"
     ]
    }
   ],
   "source": [
    "# Read all other csv files and add relevant data to the initial dataframe\n",
    "#for i in range (1, len(filenames)):\n",
    "for f in filenames:\n",
    "    print(f)\n",
    "    # Extract period information\n",
    "    year = str(f).split(\"_\")[2]\n",
    "    quarter = str(f).split(\"_\")[3].replace('iv', '4').replace('iii', '3').replace('ii', '2').replace('i','1')\n",
    "    df_new = pd.read_csv(f)\n",
    "    #df_new = df_new.rename(columns={'Registrikood': 'Registration_number',\\\n",
    "    #                                    'All_taxes': 'All_taxes'+'_'+str(year)+'_'+str(quarter),\\\n",
    "    #                                    'Labor_taxes': 'Labor_taxes'+'_'+str(year)+'_'+str(quarter), \\\n",
    "    #                                    'Turnover': 'Turnover'+'_'+str(year)+'_'+str(quarter),\\\n",
    "    #                                    'number_of_employees': 'number_of_employees'+'_'+str(year)+'_'+str(quarter)})\n",
    "    # Loose columns that are redundant (repeating)\n",
    "    #df_new.drop(df_new.columns[[1,2,3,4,5]], axis = 1, inplace = True)\n",
    "    #df_new = df_new.iloc[: , :-1]\n",
    "    #df['Registration_number'] = df['Registration_number'].astype(str)\n",
    "    df['year_quarter'] = str(year)+\"_\"+str(quarter)\n",
    "    df_new['Registration_number'] = df_new['Registration_number'].astype(str)\n",
    "    #df_new['Registration_number'] = pd.to_numeric(df_new['Registration_number'])\n",
    "    df.reset_index(drop=True)\n",
    "    #df.applymap(type)\n",
    "    #df_new.applymap(type)\n",
    "    #df = pd.merge(left= df, right=df_new, how='outer', left_on= 'Registration_number', right_on='Registration_number')\n",
    "    #df.set_index('Registration_number').join(df_new.set_index('Registration_number'))\n",
    "    df = pd.concat([df, df_new])"
   ]
  },
  {
   "cell_type": "code",
   "execution_count": 5,
   "metadata": {
    "pycharm": {
     "name": "#%%\n"
    }
   },
   "outputs": [
    {
     "name": "stdout",
     "output_type": "stream",
     "text": [
      "<class 'pandas.core.frame.DataFrame'>\n",
      "Int64Index: 2561175 entries, 0 to 147256\n",
      "Data columns (total 11 columns):\n",
      " #   Column                         Dtype  \n",
      "---  ------                         -----  \n",
      " 0   Registration_number            object \n",
      " 1   Name                           object \n",
      " 2   Type                           object \n",
      " 3   Registered_for_VAT             object \n",
      " 4   County                         object \n",
      " 5   Business_area_by_EMTAK_system  object \n",
      " 6   All_taxes                      float64\n",
      " 7   Labor_taxes                    float64\n",
      " 8   Turnover                       float64\n",
      " 9   number_of_employees            float64\n",
      " 10  year_quarter                   object \n",
      "dtypes: float64(4), object(7)\n",
      "memory usage: 234.5+ MB\n"
     ]
    },
    {
     "data": {
      "text/plain": "  Registration_number                                           Name  \\\n0             1052855                                   SIIRI ÜHISTU   \n1             1294104  LASNAMÄE 52D, GARAAŽIÜHISTU (LIKVIDEERIMISEL)   \n2             1834405     ED. VILDE 53, GARAAŽIEHITAJATE KOOPERATIIV   \n3             1834411                       TOMP, GARAAŽIKOOPERATIIV   \n4             1834517                       GARAAŽIKOOPERATIIV NR 12   \n\n       Type Registered_for_VAT         County Business_area_by_EMTAK_system  \\\n0  Äriühing                 ei  Harju maakond                           NaN   \n1  Äriühing                 ei  Harju maakond                           NaN   \n2  Äriühing                 ei  Harju maakond                           NaN   \n3  Äriühing                 ei  Harju maakond                           NaN   \n4  Äriühing                 ei  Harju maakond       KINNISVARAALANE TEGEVUS   \n\n   All_taxes  Labor_taxes  Turnover  number_of_employees year_quarter  \n0      52.75          0.0       NaN                  NaN       2021_3  \n1     182.00          0.0       NaN                  NaN       2021_3  \n2      64.02          0.0       NaN                  NaN       2021_3  \n3    2285.00          0.0       NaN                  NaN       2021_3  \n4     144.00          0.0       NaN                  NaN       2021_3  ",
      "text/html": "<div>\n<style scoped>\n    .dataframe tbody tr th:only-of-type {\n        vertical-align: middle;\n    }\n\n    .dataframe tbody tr th {\n        vertical-align: top;\n    }\n\n    .dataframe thead th {\n        text-align: right;\n    }\n</style>\n<table border=\"1\" class=\"dataframe\">\n  <thead>\n    <tr style=\"text-align: right;\">\n      <th></th>\n      <th>Registration_number</th>\n      <th>Name</th>\n      <th>Type</th>\n      <th>Registered_for_VAT</th>\n      <th>County</th>\n      <th>Business_area_by_EMTAK_system</th>\n      <th>All_taxes</th>\n      <th>Labor_taxes</th>\n      <th>Turnover</th>\n      <th>number_of_employees</th>\n      <th>year_quarter</th>\n    </tr>\n  </thead>\n  <tbody>\n    <tr>\n      <th>0</th>\n      <td>1052855</td>\n      <td>SIIRI ÜHISTU</td>\n      <td>Äriühing</td>\n      <td>ei</td>\n      <td>Harju maakond</td>\n      <td>NaN</td>\n      <td>52.75</td>\n      <td>0.0</td>\n      <td>NaN</td>\n      <td>NaN</td>\n      <td>2021_3</td>\n    </tr>\n    <tr>\n      <th>1</th>\n      <td>1294104</td>\n      <td>LASNAMÄE 52D, GARAAŽIÜHISTU (LIKVIDEERIMISEL)</td>\n      <td>Äriühing</td>\n      <td>ei</td>\n      <td>Harju maakond</td>\n      <td>NaN</td>\n      <td>182.00</td>\n      <td>0.0</td>\n      <td>NaN</td>\n      <td>NaN</td>\n      <td>2021_3</td>\n    </tr>\n    <tr>\n      <th>2</th>\n      <td>1834405</td>\n      <td>ED. VILDE 53, GARAAŽIEHITAJATE KOOPERATIIV</td>\n      <td>Äriühing</td>\n      <td>ei</td>\n      <td>Harju maakond</td>\n      <td>NaN</td>\n      <td>64.02</td>\n      <td>0.0</td>\n      <td>NaN</td>\n      <td>NaN</td>\n      <td>2021_3</td>\n    </tr>\n    <tr>\n      <th>3</th>\n      <td>1834411</td>\n      <td>TOMP, GARAAŽIKOOPERATIIV</td>\n      <td>Äriühing</td>\n      <td>ei</td>\n      <td>Harju maakond</td>\n      <td>NaN</td>\n      <td>2285.00</td>\n      <td>0.0</td>\n      <td>NaN</td>\n      <td>NaN</td>\n      <td>2021_3</td>\n    </tr>\n    <tr>\n      <th>4</th>\n      <td>1834517</td>\n      <td>GARAAŽIKOOPERATIIV NR 12</td>\n      <td>Äriühing</td>\n      <td>ei</td>\n      <td>Harju maakond</td>\n      <td>KINNISVARAALANE TEGEVUS</td>\n      <td>144.00</td>\n      <td>0.0</td>\n      <td>NaN</td>\n      <td>NaN</td>\n      <td>2021_3</td>\n    </tr>\n  </tbody>\n</table>\n</div>"
     },
     "execution_count": 5,
     "metadata": {},
     "output_type": "execute_result"
    }
   ],
   "source": [
    "df.info()\n",
    "df.head()\n"
   ]
  },
  {
   "cell_type": "markdown",
   "metadata": {
    "pycharm": {
     "name": "#%% md\n"
    }
   },
   "source": [
    "2. Read data from Statistics Estonia provided Excel peradsheets and combine with our database"
   ]
  },
  {
   "cell_type": "code",
   "execution_count": 8,
   "outputs": [
    {
     "data": {
      "text/plain": "'/Users/peeter/Documents/Isiklik/Pets/Koolimaterjalid/Tartu Ülikool/Machine Learning/_project/ML21_Project_MFGC/data/csv'"
     },
     "execution_count": 8,
     "metadata": {},
     "output_type": "execute_result"
    }
   ],
   "source": [
    "os.getcwd()"
   ],
   "metadata": {
    "collapsed": false,
    "pycharm": {
     "name": "#%%\n"
    }
   }
  },
  {
   "cell_type": "code",
   "execution_count": 9,
   "metadata": {
    "pycharm": {
     "name": "#%%\n"
    }
   },
   "outputs": [
    {
     "data": {
      "text/plain": "['Üksuste nimekiri 01.12.2020_revid.4.10.2021.xlsx',\n 'yksuste_nimekiri_01.12.2019_revid.23.01.20.xlsx',\n 'yksuste_nimekiri_01.12.2018_revid_28.1.19.xlsx']"
     },
     "execution_count": 9,
     "metadata": {},
     "output_type": "execute_result"
    }
   ],
   "source": [
    "os.chdir('..')\n",
    "os.chdir('..')\n",
    "os.chdir('./data/stat')\n",
    "#os.chdir('./data/stat/')\n",
    "\n",
    "# Read all csv filenames and combine a list of them\n",
    "filenames =  [i for i in glob.glob('*.{}'.format('xlsx'))]\n",
    "# Sort filenames in list in reverse order to ensure dates are in order and newer data gets used first\n",
    "filenames.sort(reverse=True)\n",
    "filenames"
   ]
  },
  {
   "cell_type": "code",
   "execution_count": 10,
   "metadata": {
    "pycharm": {
     "name": "#%%\n"
    }
   },
   "outputs": [],
   "source": [
    "# Read first file as a reference table and format features\n",
    "df_stat = pd.read_excel(filenames[0])\n",
    "df_stat = df_stat.rename(columns={  'Registrikood': 'Registration_number',\\\n",
    "                                    'Nimi': 'Name', \\\n",
    "                                    'EMTAK2008 Tähtkoodiga valdkond': 'EMTAK_by_letter',\\\n",
    "                                    'EMTAK2008 4-kohaline kood': 'EMTAK_by_number',\\\n",
    "                                    'Institutsionaalsete sektorite Eesti jaoks kohandatud klassifikaator 2010': 'Institutional_classification' ,\\\n",
    "                                    'Kliendi/emitendi identifikaator (vastavalt Eesti Panga presidendi 29. mai määrusele nr 7)': 'Client_ID_by_Eesti_Pank',\\\n",
    "                                    'Üksuse registreerimise kuupäev': 'Registration_date',\\\n",
    "                                    'Üksuse registrist kustutamise kuupäev' : 'Deletion_Date'})\n",
    "\n",
    "# Remove the loaded filename from files list\n",
    "filenames.pop(0)\n",
    "df_stat = df_stat.iloc[: , :-1]\n",
    "df_stat['Registration_number'] = df_stat['Registration_number'].astype(str)"
   ]
  },
  {
   "cell_type": "code",
   "execution_count": 11,
   "metadata": {
    "pycharm": {
     "name": "#%%\n"
    }
   },
   "outputs": [
    {
     "name": "stdout",
     "output_type": "stream",
     "text": [
      "<class 'pandas.core.frame.DataFrame'>\n",
      "RangeIndex: 206324 entries, 0 to 206323\n",
      "Data columns (total 8 columns):\n",
      " #   Column                        Non-Null Count   Dtype         \n",
      "---  ------                        --------------   -----         \n",
      " 0   Registration_number           206324 non-null  object        \n",
      " 1   Name                          206324 non-null  object        \n",
      " 2   EMTAK_by_letter               206324 non-null  object        \n",
      " 3   EMTAK_by_number               206324 non-null  int64         \n",
      " 4   Institutional_classification  206324 non-null  object        \n",
      " 5   Client_ID_by_Eesti_Pank       206324 non-null  int64         \n",
      " 6   Registration_date             206324 non-null  datetime64[ns]\n",
      " 7   Deletion_Date                 1810 non-null    datetime64[ns]\n",
      "dtypes: datetime64[ns](2), int64(2), object(4)\n",
      "memory usage: 12.6+ MB\n"
     ]
    },
    {
     "data": {
      "text/plain": "  Registration_number                   Name EMTAK_by_letter  EMTAK_by_number  \\\n0            10000018         Amserv Auto AS               G             4511   \n1            10000024       Eesti Raamat, OÜ               J             5811   \n2            10000127      Aravete Apteek TÜ               G             4773   \n3            10000165  Kiviõli Kaubahoov, AS               G             4719   \n4            10000219                Year AS               C             1413   \n\n  Institutional_classification  Client_ID_by_Eesti_Pank Registration_date  \\\n0                S11002-S11003                        8        1994-08-23   \n1                S11002-S11003                        8        1990-07-17   \n2                S11002-S11003                        8        1995-09-27   \n3                S11002-S11003                        8        1993-04-21   \n4                S11002-S11003                        8        1995-09-28   \n\n  Deletion_Date  \n0           NaT  \n1           NaT  \n2           NaT  \n3           NaT  \n4           NaT  ",
      "text/html": "<div>\n<style scoped>\n    .dataframe tbody tr th:only-of-type {\n        vertical-align: middle;\n    }\n\n    .dataframe tbody tr th {\n        vertical-align: top;\n    }\n\n    .dataframe thead th {\n        text-align: right;\n    }\n</style>\n<table border=\"1\" class=\"dataframe\">\n  <thead>\n    <tr style=\"text-align: right;\">\n      <th></th>\n      <th>Registration_number</th>\n      <th>Name</th>\n      <th>EMTAK_by_letter</th>\n      <th>EMTAK_by_number</th>\n      <th>Institutional_classification</th>\n      <th>Client_ID_by_Eesti_Pank</th>\n      <th>Registration_date</th>\n      <th>Deletion_Date</th>\n    </tr>\n  </thead>\n  <tbody>\n    <tr>\n      <th>0</th>\n      <td>10000018</td>\n      <td>Amserv Auto AS</td>\n      <td>G</td>\n      <td>4511</td>\n      <td>S11002-S11003</td>\n      <td>8</td>\n      <td>1994-08-23</td>\n      <td>NaT</td>\n    </tr>\n    <tr>\n      <th>1</th>\n      <td>10000024</td>\n      <td>Eesti Raamat, OÜ</td>\n      <td>J</td>\n      <td>5811</td>\n      <td>S11002-S11003</td>\n      <td>8</td>\n      <td>1990-07-17</td>\n      <td>NaT</td>\n    </tr>\n    <tr>\n      <th>2</th>\n      <td>10000127</td>\n      <td>Aravete Apteek TÜ</td>\n      <td>G</td>\n      <td>4773</td>\n      <td>S11002-S11003</td>\n      <td>8</td>\n      <td>1995-09-27</td>\n      <td>NaT</td>\n    </tr>\n    <tr>\n      <th>3</th>\n      <td>10000165</td>\n      <td>Kiviõli Kaubahoov, AS</td>\n      <td>G</td>\n      <td>4719</td>\n      <td>S11002-S11003</td>\n      <td>8</td>\n      <td>1993-04-21</td>\n      <td>NaT</td>\n    </tr>\n    <tr>\n      <th>4</th>\n      <td>10000219</td>\n      <td>Year AS</td>\n      <td>C</td>\n      <td>1413</td>\n      <td>S11002-S11003</td>\n      <td>8</td>\n      <td>1995-09-28</td>\n      <td>NaT</td>\n    </tr>\n  </tbody>\n</table>\n</div>"
     },
     "execution_count": 11,
     "metadata": {},
     "output_type": "execute_result"
    }
   ],
   "source": [
    "df_stat.info()\n",
    "df_stat.head()"
   ]
  },
  {
   "cell_type": "code",
   "execution_count": 98,
   "metadata": {
    "pycharm": {
     "name": "#%%\n"
    }
   },
   "outputs": [
    {
     "name": "stdout",
     "output_type": "stream",
     "text": [
      "yksuste_nimekiri_01.12.2019_revid.23.01.20.xlsx\n",
      "yksuste_nimekiri_01.12.2018_revid_28.1.19.xlsx\n"
     ]
    },
    {
     "data": {
      "text/html": [
       "<div>\n",
       "<style scoped>\n",
       "    .dataframe tbody tr th:only-of-type {\n",
       "        vertical-align: middle;\n",
       "    }\n",
       "\n",
       "    .dataframe tbody tr th {\n",
       "        vertical-align: top;\n",
       "    }\n",
       "\n",
       "    .dataframe thead th {\n",
       "        text-align: right;\n",
       "    }\n",
       "</style>\n",
       "<table border=\"1\" class=\"dataframe\">\n",
       "  <thead>\n",
       "    <tr style=\"text-align: right;\">\n",
       "      <th></th>\n",
       "      <th>Registration_number</th>\n",
       "      <th>Name</th>\n",
       "      <th>EMTAK_by_letter</th>\n",
       "      <th>EMTAK_by_number</th>\n",
       "      <th>Institutional_classification</th>\n",
       "      <th>Client_ID_by_Eesti_Pank</th>\n",
       "      <th>Registration_date</th>\n",
       "      <th>Deletion_Date</th>\n",
       "    </tr>\n",
       "  </thead>\n",
       "  <tbody>\n",
       "    <tr>\n",
       "      <th>0</th>\n",
       "      <td>10000018</td>\n",
       "      <td>Amserv Auto AS</td>\n",
       "      <td>G</td>\n",
       "      <td>4511</td>\n",
       "      <td>S11002-S11003</td>\n",
       "      <td>8</td>\n",
       "      <td>1994-08-23</td>\n",
       "      <td>NaT</td>\n",
       "    </tr>\n",
       "    <tr>\n",
       "      <th>1</th>\n",
       "      <td>10000024</td>\n",
       "      <td>Eesti Raamat, OÜ</td>\n",
       "      <td>J</td>\n",
       "      <td>5811</td>\n",
       "      <td>S11002-S11003</td>\n",
       "      <td>8</td>\n",
       "      <td>1990-07-17</td>\n",
       "      <td>NaT</td>\n",
       "    </tr>\n",
       "    <tr>\n",
       "      <th>2</th>\n",
       "      <td>10000127</td>\n",
       "      <td>Aravete Apteek TÜ</td>\n",
       "      <td>G</td>\n",
       "      <td>4773</td>\n",
       "      <td>S11002-S11003</td>\n",
       "      <td>8</td>\n",
       "      <td>1995-09-27</td>\n",
       "      <td>NaT</td>\n",
       "    </tr>\n",
       "    <tr>\n",
       "      <th>3</th>\n",
       "      <td>10000165</td>\n",
       "      <td>Kiviõli Kaubahoov, AS</td>\n",
       "      <td>G</td>\n",
       "      <td>4719</td>\n",
       "      <td>S11002-S11003</td>\n",
       "      <td>8</td>\n",
       "      <td>1993-04-21</td>\n",
       "      <td>NaT</td>\n",
       "    </tr>\n",
       "    <tr>\n",
       "      <th>4</th>\n",
       "      <td>10000219</td>\n",
       "      <td>Year AS</td>\n",
       "      <td>C</td>\n",
       "      <td>1413</td>\n",
       "      <td>S11002-S11003</td>\n",
       "      <td>8</td>\n",
       "      <td>1995-09-28</td>\n",
       "      <td>NaT</td>\n",
       "    </tr>\n",
       "  </tbody>\n",
       "</table>\n",
       "</div>"
      ],
      "text/plain": [
       "  Registration_number                   Name EMTAK_by_letter  EMTAK_by_number  \\\n",
       "0            10000018         Amserv Auto AS               G             4511   \n",
       "1            10000024       Eesti Raamat, OÜ               J             5811   \n",
       "2            10000127      Aravete Apteek TÜ               G             4773   \n",
       "3            10000165  Kiviõli Kaubahoov, AS               G             4719   \n",
       "4            10000219                Year AS               C             1413   \n",
       "\n",
       "  Institutional_classification  Client_ID_by_Eesti_Pank Registration_date  \\\n",
       "0                S11002-S11003                        8        1994-08-23   \n",
       "1                S11002-S11003                        8        1990-07-17   \n",
       "2                S11002-S11003                        8        1995-09-27   \n",
       "3                S11002-S11003                        8        1993-04-21   \n",
       "4                S11002-S11003                        8        1995-09-28   \n",
       "\n",
       "  Deletion_Date  \n",
       "0           NaT  \n",
       "1           NaT  \n",
       "2           NaT  \n",
       "3           NaT  \n",
       "4           NaT  "
      ]
     },
     "execution_count": 98,
     "metadata": {},
     "output_type": "execute_result"
    }
   ],
   "source": [
    "# Add other statistical data, only that is missing from previous\n",
    "for f in filenames:\n",
    "    print(f)\n",
    "    df_stat_new = pd.read_excel(f)\n",
    "    df_stat_new = df_stat_new.rename(columns={  'Registrikood': 'Registration_number',\\\n",
    "                                                'Nimi': 'Name', \\\n",
    "                                                'EMTAK2008 Tähtkoodiga valdkond': 'EMTAK_by_letter',\\\n",
    "                                                'EMTAK2008 4-kohaline kood': 'EMTAK_by_number',\\\n",
    "                                                'Institutsionaalsete sektorite Eesti jaoks kohandatud klassifikaator 2010': 'Institutional_classification' ,\\\n",
    "                                                'Kliendi/emitendi identifikaator (vastavalt Eesti Panga presidendi 29. mai määrusele nr 7)': 'Client_ID_by_Eesti_Pank',\\\n",
    "                                                'Üksuse registreerimise kuupäev': 'Registration_date',\\\n",
    "                                                'Üksuse registrist kustutamise kuupäev' : 'Deletion_Date'})\n",
    "    df_stat_new['Registration_number'] = df_stat_new['Registration_number'].astype(str)\n",
    "    df_stat = pd.concat([df_stat, df_stat_new], axis=0)\n",
    "\n",
    "# Dropping duplicate entries\n",
    "df_stat = df_stat.drop_duplicates(subset=['Registration_number'])\n",
    "df_stat.reset_index(drop=True)\n",
    "df_stat.head()"
   ]
  },
  {
   "cell_type": "code",
   "execution_count": 12,
   "metadata": {
    "pycharm": {
     "name": "#%%\n"
    }
   },
   "outputs": [
    {
     "data": {
      "text/plain": "  Registration_number                                           Name  \\\n0             1052855                                   SIIRI ÜHISTU   \n1             1294104  LASNAMÄE 52D, GARAAŽIÜHISTU (LIKVIDEERIMISEL)   \n2             1294104  LASNAMÄE 52D, GARAAŽIÜHISTU (LIKVIDEERIMISEL)   \n3             1294104  LASNAMÄE 52D, GARAAŽIÜHISTU (LIKVIDEERIMISEL)   \n4             1834405     ED. VILDE 53, GARAAŽIEHITAJATE KOOPERATIIV   \n\n       Type Registered_for_VAT         County Business_area_by_EMTAK_system  \\\n0  Äriühing                 ei  Harju maakond                           NaN   \n1  Äriühing                 ei  Harju maakond                           NaN   \n2  Äriühing                 ei  Harju maakond                           NaN   \n3  Äriühing                 ei  Harju maakond                           NaN   \n4  Äriühing                 ei  Harju maakond                           NaN   \n\n   All_taxes  Labor_taxes  Turnover  number_of_employees year_quarter  \\\n0      52.75          0.0       NaN                  NaN       2021_3   \n1     182.00          0.0       NaN                  NaN       2021_3   \n2     180.75          0.0       NaN                  NaN       2021_3   \n3     180.75          0.0       NaN                  NaN       2021_3   \n4      64.02          0.0       NaN                  NaN       2021_3   \n\n  EMTAK_by_letter  EMTAK_by_number Institutional_classification  \\\n0             NaN              NaN                          NaN   \n1             NaN              NaN                          NaN   \n2             NaN              NaN                          NaN   \n3             NaN              NaN                          NaN   \n4             NaN              NaN                          NaN   \n\n   Client_ID_by_Eesti_Pank Registration_date Deletion_Date  \n0                      NaN               NaT           NaT  \n1                      NaN               NaT           NaT  \n2                      NaN               NaT           NaT  \n3                      NaN               NaT           NaT  \n4                      NaN               NaT           NaT  ",
      "text/html": "<div>\n<style scoped>\n    .dataframe tbody tr th:only-of-type {\n        vertical-align: middle;\n    }\n\n    .dataframe tbody tr th {\n        vertical-align: top;\n    }\n\n    .dataframe thead th {\n        text-align: right;\n    }\n</style>\n<table border=\"1\" class=\"dataframe\">\n  <thead>\n    <tr style=\"text-align: right;\">\n      <th></th>\n      <th>Registration_number</th>\n      <th>Name</th>\n      <th>Type</th>\n      <th>Registered_for_VAT</th>\n      <th>County</th>\n      <th>Business_area_by_EMTAK_system</th>\n      <th>All_taxes</th>\n      <th>Labor_taxes</th>\n      <th>Turnover</th>\n      <th>number_of_employees</th>\n      <th>year_quarter</th>\n      <th>EMTAK_by_letter</th>\n      <th>EMTAK_by_number</th>\n      <th>Institutional_classification</th>\n      <th>Client_ID_by_Eesti_Pank</th>\n      <th>Registration_date</th>\n      <th>Deletion_Date</th>\n    </tr>\n  </thead>\n  <tbody>\n    <tr>\n      <th>0</th>\n      <td>1052855</td>\n      <td>SIIRI ÜHISTU</td>\n      <td>Äriühing</td>\n      <td>ei</td>\n      <td>Harju maakond</td>\n      <td>NaN</td>\n      <td>52.75</td>\n      <td>0.0</td>\n      <td>NaN</td>\n      <td>NaN</td>\n      <td>2021_3</td>\n      <td>NaN</td>\n      <td>NaN</td>\n      <td>NaN</td>\n      <td>NaN</td>\n      <td>NaT</td>\n      <td>NaT</td>\n    </tr>\n    <tr>\n      <th>1</th>\n      <td>1294104</td>\n      <td>LASNAMÄE 52D, GARAAŽIÜHISTU (LIKVIDEERIMISEL)</td>\n      <td>Äriühing</td>\n      <td>ei</td>\n      <td>Harju maakond</td>\n      <td>NaN</td>\n      <td>182.00</td>\n      <td>0.0</td>\n      <td>NaN</td>\n      <td>NaN</td>\n      <td>2021_3</td>\n      <td>NaN</td>\n      <td>NaN</td>\n      <td>NaN</td>\n      <td>NaN</td>\n      <td>NaT</td>\n      <td>NaT</td>\n    </tr>\n    <tr>\n      <th>2</th>\n      <td>1294104</td>\n      <td>LASNAMÄE 52D, GARAAŽIÜHISTU (LIKVIDEERIMISEL)</td>\n      <td>Äriühing</td>\n      <td>ei</td>\n      <td>Harju maakond</td>\n      <td>NaN</td>\n      <td>180.75</td>\n      <td>0.0</td>\n      <td>NaN</td>\n      <td>NaN</td>\n      <td>2021_3</td>\n      <td>NaN</td>\n      <td>NaN</td>\n      <td>NaN</td>\n      <td>NaN</td>\n      <td>NaT</td>\n      <td>NaT</td>\n    </tr>\n    <tr>\n      <th>3</th>\n      <td>1294104</td>\n      <td>LASNAMÄE 52D, GARAAŽIÜHISTU (LIKVIDEERIMISEL)</td>\n      <td>Äriühing</td>\n      <td>ei</td>\n      <td>Harju maakond</td>\n      <td>NaN</td>\n      <td>180.75</td>\n      <td>0.0</td>\n      <td>NaN</td>\n      <td>NaN</td>\n      <td>2021_3</td>\n      <td>NaN</td>\n      <td>NaN</td>\n      <td>NaN</td>\n      <td>NaN</td>\n      <td>NaT</td>\n      <td>NaT</td>\n    </tr>\n    <tr>\n      <th>4</th>\n      <td>1834405</td>\n      <td>ED. VILDE 53, GARAAŽIEHITAJATE KOOPERATIIV</td>\n      <td>Äriühing</td>\n      <td>ei</td>\n      <td>Harju maakond</td>\n      <td>NaN</td>\n      <td>64.02</td>\n      <td>0.0</td>\n      <td>NaN</td>\n      <td>NaN</td>\n      <td>2021_3</td>\n      <td>NaN</td>\n      <td>NaN</td>\n      <td>NaN</td>\n      <td>NaN</td>\n      <td>NaT</td>\n      <td>NaT</td>\n    </tr>\n  </tbody>\n</table>\n</div>"
     },
     "execution_count": 12,
     "metadata": {},
     "output_type": "execute_result"
    }
   ],
   "source": [
    "# Combining 2 datasets into one large\n",
    "# Loose name column\n",
    "df_stat.drop(df_stat.columns[[1]], axis = 1, inplace = True)\n",
    "\n",
    "df_merged = pd.merge(left= df, right=df_stat, how='outer', left_on= 'Registration_number', right_on='Registration_number')\n",
    "df_merged.head()"
   ]
  },
  {
   "cell_type": "code",
   "execution_count": 13,
   "outputs": [
    {
     "name": "stdout",
     "output_type": "stream",
     "text": [
      "<class 'pandas.core.frame.DataFrame'>\n",
      "Int64Index: 2619056 entries, 0 to 2619055\n",
      "Data columns (total 17 columns):\n",
      " #   Column                         Dtype         \n",
      "---  ------                         -----         \n",
      " 0   Registration_number            object        \n",
      " 1   Name                           object        \n",
      " 2   Type                           object        \n",
      " 3   Registered_for_VAT             object        \n",
      " 4   County                         object        \n",
      " 5   Business_area_by_EMTAK_system  object        \n",
      " 6   All_taxes                      float64       \n",
      " 7   Labor_taxes                    float64       \n",
      " 8   Turnover                       float64       \n",
      " 9   number_of_employees            float64       \n",
      " 10  year_quarter                   object        \n",
      " 11  EMTAK_by_letter                object        \n",
      " 12  EMTAK_by_number                float64       \n",
      " 13  Institutional_classification   object        \n",
      " 14  Client_ID_by_Eesti_Pank        float64       \n",
      " 15  Registration_date              datetime64[ns]\n",
      " 16  Deletion_Date                  datetime64[ns]\n",
      "dtypes: datetime64[ns](2), float64(6), object(9)\n",
      "memory usage: 359.7+ MB\n"
     ]
    },
    {
     "data": {
      "text/plain": "  Registration_number                                           Name  \\\n0             1052855                                   SIIRI ÜHISTU   \n1             1294104  LASNAMÄE 52D, GARAAŽIÜHISTU (LIKVIDEERIMISEL)   \n2             1294104  LASNAMÄE 52D, GARAAŽIÜHISTU (LIKVIDEERIMISEL)   \n3             1294104  LASNAMÄE 52D, GARAAŽIÜHISTU (LIKVIDEERIMISEL)   \n4             1834405     ED. VILDE 53, GARAAŽIEHITAJATE KOOPERATIIV   \n\n       Type Registered_for_VAT         County Business_area_by_EMTAK_system  \\\n0  Äriühing                 ei  Harju maakond                           NaN   \n1  Äriühing                 ei  Harju maakond                           NaN   \n2  Äriühing                 ei  Harju maakond                           NaN   \n3  Äriühing                 ei  Harju maakond                           NaN   \n4  Äriühing                 ei  Harju maakond                           NaN   \n\n   All_taxes  Labor_taxes  Turnover  number_of_employees year_quarter  \\\n0      52.75          0.0       NaN                  NaN       2021_3   \n1     182.00          0.0       NaN                  NaN       2021_3   \n2     180.75          0.0       NaN                  NaN       2021_3   \n3     180.75          0.0       NaN                  NaN       2021_3   \n4      64.02          0.0       NaN                  NaN       2021_3   \n\n  EMTAK_by_letter  EMTAK_by_number Institutional_classification  \\\n0             NaN              NaN                          NaN   \n1             NaN              NaN                          NaN   \n2             NaN              NaN                          NaN   \n3             NaN              NaN                          NaN   \n4             NaN              NaN                          NaN   \n\n   Client_ID_by_Eesti_Pank Registration_date Deletion_Date  \n0                      NaN               NaT           NaT  \n1                      NaN               NaT           NaT  \n2                      NaN               NaT           NaT  \n3                      NaN               NaT           NaT  \n4                      NaN               NaT           NaT  ",
      "text/html": "<div>\n<style scoped>\n    .dataframe tbody tr th:only-of-type {\n        vertical-align: middle;\n    }\n\n    .dataframe tbody tr th {\n        vertical-align: top;\n    }\n\n    .dataframe thead th {\n        text-align: right;\n    }\n</style>\n<table border=\"1\" class=\"dataframe\">\n  <thead>\n    <tr style=\"text-align: right;\">\n      <th></th>\n      <th>Registration_number</th>\n      <th>Name</th>\n      <th>Type</th>\n      <th>Registered_for_VAT</th>\n      <th>County</th>\n      <th>Business_area_by_EMTAK_system</th>\n      <th>All_taxes</th>\n      <th>Labor_taxes</th>\n      <th>Turnover</th>\n      <th>number_of_employees</th>\n      <th>year_quarter</th>\n      <th>EMTAK_by_letter</th>\n      <th>EMTAK_by_number</th>\n      <th>Institutional_classification</th>\n      <th>Client_ID_by_Eesti_Pank</th>\n      <th>Registration_date</th>\n      <th>Deletion_Date</th>\n    </tr>\n  </thead>\n  <tbody>\n    <tr>\n      <th>0</th>\n      <td>1052855</td>\n      <td>SIIRI ÜHISTU</td>\n      <td>Äriühing</td>\n      <td>ei</td>\n      <td>Harju maakond</td>\n      <td>NaN</td>\n      <td>52.75</td>\n      <td>0.0</td>\n      <td>NaN</td>\n      <td>NaN</td>\n      <td>2021_3</td>\n      <td>NaN</td>\n      <td>NaN</td>\n      <td>NaN</td>\n      <td>NaN</td>\n      <td>NaT</td>\n      <td>NaT</td>\n    </tr>\n    <tr>\n      <th>1</th>\n      <td>1294104</td>\n      <td>LASNAMÄE 52D, GARAAŽIÜHISTU (LIKVIDEERIMISEL)</td>\n      <td>Äriühing</td>\n      <td>ei</td>\n      <td>Harju maakond</td>\n      <td>NaN</td>\n      <td>182.00</td>\n      <td>0.0</td>\n      <td>NaN</td>\n      <td>NaN</td>\n      <td>2021_3</td>\n      <td>NaN</td>\n      <td>NaN</td>\n      <td>NaN</td>\n      <td>NaN</td>\n      <td>NaT</td>\n      <td>NaT</td>\n    </tr>\n    <tr>\n      <th>2</th>\n      <td>1294104</td>\n      <td>LASNAMÄE 52D, GARAAŽIÜHISTU (LIKVIDEERIMISEL)</td>\n      <td>Äriühing</td>\n      <td>ei</td>\n      <td>Harju maakond</td>\n      <td>NaN</td>\n      <td>180.75</td>\n      <td>0.0</td>\n      <td>NaN</td>\n      <td>NaN</td>\n      <td>2021_3</td>\n      <td>NaN</td>\n      <td>NaN</td>\n      <td>NaN</td>\n      <td>NaN</td>\n      <td>NaT</td>\n      <td>NaT</td>\n    </tr>\n    <tr>\n      <th>3</th>\n      <td>1294104</td>\n      <td>LASNAMÄE 52D, GARAAŽIÜHISTU (LIKVIDEERIMISEL)</td>\n      <td>Äriühing</td>\n      <td>ei</td>\n      <td>Harju maakond</td>\n      <td>NaN</td>\n      <td>180.75</td>\n      <td>0.0</td>\n      <td>NaN</td>\n      <td>NaN</td>\n      <td>2021_3</td>\n      <td>NaN</td>\n      <td>NaN</td>\n      <td>NaN</td>\n      <td>NaN</td>\n      <td>NaT</td>\n      <td>NaT</td>\n    </tr>\n    <tr>\n      <th>4</th>\n      <td>1834405</td>\n      <td>ED. VILDE 53, GARAAŽIEHITAJATE KOOPERATIIV</td>\n      <td>Äriühing</td>\n      <td>ei</td>\n      <td>Harju maakond</td>\n      <td>NaN</td>\n      <td>64.02</td>\n      <td>0.0</td>\n      <td>NaN</td>\n      <td>NaN</td>\n      <td>2021_3</td>\n      <td>NaN</td>\n      <td>NaN</td>\n      <td>NaN</td>\n      <td>NaN</td>\n      <td>NaT</td>\n      <td>NaT</td>\n    </tr>\n  </tbody>\n</table>\n</div>"
     },
     "execution_count": 13,
     "metadata": {},
     "output_type": "execute_result"
    }
   ],
   "source": [
    "df_merged.info()\n",
    "df_merged.head()"
   ],
   "metadata": {
    "collapsed": false,
    "pycharm": {
     "name": "#%%\n"
    }
   }
  },
  {
   "cell_type": "code",
   "execution_count": 14,
   "metadata": {
    "pycharm": {
     "name": "#%%\n"
    }
   },
   "outputs": [],
   "source": [
    "# Save acquired data into a csv\n",
    "# os.chdir('./data/dataframes/')\n",
    "df_merged.to_csv( \"full_period.csv\", index=False)"
   ]
  },
  {
   "cell_type": "code",
   "execution_count": 15,
   "metadata": {
    "pycharm": {
     "name": "#%%\n"
    }
   },
   "outputs": [
    {
     "data": {
      "text/plain": "(2619056, 17)"
     },
     "execution_count": 15,
     "metadata": {},
     "output_type": "execute_result"
    }
   ],
   "source": [
    "df_merged.shape"
   ]
  },
  {
   "cell_type": "code",
   "execution_count": null,
   "metadata": {
    "pycharm": {
     "name": "#%%\n"
    }
   },
   "outputs": [],
   "source": []
  }
 ],
 "metadata": {
  "kernelspec": {
   "display_name": "PyCharm (_project)",
   "language": "python",
   "name": "pycharm-99298bfd"
  },
  "language_info": {
   "codemirror_mode": {
    "name": "ipython",
    "version": 3
   },
   "file_extension": ".py",
   "mimetype": "text/x-python",
   "name": "python",
   "nbconvert_exporter": "python",
   "pygments_lexer": "ipython3",
   "version": "3.8.6"
  }
 },
 "nbformat": 4,
 "nbformat_minor": 4
}
{
  "nbformat": 4,
  "nbformat_minor": 5,
  "metadata": {
    "kernelspec": {
      "display_name": "Python 3",
      "language": "python",
      "name": "python3"
    },
    "language_info": {
      "codemirror_mode": {
        "name": "ipython",
        "version": 3
      },
      "file_extension": ".py",
      "mimetype": "text/x-python",
      "name": "python",
      "nbconvert_exporter": "python",
      "pygments_lexer": "ipython3",
      "version": "3.8.5"
    },
    "colab": {
      "name": "all_data_clean_2021.ipynb",
      "provenance": [],
      "include_colab_link": true
    }
  },
  "cells": [
    {
      "cell_type": "markdown",
      "metadata": {
        "id": "view-in-github",
        "colab_type": "text"
      },
      "source": [
        "<a href=\"https://colab.research.google.com/github/mshoush/ML21_Project_MFGC/blob/AA/all_data_clean_2021.ipynb\" target=\"_parent\"><img src=\"https://colab.research.google.com/assets/colab-badge.svg\" alt=\"Open In Colab\"/></a>"
      ]
    },
    {
      "cell_type": "code",
      "metadata": {
        "id": "692dee48"
      },
      "source": [
        "# import necessary libraries\n",
        "import pandas as pd\n",
        "import os\n",
        "import glob\n",
        "  "
      ],
      "id": "692dee48",
      "execution_count": null,
      "outputs": []
    },
    {
      "cell_type": "markdown",
      "metadata": {
        "id": "43da83fb"
      },
      "source": [
        "open data "
      ],
      "id": "43da83fb"
    },
    {
      "cell_type": "code",
      "metadata": {
        "colab": {
          "base_uri": "https://localhost:8080/",
          "height": 382
        },
        "id": "EQ1-aKsMmGhz",
        "outputId": "b8546567-f308-4339-a9b1-f18042268615"
      },
      "source": [
        "df = pd.read_csv('All_merged_2017_2021.csv')\n",
        "df.head()"
      ],
      "id": "EQ1-aKsMmGhz",
      "execution_count": null,
      "outputs": [
        {
          "output_type": "stream",
          "name": "stderr",
          "text": [
            "/usr/local/lib/python3.7/dist-packages/IPython/core/interactiveshell.py:2718: DtypeWarning: Columns (17) have mixed types.Specify dtype option on import or set low_memory=False.\n",
            "  interactivity=interactivity, compiler=compiler, result=result)\n"
          ]
        },
        {
          "output_type": "execute_result",
          "data": {
            "text/html": [
              "<div>\n",
              "<style scoped>\n",
              "    .dataframe tbody tr th:only-of-type {\n",
              "        vertical-align: middle;\n",
              "    }\n",
              "\n",
              "    .dataframe tbody tr th {\n",
              "        vertical-align: top;\n",
              "    }\n",
              "\n",
              "    .dataframe thead th {\n",
              "        text-align: right;\n",
              "    }\n",
              "</style>\n",
              "<table border=\"1\" class=\"dataframe\">\n",
              "  <thead>\n",
              "    <tr style=\"text-align: right;\">\n",
              "      <th></th>\n",
              "      <th>Registration_number</th>\n",
              "      <th>Name_x</th>\n",
              "      <th>Type</th>\n",
              "      <th>Registered_for_VAT</th>\n",
              "      <th>County</th>\n",
              "      <th>Business_area_by_EMTAK_system</th>\n",
              "      <th>All_taxes</th>\n",
              "      <th>Labor_taxes</th>\n",
              "      <th>Turnover</th>\n",
              "      <th>number_of_employees</th>\n",
              "      <th>year_quarter</th>\n",
              "      <th>Name_y</th>\n",
              "      <th>Business_area_by_EMTAK_system_letter</th>\n",
              "      <th>Business_are_by_EMTAK_system_number</th>\n",
              "      <th>Institutional_classification</th>\n",
              "      <th>Client_identifyer_by_Estonian_Central_Bank</th>\n",
              "      <th>Registration_date</th>\n",
              "      <th>Deletion_date</th>\n",
              "    </tr>\n",
              "  </thead>\n",
              "  <tbody>\n",
              "    <tr>\n",
              "      <th>0</th>\n",
              "      <td>10000018</td>\n",
              "      <td>AMSERV AUTO AS</td>\n",
              "      <td>Äriühing</td>\n",
              "      <td>jah</td>\n",
              "      <td>Harju maakond</td>\n",
              "      <td>HULGI- JA JAEKAUBANDUS; MOOTORSŐIDUKITE JA MOO...</td>\n",
              "      <td>460247.80</td>\n",
              "      <td>493785.19</td>\n",
              "      <td>NaN</td>\n",
              "      <td>196.0</td>\n",
              "      <td>2017_i</td>\n",
              "      <td>Amserv Auto AS</td>\n",
              "      <td>G</td>\n",
              "      <td>4511</td>\n",
              "      <td>S11002-S11003</td>\n",
              "      <td>8</td>\n",
              "      <td>1994-08-23</td>\n",
              "      <td>NaN</td>\n",
              "    </tr>\n",
              "    <tr>\n",
              "      <th>1</th>\n",
              "      <td>10000024</td>\n",
              "      <td>EESTI RAAMAT, OÜ</td>\n",
              "      <td>Äriühing</td>\n",
              "      <td>jah</td>\n",
              "      <td>Harju maakond</td>\n",
              "      <td>INFO JA SIDE</td>\n",
              "      <td>12126.74</td>\n",
              "      <td>11533.92</td>\n",
              "      <td>51486.75</td>\n",
              "      <td>9.0</td>\n",
              "      <td>2017_i</td>\n",
              "      <td>Eesti Raamat, OÜ</td>\n",
              "      <td>J</td>\n",
              "      <td>5811</td>\n",
              "      <td>S11002-S11003</td>\n",
              "      <td>8</td>\n",
              "      <td>1990-07-17</td>\n",
              "      <td>NaN</td>\n",
              "    </tr>\n",
              "    <tr>\n",
              "      <th>2</th>\n",
              "      <td>10000127</td>\n",
              "      <td>ARAVETE APTEEK, TÜ</td>\n",
              "      <td>Äriühing</td>\n",
              "      <td>jah</td>\n",
              "      <td>Järva maakond</td>\n",
              "      <td>HULGI- JA JAEKAUBANDUS; MOOTORSŐIDUKITE JA MOO...</td>\n",
              "      <td>6595.39</td>\n",
              "      <td>3983.36</td>\n",
              "      <td>106263.62</td>\n",
              "      <td>2.0</td>\n",
              "      <td>2017_i</td>\n",
              "      <td>Aravete Apteek TÜ</td>\n",
              "      <td>G</td>\n",
              "      <td>4773</td>\n",
              "      <td>S11002-S11003</td>\n",
              "      <td>8</td>\n",
              "      <td>1995-09-27</td>\n",
              "      <td>NaN</td>\n",
              "    </tr>\n",
              "    <tr>\n",
              "      <th>3</th>\n",
              "      <td>10000165</td>\n",
              "      <td>KIVIÕLI KAUBAHOOV, AS</td>\n",
              "      <td>Äriühing</td>\n",
              "      <td>jah</td>\n",
              "      <td>Ida-Viru maakond</td>\n",
              "      <td>HULGI- JA JAEKAUBANDUS; MOOTORSŐIDUKITE JA MOO...</td>\n",
              "      <td>64705.68</td>\n",
              "      <td>39278.43</td>\n",
              "      <td>501856.24</td>\n",
              "      <td>33.0</td>\n",
              "      <td>2017_i</td>\n",
              "      <td>Kiviõli Kaubahoov, AS</td>\n",
              "      <td>G</td>\n",
              "      <td>4719</td>\n",
              "      <td>S11002-S11003</td>\n",
              "      <td>8</td>\n",
              "      <td>1993-04-21</td>\n",
              "      <td>NaN</td>\n",
              "    </tr>\n",
              "    <tr>\n",
              "      <th>4</th>\n",
              "      <td>10000219</td>\n",
              "      <td>YEAR, AS</td>\n",
              "      <td>Äriühing</td>\n",
              "      <td>jah</td>\n",
              "      <td>Harju maakond</td>\n",
              "      <td>TÖÖTLEV TÖÖSTUS</td>\n",
              "      <td>21555.48</td>\n",
              "      <td>23840.41</td>\n",
              "      <td>90645.11</td>\n",
              "      <td>34.0</td>\n",
              "      <td>2017_i</td>\n",
              "      <td>Year AS</td>\n",
              "      <td>C</td>\n",
              "      <td>1413</td>\n",
              "      <td>S11002-S11003</td>\n",
              "      <td>8</td>\n",
              "      <td>1995-09-28</td>\n",
              "      <td>NaN</td>\n",
              "    </tr>\n",
              "  </tbody>\n",
              "</table>\n",
              "</div>"
            ],
            "text/plain": [
              "   Registration_number                 Name_x  ... Registration_date Deletion_date\n",
              "0             10000018         AMSERV AUTO AS  ...        1994-08-23           NaN\n",
              "1             10000024       EESTI RAAMAT, OÜ  ...        1990-07-17           NaN\n",
              "2             10000127     ARAVETE APTEEK, TÜ  ...        1995-09-27           NaN\n",
              "3             10000165  KIVIÕLI KAUBAHOOV, AS  ...        1993-04-21           NaN\n",
              "4             10000219               YEAR, AS  ...        1995-09-28           NaN\n",
              "\n",
              "[5 rows x 18 columns]"
            ]
          },
          "metadata": {},
          "execution_count": 2
        }
      ]
    },
    {
      "cell_type": "code",
      "metadata": {
        "colab": {
          "base_uri": "https://localhost:8080/"
        },
        "id": "zx23gnUrmevx",
        "outputId": "ecf89071-330e-4ae2-a716-36b03b769f7a"
      },
      "source": [
        "df.info()"
      ],
      "id": "zx23gnUrmevx",
      "execution_count": null,
      "outputs": [
        {
          "output_type": "stream",
          "name": "stdout",
          "text": [
            "<class 'pandas.core.frame.DataFrame'>\n",
            "RangeIndex: 426978 entries, 0 to 426977\n",
            "Data columns (total 18 columns):\n",
            " #   Column                                      Non-Null Count   Dtype  \n",
            "---  ------                                      --------------   -----  \n",
            " 0   Registration_number                         426978 non-null  int64  \n",
            " 1   Name_x                                      426978 non-null  object \n",
            " 2   Type                                        426978 non-null  object \n",
            " 3   Registered_for_VAT                          426978 non-null  object \n",
            " 4   County                                      421251 non-null  object \n",
            " 5   Business_area_by_EMTAK_system               420334 non-null  object \n",
            " 6   All_taxes                                   345545 non-null  float64\n",
            " 7   Labor_taxes                                 345545 non-null  float64\n",
            " 8   Turnover                                    328520 non-null  float64\n",
            " 9   number_of_employees                         274330 non-null  float64\n",
            " 10  year_quarter                                426978 non-null  object \n",
            " 11  Name_y                                      426978 non-null  object \n",
            " 12  Business_area_by_EMTAK_system_letter        426978 non-null  object \n",
            " 13  Business_are_by_EMTAK_system_number         426978 non-null  int64  \n",
            " 14  Institutional_classification                426978 non-null  object \n",
            " 15  Client_identifyer_by_Estonian_Central_Bank  426978 non-null  int64  \n",
            " 16  Registration_date                           426978 non-null  object \n",
            " 17  Deletion_date                               3250 non-null    object \n",
            "dtypes: float64(4), int64(3), object(11)\n",
            "memory usage: 58.6+ MB\n"
          ]
        }
      ]
    },
    {
      "cell_type": "code",
      "metadata": {
        "colab": {
          "base_uri": "https://localhost:8080/"
        },
        "id": "hXb4qbc6nTN4",
        "outputId": "1689cd87-7162-4f83-d03b-5fc7b50b447f"
      },
      "source": [
        "df.shape"
      ],
      "id": "hXb4qbc6nTN4",
      "execution_count": null,
      "outputs": [
        {
          "output_type": "execute_result",
          "data": {
            "text/plain": [
              "(426978, 18)"
            ]
          },
          "metadata": {},
          "execution_count": 4
        }
      ]
    },
    {
      "cell_type": "code",
      "metadata": {
        "id": "JtoPhgBqm-L8"
      },
      "source": [
        "df.sort_values('Registration_number', inplace = True)\n"
      ],
      "id": "JtoPhgBqm-L8",
      "execution_count": null,
      "outputs": []
    },
    {
      "cell_type": "code",
      "metadata": {
        "id": "rjkrPwedn38t"
      },
      "source": [
        "df['Registration_number'].drop_duplicates(keep = False, inplace=True)"
      ],
      "id": "rjkrPwedn38t",
      "execution_count": null,
      "outputs": []
    },
    {
      "cell_type": "code",
      "metadata": {
        "colab": {
          "base_uri": "https://localhost:8080/"
        },
        "id": "vXBp3TqDn7uw",
        "outputId": "2f9b0c5b-d208-4323-f5db-71ac5888a4ab"
      },
      "source": [
        "df.shape"
      ],
      "id": "vXBp3TqDn7uw",
      "execution_count": null,
      "outputs": [
        {
          "output_type": "execute_result",
          "data": {
            "text/plain": [
              "(426978, 18)"
            ]
          },
          "metadata": {},
          "execution_count": 7
        }
      ]
    },
    {
      "cell_type": "code",
      "metadata": {
        "id": "qt98rTkPoEvB"
      },
      "source": [
        "import numpy as np\n",
        "import matplotlib.pyplot as plt\n"
      ],
      "id": "qt98rTkPoEvB",
      "execution_count": null,
      "outputs": []
    },
    {
      "cell_type": "code",
      "metadata": {
        "colab": {
          "base_uri": "https://localhost:8080/"
        },
        "id": "aevIJm7WqUSo",
        "outputId": "582c11e4-90a5-490f-d29a-27e073fcf119"
      },
      "source": [
        "df.isnull().sum()\n"
      ],
      "id": "aevIJm7WqUSo",
      "execution_count": null,
      "outputs": [
        {
          "output_type": "execute_result",
          "data": {
            "text/plain": [
              "Registration_number                                0\n",
              "Name_x                                             0\n",
              "Type                                               0\n",
              "Registered_for_VAT                                 0\n",
              "County                                          5727\n",
              "Business_area_by_EMTAK_system                   6644\n",
              "All_taxes                                      81433\n",
              "Labor_taxes                                    81433\n",
              "Turnover                                       98458\n",
              "number_of_employees                           152648\n",
              "year_quarter                                       0\n",
              "Name_y                                             0\n",
              "Business_area_by_EMTAK_system_letter               0\n",
              "Business_are_by_EMTAK_system_number                0\n",
              "Institutional_classification                       0\n",
              "Client_identifyer_by_Estonian_Central_Bank         0\n",
              "Registration_date                                  0\n",
              "Deletion_date                                 423728\n",
              "dtype: int64"
            ]
          },
          "metadata": {},
          "execution_count": 9
        }
      ]
    },
    {
      "cell_type": "code",
      "metadata": {
        "id": "72YLMfTNqadr"
      },
      "source": [
        "index_names = df[(df['Type'] == 'Mittetulundusühing')].index\n",
        "df.drop(index_names, inplace = True)"
      ],
      "id": "72YLMfTNqadr",
      "execution_count": null,
      "outputs": []
    },
    {
      "cell_type": "code",
      "metadata": {
        "id": "RYK6Yx3quAs_"
      },
      "source": [
        "index_names1 = df[(df['Type'] == 'Sihtasutus')].index\n",
        "df.drop(index_names1, inplace = True)"
      ],
      "id": "RYK6Yx3quAs_",
      "execution_count": null,
      "outputs": []
    },
    {
      "cell_type": "code",
      "metadata": {
        "id": "xR3iZu6BvgkG"
      },
      "source": [
        "index_names2 = df[(df['Type'] == 'Valitsus- ja riigiasutus')].index\n",
        "df.drop(index_names2, inplace = True)"
      ],
      "id": "xR3iZu6BvgkG",
      "execution_count": null,
      "outputs": []
    },
    {
      "cell_type": "code",
      "metadata": {
        "id": "GEo4dQiiwwaa"
      },
      "source": [
        "df['All_taxes'].dropna(inplace = True)"
      ],
      "id": "GEo4dQiiwwaa",
      "execution_count": null,
      "outputs": []
    },
    {
      "cell_type": "code",
      "metadata": {
        "colab": {
          "base_uri": "https://localhost:8080/",
          "height": 347
        },
        "id": "XvYfNuyoxNBP",
        "outputId": "caf16968-569c-4604-d648-822c62f7b63f"
      },
      "source": [
        "df.head()"
      ],
      "id": "XvYfNuyoxNBP",
      "execution_count": null,
      "outputs": [
        {
          "output_type": "execute_result",
          "data": {
            "text/html": [
              "<div>\n",
              "<style scoped>\n",
              "    .dataframe tbody tr th:only-of-type {\n",
              "        vertical-align: middle;\n",
              "    }\n",
              "\n",
              "    .dataframe tbody tr th {\n",
              "        vertical-align: top;\n",
              "    }\n",
              "\n",
              "    .dataframe thead th {\n",
              "        text-align: right;\n",
              "    }\n",
              "</style>\n",
              "<table border=\"1\" class=\"dataframe\">\n",
              "  <thead>\n",
              "    <tr style=\"text-align: right;\">\n",
              "      <th></th>\n",
              "      <th>Registration_number</th>\n",
              "      <th>Name_x</th>\n",
              "      <th>Type</th>\n",
              "      <th>Registered_for_VAT</th>\n",
              "      <th>County</th>\n",
              "      <th>Business_area_by_EMTAK_system</th>\n",
              "      <th>All_taxes</th>\n",
              "      <th>Labor_taxes</th>\n",
              "      <th>Turnover</th>\n",
              "      <th>number_of_employees</th>\n",
              "      <th>year_quarter</th>\n",
              "      <th>Name_y</th>\n",
              "      <th>Business_area_by_EMTAK_system_letter</th>\n",
              "      <th>Business_are_by_EMTAK_system_number</th>\n",
              "      <th>Institutional_classification</th>\n",
              "      <th>Client_identifyer_by_Estonian_Central_Bank</th>\n",
              "      <th>Registration_date</th>\n",
              "      <th>Deletion_date</th>\n",
              "    </tr>\n",
              "  </thead>\n",
              "  <tbody>\n",
              "    <tr>\n",
              "      <th>0</th>\n",
              "      <td>10000018</td>\n",
              "      <td>AMSERV AUTO AS</td>\n",
              "      <td>Äriühing</td>\n",
              "      <td>jah</td>\n",
              "      <td>Harju maakond</td>\n",
              "      <td>HULGI- JA JAEKAUBANDUS; MOOTORSŐIDUKITE JA MOO...</td>\n",
              "      <td>460247.80</td>\n",
              "      <td>493785.19</td>\n",
              "      <td>NaN</td>\n",
              "      <td>196.0</td>\n",
              "      <td>2017_i</td>\n",
              "      <td>Amserv Auto AS</td>\n",
              "      <td>G</td>\n",
              "      <td>4511</td>\n",
              "      <td>S11002-S11003</td>\n",
              "      <td>8</td>\n",
              "      <td>1994-08-23</td>\n",
              "      <td>NaN</td>\n",
              "    </tr>\n",
              "    <tr>\n",
              "      <th>1</th>\n",
              "      <td>10000024</td>\n",
              "      <td>EESTI RAAMAT, OÜ</td>\n",
              "      <td>Äriühing</td>\n",
              "      <td>jah</td>\n",
              "      <td>Harju maakond</td>\n",
              "      <td>INFO JA SIDE</td>\n",
              "      <td>12126.74</td>\n",
              "      <td>11533.92</td>\n",
              "      <td>51486.75</td>\n",
              "      <td>9.0</td>\n",
              "      <td>2017_i</td>\n",
              "      <td>Eesti Raamat, OÜ</td>\n",
              "      <td>J</td>\n",
              "      <td>5811</td>\n",
              "      <td>S11002-S11003</td>\n",
              "      <td>8</td>\n",
              "      <td>1990-07-17</td>\n",
              "      <td>NaN</td>\n",
              "    </tr>\n",
              "    <tr>\n",
              "      <th>2</th>\n",
              "      <td>10000127</td>\n",
              "      <td>ARAVETE APTEEK, TÜ</td>\n",
              "      <td>Äriühing</td>\n",
              "      <td>jah</td>\n",
              "      <td>Järva maakond</td>\n",
              "      <td>HULGI- JA JAEKAUBANDUS; MOOTORSŐIDUKITE JA MOO...</td>\n",
              "      <td>6595.39</td>\n",
              "      <td>3983.36</td>\n",
              "      <td>106263.62</td>\n",
              "      <td>2.0</td>\n",
              "      <td>2017_i</td>\n",
              "      <td>Aravete Apteek TÜ</td>\n",
              "      <td>G</td>\n",
              "      <td>4773</td>\n",
              "      <td>S11002-S11003</td>\n",
              "      <td>8</td>\n",
              "      <td>1995-09-27</td>\n",
              "      <td>NaN</td>\n",
              "    </tr>\n",
              "    <tr>\n",
              "      <th>3</th>\n",
              "      <td>10000165</td>\n",
              "      <td>KIVIÕLI KAUBAHOOV, AS</td>\n",
              "      <td>Äriühing</td>\n",
              "      <td>jah</td>\n",
              "      <td>Ida-Viru maakond</td>\n",
              "      <td>HULGI- JA JAEKAUBANDUS; MOOTORSŐIDUKITE JA MOO...</td>\n",
              "      <td>64705.68</td>\n",
              "      <td>39278.43</td>\n",
              "      <td>501856.24</td>\n",
              "      <td>33.0</td>\n",
              "      <td>2017_i</td>\n",
              "      <td>Kiviõli Kaubahoov, AS</td>\n",
              "      <td>G</td>\n",
              "      <td>4719</td>\n",
              "      <td>S11002-S11003</td>\n",
              "      <td>8</td>\n",
              "      <td>1993-04-21</td>\n",
              "      <td>NaN</td>\n",
              "    </tr>\n",
              "    <tr>\n",
              "      <th>4</th>\n",
              "      <td>10000219</td>\n",
              "      <td>YEAR, AS</td>\n",
              "      <td>Äriühing</td>\n",
              "      <td>jah</td>\n",
              "      <td>Harju maakond</td>\n",
              "      <td>TÖÖTLEV TÖÖSTUS</td>\n",
              "      <td>21555.48</td>\n",
              "      <td>23840.41</td>\n",
              "      <td>90645.11</td>\n",
              "      <td>34.0</td>\n",
              "      <td>2017_i</td>\n",
              "      <td>Year AS</td>\n",
              "      <td>C</td>\n",
              "      <td>1413</td>\n",
              "      <td>S11002-S11003</td>\n",
              "      <td>8</td>\n",
              "      <td>1995-09-28</td>\n",
              "      <td>NaN</td>\n",
              "    </tr>\n",
              "  </tbody>\n",
              "</table>\n",
              "</div>"
            ],
            "text/plain": [
              "   Registration_number                 Name_x  ... Registration_date Deletion_date\n",
              "0             10000018         AMSERV AUTO AS  ...        1994-08-23           NaN\n",
              "1             10000024       EESTI RAAMAT, OÜ  ...        1990-07-17           NaN\n",
              "2             10000127     ARAVETE APTEEK, TÜ  ...        1995-09-27           NaN\n",
              "3             10000165  KIVIÕLI KAUBAHOOV, AS  ...        1993-04-21           NaN\n",
              "4             10000219               YEAR, AS  ...        1995-09-28           NaN\n",
              "\n",
              "[5 rows x 18 columns]"
            ]
          },
          "metadata": {},
          "execution_count": 14
        }
      ]
    },
    {
      "cell_type": "code",
      "metadata": {
        "colab": {
          "base_uri": "https://localhost:8080/"
        },
        "id": "KIVcMZx6ycYC",
        "outputId": "a0a18c22-9301-4bf0-920d-78aa07bdc8b0"
      },
      "source": [
        "df.isnull().sum()"
      ],
      "id": "KIVcMZx6ycYC",
      "execution_count": null,
      "outputs": [
        {
          "output_type": "execute_result",
          "data": {
            "text/plain": [
              "Registration_number                                0\n",
              "Name_x                                             0\n",
              "Type                                               0\n",
              "Registered_for_VAT                                 0\n",
              "County                                          2390\n",
              "Business_area_by_EMTAK_system                   3109\n",
              "All_taxes                                      78785\n",
              "Labor_taxes                                    78785\n",
              "Turnover                                       87230\n",
              "number_of_employees                           148973\n",
              "year_quarter                                       0\n",
              "Name_y                                             0\n",
              "Business_area_by_EMTAK_system_letter               0\n",
              "Business_are_by_EMTAK_system_number                0\n",
              "Institutional_classification                       0\n",
              "Client_identifyer_by_Estonian_Central_Bank         0\n",
              "Registration_date                                  0\n",
              "Deletion_date                                 406853\n",
              "dtype: int64"
            ]
          },
          "metadata": {},
          "execution_count": 15
        }
      ]
    },
    {
      "cell_type": "code",
      "metadata": {
        "colab": {
          "base_uri": "https://localhost:8080/",
          "height": 652
        },
        "id": "2guvOSi8zvF1",
        "outputId": "f3c9fb09-6b23-4b09-ca97-cdc506774aec"
      },
      "source": [
        "df.dropna(subset=['Turnover'])"
      ],
      "id": "2guvOSi8zvF1",
      "execution_count": null,
      "outputs": [
        {
          "output_type": "execute_result",
          "data": {
            "text/html": [
              "<div>\n",
              "<style scoped>\n",
              "    .dataframe tbody tr th:only-of-type {\n",
              "        vertical-align: middle;\n",
              "    }\n",
              "\n",
              "    .dataframe tbody tr th {\n",
              "        vertical-align: top;\n",
              "    }\n",
              "\n",
              "    .dataframe thead th {\n",
              "        text-align: right;\n",
              "    }\n",
              "</style>\n",
              "<table border=\"1\" class=\"dataframe\">\n",
              "  <thead>\n",
              "    <tr style=\"text-align: right;\">\n",
              "      <th></th>\n",
              "      <th>Registration_number</th>\n",
              "      <th>Name_x</th>\n",
              "      <th>Type</th>\n",
              "      <th>Registered_for_VAT</th>\n",
              "      <th>County</th>\n",
              "      <th>Business_area_by_EMTAK_system</th>\n",
              "      <th>All_taxes</th>\n",
              "      <th>Labor_taxes</th>\n",
              "      <th>Turnover</th>\n",
              "      <th>number_of_employees</th>\n",
              "      <th>year_quarter</th>\n",
              "      <th>Name_y</th>\n",
              "      <th>Business_area_by_EMTAK_system_letter</th>\n",
              "      <th>Business_are_by_EMTAK_system_number</th>\n",
              "      <th>Institutional_classification</th>\n",
              "      <th>Client_identifyer_by_Estonian_Central_Bank</th>\n",
              "      <th>Registration_date</th>\n",
              "      <th>Deletion_date</th>\n",
              "    </tr>\n",
              "  </thead>\n",
              "  <tbody>\n",
              "    <tr>\n",
              "      <th>1</th>\n",
              "      <td>10000024</td>\n",
              "      <td>EESTI RAAMAT, OÜ</td>\n",
              "      <td>Äriühing</td>\n",
              "      <td>jah</td>\n",
              "      <td>Harju maakond</td>\n",
              "      <td>INFO JA SIDE</td>\n",
              "      <td>12126.74</td>\n",
              "      <td>11533.92</td>\n",
              "      <td>51486.75</td>\n",
              "      <td>9.0</td>\n",
              "      <td>2017_i</td>\n",
              "      <td>Eesti Raamat, OÜ</td>\n",
              "      <td>J</td>\n",
              "      <td>5811</td>\n",
              "      <td>S11002-S11003</td>\n",
              "      <td>8</td>\n",
              "      <td>1990-07-17</td>\n",
              "      <td>NaN</td>\n",
              "    </tr>\n",
              "    <tr>\n",
              "      <th>2</th>\n",
              "      <td>10000127</td>\n",
              "      <td>ARAVETE APTEEK, TÜ</td>\n",
              "      <td>Äriühing</td>\n",
              "      <td>jah</td>\n",
              "      <td>Järva maakond</td>\n",
              "      <td>HULGI- JA JAEKAUBANDUS; MOOTORSŐIDUKITE JA MOO...</td>\n",
              "      <td>6595.39</td>\n",
              "      <td>3983.36</td>\n",
              "      <td>106263.62</td>\n",
              "      <td>2.0</td>\n",
              "      <td>2017_i</td>\n",
              "      <td>Aravete Apteek TÜ</td>\n",
              "      <td>G</td>\n",
              "      <td>4773</td>\n",
              "      <td>S11002-S11003</td>\n",
              "      <td>8</td>\n",
              "      <td>1995-09-27</td>\n",
              "      <td>NaN</td>\n",
              "    </tr>\n",
              "    <tr>\n",
              "      <th>3</th>\n",
              "      <td>10000165</td>\n",
              "      <td>KIVIÕLI KAUBAHOOV, AS</td>\n",
              "      <td>Äriühing</td>\n",
              "      <td>jah</td>\n",
              "      <td>Ida-Viru maakond</td>\n",
              "      <td>HULGI- JA JAEKAUBANDUS; MOOTORSŐIDUKITE JA MOO...</td>\n",
              "      <td>64705.68</td>\n",
              "      <td>39278.43</td>\n",
              "      <td>501856.24</td>\n",
              "      <td>33.0</td>\n",
              "      <td>2017_i</td>\n",
              "      <td>Kiviõli Kaubahoov, AS</td>\n",
              "      <td>G</td>\n",
              "      <td>4719</td>\n",
              "      <td>S11002-S11003</td>\n",
              "      <td>8</td>\n",
              "      <td>1993-04-21</td>\n",
              "      <td>NaN</td>\n",
              "    </tr>\n",
              "    <tr>\n",
              "      <th>4</th>\n",
              "      <td>10000219</td>\n",
              "      <td>YEAR, AS</td>\n",
              "      <td>Äriühing</td>\n",
              "      <td>jah</td>\n",
              "      <td>Harju maakond</td>\n",
              "      <td>TÖÖTLEV TÖÖSTUS</td>\n",
              "      <td>21555.48</td>\n",
              "      <td>23840.41</td>\n",
              "      <td>90645.11</td>\n",
              "      <td>34.0</td>\n",
              "      <td>2017_i</td>\n",
              "      <td>Year AS</td>\n",
              "      <td>C</td>\n",
              "      <td>1413</td>\n",
              "      <td>S11002-S11003</td>\n",
              "      <td>8</td>\n",
              "      <td>1995-09-28</td>\n",
              "      <td>NaN</td>\n",
              "    </tr>\n",
              "    <tr>\n",
              "      <th>5</th>\n",
              "      <td>10000248</td>\n",
              "      <td>ITW CONSTRUCTION PRODUCTS OÜ</td>\n",
              "      <td>Äriühing</td>\n",
              "      <td>jah</td>\n",
              "      <td>Harju maakond</td>\n",
              "      <td>HULGI- JA JAEKAUBANDUS; MOOTORSŐIDUKITE JA MOO...</td>\n",
              "      <td>92882.60</td>\n",
              "      <td>22990.97</td>\n",
              "      <td>888253.22</td>\n",
              "      <td>5.0</td>\n",
              "      <td>2017_i</td>\n",
              "      <td>ITW CONSTRUCTION PRODUCTS OÜ</td>\n",
              "      <td>G</td>\n",
              "      <td>4669</td>\n",
              "      <td>S11002-S11003</td>\n",
              "      <td>8</td>\n",
              "      <td>1995-09-28</td>\n",
              "      <td>NaN</td>\n",
              "    </tr>\n",
              "    <tr>\n",
              "      <th>...</th>\n",
              "      <td>...</td>\n",
              "      <td>...</td>\n",
              "      <td>...</td>\n",
              "      <td>...</td>\n",
              "      <td>...</td>\n",
              "      <td>...</td>\n",
              "      <td>...</td>\n",
              "      <td>...</td>\n",
              "      <td>...</td>\n",
              "      <td>...</td>\n",
              "      <td>...</td>\n",
              "      <td>...</td>\n",
              "      <td>...</td>\n",
              "      <td>...</td>\n",
              "      <td>...</td>\n",
              "      <td>...</td>\n",
              "      <td>...</td>\n",
              "      <td>...</td>\n",
              "    </tr>\n",
              "    <tr>\n",
              "      <th>425642</th>\n",
              "      <td>16196755</td>\n",
              "      <td>KMG OÜ</td>\n",
              "      <td>Äriühing</td>\n",
              "      <td>jah</td>\n",
              "      <td>Harju ( Tallinn )</td>\n",
              "      <td>EHITUS</td>\n",
              "      <td>315204.79</td>\n",
              "      <td>273426.19</td>\n",
              "      <td>5437446.59</td>\n",
              "      <td>197.0</td>\n",
              "      <td>2021_ii</td>\n",
              "      <td>YIT TEED OÜ</td>\n",
              "      <td>F</td>\n",
              "      <td>4211</td>\n",
              "      <td>S11002-S11003</td>\n",
              "      <td>8</td>\n",
              "      <td>2021-03-31</td>\n",
              "      <td>NaN</td>\n",
              "    </tr>\n",
              "    <tr>\n",
              "      <th>425644</th>\n",
              "      <td>16196755</td>\n",
              "      <td>KMG OÜ</td>\n",
              "      <td>Äriühing</td>\n",
              "      <td>jah</td>\n",
              "      <td>Harju ( Tallinn )</td>\n",
              "      <td>EHITUS</td>\n",
              "      <td>315204.79</td>\n",
              "      <td>273426.19</td>\n",
              "      <td>5437446.59</td>\n",
              "      <td>197.0</td>\n",
              "      <td>2021_ii</td>\n",
              "      <td>YIT TEED OÜ</td>\n",
              "      <td>F</td>\n",
              "      <td>4211</td>\n",
              "      <td>S11002-S11003</td>\n",
              "      <td>8</td>\n",
              "      <td>2021-03-31</td>\n",
              "      <td>NaN</td>\n",
              "    </tr>\n",
              "    <tr>\n",
              "      <th>425648</th>\n",
              "      <td>16235461</td>\n",
              "      <td>OPERAIL REPAIRS OÜ</td>\n",
              "      <td>Äriühing</td>\n",
              "      <td>jah</td>\n",
              "      <td>Harju ( Tallinn )</td>\n",
              "      <td>TÖÖTLEV TÖÖSTUS</td>\n",
              "      <td>139789.85</td>\n",
              "      <td>69244.23</td>\n",
              "      <td>746247.48</td>\n",
              "      <td>81.0</td>\n",
              "      <td>2021_iii</td>\n",
              "      <td>Operail Repairs OÜ</td>\n",
              "      <td>C</td>\n",
              "      <td>3317</td>\n",
              "      <td>S11001</td>\n",
              "      <td>7</td>\n",
              "      <td>2021-05-21</td>\n",
              "      <td>NaN</td>\n",
              "    </tr>\n",
              "    <tr>\n",
              "      <th>425649</th>\n",
              "      <td>16235461</td>\n",
              "      <td>OPERAIL REPAIRS OÜ</td>\n",
              "      <td>Äriühing</td>\n",
              "      <td>jah</td>\n",
              "      <td>Harju ( Tallinn )</td>\n",
              "      <td>TÖÖTLEV TÖÖSTUS</td>\n",
              "      <td>139789.85</td>\n",
              "      <td>69244.23</td>\n",
              "      <td>746247.48</td>\n",
              "      <td>81.0</td>\n",
              "      <td>2021_iii</td>\n",
              "      <td>Operail Repairs OÜ</td>\n",
              "      <td>C</td>\n",
              "      <td>3317</td>\n",
              "      <td>S11001</td>\n",
              "      <td>7</td>\n",
              "      <td>2021-05-21</td>\n",
              "      <td>NaN</td>\n",
              "    </tr>\n",
              "    <tr>\n",
              "      <th>425650</th>\n",
              "      <td>16235461</td>\n",
              "      <td>OPERAIL REPAIRS OÜ</td>\n",
              "      <td>Äriühing</td>\n",
              "      <td>jah</td>\n",
              "      <td>Harju ( Tallinn )</td>\n",
              "      <td>TÖÖTLEV TÖÖSTUS</td>\n",
              "      <td>139789.85</td>\n",
              "      <td>69244.23</td>\n",
              "      <td>746247.48</td>\n",
              "      <td>81.0</td>\n",
              "      <td>2021_iii</td>\n",
              "      <td>Operail Repairs OÜ</td>\n",
              "      <td>C</td>\n",
              "      <td>3317</td>\n",
              "      <td>S11001</td>\n",
              "      <td>7</td>\n",
              "      <td>2021-05-21</td>\n",
              "      <td>NaN</td>\n",
              "    </tr>\n",
              "  </tbody>\n",
              "</table>\n",
              "<p>322709 rows × 18 columns</p>\n",
              "</div>"
            ],
            "text/plain": [
              "        Registration_number  ... Deletion_date\n",
              "1                  10000024  ...           NaN\n",
              "2                  10000127  ...           NaN\n",
              "3                  10000165  ...           NaN\n",
              "4                  10000219  ...           NaN\n",
              "5                  10000248  ...           NaN\n",
              "...                     ...  ...           ...\n",
              "425642             16196755  ...           NaN\n",
              "425644             16196755  ...           NaN\n",
              "425648             16235461  ...           NaN\n",
              "425649             16235461  ...           NaN\n",
              "425650             16235461  ...           NaN\n",
              "\n",
              "[322709 rows x 18 columns]"
            ]
          },
          "metadata": {},
          "execution_count": 16
        }
      ]
    },
    {
      "cell_type": "code",
      "metadata": {
        "colab": {
          "base_uri": "https://localhost:8080/"
        },
        "id": "PerqrxSHz30c",
        "outputId": "e7575e02-cdfa-48d7-f0ef-d6aba8d3498a"
      },
      "source": [
        "df.info()"
      ],
      "id": "PerqrxSHz30c",
      "execution_count": null,
      "outputs": [
        {
          "output_type": "stream",
          "name": "stdout",
          "text": [
            "<class 'pandas.core.frame.DataFrame'>\n",
            "Int64Index: 409939 entries, 0 to 425654\n",
            "Data columns (total 18 columns):\n",
            " #   Column                                      Non-Null Count   Dtype  \n",
            "---  ------                                      --------------   -----  \n",
            " 0   Registration_number                         409939 non-null  int64  \n",
            " 1   Name_x                                      409939 non-null  object \n",
            " 2   Type                                        409939 non-null  object \n",
            " 3   Registered_for_VAT                          409939 non-null  object \n",
            " 4   County                                      407549 non-null  object \n",
            " 5   Business_area_by_EMTAK_system               406830 non-null  object \n",
            " 6   All_taxes                                   331154 non-null  float64\n",
            " 7   Labor_taxes                                 331154 non-null  float64\n",
            " 8   Turnover                                    322709 non-null  float64\n",
            " 9   number_of_employees                         260966 non-null  float64\n",
            " 10  year_quarter                                409939 non-null  object \n",
            " 11  Name_y                                      409939 non-null  object \n",
            " 12  Business_area_by_EMTAK_system_letter        409939 non-null  object \n",
            " 13  Business_are_by_EMTAK_system_number         409939 non-null  int64  \n",
            " 14  Institutional_classification                409939 non-null  object \n",
            " 15  Client_identifyer_by_Estonian_Central_Bank  409939 non-null  int64  \n",
            " 16  Registration_date                           409939 non-null  object \n",
            " 17  Deletion_date                               3086 non-null    object \n",
            "dtypes: float64(4), int64(3), object(11)\n",
            "memory usage: 59.4+ MB\n"
          ]
        }
      ]
    },
    {
      "cell_type": "code",
      "metadata": {
        "id": "fKBOkB66ZjX0"
      },
      "source": [
        "df['All_taxes'].dropna(inplace = True)"
      ],
      "id": "fKBOkB66ZjX0",
      "execution_count": null,
      "outputs": []
    },
    {
      "cell_type": "code",
      "metadata": {
        "id": "B8vLoUsjaOnl"
      },
      "source": [
        "df.dropna(subset=['All_taxes'], how='all', inplace=True)"
      ],
      "id": "B8vLoUsjaOnl",
      "execution_count": null,
      "outputs": []
    },
    {
      "cell_type": "code",
      "metadata": {
        "colab": {
          "base_uri": "https://localhost:8080/"
        },
        "id": "Wyjc0t8HcTg0",
        "outputId": "dcd45e85-22fb-4f11-f8b4-0f70ea230302"
      },
      "source": [
        "df.isnull().sum()"
      ],
      "id": "Wyjc0t8HcTg0",
      "execution_count": null,
      "outputs": [
        {
          "output_type": "execute_result",
          "data": {
            "text/plain": [
              "Registration_number                                0\n",
              "Name_x                                             0\n",
              "Type                                               0\n",
              "Registered_for_VAT                                 0\n",
              "County                                           636\n",
              "Business_area_by_EMTAK_system                   2634\n",
              "All_taxes                                          0\n",
              "Labor_taxes                                        0\n",
              "Turnover                                       59648\n",
              "number_of_employees                            93558\n",
              "year_quarter                                       0\n",
              "Name_y                                             0\n",
              "Business_area_by_EMTAK_system_letter               0\n",
              "Business_are_by_EMTAK_system_number                0\n",
              "Institutional_classification                       0\n",
              "Client_identifyer_by_Estonian_Central_Bank         0\n",
              "Registration_date                                  0\n",
              "Deletion_date                                 328625\n",
              "dtype: int64"
            ]
          },
          "metadata": {},
          "execution_count": 20
        }
      ]
    },
    {
      "cell_type": "code",
      "metadata": {
        "id": "Aka5yyvrcbfu"
      },
      "source": [
        "df.dropna(subset=['Turnover'], how='all', inplace=True)"
      ],
      "id": "Aka5yyvrcbfu",
      "execution_count": null,
      "outputs": []
    },
    {
      "cell_type": "code",
      "metadata": {
        "colab": {
          "base_uri": "https://localhost:8080/"
        },
        "id": "CavQ9S1QcfVS",
        "outputId": "c898235e-2578-4fe6-ea07-c87451e30234"
      },
      "source": [
        "df.isnull().sum()"
      ],
      "id": "CavQ9S1QcfVS",
      "execution_count": null,
      "outputs": [
        {
          "output_type": "execute_result",
          "data": {
            "text/plain": [
              "Registration_number                                0\n",
              "Name_x                                             0\n",
              "Type                                               0\n",
              "Registered_for_VAT                                 0\n",
              "County                                           576\n",
              "Business_area_by_EMTAK_system                   2069\n",
              "All_taxes                                          0\n",
              "Labor_taxes                                        0\n",
              "Turnover                                           0\n",
              "number_of_employees                            84012\n",
              "year_quarter                                       0\n",
              "Name_y                                             0\n",
              "Business_area_by_EMTAK_system_letter               0\n",
              "Business_are_by_EMTAK_system_number                0\n",
              "Institutional_classification                       0\n",
              "Client_identifyer_by_Estonian_Central_Bank         0\n",
              "Registration_date                                  0\n",
              "Deletion_date                                 269176\n",
              "dtype: int64"
            ]
          },
          "metadata": {},
          "execution_count": 22
        }
      ]
    },
    {
      "cell_type": "code",
      "metadata": {
        "id": "_Epa_WZhcjgO"
      },
      "source": [
        "df.to_csv('All_merged_2017_2021_cleaned.csv')"
      ],
      "id": "_Epa_WZhcjgO",
      "execution_count": null,
      "outputs": []
    }
  ]
}
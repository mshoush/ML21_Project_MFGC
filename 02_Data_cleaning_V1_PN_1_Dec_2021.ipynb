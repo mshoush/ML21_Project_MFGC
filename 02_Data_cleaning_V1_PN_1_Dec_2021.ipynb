{
 "cells": [
  {
   "cell_type": "code",
   "execution_count": 1,
   "outputs": [],
   "source": [
    "# import necessary libraries\n",
    "import pandas as pd\n",
    "import numpy as np\n",
    "import math\n",
    "import os"
   ],
   "metadata": {
    "collapsed": false,
    "pycharm": {
     "name": "#%%\n"
    }
   }
  },
  {
   "cell_type": "markdown",
   "source": [
    "# Data Cleaning"
   ],
   "metadata": {
    "collapsed": false,
    "pycharm": {
     "name": "#%% md\n"
    }
   }
  },
  {
   "cell_type": "code",
   "execution_count": 2,
   "outputs": [
    {
     "name": "stderr",
     "output_type": "stream",
     "text": [
      "/Library/Frameworks/Python.framework/Versions/3.8/lib/python3.8/site-packages/IPython/core/interactiveshell.py:3444: DtypeWarning: Columns (0,11,13,15,16) have mixed types.Specify dtype option on import or set low_memory=False.\n",
      "  exec(code_obj, self.user_global_ns, self.user_ns)\n",
      "/Library/Frameworks/Python.framework/Versions/3.8/lib/python3.8/site-packages/IPython/core/interactiveshell.py:3444: DtypeWarning: Columns (0,16) have mixed types.Specify dtype option on import or set low_memory=False.\n",
      "  exec(code_obj, self.user_global_ns, self.user_ns)\n"
     ]
    }
   ],
   "source": [
    "# Loading all 3 databases\n",
    "\n",
    "all_df = pd.read_csv('./data/dataframes/full_period.csv')\n",
    "all_df = all_df.sort_values('year_quarter').reset_index(drop=True)\n",
    "\n",
    "before_df = pd.read_csv('./data/dataframes/before_covid.csv')\n",
    "before_df = before_df.sort_values('year_quarter').reset_index(drop=True)\n",
    "\n",
    "during_df = pd.read_csv('./data/dataframes/during_covid.csv')\n",
    "during_df = during_df.sort_values('year_quarter').reset_index(drop=True)"
   ],
   "metadata": {
    "collapsed": false,
    "pycharm": {
     "name": "#%%\n"
    }
   }
  },
  {
   "cell_type": "code",
   "execution_count": 3,
   "outputs": [
    {
     "data": {
      "text/plain": "(2561175, 17)"
     },
     "execution_count": 3,
     "metadata": {},
     "output_type": "execute_result"
    }
   ],
   "source": [
    "all_df.shape"
   ],
   "metadata": {
    "collapsed": false,
    "pycharm": {
     "name": "#%%\n"
    }
   }
  },
  {
   "cell_type": "code",
   "execution_count": 4,
   "outputs": [
    {
     "data": {
      "text/plain": "(1686178, 17)"
     },
     "execution_count": 4,
     "metadata": {},
     "output_type": "execute_result"
    }
   ],
   "source": [
    "before_df.shape"
   ],
   "metadata": {
    "collapsed": false,
    "pycharm": {
     "name": "#%%\n"
    }
   }
  },
  {
   "cell_type": "code",
   "execution_count": 5,
   "outputs": [
    {
     "data": {
      "text/plain": "(874997, 17)"
     },
     "execution_count": 5,
     "metadata": {},
     "output_type": "execute_result"
    }
   ],
   "source": [
    "during_df.shape"
   ],
   "metadata": {
    "collapsed": false,
    "pycharm": {
     "name": "#%%\n"
    }
   }
  },
  {
   "cell_type": "code",
   "execution_count": 6,
   "outputs": [],
   "source": [
    "# Define data cleaning function\n",
    "\n",
    "def clean_data(df):\n",
    "    all_df = df\n",
    "\n",
    "    # drop turnover missing values\n",
    "    all_df = all_df[all_df['Turnover'].notna()]\n",
    "\n",
    "    # Remove all business types except äriühing\n",
    "    all_df = all_df[all_df['Type']==\"Äriühing\"]\n",
    "\n",
    "    # Drop duplicates\n",
    "    all_df = all_df.drop_duplicates()\n",
    "\n",
    "    # impute missing values\n",
    "    all_df['County'] = all_df['County'].replace(np.nan, \"other\")\n",
    "    all_df['Business_area_by_EMTAK_system'] = all_df['Business_area_by_EMTAK_system'].fillna(\"other\")\n",
    "\n",
    "    # same as number of employee, will do it by grouping during feat eng\n",
    "    #all_df['All_taxes'] = all_df['All_taxes'].fillna(all_df['All_taxes'].mean())\n",
    "    #all_df['Labor_taxes'] = all_df['Labor_taxes'].fillna(all_df['Labor_taxes'].mean())\n",
    "\n",
    "    # will add this to the feat engineering\n",
    "    # to do it by grouping\n",
    "    #all_df['number_of_employees'] = all_df['number_of_employees'].fillna(int(all_df['number_of_employees'].mean()))\n",
    "\n",
    "    # nan values mean companu still exist\n",
    "    all_df['Deletion_Date']=all_df['Deletion_Date'].fillna(int(1))\n",
    "    # Other values mean company died\n",
    "    all_df.loc[(all_df['Deletion_Date'] !=1), 'Deletion_Date'] = 0\n",
    "\n",
    "    #replacing negative turover with small nr\n",
    "    all_df['Turnover'] = all_df['Turnover'].apply(lambda x : x if x > 0 else 0.000001)\n",
    "\n",
    "    #dropping name_y\n",
    "    #all_df.drop(columns=['Name_y'], inplace=True)\n",
    "\n",
    "    return all_df"
   ],
   "metadata": {
    "collapsed": false,
    "pycharm": {
     "name": "#%%\n"
    }
   }
  },
  {
   "cell_type": "code",
   "execution_count": 7,
   "outputs": [],
   "source": [
    "# Cleaning datasets\n",
    "\n",
    "all_cl = clean_data(all_df).reset_index(drop=True)\n",
    "before_cl = clean_data(before_df).reset_index(drop=True)\n",
    "during_cl = clean_data(during_df).reset_index(drop=True)\n",
    "#all_cl"
   ],
   "metadata": {
    "collapsed": false,
    "pycharm": {
     "name": "#%%\n"
    }
   }
  },
  {
   "cell_type": "code",
   "execution_count": 8,
   "outputs": [
    {
     "data": {
      "text/plain": "(1675254, 17)"
     },
     "execution_count": 8,
     "metadata": {},
     "output_type": "execute_result"
    }
   ],
   "source": [
    "all_cl.shape"
   ],
   "metadata": {
    "collapsed": false,
    "pycharm": {
     "name": "#%%\n"
    }
   }
  },
  {
   "cell_type": "code",
   "execution_count": 9,
   "outputs": [
    {
     "data": {
      "text/plain": "(1101055, 17)"
     },
     "execution_count": 9,
     "metadata": {},
     "output_type": "execute_result"
    }
   ],
   "source": [
    "before_cl.shape"
   ],
   "metadata": {
    "collapsed": false,
    "pycharm": {
     "name": "#%%\n"
    }
   }
  },
  {
   "cell_type": "code",
   "execution_count": 10,
   "outputs": [
    {
     "data": {
      "text/plain": "(574199, 17)"
     },
     "execution_count": 10,
     "metadata": {},
     "output_type": "execute_result"
    }
   ],
   "source": [
    "during_cl.shape"
   ],
   "metadata": {
    "collapsed": false,
    "pycharm": {
     "name": "#%%\n"
    }
   }
  },
  {
   "cell_type": "code",
   "execution_count": 11,
   "outputs": [
    {
     "name": "stdout",
     "output_type": "stream",
     "text": [
      "Whole period\n",
      "(19, 17)\n",
      "(19, 17)\n",
      "Before covid\n",
      "(13, 17)\n",
      "(13, 17)\n",
      "During covid\n",
      "(6, 17)\n",
      "(6, 17)\n"
     ]
    }
   ],
   "source": [
    "# Testing on company Nortal AS\n",
    "print('Whole period')\n",
    "print(all_cl.query('Registration_number == 10391131').shape)\n",
    "print(all_df.query('Registration_number == 10391131').shape)\n",
    "\n",
    "print('Before covid')\n",
    "print(before_cl.query('Registration_number == 10391131').shape)\n",
    "print(before_df.query('Registration_number == 10391131').shape)\n",
    "\n",
    "print('During covid')\n",
    "print(during_cl.query('Registration_number == 10391131').shape)\n",
    "print(during_df.query('Registration_number == 10391131').shape)"
   ],
   "metadata": {
    "collapsed": false,
    "pycharm": {
     "name": "#%%\n"
    }
   }
  },
  {
   "cell_type": "markdown",
   "source": [
    "# Feature Engineering"
   ],
   "metadata": {
    "collapsed": false,
    "pycharm": {
     "name": "#%% md\n"
    }
   }
  },
  {
   "cell_type": "code",
   "execution_count": 12,
   "outputs": [],
   "source": [
    "# Defining engineering engine\n",
    "\n",
    "def feat_eng(g):\n",
    "    ex_df=pd.DataFrame(g)\n",
    "\n",
    "    if ex_df['number_of_employees'].isnull().sum()>0:\n",
    "\n",
    "        try:\n",
    "            ex_df['number_of_employees'] = ex_df['number_of_employees'].fillna(int(ex_df['number_of_employees'].mean()))\n",
    "        except:\n",
    "            ex_df['number_of_employees'] = ex_df['number_of_employees'].fillna(int(1))\n",
    "\n",
    "\n",
    "\n",
    "    if ex_df['Labor_taxes'].isnull().sum():\n",
    "        #print(\"Labor_taxes\")\n",
    "        if math.isnan(ex_df['Labor_taxes'].mean()):\n",
    "            ex_df['Labor_taxes'] = 0000.1\n",
    "        else:\n",
    "            ex_df['Labor_taxes'] = ex_df['Labor_taxes'].fillna(ex_df['Labor_taxes'].mean())\n",
    "\n",
    "\n",
    "    if ex_df['All_taxes'].isnull().sum():\n",
    "        if math.isnan(ex_df['All_taxes'].mean()):\n",
    "            ex_df['All_taxes'] = 0000.1\n",
    "        else:\n",
    "            ex_df['All_taxes'] = ex_df['All_taxes'].fillna(ex_df['All_taxes'].mean())\n",
    "\n",
    "\n",
    "\n",
    "    # Cumulative Turn over\n",
    "    ex_df['cum_sum_turnover'] = np.round(ex_df['Turnover'].cumsum(), 2)\n",
    "    ex_df['cum_perc_turnover'] = np.round(100*ex_df['cum_sum_turnover']/ex_df['Turnover'].sum(), 2)\n",
    "\n",
    "    # combined taxes\n",
    "    ex_df['combined_taxes'] = np.round(ex_df['Labor_taxes'] + ex_df['All_taxes'], 2)\n",
    "\n",
    "    # Cumulative Taxes\n",
    "    ex_df['cum_sum_combined_taxes'] = np.round(ex_df['combined_taxes'].cumsum(), 2)\n",
    "    #ex_df['cum_perc_combined_taxes'] = np.round(100*ex_df['cum_sum_combined_taxes']/ex_df['combined_taxes'].sum(), 2)\n",
    "\n",
    "    # Revenue Growth\n",
    "    ex_df['revenue_growth'] = np.round(ex_df.Turnover.pct_change(fill_method=\"ffill\"),2)\n",
    "    ex_df['revenue_growth'] = ex_df['revenue_growth'].fillna(0)\n",
    "\n",
    "\n",
    "    # Profit per Employee\n",
    "    ex_df[\"profit_per_employee\"] = np.round(ex_df['Turnover']/ex_df['number_of_employees'], 2)\n",
    "\n",
    "\n",
    "    return ex_df"
   ],
   "metadata": {
    "collapsed": false,
    "pycharm": {
     "name": "#%%\n"
    }
   }
  },
  {
   "cell_type": "code",
   "execution_count": 13,
   "outputs": [
    {
     "data": {
      "text/plain": "        Registration_number                Name      Type Registered_for_VAT  \\\n0                  10257616       PEX TALLA, OÜ  Äriühing                jah   \n1                  12994847  MAD & WONDERFUL OÜ  Äriühing                jah   \n2                  11152753         DZORDZIA OÜ  Äriühing                jah   \n3                  12994862   O KAKS SERVICE OÜ  Äriühing                jah   \n4                  12994879           TERKEN OÜ  Äriühing                jah   \n...                     ...                 ...       ...                ...   \n1675249            14798832     COLART GROUP OÜ  Äriühing                jah   \n1675250            10942467         TONNINE, OÜ  Äriühing                jah   \n1675251            14798869        WISEDRIVE OÜ  Äriühing                jah   \n1675252            10942507      TARVO AUTO, OÜ  Äriühing                jah   \n1675253            10942513        INGELAND, OÜ  Äriühing                jah   \n\n                       County  \\\n0               Harju maakond   \n1               Tartu maakond   \n2               Harju maakond   \n3               Harju maakond   \n4               Lääne maakond   \n...                       ...   \n1675249     Harju ( Tallinn )   \n1675250  Tartu ( Tartu linn )   \n1675251  Harju ( Kiili vald )   \n1675252  Valga ( Valga vald )   \n1675253    Tartu ( Nõo vald )   \n\n                             Business_area_by_EMTAK_system  All_taxes  \\\n0                                          TÖÖTLEV TÖÖSTUS   24830.48   \n1        HULGI- JA JAEKAUBANDUS; MOOTORSŐIDUKITE JA MOO...       5.87   \n2                                       VEONDUS JA LAONDUS    6534.79   \n3                                                   EHITUS    2821.08   \n4                                    MAJUTUS JA TOITLUSTUS    1324.33   \n...                                                    ...        ...   \n1675249                                             EHITUS    4501.30   \n1675250                            KINNISVARAALANE TEGEVUS     543.53   \n1675251                                       INFO JA SIDE       0.00   \n1675252  HULGI- JA JAEKAUBANDUS; MOOTORSÕIDUKITE JA MOO...    8720.04   \n1675253  HULGI- JA JAEKAUBANDUS; MOOTORSÕIDUKITE JA MOO...   97556.52   \n\n         Labor_taxes   Turnover  number_of_employees  ...  \\\n0           15559.13  149408.76                  8.0  ...   \n1               0.00     163.51                  1.0  ...   \n2            3163.41  116510.14                  5.0  ...   \n3             899.37   21054.69                  5.0  ...   \n4             613.10    6251.00                  1.0  ...   \n...              ...        ...                  ...  ...   \n1675249      3352.39   20663.49                  2.0  ...   \n1675250       223.74    1039.75                  1.0  ...   \n1675251      3699.91    5535.42                  2.0  ...   \n1675252      6099.77   47566.62                  5.0  ...   \n1675253      3870.84  707084.92                  3.0  ...   \n\n        Institutional_classification Client_ID_by_Eesti_Pank  \\\n0                      S11002-S11003                     8.0   \n1                      S11002-S11003                     8.0   \n2                      S11002-S11003                     8.0   \n3                      S11002-S11003                     8.0   \n4                      S11002-S11003                     8.0   \n...                              ...                     ...   \n1675249                S11002-S11003                     8.0   \n1675250                S11002-S11003                     8.0   \n1675251                S11002-S11003                     8.0   \n1675252                S11002-S11003                     8.0   \n1675253                S11002-S11003                     8.0   \n\n         Registration_date Deletion_Date  cum_sum_turnover cum_perc_turnover  \\\n0               1997-09-01             1         149408.76              7.06   \n1               2016-02-12             1            163.51              0.06   \n2               2005-07-14             1         116510.14              8.25   \n3               2016-02-12             1          21054.69              1.08   \n4               2016-02-12             1           6251.00              5.81   \n...                    ...           ...               ...               ...   \n1675249         2019-09-06             1         380420.72            100.00   \n1675250         2003-05-05             1          81608.72            100.00   \n1675251         2019-09-06             1          14506.41            100.00   \n1675252         2003-05-06             1         772702.23            100.00   \n1675253         2003-05-07             1        6768347.98            100.00   \n\n        combined_taxes  cum_sum_combined_taxes  revenue_growth  \\\n0             40389.61                40389.61            0.00   \n1                 5.87                    5.87            0.00   \n2              9698.20                 9698.20            0.00   \n3              3720.45                 3720.45            0.00   \n4              1937.43                 1937.43            0.00   \n...                ...                     ...             ...   \n1675249        7853.69                65976.16           -0.57   \n1675250         767.27                35184.67            0.98   \n1675251        3699.91                16847.43            1.64   \n1675252       14819.81               245645.25           -0.13   \n1675253      101427.36               869557.89           -0.23   \n\n         profit_per_employee  \n0                   18676.10  \n1                     163.51  \n2                   23302.03  \n3                    4210.94  \n4                    6251.00  \n...                      ...  \n1675249             10331.75  \n1675250              1039.75  \n1675251              2767.71  \n1675252              9513.32  \n1675253            235694.97  \n\n[1675254 rows x 23 columns]",
      "text/html": "<div>\n<style scoped>\n    .dataframe tbody tr th:only-of-type {\n        vertical-align: middle;\n    }\n\n    .dataframe tbody tr th {\n        vertical-align: top;\n    }\n\n    .dataframe thead th {\n        text-align: right;\n    }\n</style>\n<table border=\"1\" class=\"dataframe\">\n  <thead>\n    <tr style=\"text-align: right;\">\n      <th></th>\n      <th>Registration_number</th>\n      <th>Name</th>\n      <th>Type</th>\n      <th>Registered_for_VAT</th>\n      <th>County</th>\n      <th>Business_area_by_EMTAK_system</th>\n      <th>All_taxes</th>\n      <th>Labor_taxes</th>\n      <th>Turnover</th>\n      <th>number_of_employees</th>\n      <th>...</th>\n      <th>Institutional_classification</th>\n      <th>Client_ID_by_Eesti_Pank</th>\n      <th>Registration_date</th>\n      <th>Deletion_Date</th>\n      <th>cum_sum_turnover</th>\n      <th>cum_perc_turnover</th>\n      <th>combined_taxes</th>\n      <th>cum_sum_combined_taxes</th>\n      <th>revenue_growth</th>\n      <th>profit_per_employee</th>\n    </tr>\n  </thead>\n  <tbody>\n    <tr>\n      <th>0</th>\n      <td>10257616</td>\n      <td>PEX TALLA, OÜ</td>\n      <td>Äriühing</td>\n      <td>jah</td>\n      <td>Harju maakond</td>\n      <td>TÖÖTLEV TÖÖSTUS</td>\n      <td>24830.48</td>\n      <td>15559.13</td>\n      <td>149408.76</td>\n      <td>8.0</td>\n      <td>...</td>\n      <td>S11002-S11003</td>\n      <td>8.0</td>\n      <td>1997-09-01</td>\n      <td>1</td>\n      <td>149408.76</td>\n      <td>7.06</td>\n      <td>40389.61</td>\n      <td>40389.61</td>\n      <td>0.00</td>\n      <td>18676.10</td>\n    </tr>\n    <tr>\n      <th>1</th>\n      <td>12994847</td>\n      <td>MAD &amp; WONDERFUL OÜ</td>\n      <td>Äriühing</td>\n      <td>jah</td>\n      <td>Tartu maakond</td>\n      <td>HULGI- JA JAEKAUBANDUS; MOOTORSŐIDUKITE JA MOO...</td>\n      <td>5.87</td>\n      <td>0.00</td>\n      <td>163.51</td>\n      <td>1.0</td>\n      <td>...</td>\n      <td>S11002-S11003</td>\n      <td>8.0</td>\n      <td>2016-02-12</td>\n      <td>1</td>\n      <td>163.51</td>\n      <td>0.06</td>\n      <td>5.87</td>\n      <td>5.87</td>\n      <td>0.00</td>\n      <td>163.51</td>\n    </tr>\n    <tr>\n      <th>2</th>\n      <td>11152753</td>\n      <td>DZORDZIA OÜ</td>\n      <td>Äriühing</td>\n      <td>jah</td>\n      <td>Harju maakond</td>\n      <td>VEONDUS JA LAONDUS</td>\n      <td>6534.79</td>\n      <td>3163.41</td>\n      <td>116510.14</td>\n      <td>5.0</td>\n      <td>...</td>\n      <td>S11002-S11003</td>\n      <td>8.0</td>\n      <td>2005-07-14</td>\n      <td>1</td>\n      <td>116510.14</td>\n      <td>8.25</td>\n      <td>9698.20</td>\n      <td>9698.20</td>\n      <td>0.00</td>\n      <td>23302.03</td>\n    </tr>\n    <tr>\n      <th>3</th>\n      <td>12994862</td>\n      <td>O KAKS SERVICE OÜ</td>\n      <td>Äriühing</td>\n      <td>jah</td>\n      <td>Harju maakond</td>\n      <td>EHITUS</td>\n      <td>2821.08</td>\n      <td>899.37</td>\n      <td>21054.69</td>\n      <td>5.0</td>\n      <td>...</td>\n      <td>S11002-S11003</td>\n      <td>8.0</td>\n      <td>2016-02-12</td>\n      <td>1</td>\n      <td>21054.69</td>\n      <td>1.08</td>\n      <td>3720.45</td>\n      <td>3720.45</td>\n      <td>0.00</td>\n      <td>4210.94</td>\n    </tr>\n    <tr>\n      <th>4</th>\n      <td>12994879</td>\n      <td>TERKEN OÜ</td>\n      <td>Äriühing</td>\n      <td>jah</td>\n      <td>Lääne maakond</td>\n      <td>MAJUTUS JA TOITLUSTUS</td>\n      <td>1324.33</td>\n      <td>613.10</td>\n      <td>6251.00</td>\n      <td>1.0</td>\n      <td>...</td>\n      <td>S11002-S11003</td>\n      <td>8.0</td>\n      <td>2016-02-12</td>\n      <td>1</td>\n      <td>6251.00</td>\n      <td>5.81</td>\n      <td>1937.43</td>\n      <td>1937.43</td>\n      <td>0.00</td>\n      <td>6251.00</td>\n    </tr>\n    <tr>\n      <th>...</th>\n      <td>...</td>\n      <td>...</td>\n      <td>...</td>\n      <td>...</td>\n      <td>...</td>\n      <td>...</td>\n      <td>...</td>\n      <td>...</td>\n      <td>...</td>\n      <td>...</td>\n      <td>...</td>\n      <td>...</td>\n      <td>...</td>\n      <td>...</td>\n      <td>...</td>\n      <td>...</td>\n      <td>...</td>\n      <td>...</td>\n      <td>...</td>\n      <td>...</td>\n      <td>...</td>\n    </tr>\n    <tr>\n      <th>1675249</th>\n      <td>14798832</td>\n      <td>COLART GROUP OÜ</td>\n      <td>Äriühing</td>\n      <td>jah</td>\n      <td>Harju ( Tallinn )</td>\n      <td>EHITUS</td>\n      <td>4501.30</td>\n      <td>3352.39</td>\n      <td>20663.49</td>\n      <td>2.0</td>\n      <td>...</td>\n      <td>S11002-S11003</td>\n      <td>8.0</td>\n      <td>2019-09-06</td>\n      <td>1</td>\n      <td>380420.72</td>\n      <td>100.00</td>\n      <td>7853.69</td>\n      <td>65976.16</td>\n      <td>-0.57</td>\n      <td>10331.75</td>\n    </tr>\n    <tr>\n      <th>1675250</th>\n      <td>10942467</td>\n      <td>TONNINE, OÜ</td>\n      <td>Äriühing</td>\n      <td>jah</td>\n      <td>Tartu ( Tartu linn )</td>\n      <td>KINNISVARAALANE TEGEVUS</td>\n      <td>543.53</td>\n      <td>223.74</td>\n      <td>1039.75</td>\n      <td>1.0</td>\n      <td>...</td>\n      <td>S11002-S11003</td>\n      <td>8.0</td>\n      <td>2003-05-05</td>\n      <td>1</td>\n      <td>81608.72</td>\n      <td>100.00</td>\n      <td>767.27</td>\n      <td>35184.67</td>\n      <td>0.98</td>\n      <td>1039.75</td>\n    </tr>\n    <tr>\n      <th>1675251</th>\n      <td>14798869</td>\n      <td>WISEDRIVE OÜ</td>\n      <td>Äriühing</td>\n      <td>jah</td>\n      <td>Harju ( Kiili vald )</td>\n      <td>INFO JA SIDE</td>\n      <td>0.00</td>\n      <td>3699.91</td>\n      <td>5535.42</td>\n      <td>2.0</td>\n      <td>...</td>\n      <td>S11002-S11003</td>\n      <td>8.0</td>\n      <td>2019-09-06</td>\n      <td>1</td>\n      <td>14506.41</td>\n      <td>100.00</td>\n      <td>3699.91</td>\n      <td>16847.43</td>\n      <td>1.64</td>\n      <td>2767.71</td>\n    </tr>\n    <tr>\n      <th>1675252</th>\n      <td>10942507</td>\n      <td>TARVO AUTO, OÜ</td>\n      <td>Äriühing</td>\n      <td>jah</td>\n      <td>Valga ( Valga vald )</td>\n      <td>HULGI- JA JAEKAUBANDUS; MOOTORSÕIDUKITE JA MOO...</td>\n      <td>8720.04</td>\n      <td>6099.77</td>\n      <td>47566.62</td>\n      <td>5.0</td>\n      <td>...</td>\n      <td>S11002-S11003</td>\n      <td>8.0</td>\n      <td>2003-05-06</td>\n      <td>1</td>\n      <td>772702.23</td>\n      <td>100.00</td>\n      <td>14819.81</td>\n      <td>245645.25</td>\n      <td>-0.13</td>\n      <td>9513.32</td>\n    </tr>\n    <tr>\n      <th>1675253</th>\n      <td>10942513</td>\n      <td>INGELAND, OÜ</td>\n      <td>Äriühing</td>\n      <td>jah</td>\n      <td>Tartu ( Nõo vald )</td>\n      <td>HULGI- JA JAEKAUBANDUS; MOOTORSÕIDUKITE JA MOO...</td>\n      <td>97556.52</td>\n      <td>3870.84</td>\n      <td>707084.92</td>\n      <td>3.0</td>\n      <td>...</td>\n      <td>S11002-S11003</td>\n      <td>8.0</td>\n      <td>2003-05-07</td>\n      <td>1</td>\n      <td>6768347.98</td>\n      <td>100.00</td>\n      <td>101427.36</td>\n      <td>869557.89</td>\n      <td>-0.23</td>\n      <td>235694.97</td>\n    </tr>\n  </tbody>\n</table>\n<p>1675254 rows × 23 columns</p>\n</div>"
     },
     "execution_count": 13,
     "metadata": {},
     "output_type": "execute_result"
    }
   ],
   "source": [
    "# Doing magic on whole period data\n",
    "\n",
    "all_cl = all_cl.groupby(\"Registration_number\").apply(feat_eng)\n",
    "all_cl"
   ],
   "metadata": {
    "collapsed": false,
    "pycharm": {
     "name": "#%%\n"
    }
   }
  },
  {
   "cell_type": "code",
   "execution_count": 14,
   "outputs": [],
   "source": [
    "# Saving cleared and engineered data\n",
    "\n",
    "all_cl.to_csv('./data/dataframes/full_period_enginered.csv', index=False)\n",
    "# Just to add something"
   ],
   "metadata": {
    "collapsed": false,
    "pycharm": {
     "name": "#%%\n"
    }
   }
  },
  {
   "cell_type": "code",
   "execution_count": 15,
   "outputs": [
    {
     "data": {
      "text/plain": "        Registration_number       Name      Type Registered_for_VAT  \\\n42705              10391131  NORTAL AS  Äriühing                jah   \n154027             10391131  NORTAL AS  Äriühing                jah   \n160950             10391131  NORTAL AS  Äriühing                jah   \n320600             10391131  NORTAL AS  Äriühing                jah   \n349819             10391131  NORTAL AS  Äriühing                jah   \n415019             10391131  NORTAL AS  Äriühing                jah   \n554640             10391131  NORTAL AS  Äriühing                jah   \n628381             10391131  NORTAL AS  Äriühing                jah   \n704249             10391131  NORTAL AS  Äriühing                jah   \n788907             10391131  NORTAL AS  Äriühing                jah   \n893925             10391131  NORTAL AS  Äriühing                jah   \n989428             10391131  NORTAL AS  Äriühing                jah   \n1031072            10391131  NORTAL AS  Äriühing                jah   \n1160734            10391131  NORTAL AS  Äriühing                jah   \n1236910            10391131  NORTAL AS  Äriühing                jah   \n1350570            10391131  NORTAL AS  Äriühing                jah   \n1452770            10391131  NORTAL AS  Äriühing                jah   \n1574245            10391131  NORTAL AS  Äriühing                jah   \n1620082            10391131  NORTAL AS  Äriühing                jah   \n\n                    County Business_area_by_EMTAK_system   All_taxes  \\\n42705        Harju maakond                  INFO JA SIDE  1426220.77   \n154027       Harju maakond                  INFO JA SIDE  2147796.23   \n160950       Harju maakond                  INFO JA SIDE  1550912.46   \n320600       Harju maakond                  INFO JA SIDE  1670639.48   \n349819       Harju maakond                  INFO JA SIDE  1821672.37   \n415019       Harju maakond                  INFO JA SIDE  1650326.66   \n554640       Harju maakond                  INFO JA SIDE  1789294.84   \n628381       Harju maakond                  INFO JA SIDE  1812415.29   \n704249       Harju maakond                  INFO JA SIDE  2660268.53   \n788907       Harju maakond                  INFO JA SIDE  2104782.75   \n893925   Harju ( Tallinn )                  INFO JA SIDE  2266627.29   \n989428   Harju ( Tallinn )                  INFO JA SIDE  2047342.04   \n1031072  Harju ( Tallinn )                  INFO JA SIDE  2385306.63   \n1160734  Harju ( Tallinn )                  INFO JA SIDE  2058699.39   \n1236910  Harju ( Tallinn )                  INFO JA SIDE  2382417.64   \n1350570  Harju ( Tallinn )                  INFO JA SIDE  2228457.14   \n1452770  Harju ( Tallinn )                  INFO JA SIDE  2419588.78   \n1574245  Harju ( Tallinn )                  INFO JA SIDE  2749129.87   \n1620082  Harju ( Tallinn )                  INFO JA SIDE  2280312.82   \n\n         Labor_taxes     Turnover  number_of_employees  ...  \\\n42705      994053.02   8609633.24                265.0  ...   \n154027    1648346.87   5743574.41                297.0  ...   \n160950    1195574.24   4944107.48                290.0  ...   \n320600    1158832.55   7469944.39                287.0  ...   \n349819    1216835.81  13929933.98                286.0  ...   \n415019    1280771.24   5916328.85                334.0  ...   \n554640    1403898.72   9355564.24                333.0  ...   \n628381    1446988.51   5548868.31                341.0  ...   \n704249    1569078.73  14522027.70                346.0  ...   \n788907    1801131.72   7352014.55                360.0  ...   \n893925    1753675.99   8217917.04                357.0  ...   \n989428    1704454.31   6110258.86                343.0  ...   \n1031072   1665475.73  23317179.15                336.0  ...   \n1160734   1769103.59   5558178.87                325.0  ...   \n1236910   1666719.24   9103649.61                319.0  ...   \n1350570   1677545.77   7631104.78                323.0  ...   \n1452770   1770788.26  20076959.72                327.0  ...   \n1574245   2035274.77   8749890.65                329.0  ...   \n1620082   1954937.20   6374571.03                332.0  ...   \n\n        Institutional_classification Client_ID_by_Eesti_Pank  \\\n42705                  S11002-S11003                     8.0   \n154027                 S11002-S11003                     8.0   \n160950                 S11002-S11003                     8.0   \n320600                 S11002-S11003                     8.0   \n349819                 S11002-S11003                     8.0   \n415019                 S11002-S11003                     8.0   \n554640                 S11002-S11003                     8.0   \n628381                 S11002-S11003                     8.0   \n704249                 S11002-S11003                     8.0   \n788907                 S11002-S11003                     8.0   \n893925                 S11002-S11003                     8.0   \n989428                 S11002-S11003                     8.0   \n1031072                S11002-S11003                     8.0   \n1160734                S11002-S11003                     8.0   \n1236910                S11002-S11003                     8.0   \n1350570                S11002-S11003                     8.0   \n1452770                S11002-S11003                     8.0   \n1574245                S11002-S11003                     8.0   \n1620082                S11002-S11003                     8.0   \n\n         Registration_date Deletion_Date  cum_sum_turnover cum_perc_turnover  \\\n42705           1998-02-20             1      8.609633e+06              4.82   \n154027          1998-02-20             1      1.435321e+07              8.04   \n160950          1998-02-20             1      1.929732e+07             10.81   \n320600          1998-02-20             1      2.676726e+07             14.99   \n349819          1998-02-20             1      4.069719e+07             22.80   \n415019          1998-02-20             1      4.661352e+07             26.11   \n554640          1998-02-20             1      5.596909e+07             31.35   \n628381          1998-02-20             1      6.151795e+07             34.46   \n704249          1998-02-20             1      7.603998e+07             42.59   \n788907          1998-02-20             1      8.339200e+07             46.71   \n893925          1998-02-20             1      9.160991e+07             51.31   \n989428          1998-02-20             1      9.772017e+07             54.74   \n1031072         1998-02-20             1      1.210374e+08             67.80   \n1160734         1998-02-20             1      1.265955e+08             70.91   \n1236910         1998-02-20             1      1.356992e+08             76.01   \n1350570         1998-02-20             1      1.433303e+08             80.28   \n1452770         1998-02-20             1      1.634072e+08             91.53   \n1574245         1998-02-20             1      1.721571e+08             96.43   \n1620082         1998-02-20             1      1.785317e+08            100.00   \n\n        combined_taxes  cum_sum_combined_taxes  revenue_growth  \\\n42705       2420273.79              2420273.79            0.00   \n154027      3796143.10              6216416.89           -0.33   \n160950      2746486.70              8962903.59           -0.14   \n320600      2829472.03             11792375.62            0.51   \n349819      3038508.18             14830883.80            0.86   \n415019      2931097.90             17761981.70           -0.58   \n554640      3193193.56             20955175.26            0.58   \n628381      3259403.80             24214579.06           -0.41   \n704249      4229347.26             28443926.32            1.62   \n788907      3905914.47             32349840.79           -0.49   \n893925      4020303.28             36370144.07            0.12   \n989428      3751796.35             40121940.42           -0.26   \n1031072     4050782.36             44172722.78            2.82   \n1160734     3827802.98             48000525.76           -0.76   \n1236910     4049136.88             52049662.64            0.64   \n1350570     3906002.91             55955665.55           -0.16   \n1452770     4190377.04             60146042.59            1.63   \n1574245     4784404.64             64930447.23           -0.56   \n1620082     4235250.02             69165697.25           -0.27   \n\n         profit_per_employee  \n42705               32489.18  \n154027              19338.63  \n160950              17048.65  \n320600              26027.68  \n349819              48706.06  \n415019              17713.56  \n554640              28094.79  \n628381              16272.34  \n704249              41971.18  \n788907              20422.26  \n893925              23019.38  \n989428              17814.17  \n1031072             69396.37  \n1160734             17102.09  \n1236910             28538.09  \n1350570             23625.71  \n1452770             61397.43  \n1574245             26595.41  \n1620082             19200.52  \n\n[19 rows x 23 columns]",
      "text/html": "<div>\n<style scoped>\n    .dataframe tbody tr th:only-of-type {\n        vertical-align: middle;\n    }\n\n    .dataframe tbody tr th {\n        vertical-align: top;\n    }\n\n    .dataframe thead th {\n        text-align: right;\n    }\n</style>\n<table border=\"1\" class=\"dataframe\">\n  <thead>\n    <tr style=\"text-align: right;\">\n      <th></th>\n      <th>Registration_number</th>\n      <th>Name</th>\n      <th>Type</th>\n      <th>Registered_for_VAT</th>\n      <th>County</th>\n      <th>Business_area_by_EMTAK_system</th>\n      <th>All_taxes</th>\n      <th>Labor_taxes</th>\n      <th>Turnover</th>\n      <th>number_of_employees</th>\n      <th>...</th>\n      <th>Institutional_classification</th>\n      <th>Client_ID_by_Eesti_Pank</th>\n      <th>Registration_date</th>\n      <th>Deletion_Date</th>\n      <th>cum_sum_turnover</th>\n      <th>cum_perc_turnover</th>\n      <th>combined_taxes</th>\n      <th>cum_sum_combined_taxes</th>\n      <th>revenue_growth</th>\n      <th>profit_per_employee</th>\n    </tr>\n  </thead>\n  <tbody>\n    <tr>\n      <th>42705</th>\n      <td>10391131</td>\n      <td>NORTAL AS</td>\n      <td>Äriühing</td>\n      <td>jah</td>\n      <td>Harju maakond</td>\n      <td>INFO JA SIDE</td>\n      <td>1426220.77</td>\n      <td>994053.02</td>\n      <td>8609633.24</td>\n      <td>265.0</td>\n      <td>...</td>\n      <td>S11002-S11003</td>\n      <td>8.0</td>\n      <td>1998-02-20</td>\n      <td>1</td>\n      <td>8.609633e+06</td>\n      <td>4.82</td>\n      <td>2420273.79</td>\n      <td>2420273.79</td>\n      <td>0.00</td>\n      <td>32489.18</td>\n    </tr>\n    <tr>\n      <th>154027</th>\n      <td>10391131</td>\n      <td>NORTAL AS</td>\n      <td>Äriühing</td>\n      <td>jah</td>\n      <td>Harju maakond</td>\n      <td>INFO JA SIDE</td>\n      <td>2147796.23</td>\n      <td>1648346.87</td>\n      <td>5743574.41</td>\n      <td>297.0</td>\n      <td>...</td>\n      <td>S11002-S11003</td>\n      <td>8.0</td>\n      <td>1998-02-20</td>\n      <td>1</td>\n      <td>1.435321e+07</td>\n      <td>8.04</td>\n      <td>3796143.10</td>\n      <td>6216416.89</td>\n      <td>-0.33</td>\n      <td>19338.63</td>\n    </tr>\n    <tr>\n      <th>160950</th>\n      <td>10391131</td>\n      <td>NORTAL AS</td>\n      <td>Äriühing</td>\n      <td>jah</td>\n      <td>Harju maakond</td>\n      <td>INFO JA SIDE</td>\n      <td>1550912.46</td>\n      <td>1195574.24</td>\n      <td>4944107.48</td>\n      <td>290.0</td>\n      <td>...</td>\n      <td>S11002-S11003</td>\n      <td>8.0</td>\n      <td>1998-02-20</td>\n      <td>1</td>\n      <td>1.929732e+07</td>\n      <td>10.81</td>\n      <td>2746486.70</td>\n      <td>8962903.59</td>\n      <td>-0.14</td>\n      <td>17048.65</td>\n    </tr>\n    <tr>\n      <th>320600</th>\n      <td>10391131</td>\n      <td>NORTAL AS</td>\n      <td>Äriühing</td>\n      <td>jah</td>\n      <td>Harju maakond</td>\n      <td>INFO JA SIDE</td>\n      <td>1670639.48</td>\n      <td>1158832.55</td>\n      <td>7469944.39</td>\n      <td>287.0</td>\n      <td>...</td>\n      <td>S11002-S11003</td>\n      <td>8.0</td>\n      <td>1998-02-20</td>\n      <td>1</td>\n      <td>2.676726e+07</td>\n      <td>14.99</td>\n      <td>2829472.03</td>\n      <td>11792375.62</td>\n      <td>0.51</td>\n      <td>26027.68</td>\n    </tr>\n    <tr>\n      <th>349819</th>\n      <td>10391131</td>\n      <td>NORTAL AS</td>\n      <td>Äriühing</td>\n      <td>jah</td>\n      <td>Harju maakond</td>\n      <td>INFO JA SIDE</td>\n      <td>1821672.37</td>\n      <td>1216835.81</td>\n      <td>13929933.98</td>\n      <td>286.0</td>\n      <td>...</td>\n      <td>S11002-S11003</td>\n      <td>8.0</td>\n      <td>1998-02-20</td>\n      <td>1</td>\n      <td>4.069719e+07</td>\n      <td>22.80</td>\n      <td>3038508.18</td>\n      <td>14830883.80</td>\n      <td>0.86</td>\n      <td>48706.06</td>\n    </tr>\n    <tr>\n      <th>415019</th>\n      <td>10391131</td>\n      <td>NORTAL AS</td>\n      <td>Äriühing</td>\n      <td>jah</td>\n      <td>Harju maakond</td>\n      <td>INFO JA SIDE</td>\n      <td>1650326.66</td>\n      <td>1280771.24</td>\n      <td>5916328.85</td>\n      <td>334.0</td>\n      <td>...</td>\n      <td>S11002-S11003</td>\n      <td>8.0</td>\n      <td>1998-02-20</td>\n      <td>1</td>\n      <td>4.661352e+07</td>\n      <td>26.11</td>\n      <td>2931097.90</td>\n      <td>17761981.70</td>\n      <td>-0.58</td>\n      <td>17713.56</td>\n    </tr>\n    <tr>\n      <th>554640</th>\n      <td>10391131</td>\n      <td>NORTAL AS</td>\n      <td>Äriühing</td>\n      <td>jah</td>\n      <td>Harju maakond</td>\n      <td>INFO JA SIDE</td>\n      <td>1789294.84</td>\n      <td>1403898.72</td>\n      <td>9355564.24</td>\n      <td>333.0</td>\n      <td>...</td>\n      <td>S11002-S11003</td>\n      <td>8.0</td>\n      <td>1998-02-20</td>\n      <td>1</td>\n      <td>5.596909e+07</td>\n      <td>31.35</td>\n      <td>3193193.56</td>\n      <td>20955175.26</td>\n      <td>0.58</td>\n      <td>28094.79</td>\n    </tr>\n    <tr>\n      <th>628381</th>\n      <td>10391131</td>\n      <td>NORTAL AS</td>\n      <td>Äriühing</td>\n      <td>jah</td>\n      <td>Harju maakond</td>\n      <td>INFO JA SIDE</td>\n      <td>1812415.29</td>\n      <td>1446988.51</td>\n      <td>5548868.31</td>\n      <td>341.0</td>\n      <td>...</td>\n      <td>S11002-S11003</td>\n      <td>8.0</td>\n      <td>1998-02-20</td>\n      <td>1</td>\n      <td>6.151795e+07</td>\n      <td>34.46</td>\n      <td>3259403.80</td>\n      <td>24214579.06</td>\n      <td>-0.41</td>\n      <td>16272.34</td>\n    </tr>\n    <tr>\n      <th>704249</th>\n      <td>10391131</td>\n      <td>NORTAL AS</td>\n      <td>Äriühing</td>\n      <td>jah</td>\n      <td>Harju maakond</td>\n      <td>INFO JA SIDE</td>\n      <td>2660268.53</td>\n      <td>1569078.73</td>\n      <td>14522027.70</td>\n      <td>346.0</td>\n      <td>...</td>\n      <td>S11002-S11003</td>\n      <td>8.0</td>\n      <td>1998-02-20</td>\n      <td>1</td>\n      <td>7.603998e+07</td>\n      <td>42.59</td>\n      <td>4229347.26</td>\n      <td>28443926.32</td>\n      <td>1.62</td>\n      <td>41971.18</td>\n    </tr>\n    <tr>\n      <th>788907</th>\n      <td>10391131</td>\n      <td>NORTAL AS</td>\n      <td>Äriühing</td>\n      <td>jah</td>\n      <td>Harju maakond</td>\n      <td>INFO JA SIDE</td>\n      <td>2104782.75</td>\n      <td>1801131.72</td>\n      <td>7352014.55</td>\n      <td>360.0</td>\n      <td>...</td>\n      <td>S11002-S11003</td>\n      <td>8.0</td>\n      <td>1998-02-20</td>\n      <td>1</td>\n      <td>8.339200e+07</td>\n      <td>46.71</td>\n      <td>3905914.47</td>\n      <td>32349840.79</td>\n      <td>-0.49</td>\n      <td>20422.26</td>\n    </tr>\n    <tr>\n      <th>893925</th>\n      <td>10391131</td>\n      <td>NORTAL AS</td>\n      <td>Äriühing</td>\n      <td>jah</td>\n      <td>Harju ( Tallinn )</td>\n      <td>INFO JA SIDE</td>\n      <td>2266627.29</td>\n      <td>1753675.99</td>\n      <td>8217917.04</td>\n      <td>357.0</td>\n      <td>...</td>\n      <td>S11002-S11003</td>\n      <td>8.0</td>\n      <td>1998-02-20</td>\n      <td>1</td>\n      <td>9.160991e+07</td>\n      <td>51.31</td>\n      <td>4020303.28</td>\n      <td>36370144.07</td>\n      <td>0.12</td>\n      <td>23019.38</td>\n    </tr>\n    <tr>\n      <th>989428</th>\n      <td>10391131</td>\n      <td>NORTAL AS</td>\n      <td>Äriühing</td>\n      <td>jah</td>\n      <td>Harju ( Tallinn )</td>\n      <td>INFO JA SIDE</td>\n      <td>2047342.04</td>\n      <td>1704454.31</td>\n      <td>6110258.86</td>\n      <td>343.0</td>\n      <td>...</td>\n      <td>S11002-S11003</td>\n      <td>8.0</td>\n      <td>1998-02-20</td>\n      <td>1</td>\n      <td>9.772017e+07</td>\n      <td>54.74</td>\n      <td>3751796.35</td>\n      <td>40121940.42</td>\n      <td>-0.26</td>\n      <td>17814.17</td>\n    </tr>\n    <tr>\n      <th>1031072</th>\n      <td>10391131</td>\n      <td>NORTAL AS</td>\n      <td>Äriühing</td>\n      <td>jah</td>\n      <td>Harju ( Tallinn )</td>\n      <td>INFO JA SIDE</td>\n      <td>2385306.63</td>\n      <td>1665475.73</td>\n      <td>23317179.15</td>\n      <td>336.0</td>\n      <td>...</td>\n      <td>S11002-S11003</td>\n      <td>8.0</td>\n      <td>1998-02-20</td>\n      <td>1</td>\n      <td>1.210374e+08</td>\n      <td>67.80</td>\n      <td>4050782.36</td>\n      <td>44172722.78</td>\n      <td>2.82</td>\n      <td>69396.37</td>\n    </tr>\n    <tr>\n      <th>1160734</th>\n      <td>10391131</td>\n      <td>NORTAL AS</td>\n      <td>Äriühing</td>\n      <td>jah</td>\n      <td>Harju ( Tallinn )</td>\n      <td>INFO JA SIDE</td>\n      <td>2058699.39</td>\n      <td>1769103.59</td>\n      <td>5558178.87</td>\n      <td>325.0</td>\n      <td>...</td>\n      <td>S11002-S11003</td>\n      <td>8.0</td>\n      <td>1998-02-20</td>\n      <td>1</td>\n      <td>1.265955e+08</td>\n      <td>70.91</td>\n      <td>3827802.98</td>\n      <td>48000525.76</td>\n      <td>-0.76</td>\n      <td>17102.09</td>\n    </tr>\n    <tr>\n      <th>1236910</th>\n      <td>10391131</td>\n      <td>NORTAL AS</td>\n      <td>Äriühing</td>\n      <td>jah</td>\n      <td>Harju ( Tallinn )</td>\n      <td>INFO JA SIDE</td>\n      <td>2382417.64</td>\n      <td>1666719.24</td>\n      <td>9103649.61</td>\n      <td>319.0</td>\n      <td>...</td>\n      <td>S11002-S11003</td>\n      <td>8.0</td>\n      <td>1998-02-20</td>\n      <td>1</td>\n      <td>1.356992e+08</td>\n      <td>76.01</td>\n      <td>4049136.88</td>\n      <td>52049662.64</td>\n      <td>0.64</td>\n      <td>28538.09</td>\n    </tr>\n    <tr>\n      <th>1350570</th>\n      <td>10391131</td>\n      <td>NORTAL AS</td>\n      <td>Äriühing</td>\n      <td>jah</td>\n      <td>Harju ( Tallinn )</td>\n      <td>INFO JA SIDE</td>\n      <td>2228457.14</td>\n      <td>1677545.77</td>\n      <td>7631104.78</td>\n      <td>323.0</td>\n      <td>...</td>\n      <td>S11002-S11003</td>\n      <td>8.0</td>\n      <td>1998-02-20</td>\n      <td>1</td>\n      <td>1.433303e+08</td>\n      <td>80.28</td>\n      <td>3906002.91</td>\n      <td>55955665.55</td>\n      <td>-0.16</td>\n      <td>23625.71</td>\n    </tr>\n    <tr>\n      <th>1452770</th>\n      <td>10391131</td>\n      <td>NORTAL AS</td>\n      <td>Äriühing</td>\n      <td>jah</td>\n      <td>Harju ( Tallinn )</td>\n      <td>INFO JA SIDE</td>\n      <td>2419588.78</td>\n      <td>1770788.26</td>\n      <td>20076959.72</td>\n      <td>327.0</td>\n      <td>...</td>\n      <td>S11002-S11003</td>\n      <td>8.0</td>\n      <td>1998-02-20</td>\n      <td>1</td>\n      <td>1.634072e+08</td>\n      <td>91.53</td>\n      <td>4190377.04</td>\n      <td>60146042.59</td>\n      <td>1.63</td>\n      <td>61397.43</td>\n    </tr>\n    <tr>\n      <th>1574245</th>\n      <td>10391131</td>\n      <td>NORTAL AS</td>\n      <td>Äriühing</td>\n      <td>jah</td>\n      <td>Harju ( Tallinn )</td>\n      <td>INFO JA SIDE</td>\n      <td>2749129.87</td>\n      <td>2035274.77</td>\n      <td>8749890.65</td>\n      <td>329.0</td>\n      <td>...</td>\n      <td>S11002-S11003</td>\n      <td>8.0</td>\n      <td>1998-02-20</td>\n      <td>1</td>\n      <td>1.721571e+08</td>\n      <td>96.43</td>\n      <td>4784404.64</td>\n      <td>64930447.23</td>\n      <td>-0.56</td>\n      <td>26595.41</td>\n    </tr>\n    <tr>\n      <th>1620082</th>\n      <td>10391131</td>\n      <td>NORTAL AS</td>\n      <td>Äriühing</td>\n      <td>jah</td>\n      <td>Harju ( Tallinn )</td>\n      <td>INFO JA SIDE</td>\n      <td>2280312.82</td>\n      <td>1954937.20</td>\n      <td>6374571.03</td>\n      <td>332.0</td>\n      <td>...</td>\n      <td>S11002-S11003</td>\n      <td>8.0</td>\n      <td>1998-02-20</td>\n      <td>1</td>\n      <td>1.785317e+08</td>\n      <td>100.00</td>\n      <td>4235250.02</td>\n      <td>69165697.25</td>\n      <td>-0.27</td>\n      <td>19200.52</td>\n    </tr>\n  </tbody>\n</table>\n<p>19 rows × 23 columns</p>\n</div>"
     },
     "execution_count": 15,
     "metadata": {},
     "output_type": "execute_result"
    }
   ],
   "source": [
    "all_cl.query('Registration_number == 10391131')"
   ],
   "metadata": {
    "collapsed": false,
    "pycharm": {
     "name": "#%%\n"
    }
   }
  },
  {
   "cell_type": "code",
   "execution_count": 16,
   "outputs": [
    {
     "ename": "SyntaxError",
     "evalue": "EOF while scanning triple-quoted string literal (2396848970.py, line 6)",
     "output_type": "error",
     "traceback": [
      "\u001B[0;36m  File \u001B[0;32m\"/var/folders/8y/yq5dpggj5gq0006wv9sxbx1h0000gn/T/ipykernel_93164/2396848970.py\"\u001B[0;36m, line \u001B[0;32m6\u001B[0m\n\u001B[0;31m    \u001B[0m\n\u001B[0m    ^\u001B[0m\n\u001B[0;31mSyntaxError\u001B[0m\u001B[0;31m:\u001B[0m EOF while scanning triple-quoted string literal\n"
     ]
    }
   ],
   "source": [
    "# Not necessary as will be divided into parts after cleaning/engineering/labelling is complete\n",
    "# ... with pre-covid period of data\n",
    "'''\n",
    "before_cl = before_cl.groupby(\"Registration_number\").apply(feat_eng)\n",
    "before_cl"
   ],
   "metadata": {
    "collapsed": false,
    "pycharm": {
     "name": "#%%\n"
    }
   }
  },
  {
   "cell_type": "code",
   "execution_count": null,
   "outputs": [],
   "source": [
    "# ... and with the period of pandemic\n",
    "\n",
    "during_cl = during_cl.groupby(\"Registration_number\").apply(feat_eng)\n",
    "during_cl\n"
   ],
   "metadata": {
    "collapsed": false,
    "pycharm": {
     "name": "#%%\n"
    }
   }
  },
  {
   "cell_type": "code",
   "execution_count": null,
   "outputs": [],
   "source": [
    "before_cl.to_csv('./data/dataframes/before_covid_enginered.csv', index=False)"
   ],
   "metadata": {
    "collapsed": false,
    "pycharm": {
     "name": "#%%\n"
    }
   }
  },
  {
   "cell_type": "code",
   "execution_count": null,
   "outputs": [],
   "source": [
    "during_cl.to_csv('./data/dataframes/during_covid_enginered.csv', index=False)\n",
    "'''"
   ],
   "metadata": {
    "collapsed": false,
    "pycharm": {
     "name": "#%%\n"
    }
   }
  }
 ],
 "metadata": {
  "kernelspec": {
   "name": "pycharm-99298bfd",
   "language": "python",
   "display_name": "PyCharm (_project)"
  },
  "language_info": {
   "codemirror_mode": {
    "name": "ipython",
    "version": 2
   },
   "file_extension": ".py",
   "mimetype": "text/x-python",
   "name": "python",
   "nbconvert_exporter": "python",
   "pygments_lexer": "ipython2",
   "version": "2.7.6"
  }
 },
 "nbformat": 4,
 "nbformat_minor": 0
}
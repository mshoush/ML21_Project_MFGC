{
 "cells": [
  {
   "cell_type": "code",
   "execution_count": 1,
   "id": "222acdf0",
   "metadata": {},
   "outputs": [],
   "source": [
    "# import necessary libraries\n",
    "import pandas as pd\n",
    "import os\n",
    "import glob\n",
    "  "
   ]
  },
  {
   "cell_type": "code",
   "execution_count": 2,
   "id": "fd24332f",
   "metadata": {},
   "outputs": [
    {
     "name": "stderr",
     "output_type": "stream",
     "text": [
      "/home/mshoush/anaconda3/lib/python3.8/site-packages/IPython/core/interactiveshell.py:3165: DtypeWarning: Columns (0) have mixed types.Specify dtype option on import or set low_memory=False.\n",
      "  has_raised = await self.run_ast_nodes(code_ast.body, cell_name,\n"
     ]
    },
    {
     "data": {
      "text/html": [
       "<div>\n",
       "<style scoped>\n",
       "    .dataframe tbody tr th:only-of-type {\n",
       "        vertical-align: middle;\n",
       "    }\n",
       "\n",
       "    .dataframe tbody tr th {\n",
       "        vertical-align: top;\n",
       "    }\n",
       "\n",
       "    .dataframe thead th {\n",
       "        text-align: right;\n",
       "    }\n",
       "</style>\n",
       "<table border=\"1\" class=\"dataframe\">\n",
       "  <thead>\n",
       "    <tr style=\"text-align: right;\">\n",
       "      <th></th>\n",
       "      <th>Registration_number</th>\n",
       "      <th>Name</th>\n",
       "      <th>Type</th>\n",
       "      <th>Registered_for_VAT</th>\n",
       "      <th>County</th>\n",
       "      <th>Business_area_by_EMTAK_system</th>\n",
       "      <th>All_taxes</th>\n",
       "      <th>Labor_taxes</th>\n",
       "      <th>Turnover</th>\n",
       "      <th>number_of_employees</th>\n",
       "      <th>year_quarter</th>\n",
       "    </tr>\n",
       "  </thead>\n",
       "  <tbody>\n",
       "    <tr>\n",
       "      <th>0</th>\n",
       "      <td>1052855</td>\n",
       "      <td>SIIRI ÜHISTU</td>\n",
       "      <td>Äriühing</td>\n",
       "      <td>ei</td>\n",
       "      <td>Harju maakond</td>\n",
       "      <td>NaN</td>\n",
       "      <td>52.75</td>\n",
       "      <td>0.0</td>\n",
       "      <td>NaN</td>\n",
       "      <td>NaN</td>\n",
       "      <td>2017_i</td>\n",
       "    </tr>\n",
       "    <tr>\n",
       "      <th>1</th>\n",
       "      <td>1294104</td>\n",
       "      <td>LASNAMÄE 52D, GARAAŽIÜHISTU (LIKVIDEERIMISEL)</td>\n",
       "      <td>Äriühing</td>\n",
       "      <td>ei</td>\n",
       "      <td>Harju maakond</td>\n",
       "      <td>NaN</td>\n",
       "      <td>182.00</td>\n",
       "      <td>0.0</td>\n",
       "      <td>NaN</td>\n",
       "      <td>NaN</td>\n",
       "      <td>2017_i</td>\n",
       "    </tr>\n",
       "    <tr>\n",
       "      <th>2</th>\n",
       "      <td>1834405</td>\n",
       "      <td>ED. VILDE 53, GARAAŽIEHITAJATE KOOPERATIIV</td>\n",
       "      <td>Äriühing</td>\n",
       "      <td>ei</td>\n",
       "      <td>Harju maakond</td>\n",
       "      <td>NaN</td>\n",
       "      <td>64.02</td>\n",
       "      <td>0.0</td>\n",
       "      <td>NaN</td>\n",
       "      <td>NaN</td>\n",
       "      <td>2017_i</td>\n",
       "    </tr>\n",
       "    <tr>\n",
       "      <th>3</th>\n",
       "      <td>1834411</td>\n",
       "      <td>TOMP, GARAAŽIKOOPERATIIV</td>\n",
       "      <td>Äriühing</td>\n",
       "      <td>ei</td>\n",
       "      <td>Harju maakond</td>\n",
       "      <td>NaN</td>\n",
       "      <td>2285.00</td>\n",
       "      <td>0.0</td>\n",
       "      <td>NaN</td>\n",
       "      <td>NaN</td>\n",
       "      <td>2017_i</td>\n",
       "    </tr>\n",
       "    <tr>\n",
       "      <th>4</th>\n",
       "      <td>1834517</td>\n",
       "      <td>GARAAŽIKOOPERATIIV NR 12</td>\n",
       "      <td>Äriühing</td>\n",
       "      <td>ei</td>\n",
       "      <td>Harju maakond</td>\n",
       "      <td>KINNISVARAALANE TEGEVUS</td>\n",
       "      <td>144.00</td>\n",
       "      <td>0.0</td>\n",
       "      <td>NaN</td>\n",
       "      <td>NaN</td>\n",
       "      <td>2017_i</td>\n",
       "    </tr>\n",
       "  </tbody>\n",
       "</table>\n",
       "</div>"
      ],
      "text/plain": [
       "  Registration_number                                           Name  \\\n",
       "0             1052855                                   SIIRI ÜHISTU   \n",
       "1             1294104  LASNAMÄE 52D, GARAAŽIÜHISTU (LIKVIDEERIMISEL)   \n",
       "2             1834405     ED. VILDE 53, GARAAŽIEHITAJATE KOOPERATIIV   \n",
       "3             1834411                       TOMP, GARAAŽIKOOPERATIIV   \n",
       "4             1834517                       GARAAŽIKOOPERATIIV NR 12   \n",
       "\n",
       "       Type Registered_for_VAT         County Business_area_by_EMTAK_system  \\\n",
       "0  Äriühing                 ei  Harju maakond                           NaN   \n",
       "1  Äriühing                 ei  Harju maakond                           NaN   \n",
       "2  Äriühing                 ei  Harju maakond                           NaN   \n",
       "3  Äriühing                 ei  Harju maakond                           NaN   \n",
       "4  Äriühing                 ei  Harju maakond       KINNISVARAALANE TEGEVUS   \n",
       "\n",
       "   All_taxes  Labor_taxes  Turnover  number_of_employees year_quarter  \n",
       "0      52.75          0.0       NaN                  NaN       2017_i  \n",
       "1     182.00          0.0       NaN                  NaN       2017_i  \n",
       "2      64.02          0.0       NaN                  NaN       2017_i  \n",
       "3    2285.00          0.0       NaN                  NaN       2017_i  \n",
       "4     144.00          0.0       NaN                  NaN       2017_i  "
      ]
     },
     "execution_count": 2,
     "metadata": {},
     "output_type": "execute_result"
    }
   ],
   "source": [
    "all_df_2017_2021 = pd.read_csv(\"./data/csv/final_csv_df/all_df_2017_2021.csv\")\n",
    "all_df_2017_2021.head()"
   ]
  },
  {
   "cell_type": "code",
   "execution_count": 46,
   "id": "81569c55",
   "metadata": {},
   "outputs": [
    {
     "name": "stderr",
     "output_type": "stream",
     "text": [
      "/home/mshoush/anaconda3/lib/python3.8/site-packages/IPython/core/interactiveshell.py:3165: DtypeWarning: Columns (0) have mixed types.Specify dtype option on import or set low_memory=False.\n",
      "  has_raised = await self.run_ast_nodes(code_ast.body, cell_name,\n"
     ]
    },
    {
     "data": {
      "text/html": [
       "<div>\n",
       "<style scoped>\n",
       "    .dataframe tbody tr th:only-of-type {\n",
       "        vertical-align: middle;\n",
       "    }\n",
       "\n",
       "    .dataframe tbody tr th {\n",
       "        vertical-align: top;\n",
       "    }\n",
       "\n",
       "    .dataframe thead th {\n",
       "        text-align: right;\n",
       "    }\n",
       "</style>\n",
       "<table border=\"1\" class=\"dataframe\">\n",
       "  <thead>\n",
       "    <tr style=\"text-align: right;\">\n",
       "      <th></th>\n",
       "      <th>Registration_number</th>\n",
       "      <th>Name</th>\n",
       "      <th>Type</th>\n",
       "      <th>Registered_for_VAT</th>\n",
       "      <th>Business_area_by_EMTAK_system</th>\n",
       "      <th>County</th>\n",
       "      <th>All_taxes</th>\n",
       "      <th>Labor_taxes</th>\n",
       "      <th>Turnover</th>\n",
       "      <th>number_of_employees</th>\n",
       "      <th>year_quarter</th>\n",
       "    </tr>\n",
       "  </thead>\n",
       "  <tbody>\n",
       "    <tr>\n",
       "      <th>0</th>\n",
       "      <td>1294104</td>\n",
       "      <td>LASNAMÄE 52D, GARAAŽIÜHISTU (LIKVIDEERIMISEL)</td>\n",
       "      <td>Äriühing</td>\n",
       "      <td>ei</td>\n",
       "      <td>NaN</td>\n",
       "      <td>Harju maakond</td>\n",
       "      <td>180.75</td>\n",
       "      <td>0.00</td>\n",
       "      <td>NaN</td>\n",
       "      <td>NaN</td>\n",
       "      <td>2018_iv</td>\n",
       "    </tr>\n",
       "    <tr>\n",
       "      <th>1</th>\n",
       "      <td>1834405</td>\n",
       "      <td>ED. VILDE 53, GARAAŽIEHITAJATE KOOPERATIIV</td>\n",
       "      <td>Äriühing</td>\n",
       "      <td>ei</td>\n",
       "      <td>NaN</td>\n",
       "      <td>Harju maakond</td>\n",
       "      <td>13.73</td>\n",
       "      <td>0.00</td>\n",
       "      <td>NaN</td>\n",
       "      <td>NaN</td>\n",
       "      <td>2018_iv</td>\n",
       "    </tr>\n",
       "    <tr>\n",
       "      <th>2</th>\n",
       "      <td>10000018</td>\n",
       "      <td>AMSERV AUTO AS</td>\n",
       "      <td>Äriühing</td>\n",
       "      <td>jah</td>\n",
       "      <td>HULGI- JA JAEKAUBANDUS; MOOTORSŐIDUKITE JA MOO...</td>\n",
       "      <td>Harju maakond</td>\n",
       "      <td>604240.38</td>\n",
       "      <td>639572.39</td>\n",
       "      <td>NaN</td>\n",
       "      <td>206.0</td>\n",
       "      <td>2018_iv</td>\n",
       "    </tr>\n",
       "    <tr>\n",
       "      <th>3</th>\n",
       "      <td>10000024</td>\n",
       "      <td>EESTI RAAMAT, OÜ</td>\n",
       "      <td>Äriühing</td>\n",
       "      <td>jah</td>\n",
       "      <td>INFO JA SIDE</td>\n",
       "      <td>Harju maakond</td>\n",
       "      <td>14051.48</td>\n",
       "      <td>11547.12</td>\n",
       "      <td>91352.65</td>\n",
       "      <td>8.0</td>\n",
       "      <td>2018_iv</td>\n",
       "    </tr>\n",
       "    <tr>\n",
       "      <th>4</th>\n",
       "      <td>10000127</td>\n",
       "      <td>ARAVETE APTEEK, TÜ</td>\n",
       "      <td>Äriühing</td>\n",
       "      <td>jah</td>\n",
       "      <td>HULGI- JA JAEKAUBANDUS; MOOTORSŐIDUKITE JA MOO...</td>\n",
       "      <td>Järva maakond</td>\n",
       "      <td>6004.08</td>\n",
       "      <td>3230.05</td>\n",
       "      <td>130599.87</td>\n",
       "      <td>2.0</td>\n",
       "      <td>2018_iv</td>\n",
       "    </tr>\n",
       "  </tbody>\n",
       "</table>\n",
       "</div>"
      ],
      "text/plain": [
       "  Registration_number                                           Name  \\\n",
       "0             1294104  LASNAMÄE 52D, GARAAŽIÜHISTU (LIKVIDEERIMISEL)   \n",
       "1             1834405     ED. VILDE 53, GARAAŽIEHITAJATE KOOPERATIIV   \n",
       "2            10000018                                 AMSERV AUTO AS   \n",
       "3            10000024                               EESTI RAAMAT, OÜ   \n",
       "4            10000127                             ARAVETE APTEEK, TÜ   \n",
       "\n",
       "       Type Registered_for_VAT  \\\n",
       "0  Äriühing                 ei   \n",
       "1  Äriühing                 ei   \n",
       "2  Äriühing                jah   \n",
       "3  Äriühing                jah   \n",
       "4  Äriühing                jah   \n",
       "\n",
       "                       Business_area_by_EMTAK_system         County  \\\n",
       "0                                                NaN  Harju maakond   \n",
       "1                                                NaN  Harju maakond   \n",
       "2  HULGI- JA JAEKAUBANDUS; MOOTORSŐIDUKITE JA MOO...  Harju maakond   \n",
       "3                                       INFO JA SIDE  Harju maakond   \n",
       "4  HULGI- JA JAEKAUBANDUS; MOOTORSŐIDUKITE JA MOO...  Järva maakond   \n",
       "\n",
       "   All_taxes  Labor_taxes   Turnover  number_of_employees year_quarter  \n",
       "0     180.75         0.00        NaN                  NaN      2018_iv  \n",
       "1      13.73         0.00        NaN                  NaN      2018_iv  \n",
       "2  604240.38    639572.39        NaN                206.0      2018_iv  \n",
       "3   14051.48     11547.12   91352.65                  8.0      2018_iv  \n",
       "4    6004.08      3230.05  130599.87                  2.0      2018_iv  "
      ]
     },
     "execution_count": 46,
     "metadata": {},
     "output_type": "execute_result"
    }
   ],
   "source": [
    "before_covid = pd.read_csv(\"./data/csv/final_csv_df/before_covid_1st2017_1st2020.csv\")\n",
    "before_covid.head()"
   ]
  },
  {
   "cell_type": "code",
   "execution_count": 4,
   "id": "a43068dc",
   "metadata": {},
   "outputs": [
    {
     "data": {
      "text/html": [
       "<div>\n",
       "<style scoped>\n",
       "    .dataframe tbody tr th:only-of-type {\n",
       "        vertical-align: middle;\n",
       "    }\n",
       "\n",
       "    .dataframe tbody tr th {\n",
       "        vertical-align: top;\n",
       "    }\n",
       "\n",
       "    .dataframe thead th {\n",
       "        text-align: right;\n",
       "    }\n",
       "</style>\n",
       "<table border=\"1\" class=\"dataframe\">\n",
       "  <thead>\n",
       "    <tr style=\"text-align: right;\">\n",
       "      <th></th>\n",
       "      <th>Registration_number</th>\n",
       "      <th>Name</th>\n",
       "      <th>Type</th>\n",
       "      <th>Registered_for_VAT</th>\n",
       "      <th>Business_area_by_EMTAK_system</th>\n",
       "      <th>County</th>\n",
       "      <th>All_taxes</th>\n",
       "      <th>Labor_taxes</th>\n",
       "      <th>Turnover</th>\n",
       "      <th>number_of_employees</th>\n",
       "      <th>year_quarter</th>\n",
       "    </tr>\n",
       "  </thead>\n",
       "  <tbody>\n",
       "    <tr>\n",
       "      <th>0</th>\n",
       "      <td>10000018</td>\n",
       "      <td>AMSERV AUTO AKTSIASELTS</td>\n",
       "      <td>Äriühing</td>\n",
       "      <td>jah</td>\n",
       "      <td>HULGI- JA JAEKAUBANDUS; MOOTORSÕIDUKITE JA MOO...</td>\n",
       "      <td>Harju ( Tallinn )</td>\n",
       "      <td>683022.46</td>\n",
       "      <td>673574.41</td>\n",
       "      <td>NaN</td>\n",
       "      <td>198.0</td>\n",
       "      <td>2020_iv</td>\n",
       "    </tr>\n",
       "    <tr>\n",
       "      <th>1</th>\n",
       "      <td>10000024</td>\n",
       "      <td>EESTI RAAMAT, OÜ</td>\n",
       "      <td>Äriühing</td>\n",
       "      <td>jah</td>\n",
       "      <td>INFO JA SIDE</td>\n",
       "      <td>Harju ( Tallinn )</td>\n",
       "      <td>20981.29</td>\n",
       "      <td>15506.56</td>\n",
       "      <td>147818.28</td>\n",
       "      <td>10.0</td>\n",
       "      <td>2020_iv</td>\n",
       "    </tr>\n",
       "    <tr>\n",
       "      <th>2</th>\n",
       "      <td>10000062</td>\n",
       "      <td>ALDO KOPPEL</td>\n",
       "      <td>FIE</td>\n",
       "      <td>jah</td>\n",
       "      <td>PÕLLUMAJANDUS, METSAMAJANDUS JA KALAPÜÜK</td>\n",
       "      <td>Ida-Viru ( Lüganuse vald )</td>\n",
       "      <td>284.43</td>\n",
       "      <td>0.00</td>\n",
       "      <td>3081.01</td>\n",
       "      <td>NaN</td>\n",
       "      <td>2020_iv</td>\n",
       "    </tr>\n",
       "    <tr>\n",
       "      <th>3</th>\n",
       "      <td>10000127</td>\n",
       "      <td>ARAVETE APTEEK, TÜ</td>\n",
       "      <td>Äriühing</td>\n",
       "      <td>jah</td>\n",
       "      <td>HULGI- JA JAEKAUBANDUS; MOOTORSÕIDUKITE JA MOO...</td>\n",
       "      <td>Järva ( Järva vald )</td>\n",
       "      <td>7510.64</td>\n",
       "      <td>5336.23</td>\n",
       "      <td>141491.22</td>\n",
       "      <td>2.0</td>\n",
       "      <td>2020_iv</td>\n",
       "    </tr>\n",
       "    <tr>\n",
       "      <th>4</th>\n",
       "      <td>10000165</td>\n",
       "      <td>KIVIÕLI KAUBAHOOV, AS</td>\n",
       "      <td>Äriühing</td>\n",
       "      <td>jah</td>\n",
       "      <td>HULGI- JA JAEKAUBANDUS; MOOTORSÕIDUKITE JA MOO...</td>\n",
       "      <td>Ida-Viru ( Lüganuse vald )</td>\n",
       "      <td>146383.09</td>\n",
       "      <td>72341.36</td>\n",
       "      <td>1110913.11</td>\n",
       "      <td>44.0</td>\n",
       "      <td>2020_iv</td>\n",
       "    </tr>\n",
       "  </tbody>\n",
       "</table>\n",
       "</div>"
      ],
      "text/plain": [
       "  Registration_number                     Name      Type Registered_for_VAT  \\\n",
       "0            10000018  AMSERV AUTO AKTSIASELTS  Äriühing                jah   \n",
       "1            10000024         EESTI RAAMAT, OÜ  Äriühing                jah   \n",
       "2            10000062              ALDO KOPPEL       FIE                jah   \n",
       "3            10000127       ARAVETE APTEEK, TÜ  Äriühing                jah   \n",
       "4            10000165    KIVIÕLI KAUBAHOOV, AS  Äriühing                jah   \n",
       "\n",
       "                       Business_area_by_EMTAK_system  \\\n",
       "0  HULGI- JA JAEKAUBANDUS; MOOTORSÕIDUKITE JA MOO...   \n",
       "1                                       INFO JA SIDE   \n",
       "2           PÕLLUMAJANDUS, METSAMAJANDUS JA KALAPÜÜK   \n",
       "3  HULGI- JA JAEKAUBANDUS; MOOTORSÕIDUKITE JA MOO...   \n",
       "4  HULGI- JA JAEKAUBANDUS; MOOTORSÕIDUKITE JA MOO...   \n",
       "\n",
       "                       County  All_taxes  Labor_taxes    Turnover  \\\n",
       "0           Harju ( Tallinn )  683022.46    673574.41         NaN   \n",
       "1           Harju ( Tallinn )   20981.29     15506.56   147818.28   \n",
       "2  Ida-Viru ( Lüganuse vald )     284.43         0.00     3081.01   \n",
       "3        Järva ( Järva vald )    7510.64      5336.23   141491.22   \n",
       "4  Ida-Viru ( Lüganuse vald )  146383.09     72341.36  1110913.11   \n",
       "\n",
       "   number_of_employees year_quarter  \n",
       "0                198.0      2020_iv  \n",
       "1                 10.0      2020_iv  \n",
       "2                  NaN      2020_iv  \n",
       "3                  2.0      2020_iv  \n",
       "4                 44.0      2020_iv  "
      ]
     },
     "execution_count": 4,
     "metadata": {},
     "output_type": "execute_result"
    }
   ],
   "source": [
    "during_covid = pd.read_csv(\"./data/csv/final_csv_df/during_covid_2ndq2020_2021.csv\")\n",
    "during_covid.head()"
   ]
  },
  {
   "cell_type": "code",
   "execution_count": 5,
   "id": "0b226693",
   "metadata": {},
   "outputs": [],
   "source": [
    "taxes_info_1 = pd.read_excel('./data/taxes_information/Üksuste nimekiri 01.12.2020_revid.4.10.2021.xlsx')\n",
    "taxes_info_1.head()"
   ]
  },
  {
   "cell_type": "code",
   "execution_count": 6,
   "id": "7fdb6cc6",
   "metadata": {},
   "outputs": [],
   "source": [
    "taxes_info_1 = taxes_info_1.drop('Muudatuse või lisamise kuupäev', 1)\n",
    "\n",
    "taxes_info_1 = taxes_info_1.rename(columns={'Registrikood': 'Registration_number',\\\n",
    "                                'Nimi': 'Name', \\\n",
    "                                'EMTAK2008 Tähtkoodiga valdkond': 'Business_area_by_EMTAK_system_letter', \\\n",
    "                                'EMTAK2008 4-kohaline kood': 'Business_are_by_EMTAK_system_number',\\\n",
    "                                'Institutsionaalsete sektorite Eesti jaoks kohandatud klassifikaator 2010': 'Institutional_classification', \\\n",
    "                                \"Kliendi/emitendi identifikaator (vastavalt Eesti Panga presidendi 29. mai määrusele nr 7)\":\"Client_identifyer_by_Estonian_Central_Bank\", \\\n",
    "                                \"Üksuse registreerimise kuupäev\":\"Registration_date\", \\\n",
    "                                \"Üksuse registrist kustutamise kuupäev\":\"Deletion_date\",})\n",
    "\n",
    "taxes_info_1.head()"
   ]
  },
  {
   "cell_type": "code",
   "execution_count": 7,
   "id": "9eed31cb",
   "metadata": {},
   "outputs": [],
   "source": [
    "taxes_info_1.shape"
   ]
  },
  {
   "cell_type": "code",
   "execution_count": 8,
   "id": "3e548d41",
   "metadata": {},
   "outputs": [],
   "source": [
    "taxes_info_2 = pd.read_excel('./data/taxes_information/yksuste_nimekiri_01.12.2018_revid_28.1.19.xlsx')\n",
    "taxes_info_2.head()"
   ]
  },
  {
   "cell_type": "code",
   "execution_count": 9,
   "id": "80b33d7f",
   "metadata": {},
   "outputs": [],
   "source": [
    "taxes_info_2 = taxes_info_2.drop('Unnamed: 8', 1)\n",
    "\n",
    "taxes_info_2 = taxes_info_2.rename(columns={'Registrikood': 'Registration_number',\\\n",
    "                                'Nimi': 'Name', \\\n",
    "                                'EMTAK2008 Tähtkoodiga valdkond': 'Business_area_by_EMTAK_system_letter', \\\n",
    "                                'EMTAK2008 4-kohaline kood': 'Business_are_by_EMTAK_system_number',\\\n",
    "                                'Institutsionaalsete sektorite Eesti jaoks kohandatud klassifikaator 2010': 'Institutional_classification', \\\n",
    "                                \"Kliendi/emitendi identifikaator (vastavalt Eesti Panga presidendi 29. mai määrusele nr 7)\":\"Client_identifyer_by_Estonian_Central_Bank\", \\\n",
    "                                \"Üksuse registreerimise kuupäev\":\"Registration_date\", \\\n",
    "                                \"Üksuse registrist kustutamise kuupäev\":\"Deletion_date\",   })\n",
    "\n",
    "taxes_info_2.head()"
   ]
  },
  {
   "cell_type": "code",
   "execution_count": 10,
   "id": "58a97c2a",
   "metadata": {},
   "outputs": [],
   "source": [
    "taxes_info_2[taxes_info_2['Registration_number']==10000018]"
   ]
  },
  {
   "cell_type": "code",
   "execution_count": 11,
   "id": "871e2c6b",
   "metadata": {},
   "outputs": [],
   "source": [
    "taxes_info_3[taxes_info_3['Registration_number']==10000018]"
   ]
  },
  {
   "cell_type": "code",
   "execution_count": 12,
   "id": "29e71615",
   "metadata": {},
   "outputs": [],
   "source": [
    "taxes_info_3 = pd.read_excel('./data/taxes_information/yksuste_nimekiri_01.12.2019_revid.23.01.20.xlsx')\n",
    "taxes_info_3 = taxes_info_3.rename(columns={'Registrikood': 'Registration_number',\\\n",
    "                                'Nimi': 'Name', \\\n",
    "                                'EMTAK2008 Tähtkoodiga valdkond': 'Business_area_by_EMTAK_system_letter', \\\n",
    "                                'EMTAK2008 4-kohaline kood': 'Business_are_by_EMTAK_system_number',\\\n",
    "                                'Institutsionaalsete sektorite Eesti jaoks kohandatud klassifikaator 2010': 'Institutional_classification', \\\n",
    "                                \"Kliendi/emitendi identifikaator (vastavalt Eesti Panga presidendi 29. mai määrusele nr 7)\":\"Client_identifyer_by_Estonian_Central_Bank\", \\\n",
    "                                \"Üksuse registreerimise kuupäev\":\"Registration_date\", \\\n",
    "                                \"Üksuse registrist kustutamise kuupäev\":\"Deletion_date\",\\\n",
    "                                \"Muudatuse või lisamise kuupäev\":\"Change_date\"})\n",
    "\n",
    "taxes_info_3.head()"
   ]
  },
  {
   "cell_type": "code",
   "execution_count": 20,
   "id": "32f5be07",
   "metadata": {},
   "outputs": [],
   "source": [
    "#taxes_info_3.shape"
   ]
  },
  {
   "cell_type": "code",
   "execution_count": 13,
   "id": "a8760686",
   "metadata": {},
   "outputs": [],
   "source": [
    "combined_taxes_csv = pd.concat([taxes_info_1,taxes_info_2,taxes_info_3])\n",
    "combined_taxes_csv.head()"
   ]
  },
  {
   "cell_type": "code",
   "execution_count": 14,
   "id": "d5af5369",
   "metadata": {},
   "outputs": [],
   "source": [
    "common = taxes_info_1.merge(taxes_info_2, on=[\"Registration_number\"])\n",
    "result = taxes_info_1[~taxes_info_1.Registration_number.isin(common.Registration_number)]\n"
   ]
  },
  {
   "cell_type": "code",
   "execution_count": 15,
   "id": "c2165215",
   "metadata": {},
   "outputs": [],
   "source": [
    "merged_1_2 = pd.concat([taxes_info_1, result])\n",
    "merged_1_2.head()"
   ]
  },
  {
   "cell_type": "code",
   "execution_count": 16,
   "id": "88130ca5",
   "metadata": {},
   "outputs": [],
   "source": [
    "common = merged_1_2.merge(taxes_info_3, on=[\"Registration_number\"])\n",
    "result = merged_1_2[~merged_1_2.Registration_number.isin(common.Registration_number)]\n",
    "\n",
    "merged_3 = pd.concat([taxes_info_1, result])\n",
    "merged_3.head()"
   ]
  },
  {
   "cell_type": "code",
   "execution_count": 17,
   "id": "acab1a95",
   "metadata": {},
   "outputs": [],
   "source": [
    "# new_df = pd.merge(all_df_2017_2021, taxes, how='inner',\n",
    "#                   left_on=['Registration_number','Name'], right_on = ['Registration_number','Name'])\n",
    "# new_df.head()"
   ]
  },
  {
   "cell_type": "code",
   "execution_count": 22,
   "id": "3ac4d073",
   "metadata": {},
   "outputs": [],
   "source": [
    "merged_3.to_csv( \"./data/csv/final_csv_df/taxes_info_combined2018_2021.csv\", index=False)"
   ]
  },
  {
   "cell_type": "code",
   "execution_count": 23,
   "id": "ff7ca074",
   "metadata": {
    "scrolled": true
   },
   "outputs": [
    {
     "name": "stderr",
     "output_type": "stream",
     "text": [
      "/home/mshoush/anaconda3/lib/python3.8/site-packages/IPython/core/interactiveshell.py:3165: DtypeWarning: Columns (0) have mixed types.Specify dtype option on import or set low_memory=False.\n",
      "  has_raised = await self.run_ast_nodes(code_ast.body, cell_name,\n"
     ]
    },
    {
     "data": {
      "text/html": [
       "<div>\n",
       "<style scoped>\n",
       "    .dataframe tbody tr th:only-of-type {\n",
       "        vertical-align: middle;\n",
       "    }\n",
       "\n",
       "    .dataframe tbody tr th {\n",
       "        vertical-align: top;\n",
       "    }\n",
       "\n",
       "    .dataframe thead th {\n",
       "        text-align: right;\n",
       "    }\n",
       "</style>\n",
       "<table border=\"1\" class=\"dataframe\">\n",
       "  <thead>\n",
       "    <tr style=\"text-align: right;\">\n",
       "      <th></th>\n",
       "      <th>Registration_number</th>\n",
       "      <th>Name</th>\n",
       "      <th>Business_area_by_EMTAK_system_letter</th>\n",
       "      <th>Business_are_by_EMTAK_system_number</th>\n",
       "      <th>Institutional_classification</th>\n",
       "      <th>Client_identifyer_by_Estonian_Central_Bank</th>\n",
       "      <th>Registration_date</th>\n",
       "      <th>Deletion_date</th>\n",
       "    </tr>\n",
       "  </thead>\n",
       "  <tbody>\n",
       "    <tr>\n",
       "      <th>0</th>\n",
       "      <td>10000018</td>\n",
       "      <td>Amserv Auto AS</td>\n",
       "      <td>G</td>\n",
       "      <td>4511</td>\n",
       "      <td>S11002-S11003</td>\n",
       "      <td>8</td>\n",
       "      <td>1994-08-23</td>\n",
       "      <td>NaN</td>\n",
       "    </tr>\n",
       "    <tr>\n",
       "      <th>1</th>\n",
       "      <td>10000024</td>\n",
       "      <td>Eesti Raamat, OÜ</td>\n",
       "      <td>J</td>\n",
       "      <td>5811</td>\n",
       "      <td>S11002-S11003</td>\n",
       "      <td>8</td>\n",
       "      <td>1990-07-17</td>\n",
       "      <td>NaN</td>\n",
       "    </tr>\n",
       "    <tr>\n",
       "      <th>2</th>\n",
       "      <td>10000127</td>\n",
       "      <td>Aravete Apteek TÜ</td>\n",
       "      <td>G</td>\n",
       "      <td>4773</td>\n",
       "      <td>S11002-S11003</td>\n",
       "      <td>8</td>\n",
       "      <td>1995-09-27</td>\n",
       "      <td>NaN</td>\n",
       "    </tr>\n",
       "    <tr>\n",
       "      <th>3</th>\n",
       "      <td>10000165</td>\n",
       "      <td>Kiviõli Kaubahoov, AS</td>\n",
       "      <td>G</td>\n",
       "      <td>4719</td>\n",
       "      <td>S11002-S11003</td>\n",
       "      <td>8</td>\n",
       "      <td>1993-04-21</td>\n",
       "      <td>NaN</td>\n",
       "    </tr>\n",
       "    <tr>\n",
       "      <th>4</th>\n",
       "      <td>10000219</td>\n",
       "      <td>Year AS</td>\n",
       "      <td>C</td>\n",
       "      <td>1413</td>\n",
       "      <td>S11002-S11003</td>\n",
       "      <td>8</td>\n",
       "      <td>1995-09-28</td>\n",
       "      <td>NaN</td>\n",
       "    </tr>\n",
       "  </tbody>\n",
       "</table>\n",
       "</div>"
      ],
      "text/plain": [
       "  Registration_number                   Name  \\\n",
       "0            10000018         Amserv Auto AS   \n",
       "1            10000024       Eesti Raamat, OÜ   \n",
       "2            10000127      Aravete Apteek TÜ   \n",
       "3            10000165  Kiviõli Kaubahoov, AS   \n",
       "4            10000219                Year AS   \n",
       "\n",
       "  Business_area_by_EMTAK_system_letter  Business_are_by_EMTAK_system_number  \\\n",
       "0                                    G                                 4511   \n",
       "1                                    J                                 5811   \n",
       "2                                    G                                 4773   \n",
       "3                                    G                                 4719   \n",
       "4                                    C                                 1413   \n",
       "\n",
       "  Institutional_classification  Client_identifyer_by_Estonian_Central_Bank  \\\n",
       "0                S11002-S11003                                           8   \n",
       "1                S11002-S11003                                           8   \n",
       "2                S11002-S11003                                           8   \n",
       "3                S11002-S11003                                           8   \n",
       "4                S11002-S11003                                           8   \n",
       "\n",
       "  Registration_date Deletion_date  \n",
       "0        1994-08-23           NaN  \n",
       "1        1990-07-17           NaN  \n",
       "2        1995-09-27           NaN  \n",
       "3        1993-04-21           NaN  \n",
       "4        1995-09-28           NaN  "
      ]
     },
     "execution_count": 23,
     "metadata": {},
     "output_type": "execute_result"
    }
   ],
   "source": [
    "taxes = pd.read_csv(\"./data/csv/final_csv_df/taxes_info_combined2018_2021.csv\")\n",
    "taxes.head()"
   ]
  },
  {
   "cell_type": "code",
   "execution_count": 25,
   "id": "4c20e13e",
   "metadata": {},
   "outputs": [
    {
     "data": {
      "text/plain": [
       "229884"
      ]
     },
     "execution_count": 25,
     "metadata": {},
     "output_type": "execute_result"
    }
   ],
   "source": [
    "len(taxes['Registration_number'].unique().tolist())"
   ]
  },
  {
   "cell_type": "code",
   "execution_count": 26,
   "id": "f33a3455",
   "metadata": {},
   "outputs": [
    {
     "data": {
      "text/plain": [
       "320702"
      ]
     },
     "execution_count": 26,
     "metadata": {},
     "output_type": "execute_result"
    }
   ],
   "source": [
    "len(all_df_2017_2021['Registration_number'].unique().tolist())"
   ]
  },
  {
   "cell_type": "code",
   "execution_count": 27,
   "id": "ba9f255a",
   "metadata": {},
   "outputs": [
    {
     "data": {
      "text/plain": [
       "291938"
      ]
     },
     "execution_count": 27,
     "metadata": {},
     "output_type": "execute_result"
    }
   ],
   "source": [
    "len(before_covid['Registration_number'].unique().tolist())"
   ]
  },
  {
   "cell_type": "code",
   "execution_count": 28,
   "id": "62a98018",
   "metadata": {},
   "outputs": [
    {
     "data": {
      "text/plain": [
       "170477"
      ]
     },
     "execution_count": 28,
     "metadata": {},
     "output_type": "execute_result"
    }
   ],
   "source": [
    "len(during_covid['Registration_number'].unique().tolist())"
   ]
  },
  {
   "cell_type": "code",
   "execution_count": 30,
   "id": "64845643",
   "metadata": {},
   "outputs": [
    {
     "name": "stdout",
     "output_type": "stream",
     "text": [
      "No, List1 doesn't have all elements of the List2.\n"
     ]
    }
   ],
   "source": [
    "# Program to check the list contains elements of another list\n",
    "\n",
    "# List1\n",
    "List1 = taxes['Name'].unique().tolist()\n",
    " \n",
    "# List2\n",
    "List2 = set(before_covid['Name'])\n",
    "\n",
    "check =  all(item in List1 for item in List2)\n",
    " \n",
    "if check is True:\n",
    "    print(\"The list {} contains all elements of the list {}\".format(List1, List2))    \n",
    "else :\n",
    "    print(\"No, List1 doesn't have all elements of the List2.\")"
   ]
  },
  {
   "cell_type": "code",
   "execution_count": 47,
   "id": "3540d7a5",
   "metadata": {
    "scrolled": true
   },
   "outputs": [],
   "source": [
    "All_merged = all_df_2017_2021.merge(taxes, on=[\"Registration_number\"])\n",
    "During_merged = during_covid.merge(taxes, on=[\"Registration_number\"])\n",
    "Before_merged = before_covid.merge(taxes, on=[\"Registration_number\"])\n",
    "\n"
   ]
  },
  {
   "cell_type": "code",
   "execution_count": 50,
   "id": "60353459",
   "metadata": {},
   "outputs": [],
   "source": [
    "All_merged.to_csv( \"./data/csv/final_csv_df/merged_files/All_merged_2017_2021.csv\", index=False)\n",
    "During_merged.to_csv( \"./data/csv/final_csv_df/merged_files/During_Covid_merged.csv\", index=False)\n",
    "Before_merged.to_csv( \"./data/csv/final_csv_df/merged_files/Before_Covid_merged.csv\", index=False)"
   ]
  },
  {
   "cell_type": "code",
   "execution_count": null,
   "id": "75c8cdd2",
   "metadata": {},
   "outputs": [],
   "source": []
  },
  {
   "cell_type": "code",
   "execution_count": null,
   "id": "4026e4d5",
   "metadata": {},
   "outputs": [],
   "source": []
  },
  {
   "cell_type": "code",
   "execution_count": null,
   "id": "0c31aad7",
   "metadata": {},
   "outputs": [],
   "source": []
  }
 ],
 "metadata": {
  "kernelspec": {
   "display_name": "Python 3",
   "language": "python",
   "name": "python3"
  },
  "language_info": {
   "codemirror_mode": {
    "name": "ipython",
    "version": 3
   },
   "file_extension": ".py",
   "mimetype": "text/x-python",
   "name": "python",
   "nbconvert_exporter": "python",
   "pygments_lexer": "ipython3",
   "version": "3.8.5"
  }
 },
 "nbformat": 4,
 "nbformat_minor": 5
}

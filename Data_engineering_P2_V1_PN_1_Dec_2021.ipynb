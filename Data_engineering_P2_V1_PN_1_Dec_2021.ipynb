{
 "cells": [
  {
   "cell_type": "markdown",
   "metadata": {
    "collapsed": true,
    "pycharm": {
     "name": "#%% md\n"
    }
   },
   "source": [
    "# Feature Engineering continuing"
   ]
  },
  {
   "cell_type": "code",
   "execution_count": 1,
   "outputs": [],
   "source": [
    "# Import libraries\n",
    "import pandas as pd\n",
    "from numpy import log as ln\n",
    "import matplotlib.pyplot as plt\n",
    "from numpy import inf"
   ],
   "metadata": {
    "collapsed": false,
    "pycharm": {
     "name": "#%%\n"
    }
   }
  },
  {
   "cell_type": "code",
   "execution_count": 2,
   "outputs": [
    {
     "data": {
      "text/plain": "   Registration_number                Name      Type Registered_for_VAT  \\\n0             10257616       PEX TALLA, OÜ  Äriühing                jah   \n1             12994847  MAD & WONDERFUL OÜ  Äriühing                jah   \n2             11152753         DZORDZIA OÜ  Äriühing                jah   \n3             12994862   O KAKS SERVICE OÜ  Äriühing                jah   \n4             12994879           TERKEN OÜ  Äriühing                jah   \n\n          County                      Business_area_by_EMTAK_system  \\\n0  Harju maakond                                    TÖÖTLEV TÖÖSTUS   \n1  Tartu maakond  HULGI- JA JAEKAUBANDUS; MOOTORSŐIDUKITE JA MOO...   \n2  Harju maakond                                 VEONDUS JA LAONDUS   \n3  Harju maakond                                             EHITUS   \n4  Lääne maakond                              MAJUTUS JA TOITLUSTUS   \n\n   All_taxes  Labor_taxes   Turnover  number_of_employees  ...  \\\n0   24830.48     15559.13  149408.76                  8.0  ...   \n1       5.87         0.00     163.51                  1.0  ...   \n2    6534.79      3163.41  116510.14                  5.0  ...   \n3    2821.08       899.37   21054.69                  5.0  ...   \n4    1324.33       613.10    6251.00                  1.0  ...   \n\n  Institutional_classification Client_ID_by_Eesti_Pank  Registration_date  \\\n0                S11002-S11003                     8.0         1997-09-01   \n1                S11002-S11003                     8.0         2016-02-12   \n2                S11002-S11003                     8.0         2005-07-14   \n3                S11002-S11003                     8.0         2016-02-12   \n4                S11002-S11003                     8.0         2016-02-12   \n\n  Deletion_Date  cum_sum_turnover cum_perc_turnover  combined_taxes  \\\n0             1         149408.76              7.06        40389.61   \n1             1            163.51              0.06            5.87   \n2             1         116510.14              8.25         9698.20   \n3             1          21054.69              1.08         3720.45   \n4             1           6251.00              5.81         1937.43   \n\n   cum_sum_combined_taxes  revenue_growth  profit_per_employee  \n0                40389.61             0.0             18676.10  \n1                    5.87             0.0               163.51  \n2                 9698.20             0.0             23302.03  \n3                 3720.45             0.0              4210.94  \n4                 1937.43             0.0              6251.00  \n\n[5 rows x 23 columns]",
      "text/html": "<div>\n<style scoped>\n    .dataframe tbody tr th:only-of-type {\n        vertical-align: middle;\n    }\n\n    .dataframe tbody tr th {\n        vertical-align: top;\n    }\n\n    .dataframe thead th {\n        text-align: right;\n    }\n</style>\n<table border=\"1\" class=\"dataframe\">\n  <thead>\n    <tr style=\"text-align: right;\">\n      <th></th>\n      <th>Registration_number</th>\n      <th>Name</th>\n      <th>Type</th>\n      <th>Registered_for_VAT</th>\n      <th>County</th>\n      <th>Business_area_by_EMTAK_system</th>\n      <th>All_taxes</th>\n      <th>Labor_taxes</th>\n      <th>Turnover</th>\n      <th>number_of_employees</th>\n      <th>...</th>\n      <th>Institutional_classification</th>\n      <th>Client_ID_by_Eesti_Pank</th>\n      <th>Registration_date</th>\n      <th>Deletion_Date</th>\n      <th>cum_sum_turnover</th>\n      <th>cum_perc_turnover</th>\n      <th>combined_taxes</th>\n      <th>cum_sum_combined_taxes</th>\n      <th>revenue_growth</th>\n      <th>profit_per_employee</th>\n    </tr>\n  </thead>\n  <tbody>\n    <tr>\n      <th>0</th>\n      <td>10257616</td>\n      <td>PEX TALLA, OÜ</td>\n      <td>Äriühing</td>\n      <td>jah</td>\n      <td>Harju maakond</td>\n      <td>TÖÖTLEV TÖÖSTUS</td>\n      <td>24830.48</td>\n      <td>15559.13</td>\n      <td>149408.76</td>\n      <td>8.0</td>\n      <td>...</td>\n      <td>S11002-S11003</td>\n      <td>8.0</td>\n      <td>1997-09-01</td>\n      <td>1</td>\n      <td>149408.76</td>\n      <td>7.06</td>\n      <td>40389.61</td>\n      <td>40389.61</td>\n      <td>0.0</td>\n      <td>18676.10</td>\n    </tr>\n    <tr>\n      <th>1</th>\n      <td>12994847</td>\n      <td>MAD &amp; WONDERFUL OÜ</td>\n      <td>Äriühing</td>\n      <td>jah</td>\n      <td>Tartu maakond</td>\n      <td>HULGI- JA JAEKAUBANDUS; MOOTORSŐIDUKITE JA MOO...</td>\n      <td>5.87</td>\n      <td>0.00</td>\n      <td>163.51</td>\n      <td>1.0</td>\n      <td>...</td>\n      <td>S11002-S11003</td>\n      <td>8.0</td>\n      <td>2016-02-12</td>\n      <td>1</td>\n      <td>163.51</td>\n      <td>0.06</td>\n      <td>5.87</td>\n      <td>5.87</td>\n      <td>0.0</td>\n      <td>163.51</td>\n    </tr>\n    <tr>\n      <th>2</th>\n      <td>11152753</td>\n      <td>DZORDZIA OÜ</td>\n      <td>Äriühing</td>\n      <td>jah</td>\n      <td>Harju maakond</td>\n      <td>VEONDUS JA LAONDUS</td>\n      <td>6534.79</td>\n      <td>3163.41</td>\n      <td>116510.14</td>\n      <td>5.0</td>\n      <td>...</td>\n      <td>S11002-S11003</td>\n      <td>8.0</td>\n      <td>2005-07-14</td>\n      <td>1</td>\n      <td>116510.14</td>\n      <td>8.25</td>\n      <td>9698.20</td>\n      <td>9698.20</td>\n      <td>0.0</td>\n      <td>23302.03</td>\n    </tr>\n    <tr>\n      <th>3</th>\n      <td>12994862</td>\n      <td>O KAKS SERVICE OÜ</td>\n      <td>Äriühing</td>\n      <td>jah</td>\n      <td>Harju maakond</td>\n      <td>EHITUS</td>\n      <td>2821.08</td>\n      <td>899.37</td>\n      <td>21054.69</td>\n      <td>5.0</td>\n      <td>...</td>\n      <td>S11002-S11003</td>\n      <td>8.0</td>\n      <td>2016-02-12</td>\n      <td>1</td>\n      <td>21054.69</td>\n      <td>1.08</td>\n      <td>3720.45</td>\n      <td>3720.45</td>\n      <td>0.0</td>\n      <td>4210.94</td>\n    </tr>\n    <tr>\n      <th>4</th>\n      <td>12994879</td>\n      <td>TERKEN OÜ</td>\n      <td>Äriühing</td>\n      <td>jah</td>\n      <td>Lääne maakond</td>\n      <td>MAJUTUS JA TOITLUSTUS</td>\n      <td>1324.33</td>\n      <td>613.10</td>\n      <td>6251.00</td>\n      <td>1.0</td>\n      <td>...</td>\n      <td>S11002-S11003</td>\n      <td>8.0</td>\n      <td>2016-02-12</td>\n      <td>1</td>\n      <td>6251.00</td>\n      <td>5.81</td>\n      <td>1937.43</td>\n      <td>1937.43</td>\n      <td>0.0</td>\n      <td>6251.00</td>\n    </tr>\n  </tbody>\n</table>\n<p>5 rows × 23 columns</p>\n</div>"
     },
     "execution_count": 2,
     "metadata": {},
     "output_type": "execute_result"
    }
   ],
   "source": [
    "# Load data\n",
    "\n",
    "df_cleaned = pd.read_csv('./data/dataframes/full_period_enginered.csv')\n",
    "df_cleaned.head()"
   ],
   "metadata": {
    "collapsed": false,
    "pycharm": {
     "name": "#%%\n"
    }
   }
  },
  {
   "cell_type": "code",
   "execution_count": 3,
   "outputs": [],
   "source": [
    "# Define function\n",
    "\n",
    "def add_label_feat(g):\n",
    "    ex_df = pd.DataFrame(g).reset_index()\n",
    "    #print(ex_df)\n",
    "    E_beg = list(ex_df['number_of_employees'])[0]\n",
    "    E_end = list(ex_df['number_of_employees'])[-1]\n",
    "    try:\n",
    "        Birch_index = (E_end-E_end)*(E_end/E_beg)\n",
    "    except:\n",
    "        Birch_index = 0\n",
    "    ex_df['Birch_index'] = Birch_index\n",
    "\n",
    "    #print(ex_df['year_quarter'])\n",
    "\n",
    "    st_year = int(list(ex_df['year_quarter'])[0].split(\"_\")[0])\n",
    "    st_year\n",
    "\n",
    "    #print(list(ex_df['year_quarter']))\n",
    "    st_quarter = int(list(ex_df['year_quarter'])[0].split(\"_\")[1])\n",
    "    #st_quarter = get_int_quarter(st_quarter)\n",
    "    st_quarter\n",
    "\n",
    "    en_year = int(list(ex_df['year_quarter'])[-1].split(\"_\")[0])\n",
    "    en_year\n",
    "\n",
    "\n",
    "    en_quarter = int(list(ex_df['year_quarter'])[-1].split(\"_\")[1])\n",
    "    #en_quarter = get_int_quarter(en_quarter)\n",
    "    en_quarter\n",
    "\n",
    "    dur_q =(4 - (st_quarter - 1)) + (((en_year-st_year) - 1) *4) + en_quarter\n",
    "\n",
    "\n",
    "    # employment_growth_rate\n",
    "    emp_growth_rate_CGR = (ln(E_end) - ln(E_beg))/dur_q\n",
    "    ex_df['emp_growth_rate_CGR'] = emp_growth_rate_CGR\n",
    "\n",
    "    # absolute change in the number of employees\n",
    "    ACE = abs(E_end - E_beg)\n",
    "    ex_df['ACE'] = ACE\n",
    "\n",
    "\n",
    "    return ex_df"
   ],
   "metadata": {
    "collapsed": false,
    "pycharm": {
     "name": "#%%\n"
    }
   }
  },
  {
   "cell_type": "code",
   "execution_count": 4,
   "outputs": [
    {
     "data": {
      "text/plain": "           index  Registration_number  \\\n0        1489297             10000018   \n1        1630559             10000018   \n2          62702             10000024   \n3         158029             10000024   \n4         227650             10000024   \n...          ...                  ...   \n1675249  1587669             16310180   \n1675250  1587867             16313623   \n1675251  1587807             16315987   \n1675252  1587528             16318098   \n1675253  1592170             90015407   \n\n                                            Name      Type Registered_for_VAT  \\\n0                        AMSERV AUTO AKTSIASELTS  Äriühing                jah   \n1                        AMSERV AUTO AKTSIASELTS  Äriühing                jah   \n2                               EESTI RAAMAT, OÜ  Äriühing                jah   \n3                               EESTI RAAMAT, OÜ  Äriühing                jah   \n4                               EESTI RAAMAT, OÜ  Äriühing                jah   \n...                                          ...       ...                ...   \n1675249                               CLEANIN OÜ  Äriühing                jah   \n1675250                                  KEME OÜ  Äriühing                jah   \n1675251                                KIRIZA OÜ  Äriühing                jah   \n1675252                               OÜ LEIDLUS  Äriühing                jah   \n1675253  EESTI PUNASE RISTI TAASKASUTUSKESKUS SA  Äriühing                jah   \n\n                       County  \\\n0           Harju ( Tallinn )   \n1           Harju ( Tallinn )   \n2               Harju maakond   \n3               Harju maakond   \n4               Harju maakond   \n...                       ...   \n1675249     Harju ( Tallinn )   \n1675250     Harju ( Tallinn )   \n1675251     Harju ( Tallinn )   \n1675252  Järva ( Paide linn )   \n1675253     Harju ( Tallinn )   \n\n                             Business_area_by_EMTAK_system   All_taxes  \\\n0        HULGI- JA JAEKAUBANDUS; MOOTORSÕIDUKITE JA MOO...  1134805.23   \n1        HULGI- JA JAEKAUBANDUS; MOOTORSÕIDUKITE JA MOO...  1375328.87   \n2                                             INFO JA SIDE    12126.74   \n3                                             INFO JA SIDE     8484.90   \n4                                             INFO JA SIDE    10468.75   \n...                                                    ...         ...   \n1675249                            KINNISVARAALANE TEGEVUS        0.10   \n1675250                            HALDUS- JA ABITEGEVUSED        0.10   \n1675251                            HALDUS- JA ABITEGEVUSED        0.10   \n1675252            KUTSE-, TEADUS- JA TEHNIKAALANE TEGEVUS        0.10   \n1675253  HULGI- JA JAEKAUBANDUS; MOOTORSÕIDUKITE JA MOO...     1000.92   \n\n         Labor_taxes      Turnover  ...  Deletion_Date cum_sum_turnover  \\\n0          736604.35  1.914271e+07  ...              1      19142710.36   \n1          801558.09  2.158722e+07  ...              1      40729934.63   \n2           11533.92  5.148675e+04  ...              1         51486.75   \n3            7931.42  5.986939e+04  ...              1        111356.14   \n4           10068.65  5.589557e+04  ...              1        167251.71   \n...              ...           ...  ...            ...              ...   \n1675249         0.10  1.000000e-06  ...              1             0.00   \n1675250         0.10  1.000000e-06  ...              1             0.00   \n1675251         0.10  1.000000e-06  ...              1             0.00   \n1675252         0.10  1.000000e-06  ...              1             0.00   \n1675253      1046.52  1.000000e-06  ...              1             0.00   \n\n        cum_perc_turnover  combined_taxes cum_sum_combined_taxes  \\\n0                   47.00      1871409.58             1871409.58   \n1                  100.00      2176886.96             4048296.54   \n2                    2.74        23660.66               23660.66   \n3                    5.92        16416.32               40076.98   \n4                    8.89        20537.40               60614.38   \n...                   ...             ...                    ...   \n1675249              0.00            0.20                   0.20   \n1675250              0.00            0.20                   0.20   \n1675251              0.00            0.20                   0.20   \n1675252              0.00            0.20                   0.20   \n1675253              0.00         2047.44                2047.44   \n\n         revenue_growth profit_per_employee  Birch_index  emp_growth_rate_CGR  \\\n0                  0.00            95713.55          0.0            -0.023022   \n1                  0.13           113022.12          0.0            -0.023022   \n2                  0.00             5720.75          0.0             0.015141   \n3                  0.16             7483.67          0.0             0.015141   \n4                 -0.07             6986.95          0.0             0.015141   \n...                 ...                 ...          ...                  ...   \n1675249            0.00                0.00          0.0             0.000000   \n1675250            0.00                0.00          0.0             0.000000   \n1675251            0.00                0.00          0.0             0.000000   \n1675252            0.00                0.00          0.0             0.000000   \n1675253            0.00                0.00          0.0             0.000000   \n\n         ACE  \n0        9.0  \n1        9.0  \n2        3.0  \n3        3.0  \n4        3.0  \n...      ...  \n1675249  0.0  \n1675250  0.0  \n1675251  0.0  \n1675252  0.0  \n1675253  0.0  \n\n[1675254 rows x 27 columns]",
      "text/html": "<div>\n<style scoped>\n    .dataframe tbody tr th:only-of-type {\n        vertical-align: middle;\n    }\n\n    .dataframe tbody tr th {\n        vertical-align: top;\n    }\n\n    .dataframe thead th {\n        text-align: right;\n    }\n</style>\n<table border=\"1\" class=\"dataframe\">\n  <thead>\n    <tr style=\"text-align: right;\">\n      <th></th>\n      <th>index</th>\n      <th>Registration_number</th>\n      <th>Name</th>\n      <th>Type</th>\n      <th>Registered_for_VAT</th>\n      <th>County</th>\n      <th>Business_area_by_EMTAK_system</th>\n      <th>All_taxes</th>\n      <th>Labor_taxes</th>\n      <th>Turnover</th>\n      <th>...</th>\n      <th>Deletion_Date</th>\n      <th>cum_sum_turnover</th>\n      <th>cum_perc_turnover</th>\n      <th>combined_taxes</th>\n      <th>cum_sum_combined_taxes</th>\n      <th>revenue_growth</th>\n      <th>profit_per_employee</th>\n      <th>Birch_index</th>\n      <th>emp_growth_rate_CGR</th>\n      <th>ACE</th>\n    </tr>\n  </thead>\n  <tbody>\n    <tr>\n      <th>0</th>\n      <td>1489297</td>\n      <td>10000018</td>\n      <td>AMSERV AUTO AKTSIASELTS</td>\n      <td>Äriühing</td>\n      <td>jah</td>\n      <td>Harju ( Tallinn )</td>\n      <td>HULGI- JA JAEKAUBANDUS; MOOTORSÕIDUKITE JA MOO...</td>\n      <td>1134805.23</td>\n      <td>736604.35</td>\n      <td>1.914271e+07</td>\n      <td>...</td>\n      <td>1</td>\n      <td>19142710.36</td>\n      <td>47.00</td>\n      <td>1871409.58</td>\n      <td>1871409.58</td>\n      <td>0.00</td>\n      <td>95713.55</td>\n      <td>0.0</td>\n      <td>-0.023022</td>\n      <td>9.0</td>\n    </tr>\n    <tr>\n      <th>1</th>\n      <td>1630559</td>\n      <td>10000018</td>\n      <td>AMSERV AUTO AKTSIASELTS</td>\n      <td>Äriühing</td>\n      <td>jah</td>\n      <td>Harju ( Tallinn )</td>\n      <td>HULGI- JA JAEKAUBANDUS; MOOTORSÕIDUKITE JA MOO...</td>\n      <td>1375328.87</td>\n      <td>801558.09</td>\n      <td>2.158722e+07</td>\n      <td>...</td>\n      <td>1</td>\n      <td>40729934.63</td>\n      <td>100.00</td>\n      <td>2176886.96</td>\n      <td>4048296.54</td>\n      <td>0.13</td>\n      <td>113022.12</td>\n      <td>0.0</td>\n      <td>-0.023022</td>\n      <td>9.0</td>\n    </tr>\n    <tr>\n      <th>2</th>\n      <td>62702</td>\n      <td>10000024</td>\n      <td>EESTI RAAMAT, OÜ</td>\n      <td>Äriühing</td>\n      <td>jah</td>\n      <td>Harju maakond</td>\n      <td>INFO JA SIDE</td>\n      <td>12126.74</td>\n      <td>11533.92</td>\n      <td>5.148675e+04</td>\n      <td>...</td>\n      <td>1</td>\n      <td>51486.75</td>\n      <td>2.74</td>\n      <td>23660.66</td>\n      <td>23660.66</td>\n      <td>0.00</td>\n      <td>5720.75</td>\n      <td>0.0</td>\n      <td>0.015141</td>\n      <td>3.0</td>\n    </tr>\n    <tr>\n      <th>3</th>\n      <td>158029</td>\n      <td>10000024</td>\n      <td>EESTI RAAMAT, OÜ</td>\n      <td>Äriühing</td>\n      <td>jah</td>\n      <td>Harju maakond</td>\n      <td>INFO JA SIDE</td>\n      <td>8484.90</td>\n      <td>7931.42</td>\n      <td>5.986939e+04</td>\n      <td>...</td>\n      <td>1</td>\n      <td>111356.14</td>\n      <td>5.92</td>\n      <td>16416.32</td>\n      <td>40076.98</td>\n      <td>0.16</td>\n      <td>7483.67</td>\n      <td>0.0</td>\n      <td>0.015141</td>\n      <td>3.0</td>\n    </tr>\n    <tr>\n      <th>4</th>\n      <td>227650</td>\n      <td>10000024</td>\n      <td>EESTI RAAMAT, OÜ</td>\n      <td>Äriühing</td>\n      <td>jah</td>\n      <td>Harju maakond</td>\n      <td>INFO JA SIDE</td>\n      <td>10468.75</td>\n      <td>10068.65</td>\n      <td>5.589557e+04</td>\n      <td>...</td>\n      <td>1</td>\n      <td>167251.71</td>\n      <td>8.89</td>\n      <td>20537.40</td>\n      <td>60614.38</td>\n      <td>-0.07</td>\n      <td>6986.95</td>\n      <td>0.0</td>\n      <td>0.015141</td>\n      <td>3.0</td>\n    </tr>\n    <tr>\n      <th>...</th>\n      <td>...</td>\n      <td>...</td>\n      <td>...</td>\n      <td>...</td>\n      <td>...</td>\n      <td>...</td>\n      <td>...</td>\n      <td>...</td>\n      <td>...</td>\n      <td>...</td>\n      <td>...</td>\n      <td>...</td>\n      <td>...</td>\n      <td>...</td>\n      <td>...</td>\n      <td>...</td>\n      <td>...</td>\n      <td>...</td>\n      <td>...</td>\n      <td>...</td>\n      <td>...</td>\n    </tr>\n    <tr>\n      <th>1675249</th>\n      <td>1587669</td>\n      <td>16310180</td>\n      <td>CLEANIN OÜ</td>\n      <td>Äriühing</td>\n      <td>jah</td>\n      <td>Harju ( Tallinn )</td>\n      <td>KINNISVARAALANE TEGEVUS</td>\n      <td>0.10</td>\n      <td>0.10</td>\n      <td>1.000000e-06</td>\n      <td>...</td>\n      <td>1</td>\n      <td>0.00</td>\n      <td>0.00</td>\n      <td>0.20</td>\n      <td>0.20</td>\n      <td>0.00</td>\n      <td>0.00</td>\n      <td>0.0</td>\n      <td>0.000000</td>\n      <td>0.0</td>\n    </tr>\n    <tr>\n      <th>1675250</th>\n      <td>1587867</td>\n      <td>16313623</td>\n      <td>KEME OÜ</td>\n      <td>Äriühing</td>\n      <td>jah</td>\n      <td>Harju ( Tallinn )</td>\n      <td>HALDUS- JA ABITEGEVUSED</td>\n      <td>0.10</td>\n      <td>0.10</td>\n      <td>1.000000e-06</td>\n      <td>...</td>\n      <td>1</td>\n      <td>0.00</td>\n      <td>0.00</td>\n      <td>0.20</td>\n      <td>0.20</td>\n      <td>0.00</td>\n      <td>0.00</td>\n      <td>0.0</td>\n      <td>0.000000</td>\n      <td>0.0</td>\n    </tr>\n    <tr>\n      <th>1675251</th>\n      <td>1587807</td>\n      <td>16315987</td>\n      <td>KIRIZA OÜ</td>\n      <td>Äriühing</td>\n      <td>jah</td>\n      <td>Harju ( Tallinn )</td>\n      <td>HALDUS- JA ABITEGEVUSED</td>\n      <td>0.10</td>\n      <td>0.10</td>\n      <td>1.000000e-06</td>\n      <td>...</td>\n      <td>1</td>\n      <td>0.00</td>\n      <td>0.00</td>\n      <td>0.20</td>\n      <td>0.20</td>\n      <td>0.00</td>\n      <td>0.00</td>\n      <td>0.0</td>\n      <td>0.000000</td>\n      <td>0.0</td>\n    </tr>\n    <tr>\n      <th>1675252</th>\n      <td>1587528</td>\n      <td>16318098</td>\n      <td>OÜ LEIDLUS</td>\n      <td>Äriühing</td>\n      <td>jah</td>\n      <td>Järva ( Paide linn )</td>\n      <td>KUTSE-, TEADUS- JA TEHNIKAALANE TEGEVUS</td>\n      <td>0.10</td>\n      <td>0.10</td>\n      <td>1.000000e-06</td>\n      <td>...</td>\n      <td>1</td>\n      <td>0.00</td>\n      <td>0.00</td>\n      <td>0.20</td>\n      <td>0.20</td>\n      <td>0.00</td>\n      <td>0.00</td>\n      <td>0.0</td>\n      <td>0.000000</td>\n      <td>0.0</td>\n    </tr>\n    <tr>\n      <th>1675253</th>\n      <td>1592170</td>\n      <td>90015407</td>\n      <td>EESTI PUNASE RISTI TAASKASUTUSKESKUS SA</td>\n      <td>Äriühing</td>\n      <td>jah</td>\n      <td>Harju ( Tallinn )</td>\n      <td>HULGI- JA JAEKAUBANDUS; MOOTORSÕIDUKITE JA MOO...</td>\n      <td>1000.92</td>\n      <td>1046.52</td>\n      <td>1.000000e-06</td>\n      <td>...</td>\n      <td>1</td>\n      <td>0.00</td>\n      <td>0.00</td>\n      <td>2047.44</td>\n      <td>2047.44</td>\n      <td>0.00</td>\n      <td>0.00</td>\n      <td>0.0</td>\n      <td>0.000000</td>\n      <td>0.0</td>\n    </tr>\n  </tbody>\n</table>\n<p>1675254 rows × 27 columns</p>\n</div>"
     },
     "execution_count": 4,
     "metadata": {},
     "output_type": "execute_result"
    }
   ],
   "source": [
    "df_cleaned = df_cleaned.groupby(\"Registration_number\").apply(add_label_feat).reset_index(drop=True)\n",
    "df_cleaned"
   ],
   "metadata": {
    "collapsed": false,
    "pycharm": {
     "name": "#%%\n"
    }
   }
  },
  {
   "cell_type": "code",
   "execution_count": 5,
   "outputs": [
    {
     "data": {
      "text/plain": "index                            1675254\nRegistration_number               124606\nName                              132693\nType                                   1\nRegistered_for_VAT                     2\nCounty                                95\nBusiness_area_by_EMTAK_system         26\nAll_taxes                         825778\nLabor_taxes                       573584\nTurnover                         1064348\nnumber_of_employees                 1153\nyear_quarter                          19\nEMTAK_by_letter                       19\nEMTAK_by_number                      552\nInstitutional_classification          10\nClient_ID_by_Eesti_Pank                9\nRegistration_date                   7853\nDeletion_Date                          2\ncum_sum_turnover                 1330152\ncum_perc_turnover                  10001\ncombined_taxes                    884782\ncum_sum_combined_taxes           1354549\nrevenue_growth                     48165\nprofit_per_employee               986293\nBirch_index                            1\nemp_growth_rate_CGR                 4752\nACE                                  207\ndtype: int64"
     },
     "execution_count": 5,
     "metadata": {},
     "output_type": "execute_result"
    }
   ],
   "source": [
    "df_cleaned.nunique()"
   ],
   "metadata": {
    "collapsed": false,
    "pycharm": {
     "name": "#%%\n"
    }
   }
  },
  {
   "cell_type": "code",
   "execution_count": 6,
   "outputs": [
    {
     "name": "stderr",
     "output_type": "stream",
     "text": [
      "/var/folders/8y/yq5dpggj5gq0006wv9sxbx1h0000gn/T/ipykernel_92727/2380515770.py:3: FutureWarning: In a future version of pandas all arguments of DataFrame.drop except for the argument 'labels' will be keyword-only\n",
      "  df_cleaned = df_cleaned.drop([\"index\"], 1).reset_index(drop=True)\n"
     ]
    },
    {
     "data": {
      "text/plain": "         Registration_number                                     Name  \\\n0                   10000018                  AMSERV AUTO AKTSIASELTS   \n1                   10000018                  AMSERV AUTO AKTSIASELTS   \n2                   10000024                         EESTI RAAMAT, OÜ   \n3                   10000024                         EESTI RAAMAT, OÜ   \n4                   10000024                         EESTI RAAMAT, OÜ   \n...                      ...                                      ...   \n1675249             16310180                               CLEANIN OÜ   \n1675250             16313623                                  KEME OÜ   \n1675251             16315987                                KIRIZA OÜ   \n1675252             16318098                               OÜ LEIDLUS   \n1675253             90015407  EESTI PUNASE RISTI TAASKASUTUSKESKUS SA   \n\n             Type Registered_for_VAT                County  \\\n0        Äriühing                jah     Harju ( Tallinn )   \n1        Äriühing                jah     Harju ( Tallinn )   \n2        Äriühing                jah         Harju maakond   \n3        Äriühing                jah         Harju maakond   \n4        Äriühing                jah         Harju maakond   \n...           ...                ...                   ...   \n1675249  Äriühing                jah     Harju ( Tallinn )   \n1675250  Äriühing                jah     Harju ( Tallinn )   \n1675251  Äriühing                jah     Harju ( Tallinn )   \n1675252  Äriühing                jah  Järva ( Paide linn )   \n1675253  Äriühing                jah     Harju ( Tallinn )   \n\n                             Business_area_by_EMTAK_system   All_taxes  \\\n0        HULGI- JA JAEKAUBANDUS; MOOTORSÕIDUKITE JA MOO...  1134805.23   \n1        HULGI- JA JAEKAUBANDUS; MOOTORSÕIDUKITE JA MOO...  1375328.87   \n2                                             INFO JA SIDE    12126.74   \n3                                             INFO JA SIDE     8484.90   \n4                                             INFO JA SIDE    10468.75   \n...                                                    ...         ...   \n1675249                            KINNISVARAALANE TEGEVUS        0.10   \n1675250                            HALDUS- JA ABITEGEVUSED        0.10   \n1675251                            HALDUS- JA ABITEGEVUSED        0.10   \n1675252            KUTSE-, TEADUS- JA TEHNIKAALANE TEGEVUS        0.10   \n1675253  HULGI- JA JAEKAUBANDUS; MOOTORSÕIDUKITE JA MOO...     1000.92   \n\n         Labor_taxes      Turnover  number_of_employees  ... Deletion_Date  \\\n0          736604.35  1.914271e+07                200.0  ...             1   \n1          801558.09  2.158722e+07                191.0  ...             1   \n2           11533.92  5.148675e+04                  9.0  ...             1   \n3            7931.42  5.986939e+04                  8.0  ...             1   \n4           10068.65  5.589557e+04                  8.0  ...             1   \n...              ...           ...                  ...  ...           ...   \n1675249         0.10  1.000000e-06                  1.0  ...             1   \n1675250         0.10  1.000000e-06                  1.0  ...             1   \n1675251         0.10  1.000000e-06                  1.0  ...             1   \n1675252         0.10  1.000000e-06                  1.0  ...             1   \n1675253      1046.52  1.000000e-06                  7.0  ...             1   \n\n        cum_sum_turnover  cum_perc_turnover combined_taxes  \\\n0            19142710.36              47.00     1871409.58   \n1            40729934.63             100.00     2176886.96   \n2               51486.75               2.74       23660.66   \n3              111356.14               5.92       16416.32   \n4              167251.71               8.89       20537.40   \n...                  ...                ...            ...   \n1675249             0.00               0.00           0.20   \n1675250             0.00               0.00           0.20   \n1675251             0.00               0.00           0.20   \n1675252             0.00               0.00           0.20   \n1675253             0.00               0.00        2047.44   \n\n         cum_sum_combined_taxes revenue_growth  profit_per_employee  \\\n0                    1871409.58           0.00             95713.55   \n1                    4048296.54           0.13            113022.12   \n2                      23660.66           0.00              5720.75   \n3                      40076.98           0.16              7483.67   \n4                      60614.38          -0.07              6986.95   \n...                         ...            ...                  ...   \n1675249                    0.20           0.00                 0.00   \n1675250                    0.20           0.00                 0.00   \n1675251                    0.20           0.00                 0.00   \n1675252                    0.20           0.00                 0.00   \n1675253                 2047.44           0.00                 0.00   \n\n         Birch_index  emp_growth_rate_CGR  ACE  \n0                0.0            -0.023022  9.0  \n1                0.0            -0.023022  9.0  \n2                0.0             0.015141  3.0  \n3                0.0             0.015141  3.0  \n4                0.0             0.015141  3.0  \n...              ...                  ...  ...  \n1675249          0.0             0.000000  0.0  \n1675250          0.0             0.000000  0.0  \n1675251          0.0             0.000000  0.0  \n1675252          0.0             0.000000  0.0  \n1675253          0.0             0.000000  0.0  \n\n[1675254 rows x 26 columns]",
      "text/html": "<div>\n<style scoped>\n    .dataframe tbody tr th:only-of-type {\n        vertical-align: middle;\n    }\n\n    .dataframe tbody tr th {\n        vertical-align: top;\n    }\n\n    .dataframe thead th {\n        text-align: right;\n    }\n</style>\n<table border=\"1\" class=\"dataframe\">\n  <thead>\n    <tr style=\"text-align: right;\">\n      <th></th>\n      <th>Registration_number</th>\n      <th>Name</th>\n      <th>Type</th>\n      <th>Registered_for_VAT</th>\n      <th>County</th>\n      <th>Business_area_by_EMTAK_system</th>\n      <th>All_taxes</th>\n      <th>Labor_taxes</th>\n      <th>Turnover</th>\n      <th>number_of_employees</th>\n      <th>...</th>\n      <th>Deletion_Date</th>\n      <th>cum_sum_turnover</th>\n      <th>cum_perc_turnover</th>\n      <th>combined_taxes</th>\n      <th>cum_sum_combined_taxes</th>\n      <th>revenue_growth</th>\n      <th>profit_per_employee</th>\n      <th>Birch_index</th>\n      <th>emp_growth_rate_CGR</th>\n      <th>ACE</th>\n    </tr>\n  </thead>\n  <tbody>\n    <tr>\n      <th>0</th>\n      <td>10000018</td>\n      <td>AMSERV AUTO AKTSIASELTS</td>\n      <td>Äriühing</td>\n      <td>jah</td>\n      <td>Harju ( Tallinn )</td>\n      <td>HULGI- JA JAEKAUBANDUS; MOOTORSÕIDUKITE JA MOO...</td>\n      <td>1134805.23</td>\n      <td>736604.35</td>\n      <td>1.914271e+07</td>\n      <td>200.0</td>\n      <td>...</td>\n      <td>1</td>\n      <td>19142710.36</td>\n      <td>47.00</td>\n      <td>1871409.58</td>\n      <td>1871409.58</td>\n      <td>0.00</td>\n      <td>95713.55</td>\n      <td>0.0</td>\n      <td>-0.023022</td>\n      <td>9.0</td>\n    </tr>\n    <tr>\n      <th>1</th>\n      <td>10000018</td>\n      <td>AMSERV AUTO AKTSIASELTS</td>\n      <td>Äriühing</td>\n      <td>jah</td>\n      <td>Harju ( Tallinn )</td>\n      <td>HULGI- JA JAEKAUBANDUS; MOOTORSÕIDUKITE JA MOO...</td>\n      <td>1375328.87</td>\n      <td>801558.09</td>\n      <td>2.158722e+07</td>\n      <td>191.0</td>\n      <td>...</td>\n      <td>1</td>\n      <td>40729934.63</td>\n      <td>100.00</td>\n      <td>2176886.96</td>\n      <td>4048296.54</td>\n      <td>0.13</td>\n      <td>113022.12</td>\n      <td>0.0</td>\n      <td>-0.023022</td>\n      <td>9.0</td>\n    </tr>\n    <tr>\n      <th>2</th>\n      <td>10000024</td>\n      <td>EESTI RAAMAT, OÜ</td>\n      <td>Äriühing</td>\n      <td>jah</td>\n      <td>Harju maakond</td>\n      <td>INFO JA SIDE</td>\n      <td>12126.74</td>\n      <td>11533.92</td>\n      <td>5.148675e+04</td>\n      <td>9.0</td>\n      <td>...</td>\n      <td>1</td>\n      <td>51486.75</td>\n      <td>2.74</td>\n      <td>23660.66</td>\n      <td>23660.66</td>\n      <td>0.00</td>\n      <td>5720.75</td>\n      <td>0.0</td>\n      <td>0.015141</td>\n      <td>3.0</td>\n    </tr>\n    <tr>\n      <th>3</th>\n      <td>10000024</td>\n      <td>EESTI RAAMAT, OÜ</td>\n      <td>Äriühing</td>\n      <td>jah</td>\n      <td>Harju maakond</td>\n      <td>INFO JA SIDE</td>\n      <td>8484.90</td>\n      <td>7931.42</td>\n      <td>5.986939e+04</td>\n      <td>8.0</td>\n      <td>...</td>\n      <td>1</td>\n      <td>111356.14</td>\n      <td>5.92</td>\n      <td>16416.32</td>\n      <td>40076.98</td>\n      <td>0.16</td>\n      <td>7483.67</td>\n      <td>0.0</td>\n      <td>0.015141</td>\n      <td>3.0</td>\n    </tr>\n    <tr>\n      <th>4</th>\n      <td>10000024</td>\n      <td>EESTI RAAMAT, OÜ</td>\n      <td>Äriühing</td>\n      <td>jah</td>\n      <td>Harju maakond</td>\n      <td>INFO JA SIDE</td>\n      <td>10468.75</td>\n      <td>10068.65</td>\n      <td>5.589557e+04</td>\n      <td>8.0</td>\n      <td>...</td>\n      <td>1</td>\n      <td>167251.71</td>\n      <td>8.89</td>\n      <td>20537.40</td>\n      <td>60614.38</td>\n      <td>-0.07</td>\n      <td>6986.95</td>\n      <td>0.0</td>\n      <td>0.015141</td>\n      <td>3.0</td>\n    </tr>\n    <tr>\n      <th>...</th>\n      <td>...</td>\n      <td>...</td>\n      <td>...</td>\n      <td>...</td>\n      <td>...</td>\n      <td>...</td>\n      <td>...</td>\n      <td>...</td>\n      <td>...</td>\n      <td>...</td>\n      <td>...</td>\n      <td>...</td>\n      <td>...</td>\n      <td>...</td>\n      <td>...</td>\n      <td>...</td>\n      <td>...</td>\n      <td>...</td>\n      <td>...</td>\n      <td>...</td>\n      <td>...</td>\n    </tr>\n    <tr>\n      <th>1675249</th>\n      <td>16310180</td>\n      <td>CLEANIN OÜ</td>\n      <td>Äriühing</td>\n      <td>jah</td>\n      <td>Harju ( Tallinn )</td>\n      <td>KINNISVARAALANE TEGEVUS</td>\n      <td>0.10</td>\n      <td>0.10</td>\n      <td>1.000000e-06</td>\n      <td>1.0</td>\n      <td>...</td>\n      <td>1</td>\n      <td>0.00</td>\n      <td>0.00</td>\n      <td>0.20</td>\n      <td>0.20</td>\n      <td>0.00</td>\n      <td>0.00</td>\n      <td>0.0</td>\n      <td>0.000000</td>\n      <td>0.0</td>\n    </tr>\n    <tr>\n      <th>1675250</th>\n      <td>16313623</td>\n      <td>KEME OÜ</td>\n      <td>Äriühing</td>\n      <td>jah</td>\n      <td>Harju ( Tallinn )</td>\n      <td>HALDUS- JA ABITEGEVUSED</td>\n      <td>0.10</td>\n      <td>0.10</td>\n      <td>1.000000e-06</td>\n      <td>1.0</td>\n      <td>...</td>\n      <td>1</td>\n      <td>0.00</td>\n      <td>0.00</td>\n      <td>0.20</td>\n      <td>0.20</td>\n      <td>0.00</td>\n      <td>0.00</td>\n      <td>0.0</td>\n      <td>0.000000</td>\n      <td>0.0</td>\n    </tr>\n    <tr>\n      <th>1675251</th>\n      <td>16315987</td>\n      <td>KIRIZA OÜ</td>\n      <td>Äriühing</td>\n      <td>jah</td>\n      <td>Harju ( Tallinn )</td>\n      <td>HALDUS- JA ABITEGEVUSED</td>\n      <td>0.10</td>\n      <td>0.10</td>\n      <td>1.000000e-06</td>\n      <td>1.0</td>\n      <td>...</td>\n      <td>1</td>\n      <td>0.00</td>\n      <td>0.00</td>\n      <td>0.20</td>\n      <td>0.20</td>\n      <td>0.00</td>\n      <td>0.00</td>\n      <td>0.0</td>\n      <td>0.000000</td>\n      <td>0.0</td>\n    </tr>\n    <tr>\n      <th>1675252</th>\n      <td>16318098</td>\n      <td>OÜ LEIDLUS</td>\n      <td>Äriühing</td>\n      <td>jah</td>\n      <td>Järva ( Paide linn )</td>\n      <td>KUTSE-, TEADUS- JA TEHNIKAALANE TEGEVUS</td>\n      <td>0.10</td>\n      <td>0.10</td>\n      <td>1.000000e-06</td>\n      <td>1.0</td>\n      <td>...</td>\n      <td>1</td>\n      <td>0.00</td>\n      <td>0.00</td>\n      <td>0.20</td>\n      <td>0.20</td>\n      <td>0.00</td>\n      <td>0.00</td>\n      <td>0.0</td>\n      <td>0.000000</td>\n      <td>0.0</td>\n    </tr>\n    <tr>\n      <th>1675253</th>\n      <td>90015407</td>\n      <td>EESTI PUNASE RISTI TAASKASUTUSKESKUS SA</td>\n      <td>Äriühing</td>\n      <td>jah</td>\n      <td>Harju ( Tallinn )</td>\n      <td>HULGI- JA JAEKAUBANDUS; MOOTORSÕIDUKITE JA MOO...</td>\n      <td>1000.92</td>\n      <td>1046.52</td>\n      <td>1.000000e-06</td>\n      <td>7.0</td>\n      <td>...</td>\n      <td>1</td>\n      <td>0.00</td>\n      <td>0.00</td>\n      <td>2047.44</td>\n      <td>2047.44</td>\n      <td>0.00</td>\n      <td>0.00</td>\n      <td>0.0</td>\n      <td>0.000000</td>\n      <td>0.0</td>\n    </tr>\n  </tbody>\n</table>\n<p>1675254 rows × 26 columns</p>\n</div>"
     },
     "execution_count": 6,
     "metadata": {},
     "output_type": "execute_result"
    }
   ],
   "source": [
    "# Correcting indexes\n",
    "\n",
    "df_cleaned = df_cleaned.drop([\"index\"], 1).reset_index(drop=True)\n",
    "df_cleaned"
   ],
   "metadata": {
    "collapsed": false,
    "pycharm": {
     "name": "#%%\n"
    }
   }
  },
  {
   "cell_type": "code",
   "execution_count": 7,
   "outputs": [
    {
     "data": {
      "text/plain": "        Registration_number       Name      Type Registered_for_VAT  \\\n169236             10391131  NORTAL AS  Äriühing                jah   \n169237             10391131  NORTAL AS  Äriühing                jah   \n169238             10391131  NORTAL AS  Äriühing                jah   \n169239             10391131  NORTAL AS  Äriühing                jah   \n169240             10391131  NORTAL AS  Äriühing                jah   \n169241             10391131  NORTAL AS  Äriühing                jah   \n169242             10391131  NORTAL AS  Äriühing                jah   \n169243             10391131  NORTAL AS  Äriühing                jah   \n169244             10391131  NORTAL AS  Äriühing                jah   \n169245             10391131  NORTAL AS  Äriühing                jah   \n169246             10391131  NORTAL AS  Äriühing                jah   \n169247             10391131  NORTAL AS  Äriühing                jah   \n169248             10391131  NORTAL AS  Äriühing                jah   \n169249             10391131  NORTAL AS  Äriühing                jah   \n169250             10391131  NORTAL AS  Äriühing                jah   \n169251             10391131  NORTAL AS  Äriühing                jah   \n169252             10391131  NORTAL AS  Äriühing                jah   \n169253             10391131  NORTAL AS  Äriühing                jah   \n169254             10391131  NORTAL AS  Äriühing                jah   \n\n                   County Business_area_by_EMTAK_system   All_taxes  \\\n169236      Harju maakond                  INFO JA SIDE  1426220.77   \n169237      Harju maakond                  INFO JA SIDE  2147796.23   \n169238      Harju maakond                  INFO JA SIDE  1550912.46   \n169239      Harju maakond                  INFO JA SIDE  1670639.48   \n169240      Harju maakond                  INFO JA SIDE  1821672.37   \n169241      Harju maakond                  INFO JA SIDE  1650326.66   \n169242      Harju maakond                  INFO JA SIDE  1789294.84   \n169243      Harju maakond                  INFO JA SIDE  1812415.29   \n169244      Harju maakond                  INFO JA SIDE  2660268.53   \n169245      Harju maakond                  INFO JA SIDE  2104782.75   \n169246  Harju ( Tallinn )                  INFO JA SIDE  2266627.29   \n169247  Harju ( Tallinn )                  INFO JA SIDE  2047342.04   \n169248  Harju ( Tallinn )                  INFO JA SIDE  2385306.63   \n169249  Harju ( Tallinn )                  INFO JA SIDE  2058699.39   \n169250  Harju ( Tallinn )                  INFO JA SIDE  2382417.64   \n169251  Harju ( Tallinn )                  INFO JA SIDE  2228457.14   \n169252  Harju ( Tallinn )                  INFO JA SIDE  2419588.78   \n169253  Harju ( Tallinn )                  INFO JA SIDE  2749129.87   \n169254  Harju ( Tallinn )                  INFO JA SIDE  2280312.82   \n\n        Labor_taxes     Turnover  number_of_employees  ... Deletion_Date  \\\n169236    994053.02   8609633.24                265.0  ...             1   \n169237   1648346.87   5743574.41                297.0  ...             1   \n169238   1195574.24   4944107.48                290.0  ...             1   \n169239   1158832.55   7469944.39                287.0  ...             1   \n169240   1216835.81  13929933.98                286.0  ...             1   \n169241   1280771.24   5916328.85                334.0  ...             1   \n169242   1403898.72   9355564.24                333.0  ...             1   \n169243   1446988.51   5548868.31                341.0  ...             1   \n169244   1569078.73  14522027.70                346.0  ...             1   \n169245   1801131.72   7352014.55                360.0  ...             1   \n169246   1753675.99   8217917.04                357.0  ...             1   \n169247   1704454.31   6110258.86                343.0  ...             1   \n169248   1665475.73  23317179.15                336.0  ...             1   \n169249   1769103.59   5558178.87                325.0  ...             1   \n169250   1666719.24   9103649.61                319.0  ...             1   \n169251   1677545.77   7631104.78                323.0  ...             1   \n169252   1770788.26  20076959.72                327.0  ...             1   \n169253   2035274.77   8749890.65                329.0  ...             1   \n169254   1954937.20   6374571.03                332.0  ...             1   \n\n       cum_sum_turnover  cum_perc_turnover combined_taxes  \\\n169236     8.609633e+06               4.82     2420273.79   \n169237     1.435321e+07               8.04     3796143.10   \n169238     1.929732e+07              10.81     2746486.70   \n169239     2.676726e+07              14.99     2829472.03   \n169240     4.069719e+07              22.80     3038508.18   \n169241     4.661352e+07              26.11     2931097.90   \n169242     5.596909e+07              31.35     3193193.56   \n169243     6.151795e+07              34.46     3259403.80   \n169244     7.603998e+07              42.59     4229347.26   \n169245     8.339200e+07              46.71     3905914.47   \n169246     9.160991e+07              51.31     4020303.28   \n169247     9.772017e+07              54.74     3751796.35   \n169248     1.210374e+08              67.80     4050782.36   \n169249     1.265955e+08              70.91     3827802.98   \n169250     1.356992e+08              76.01     4049136.88   \n169251     1.433303e+08              80.28     3906002.91   \n169252     1.634072e+08              91.53     4190377.04   \n169253     1.721571e+08              96.43     4784404.64   \n169254     1.785317e+08             100.00     4235250.02   \n\n        cum_sum_combined_taxes revenue_growth  profit_per_employee  \\\n169236              2420273.79           0.00             32489.18   \n169237              6216416.89          -0.33             19338.63   \n169238              8962903.59          -0.14             17048.65   \n169239             11792375.62           0.51             26027.68   \n169240             14830883.80           0.86             48706.06   \n169241             17761981.70          -0.58             17713.56   \n169242             20955175.26           0.58             28094.79   \n169243             24214579.06          -0.41             16272.34   \n169244             28443926.32           1.62             41971.18   \n169245             32349840.79          -0.49             20422.26   \n169246             36370144.07           0.12             23019.38   \n169247             40121940.42          -0.26             17814.17   \n169248             44172722.78           2.82             69396.37   \n169249             48000525.76          -0.76             17102.09   \n169250             52049662.64           0.64             28538.09   \n169251             55955665.55          -0.16             23625.71   \n169252             60146042.59           1.63             61397.43   \n169253             64930447.23          -0.56             26595.41   \n169254             69165697.25          -0.27             19200.52   \n\n        Birch_index  emp_growth_rate_CGR   ACE  \n169236          0.0             0.011863  67.0  \n169237          0.0             0.011863  67.0  \n169238          0.0             0.011863  67.0  \n169239          0.0             0.011863  67.0  \n169240          0.0             0.011863  67.0  \n169241          0.0             0.011863  67.0  \n169242          0.0             0.011863  67.0  \n169243          0.0             0.011863  67.0  \n169244          0.0             0.011863  67.0  \n169245          0.0             0.011863  67.0  \n169246          0.0             0.011863  67.0  \n169247          0.0             0.011863  67.0  \n169248          0.0             0.011863  67.0  \n169249          0.0             0.011863  67.0  \n169250          0.0             0.011863  67.0  \n169251          0.0             0.011863  67.0  \n169252          0.0             0.011863  67.0  \n169253          0.0             0.011863  67.0  \n169254          0.0             0.011863  67.0  \n\n[19 rows x 26 columns]",
      "text/html": "<div>\n<style scoped>\n    .dataframe tbody tr th:only-of-type {\n        vertical-align: middle;\n    }\n\n    .dataframe tbody tr th {\n        vertical-align: top;\n    }\n\n    .dataframe thead th {\n        text-align: right;\n    }\n</style>\n<table border=\"1\" class=\"dataframe\">\n  <thead>\n    <tr style=\"text-align: right;\">\n      <th></th>\n      <th>Registration_number</th>\n      <th>Name</th>\n      <th>Type</th>\n      <th>Registered_for_VAT</th>\n      <th>County</th>\n      <th>Business_area_by_EMTAK_system</th>\n      <th>All_taxes</th>\n      <th>Labor_taxes</th>\n      <th>Turnover</th>\n      <th>number_of_employees</th>\n      <th>...</th>\n      <th>Deletion_Date</th>\n      <th>cum_sum_turnover</th>\n      <th>cum_perc_turnover</th>\n      <th>combined_taxes</th>\n      <th>cum_sum_combined_taxes</th>\n      <th>revenue_growth</th>\n      <th>profit_per_employee</th>\n      <th>Birch_index</th>\n      <th>emp_growth_rate_CGR</th>\n      <th>ACE</th>\n    </tr>\n  </thead>\n  <tbody>\n    <tr>\n      <th>169236</th>\n      <td>10391131</td>\n      <td>NORTAL AS</td>\n      <td>Äriühing</td>\n      <td>jah</td>\n      <td>Harju maakond</td>\n      <td>INFO JA SIDE</td>\n      <td>1426220.77</td>\n      <td>994053.02</td>\n      <td>8609633.24</td>\n      <td>265.0</td>\n      <td>...</td>\n      <td>1</td>\n      <td>8.609633e+06</td>\n      <td>4.82</td>\n      <td>2420273.79</td>\n      <td>2420273.79</td>\n      <td>0.00</td>\n      <td>32489.18</td>\n      <td>0.0</td>\n      <td>0.011863</td>\n      <td>67.0</td>\n    </tr>\n    <tr>\n      <th>169237</th>\n      <td>10391131</td>\n      <td>NORTAL AS</td>\n      <td>Äriühing</td>\n      <td>jah</td>\n      <td>Harju maakond</td>\n      <td>INFO JA SIDE</td>\n      <td>2147796.23</td>\n      <td>1648346.87</td>\n      <td>5743574.41</td>\n      <td>297.0</td>\n      <td>...</td>\n      <td>1</td>\n      <td>1.435321e+07</td>\n      <td>8.04</td>\n      <td>3796143.10</td>\n      <td>6216416.89</td>\n      <td>-0.33</td>\n      <td>19338.63</td>\n      <td>0.0</td>\n      <td>0.011863</td>\n      <td>67.0</td>\n    </tr>\n    <tr>\n      <th>169238</th>\n      <td>10391131</td>\n      <td>NORTAL AS</td>\n      <td>Äriühing</td>\n      <td>jah</td>\n      <td>Harju maakond</td>\n      <td>INFO JA SIDE</td>\n      <td>1550912.46</td>\n      <td>1195574.24</td>\n      <td>4944107.48</td>\n      <td>290.0</td>\n      <td>...</td>\n      <td>1</td>\n      <td>1.929732e+07</td>\n      <td>10.81</td>\n      <td>2746486.70</td>\n      <td>8962903.59</td>\n      <td>-0.14</td>\n      <td>17048.65</td>\n      <td>0.0</td>\n      <td>0.011863</td>\n      <td>67.0</td>\n    </tr>\n    <tr>\n      <th>169239</th>\n      <td>10391131</td>\n      <td>NORTAL AS</td>\n      <td>Äriühing</td>\n      <td>jah</td>\n      <td>Harju maakond</td>\n      <td>INFO JA SIDE</td>\n      <td>1670639.48</td>\n      <td>1158832.55</td>\n      <td>7469944.39</td>\n      <td>287.0</td>\n      <td>...</td>\n      <td>1</td>\n      <td>2.676726e+07</td>\n      <td>14.99</td>\n      <td>2829472.03</td>\n      <td>11792375.62</td>\n      <td>0.51</td>\n      <td>26027.68</td>\n      <td>0.0</td>\n      <td>0.011863</td>\n      <td>67.0</td>\n    </tr>\n    <tr>\n      <th>169240</th>\n      <td>10391131</td>\n      <td>NORTAL AS</td>\n      <td>Äriühing</td>\n      <td>jah</td>\n      <td>Harju maakond</td>\n      <td>INFO JA SIDE</td>\n      <td>1821672.37</td>\n      <td>1216835.81</td>\n      <td>13929933.98</td>\n      <td>286.0</td>\n      <td>...</td>\n      <td>1</td>\n      <td>4.069719e+07</td>\n      <td>22.80</td>\n      <td>3038508.18</td>\n      <td>14830883.80</td>\n      <td>0.86</td>\n      <td>48706.06</td>\n      <td>0.0</td>\n      <td>0.011863</td>\n      <td>67.0</td>\n    </tr>\n    <tr>\n      <th>169241</th>\n      <td>10391131</td>\n      <td>NORTAL AS</td>\n      <td>Äriühing</td>\n      <td>jah</td>\n      <td>Harju maakond</td>\n      <td>INFO JA SIDE</td>\n      <td>1650326.66</td>\n      <td>1280771.24</td>\n      <td>5916328.85</td>\n      <td>334.0</td>\n      <td>...</td>\n      <td>1</td>\n      <td>4.661352e+07</td>\n      <td>26.11</td>\n      <td>2931097.90</td>\n      <td>17761981.70</td>\n      <td>-0.58</td>\n      <td>17713.56</td>\n      <td>0.0</td>\n      <td>0.011863</td>\n      <td>67.0</td>\n    </tr>\n    <tr>\n      <th>169242</th>\n      <td>10391131</td>\n      <td>NORTAL AS</td>\n      <td>Äriühing</td>\n      <td>jah</td>\n      <td>Harju maakond</td>\n      <td>INFO JA SIDE</td>\n      <td>1789294.84</td>\n      <td>1403898.72</td>\n      <td>9355564.24</td>\n      <td>333.0</td>\n      <td>...</td>\n      <td>1</td>\n      <td>5.596909e+07</td>\n      <td>31.35</td>\n      <td>3193193.56</td>\n      <td>20955175.26</td>\n      <td>0.58</td>\n      <td>28094.79</td>\n      <td>0.0</td>\n      <td>0.011863</td>\n      <td>67.0</td>\n    </tr>\n    <tr>\n      <th>169243</th>\n      <td>10391131</td>\n      <td>NORTAL AS</td>\n      <td>Äriühing</td>\n      <td>jah</td>\n      <td>Harju maakond</td>\n      <td>INFO JA SIDE</td>\n      <td>1812415.29</td>\n      <td>1446988.51</td>\n      <td>5548868.31</td>\n      <td>341.0</td>\n      <td>...</td>\n      <td>1</td>\n      <td>6.151795e+07</td>\n      <td>34.46</td>\n      <td>3259403.80</td>\n      <td>24214579.06</td>\n      <td>-0.41</td>\n      <td>16272.34</td>\n      <td>0.0</td>\n      <td>0.011863</td>\n      <td>67.0</td>\n    </tr>\n    <tr>\n      <th>169244</th>\n      <td>10391131</td>\n      <td>NORTAL AS</td>\n      <td>Äriühing</td>\n      <td>jah</td>\n      <td>Harju maakond</td>\n      <td>INFO JA SIDE</td>\n      <td>2660268.53</td>\n      <td>1569078.73</td>\n      <td>14522027.70</td>\n      <td>346.0</td>\n      <td>...</td>\n      <td>1</td>\n      <td>7.603998e+07</td>\n      <td>42.59</td>\n      <td>4229347.26</td>\n      <td>28443926.32</td>\n      <td>1.62</td>\n      <td>41971.18</td>\n      <td>0.0</td>\n      <td>0.011863</td>\n      <td>67.0</td>\n    </tr>\n    <tr>\n      <th>169245</th>\n      <td>10391131</td>\n      <td>NORTAL AS</td>\n      <td>Äriühing</td>\n      <td>jah</td>\n      <td>Harju maakond</td>\n      <td>INFO JA SIDE</td>\n      <td>2104782.75</td>\n      <td>1801131.72</td>\n      <td>7352014.55</td>\n      <td>360.0</td>\n      <td>...</td>\n      <td>1</td>\n      <td>8.339200e+07</td>\n      <td>46.71</td>\n      <td>3905914.47</td>\n      <td>32349840.79</td>\n      <td>-0.49</td>\n      <td>20422.26</td>\n      <td>0.0</td>\n      <td>0.011863</td>\n      <td>67.0</td>\n    </tr>\n    <tr>\n      <th>169246</th>\n      <td>10391131</td>\n      <td>NORTAL AS</td>\n      <td>Äriühing</td>\n      <td>jah</td>\n      <td>Harju ( Tallinn )</td>\n      <td>INFO JA SIDE</td>\n      <td>2266627.29</td>\n      <td>1753675.99</td>\n      <td>8217917.04</td>\n      <td>357.0</td>\n      <td>...</td>\n      <td>1</td>\n      <td>9.160991e+07</td>\n      <td>51.31</td>\n      <td>4020303.28</td>\n      <td>36370144.07</td>\n      <td>0.12</td>\n      <td>23019.38</td>\n      <td>0.0</td>\n      <td>0.011863</td>\n      <td>67.0</td>\n    </tr>\n    <tr>\n      <th>169247</th>\n      <td>10391131</td>\n      <td>NORTAL AS</td>\n      <td>Äriühing</td>\n      <td>jah</td>\n      <td>Harju ( Tallinn )</td>\n      <td>INFO JA SIDE</td>\n      <td>2047342.04</td>\n      <td>1704454.31</td>\n      <td>6110258.86</td>\n      <td>343.0</td>\n      <td>...</td>\n      <td>1</td>\n      <td>9.772017e+07</td>\n      <td>54.74</td>\n      <td>3751796.35</td>\n      <td>40121940.42</td>\n      <td>-0.26</td>\n      <td>17814.17</td>\n      <td>0.0</td>\n      <td>0.011863</td>\n      <td>67.0</td>\n    </tr>\n    <tr>\n      <th>169248</th>\n      <td>10391131</td>\n      <td>NORTAL AS</td>\n      <td>Äriühing</td>\n      <td>jah</td>\n      <td>Harju ( Tallinn )</td>\n      <td>INFO JA SIDE</td>\n      <td>2385306.63</td>\n      <td>1665475.73</td>\n      <td>23317179.15</td>\n      <td>336.0</td>\n      <td>...</td>\n      <td>1</td>\n      <td>1.210374e+08</td>\n      <td>67.80</td>\n      <td>4050782.36</td>\n      <td>44172722.78</td>\n      <td>2.82</td>\n      <td>69396.37</td>\n      <td>0.0</td>\n      <td>0.011863</td>\n      <td>67.0</td>\n    </tr>\n    <tr>\n      <th>169249</th>\n      <td>10391131</td>\n      <td>NORTAL AS</td>\n      <td>Äriühing</td>\n      <td>jah</td>\n      <td>Harju ( Tallinn )</td>\n      <td>INFO JA SIDE</td>\n      <td>2058699.39</td>\n      <td>1769103.59</td>\n      <td>5558178.87</td>\n      <td>325.0</td>\n      <td>...</td>\n      <td>1</td>\n      <td>1.265955e+08</td>\n      <td>70.91</td>\n      <td>3827802.98</td>\n      <td>48000525.76</td>\n      <td>-0.76</td>\n      <td>17102.09</td>\n      <td>0.0</td>\n      <td>0.011863</td>\n      <td>67.0</td>\n    </tr>\n    <tr>\n      <th>169250</th>\n      <td>10391131</td>\n      <td>NORTAL AS</td>\n      <td>Äriühing</td>\n      <td>jah</td>\n      <td>Harju ( Tallinn )</td>\n      <td>INFO JA SIDE</td>\n      <td>2382417.64</td>\n      <td>1666719.24</td>\n      <td>9103649.61</td>\n      <td>319.0</td>\n      <td>...</td>\n      <td>1</td>\n      <td>1.356992e+08</td>\n      <td>76.01</td>\n      <td>4049136.88</td>\n      <td>52049662.64</td>\n      <td>0.64</td>\n      <td>28538.09</td>\n      <td>0.0</td>\n      <td>0.011863</td>\n      <td>67.0</td>\n    </tr>\n    <tr>\n      <th>169251</th>\n      <td>10391131</td>\n      <td>NORTAL AS</td>\n      <td>Äriühing</td>\n      <td>jah</td>\n      <td>Harju ( Tallinn )</td>\n      <td>INFO JA SIDE</td>\n      <td>2228457.14</td>\n      <td>1677545.77</td>\n      <td>7631104.78</td>\n      <td>323.0</td>\n      <td>...</td>\n      <td>1</td>\n      <td>1.433303e+08</td>\n      <td>80.28</td>\n      <td>3906002.91</td>\n      <td>55955665.55</td>\n      <td>-0.16</td>\n      <td>23625.71</td>\n      <td>0.0</td>\n      <td>0.011863</td>\n      <td>67.0</td>\n    </tr>\n    <tr>\n      <th>169252</th>\n      <td>10391131</td>\n      <td>NORTAL AS</td>\n      <td>Äriühing</td>\n      <td>jah</td>\n      <td>Harju ( Tallinn )</td>\n      <td>INFO JA SIDE</td>\n      <td>2419588.78</td>\n      <td>1770788.26</td>\n      <td>20076959.72</td>\n      <td>327.0</td>\n      <td>...</td>\n      <td>1</td>\n      <td>1.634072e+08</td>\n      <td>91.53</td>\n      <td>4190377.04</td>\n      <td>60146042.59</td>\n      <td>1.63</td>\n      <td>61397.43</td>\n      <td>0.0</td>\n      <td>0.011863</td>\n      <td>67.0</td>\n    </tr>\n    <tr>\n      <th>169253</th>\n      <td>10391131</td>\n      <td>NORTAL AS</td>\n      <td>Äriühing</td>\n      <td>jah</td>\n      <td>Harju ( Tallinn )</td>\n      <td>INFO JA SIDE</td>\n      <td>2749129.87</td>\n      <td>2035274.77</td>\n      <td>8749890.65</td>\n      <td>329.0</td>\n      <td>...</td>\n      <td>1</td>\n      <td>1.721571e+08</td>\n      <td>96.43</td>\n      <td>4784404.64</td>\n      <td>64930447.23</td>\n      <td>-0.56</td>\n      <td>26595.41</td>\n      <td>0.0</td>\n      <td>0.011863</td>\n      <td>67.0</td>\n    </tr>\n    <tr>\n      <th>169254</th>\n      <td>10391131</td>\n      <td>NORTAL AS</td>\n      <td>Äriühing</td>\n      <td>jah</td>\n      <td>Harju ( Tallinn )</td>\n      <td>INFO JA SIDE</td>\n      <td>2280312.82</td>\n      <td>1954937.20</td>\n      <td>6374571.03</td>\n      <td>332.0</td>\n      <td>...</td>\n      <td>1</td>\n      <td>1.785317e+08</td>\n      <td>100.00</td>\n      <td>4235250.02</td>\n      <td>69165697.25</td>\n      <td>-0.27</td>\n      <td>19200.52</td>\n      <td>0.0</td>\n      <td>0.011863</td>\n      <td>67.0</td>\n    </tr>\n  </tbody>\n</table>\n<p>19 rows × 26 columns</p>\n</div>"
     },
     "execution_count": 7,
     "metadata": {},
     "output_type": "execute_result"
    }
   ],
   "source": [
    "df_cleaned.query('Registration_number == 10391131')"
   ],
   "metadata": {
    "collapsed": false,
    "pycharm": {
     "name": "#%%\n"
    }
   }
  },
  {
   "cell_type": "code",
   "execution_count": 8,
   "outputs": [],
   "source": [
    "# Savin data to file\n",
    "\n",
    "df_cleaned.to_csv('./data/dataframes/full_period_4_labelling.csv')"
   ],
   "metadata": {
    "collapsed": false,
    "pycharm": {
     "name": "#%%\n"
    }
   }
  },
  {
   "cell_type": "code",
   "execution_count": 45,
   "outputs": [
    {
     "data": {
      "text/plain": "   Occurrence    Reg_no\n0           2  10000018\n1          19  10000024\n2          19  10000127\n3          19  10000165\n4          19  10000219",
      "text/html": "<div>\n<style scoped>\n    .dataframe tbody tr th:only-of-type {\n        vertical-align: middle;\n    }\n\n    .dataframe tbody tr th {\n        vertical-align: top;\n    }\n\n    .dataframe thead th {\n        text-align: right;\n    }\n</style>\n<table border=\"1\" class=\"dataframe\">\n  <thead>\n    <tr style=\"text-align: right;\">\n      <th></th>\n      <th>Occurrence</th>\n      <th>Reg_no</th>\n    </tr>\n  </thead>\n  <tbody>\n    <tr>\n      <th>0</th>\n      <td>2</td>\n      <td>10000018</td>\n    </tr>\n    <tr>\n      <th>1</th>\n      <td>19</td>\n      <td>10000024</td>\n    </tr>\n    <tr>\n      <th>2</th>\n      <td>19</td>\n      <td>10000127</td>\n    </tr>\n    <tr>\n      <th>3</th>\n      <td>19</td>\n      <td>10000165</td>\n    </tr>\n    <tr>\n      <th>4</th>\n      <td>19</td>\n      <td>10000219</td>\n    </tr>\n  </tbody>\n</table>\n</div>"
     },
     "execution_count": 45,
     "metadata": {},
     "output_type": "execute_result"
    }
   ],
   "source": [
    "# Visualising amoutnt of data we have on companies (max 17 quarter data)\n",
    "\n",
    "df_companies = df_cleaned.groupby('Registration_number').count()\n",
    "df_companies = df_companies.iloc[:,0:1]\n",
    "df_companies['Reg_no'] = range(1, len(df_companies) + 1)\n",
    "df_companies['Reg_no'] = df_companies.index\n",
    "df_companies.reset_index(drop=True, inplace=True)\n",
    "df_companies.rename(columns={'Name':'Occurrence'}, inplace=True)\n",
    "df_companies.head()"
   ],
   "metadata": {
    "collapsed": false,
    "pycharm": {
     "name": "#%%\n"
    }
   }
  },
  {
   "cell_type": "code",
   "execution_count": 46,
   "outputs": [
    {
     "data": {
      "text/plain": "    Times  Quarters\n0    5274         1\n1    5281         2\n2    4928         3\n3    4753         4\n4    4639         5\n5    3980         6\n6    3711         7\n7    3680         8\n8    3517         9\n9    3164        10\n10   2702        11\n11   2703        12\n12   2519        13\n13   2347        14\n14   2376        15\n15   2541        16\n16   2518        17\n17   2515        18\n18  61458        19",
      "text/html": "<div>\n<style scoped>\n    .dataframe tbody tr th:only-of-type {\n        vertical-align: middle;\n    }\n\n    .dataframe tbody tr th {\n        vertical-align: top;\n    }\n\n    .dataframe thead th {\n        text-align: right;\n    }\n</style>\n<table border=\"1\" class=\"dataframe\">\n  <thead>\n    <tr style=\"text-align: right;\">\n      <th></th>\n      <th>Times</th>\n      <th>Quarters</th>\n    </tr>\n  </thead>\n  <tbody>\n    <tr>\n      <th>0</th>\n      <td>5274</td>\n      <td>1</td>\n    </tr>\n    <tr>\n      <th>1</th>\n      <td>5281</td>\n      <td>2</td>\n    </tr>\n    <tr>\n      <th>2</th>\n      <td>4928</td>\n      <td>3</td>\n    </tr>\n    <tr>\n      <th>3</th>\n      <td>4753</td>\n      <td>4</td>\n    </tr>\n    <tr>\n      <th>4</th>\n      <td>4639</td>\n      <td>5</td>\n    </tr>\n    <tr>\n      <th>5</th>\n      <td>3980</td>\n      <td>6</td>\n    </tr>\n    <tr>\n      <th>6</th>\n      <td>3711</td>\n      <td>7</td>\n    </tr>\n    <tr>\n      <th>7</th>\n      <td>3680</td>\n      <td>8</td>\n    </tr>\n    <tr>\n      <th>8</th>\n      <td>3517</td>\n      <td>9</td>\n    </tr>\n    <tr>\n      <th>9</th>\n      <td>3164</td>\n      <td>10</td>\n    </tr>\n    <tr>\n      <th>10</th>\n      <td>2702</td>\n      <td>11</td>\n    </tr>\n    <tr>\n      <th>11</th>\n      <td>2703</td>\n      <td>12</td>\n    </tr>\n    <tr>\n      <th>12</th>\n      <td>2519</td>\n      <td>13</td>\n    </tr>\n    <tr>\n      <th>13</th>\n      <td>2347</td>\n      <td>14</td>\n    </tr>\n    <tr>\n      <th>14</th>\n      <td>2376</td>\n      <td>15</td>\n    </tr>\n    <tr>\n      <th>15</th>\n      <td>2541</td>\n      <td>16</td>\n    </tr>\n    <tr>\n      <th>16</th>\n      <td>2518</td>\n      <td>17</td>\n    </tr>\n    <tr>\n      <th>17</th>\n      <td>2515</td>\n      <td>18</td>\n    </tr>\n    <tr>\n      <th>18</th>\n      <td>61458</td>\n      <td>19</td>\n    </tr>\n  </tbody>\n</table>\n</div>"
     },
     "execution_count": 46,
     "metadata": {},
     "output_type": "execute_result"
    }
   ],
   "source": [
    "df_quarters = df_companies.groupby('Occurrence').count()\n",
    "df_quarters['Quarters'] = range(1, len(df_quarters) + 1)\n",
    "df_quarters['Quarters'] = df_quarters.index\n",
    "df_quarters.reset_index(drop=True, inplace=True)\n",
    "df_quarters.rename(columns={'Reg_no':'Times'}, inplace=True)\n",
    "df_quarters"
   ],
   "metadata": {
    "collapsed": false,
    "pycharm": {
     "name": "#%%\n"
    }
   }
  },
  {
   "cell_type": "markdown",
   "source": [
    "As we have vrey little refference point with the companies what have only 1 or few qarters of quality data, it would be wise to drop them"
   ],
   "metadata": {
    "collapsed": false,
    "pycharm": {
     "name": "#%% md\n"
    }
   }
  },
  {
   "cell_type": "code",
   "execution_count": null,
   "outputs": [],
   "source": [],
   "metadata": {
    "collapsed": false,
    "pycharm": {
     "name": "#%%\n"
    }
   }
  }
 ],
 "metadata": {
  "kernelspec": {
   "name": "pycharm-99298bfd",
   "language": "python",
   "display_name": "PyCharm (_project)"
  },
  "language_info": {
   "codemirror_mode": {
    "name": "ipython",
    "version": 2
   },
   "file_extension": ".py",
   "mimetype": "text/x-python",
   "name": "python",
   "nbconvert_exporter": "python",
   "pygments_lexer": "ipython2",
   "version": "2.7.6"
  }
 },
 "nbformat": 4,
 "nbformat_minor": 0
}
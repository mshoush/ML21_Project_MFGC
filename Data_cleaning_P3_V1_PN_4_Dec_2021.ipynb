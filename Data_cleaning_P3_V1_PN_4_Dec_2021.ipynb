{
 "cells": [
  {
   "cell_type": "markdown",
   "metadata": {
    "collapsed": true,
    "pycharm": {
     "name": "#%% md\n"
    }
   },
   "source": [
    "Data cleaning continuing (part 3)"
   ]
  },
  {
   "cell_type": "code",
   "execution_count": 1,
   "outputs": [],
   "source": [
    "# Import libraries\n",
    "\n",
    "import numpy as np\n",
    "import pandas as pd"
   ],
   "metadata": {
    "collapsed": false,
    "pycharm": {
     "name": "#%%\n"
    }
   }
  },
  {
   "cell_type": "code",
   "execution_count": 2,
   "outputs": [
    {
     "data": {
      "text/plain": "   Unnamed: 0  Registration_number                     Name      Type  \\\n0           0             10000018  AMSERV AUTO AKTSIASELTS  Äriühing   \n1           1             10000018  AMSERV AUTO AKTSIASELTS  Äriühing   \n2           2             10000024         EESTI RAAMAT, OÜ  Äriühing   \n3           3             10000024         EESTI RAAMAT, OÜ  Äriühing   \n4           4             10000024         EESTI RAAMAT, OÜ  Äriühing   \n\n  Registered_for_VAT             County  \\\n0                jah  Harju ( Tallinn )   \n1                jah  Harju ( Tallinn )   \n2                jah      Harju maakond   \n3                jah      Harju maakond   \n4                jah      Harju maakond   \n\n                       Business_area_by_EMTAK_system   All_taxes  Labor_taxes  \\\n0  HULGI- JA JAEKAUBANDUS; MOOTORSÕIDUKITE JA MOO...  1134805.23    736604.35   \n1  HULGI- JA JAEKAUBANDUS; MOOTORSÕIDUKITE JA MOO...  1375328.87    801558.09   \n2                                       INFO JA SIDE    12126.74     11533.92   \n3                                       INFO JA SIDE     8484.90      7931.42   \n4                                       INFO JA SIDE    10468.75     10068.65   \n\n      Turnover  ...  Deletion_Date cum_sum_turnover cum_perc_turnover  \\\n0  19142710.36  ...              1      19142710.36             47.00   \n1  21587224.27  ...              1      40729934.63            100.00   \n2     51486.75  ...              1         51486.75              2.74   \n3     59869.39  ...              1        111356.14              5.92   \n4     55895.57  ...              1        167251.71              8.89   \n\n   combined_taxes cum_sum_combined_taxes  revenue_growth profit_per_employee  \\\n0      1871409.58             1871409.58            0.00            95713.55   \n1      2176886.96             4048296.54            0.13           113022.12   \n2        23660.66               23660.66            0.00             5720.75   \n3        16416.32               40076.98            0.16             7483.67   \n4        20537.40               60614.38           -0.07             6986.95   \n\n   Birch_index  emp_growth_rate_CGR  ACE  \n0          0.0            -0.023022  9.0  \n1          0.0            -0.023022  9.0  \n2          0.0             0.015141  3.0  \n3          0.0             0.015141  3.0  \n4          0.0             0.015141  3.0  \n\n[5 rows x 27 columns]",
      "text/html": "<div>\n<style scoped>\n    .dataframe tbody tr th:only-of-type {\n        vertical-align: middle;\n    }\n\n    .dataframe tbody tr th {\n        vertical-align: top;\n    }\n\n    .dataframe thead th {\n        text-align: right;\n    }\n</style>\n<table border=\"1\" class=\"dataframe\">\n  <thead>\n    <tr style=\"text-align: right;\">\n      <th></th>\n      <th>Unnamed: 0</th>\n      <th>Registration_number</th>\n      <th>Name</th>\n      <th>Type</th>\n      <th>Registered_for_VAT</th>\n      <th>County</th>\n      <th>Business_area_by_EMTAK_system</th>\n      <th>All_taxes</th>\n      <th>Labor_taxes</th>\n      <th>Turnover</th>\n      <th>...</th>\n      <th>Deletion_Date</th>\n      <th>cum_sum_turnover</th>\n      <th>cum_perc_turnover</th>\n      <th>combined_taxes</th>\n      <th>cum_sum_combined_taxes</th>\n      <th>revenue_growth</th>\n      <th>profit_per_employee</th>\n      <th>Birch_index</th>\n      <th>emp_growth_rate_CGR</th>\n      <th>ACE</th>\n    </tr>\n  </thead>\n  <tbody>\n    <tr>\n      <th>0</th>\n      <td>0</td>\n      <td>10000018</td>\n      <td>AMSERV AUTO AKTSIASELTS</td>\n      <td>Äriühing</td>\n      <td>jah</td>\n      <td>Harju ( Tallinn )</td>\n      <td>HULGI- JA JAEKAUBANDUS; MOOTORSÕIDUKITE JA MOO...</td>\n      <td>1134805.23</td>\n      <td>736604.35</td>\n      <td>19142710.36</td>\n      <td>...</td>\n      <td>1</td>\n      <td>19142710.36</td>\n      <td>47.00</td>\n      <td>1871409.58</td>\n      <td>1871409.58</td>\n      <td>0.00</td>\n      <td>95713.55</td>\n      <td>0.0</td>\n      <td>-0.023022</td>\n      <td>9.0</td>\n    </tr>\n    <tr>\n      <th>1</th>\n      <td>1</td>\n      <td>10000018</td>\n      <td>AMSERV AUTO AKTSIASELTS</td>\n      <td>Äriühing</td>\n      <td>jah</td>\n      <td>Harju ( Tallinn )</td>\n      <td>HULGI- JA JAEKAUBANDUS; MOOTORSÕIDUKITE JA MOO...</td>\n      <td>1375328.87</td>\n      <td>801558.09</td>\n      <td>21587224.27</td>\n      <td>...</td>\n      <td>1</td>\n      <td>40729934.63</td>\n      <td>100.00</td>\n      <td>2176886.96</td>\n      <td>4048296.54</td>\n      <td>0.13</td>\n      <td>113022.12</td>\n      <td>0.0</td>\n      <td>-0.023022</td>\n      <td>9.0</td>\n    </tr>\n    <tr>\n      <th>2</th>\n      <td>2</td>\n      <td>10000024</td>\n      <td>EESTI RAAMAT, OÜ</td>\n      <td>Äriühing</td>\n      <td>jah</td>\n      <td>Harju maakond</td>\n      <td>INFO JA SIDE</td>\n      <td>12126.74</td>\n      <td>11533.92</td>\n      <td>51486.75</td>\n      <td>...</td>\n      <td>1</td>\n      <td>51486.75</td>\n      <td>2.74</td>\n      <td>23660.66</td>\n      <td>23660.66</td>\n      <td>0.00</td>\n      <td>5720.75</td>\n      <td>0.0</td>\n      <td>0.015141</td>\n      <td>3.0</td>\n    </tr>\n    <tr>\n      <th>3</th>\n      <td>3</td>\n      <td>10000024</td>\n      <td>EESTI RAAMAT, OÜ</td>\n      <td>Äriühing</td>\n      <td>jah</td>\n      <td>Harju maakond</td>\n      <td>INFO JA SIDE</td>\n      <td>8484.90</td>\n      <td>7931.42</td>\n      <td>59869.39</td>\n      <td>...</td>\n      <td>1</td>\n      <td>111356.14</td>\n      <td>5.92</td>\n      <td>16416.32</td>\n      <td>40076.98</td>\n      <td>0.16</td>\n      <td>7483.67</td>\n      <td>0.0</td>\n      <td>0.015141</td>\n      <td>3.0</td>\n    </tr>\n    <tr>\n      <th>4</th>\n      <td>4</td>\n      <td>10000024</td>\n      <td>EESTI RAAMAT, OÜ</td>\n      <td>Äriühing</td>\n      <td>jah</td>\n      <td>Harju maakond</td>\n      <td>INFO JA SIDE</td>\n      <td>10468.75</td>\n      <td>10068.65</td>\n      <td>55895.57</td>\n      <td>...</td>\n      <td>1</td>\n      <td>167251.71</td>\n      <td>8.89</td>\n      <td>20537.40</td>\n      <td>60614.38</td>\n      <td>-0.07</td>\n      <td>6986.95</td>\n      <td>0.0</td>\n      <td>0.015141</td>\n      <td>3.0</td>\n    </tr>\n  </tbody>\n</table>\n<p>5 rows × 27 columns</p>\n</div>"
     },
     "execution_count": 2,
     "metadata": {},
     "output_type": "execute_result"
    }
   ],
   "source": [
    "# Load datafile\n",
    "df = pd.read_csv('./dataframes/full_period_4_labelling.csv')\n",
    "df.head()"
   ],
   "metadata": {
    "collapsed": false,
    "pycharm": {
     "name": "#%%\n"
    }
   }
  },
  {
   "cell_type": "code",
   "execution_count": 3,
   "outputs": [
    {
     "data": {
      "text/plain": "   Occurrence    Reg_no\n0           2  10000018\n1          19  10000024\n2          19  10000127\n3          19  10000165\n4          19  10000219",
      "text/html": "<div>\n<style scoped>\n    .dataframe tbody tr th:only-of-type {\n        vertical-align: middle;\n    }\n\n    .dataframe tbody tr th {\n        vertical-align: top;\n    }\n\n    .dataframe thead th {\n        text-align: right;\n    }\n</style>\n<table border=\"1\" class=\"dataframe\">\n  <thead>\n    <tr style=\"text-align: right;\">\n      <th></th>\n      <th>Occurrence</th>\n      <th>Reg_no</th>\n    </tr>\n  </thead>\n  <tbody>\n    <tr>\n      <th>0</th>\n      <td>2</td>\n      <td>10000018</td>\n    </tr>\n    <tr>\n      <th>1</th>\n      <td>19</td>\n      <td>10000024</td>\n    </tr>\n    <tr>\n      <th>2</th>\n      <td>19</td>\n      <td>10000127</td>\n    </tr>\n    <tr>\n      <th>3</th>\n      <td>19</td>\n      <td>10000165</td>\n    </tr>\n    <tr>\n      <th>4</th>\n      <td>19</td>\n      <td>10000219</td>\n    </tr>\n  </tbody>\n</table>\n</div>"
     },
     "execution_count": 3,
     "metadata": {},
     "output_type": "execute_result"
    }
   ],
   "source": [
    "# Create second db of company statistics\n",
    "\n",
    "df_companies = df.groupby('Registration_number').count()\n",
    "df_companies = df_companies.iloc[:,0:1]\n",
    "df_companies['Reg_no'] = range(1, len(df_companies) + 1)\n",
    "df_companies['Reg_no'] = df_companies.index\n",
    "df_companies.reset_index(drop=True, inplace=True)\n",
    "df_companies.rename(columns={'Unnamed: 0':'Occurrence'}, inplace=True)\n",
    "df_companies.head()"
   ],
   "metadata": {
    "collapsed": false,
    "pycharm": {
     "name": "#%%\n"
    }
   }
  },
  {
   "cell_type": "markdown",
   "source": [
    "We decided that if company has less than a year (4 quarters) of usable data it is not enough for the model and therefore we discard these companies"
   ],
   "metadata": {
    "collapsed": false,
    "pycharm": {
     "name": "#%% md\n"
    }
   }
  },
  {
   "cell_type": "code",
   "execution_count": 4,
   "outputs": [
    {
     "data": {
      "text/plain": "     Occurrence    Reg_no\n0             2  10000018\n16            3  10000780\n66            3  10002997\n291           3  10012116\n412           3  10018107",
      "text/html": "<div>\n<style scoped>\n    .dataframe tbody tr th:only-of-type {\n        vertical-align: middle;\n    }\n\n    .dataframe tbody tr th {\n        vertical-align: top;\n    }\n\n    .dataframe thead th {\n        text-align: right;\n    }\n</style>\n<table border=\"1\" class=\"dataframe\">\n  <thead>\n    <tr style=\"text-align: right;\">\n      <th></th>\n      <th>Occurrence</th>\n      <th>Reg_no</th>\n    </tr>\n  </thead>\n  <tbody>\n    <tr>\n      <th>0</th>\n      <td>2</td>\n      <td>10000018</td>\n    </tr>\n    <tr>\n      <th>16</th>\n      <td>3</td>\n      <td>10000780</td>\n    </tr>\n    <tr>\n      <th>66</th>\n      <td>3</td>\n      <td>10002997</td>\n    </tr>\n    <tr>\n      <th>291</th>\n      <td>3</td>\n      <td>10012116</td>\n    </tr>\n    <tr>\n      <th>412</th>\n      <td>3</td>\n      <td>10018107</td>\n    </tr>\n  </tbody>\n</table>\n</div>"
     },
     "execution_count": 4,
     "metadata": {},
     "output_type": "execute_result"
    }
   ],
   "source": [
    "# Discarding companies that have less data\n",
    "\n",
    "df_companies = df_companies[df_companies['Occurrence']<4]\n",
    "df_companies.head()"
   ],
   "metadata": {
    "collapsed": false,
    "pycharm": {
     "name": "#%%\n"
    }
   }
  },
  {
   "cell_type": "code",
   "execution_count": 5,
   "outputs": [
    {
     "data": {
      "text/plain": "(1675254, 27)"
     },
     "execution_count": 5,
     "metadata": {},
     "output_type": "execute_result"
    }
   ],
   "source": [
    "df.shape\n"
   ],
   "metadata": {
    "collapsed": false,
    "pycharm": {
     "name": "#%%\n"
    }
   }
  },
  {
   "cell_type": "code",
   "execution_count": 6,
   "outputs": [
    {
     "data": {
      "text/plain": "   Registration_number              Name      Type Registered_for_VAT  \\\n0             10000024  EESTI RAAMAT, OÜ  Äriühing                jah   \n1             10000024  EESTI RAAMAT, OÜ  Äriühing                jah   \n2             10000024  EESTI RAAMAT, OÜ  Äriühing                jah   \n3             10000024  EESTI RAAMAT, OÜ  Äriühing                jah   \n4             10000024  EESTI RAAMAT, OÜ  Äriühing                jah   \n\n          County Business_area_by_EMTAK_system  All_taxes  Labor_taxes  \\\n0  Harju maakond                  INFO JA SIDE   12126.74     11533.92   \n1  Harju maakond                  INFO JA SIDE    8484.90      7931.42   \n2  Harju maakond                  INFO JA SIDE   10468.75     10068.65   \n3  Harju maakond                  INFO JA SIDE    7887.05      7751.34   \n4  Harju maakond                  INFO JA SIDE    9320.26      8757.33   \n\n   Turnover  number_of_employees  ... Deletion_Date cum_sum_turnover  \\\n0  51486.75                  9.0  ...             1         51486.75   \n1  59869.39                  8.0  ...             1        111356.14   \n2  55895.57                  8.0  ...             1        167251.71   \n3  57334.79                  9.0  ...             1        224586.50   \n4  59484.22                 10.0  ...             1        284070.72   \n\n   cum_perc_turnover combined_taxes  cum_sum_combined_taxes revenue_growth  \\\n0               2.74       23660.66                23660.66           0.00   \n1               5.92       16416.32                40076.98           0.16   \n2               8.89       20537.40                60614.38          -0.07   \n3              11.93       15638.39                76252.77           0.03   \n4              15.09       18077.59                94330.36           0.04   \n\n   profit_per_employee  Birch_index  emp_growth_rate_CGR  ACE  \n0              5720.75          0.0             0.015141  3.0  \n1              7483.67          0.0             0.015141  3.0  \n2              6986.95          0.0             0.015141  3.0  \n3              6370.53          0.0             0.015141  3.0  \n4              5948.42          0.0             0.015141  3.0  \n\n[5 rows x 26 columns]",
      "text/html": "<div>\n<style scoped>\n    .dataframe tbody tr th:only-of-type {\n        vertical-align: middle;\n    }\n\n    .dataframe tbody tr th {\n        vertical-align: top;\n    }\n\n    .dataframe thead th {\n        text-align: right;\n    }\n</style>\n<table border=\"1\" class=\"dataframe\">\n  <thead>\n    <tr style=\"text-align: right;\">\n      <th></th>\n      <th>Registration_number</th>\n      <th>Name</th>\n      <th>Type</th>\n      <th>Registered_for_VAT</th>\n      <th>County</th>\n      <th>Business_area_by_EMTAK_system</th>\n      <th>All_taxes</th>\n      <th>Labor_taxes</th>\n      <th>Turnover</th>\n      <th>number_of_employees</th>\n      <th>...</th>\n      <th>Deletion_Date</th>\n      <th>cum_sum_turnover</th>\n      <th>cum_perc_turnover</th>\n      <th>combined_taxes</th>\n      <th>cum_sum_combined_taxes</th>\n      <th>revenue_growth</th>\n      <th>profit_per_employee</th>\n      <th>Birch_index</th>\n      <th>emp_growth_rate_CGR</th>\n      <th>ACE</th>\n    </tr>\n  </thead>\n  <tbody>\n    <tr>\n      <th>0</th>\n      <td>10000024</td>\n      <td>EESTI RAAMAT, OÜ</td>\n      <td>Äriühing</td>\n      <td>jah</td>\n      <td>Harju maakond</td>\n      <td>INFO JA SIDE</td>\n      <td>12126.74</td>\n      <td>11533.92</td>\n      <td>51486.75</td>\n      <td>9.0</td>\n      <td>...</td>\n      <td>1</td>\n      <td>51486.75</td>\n      <td>2.74</td>\n      <td>23660.66</td>\n      <td>23660.66</td>\n      <td>0.00</td>\n      <td>5720.75</td>\n      <td>0.0</td>\n      <td>0.015141</td>\n      <td>3.0</td>\n    </tr>\n    <tr>\n      <th>1</th>\n      <td>10000024</td>\n      <td>EESTI RAAMAT, OÜ</td>\n      <td>Äriühing</td>\n      <td>jah</td>\n      <td>Harju maakond</td>\n      <td>INFO JA SIDE</td>\n      <td>8484.90</td>\n      <td>7931.42</td>\n      <td>59869.39</td>\n      <td>8.0</td>\n      <td>...</td>\n      <td>1</td>\n      <td>111356.14</td>\n      <td>5.92</td>\n      <td>16416.32</td>\n      <td>40076.98</td>\n      <td>0.16</td>\n      <td>7483.67</td>\n      <td>0.0</td>\n      <td>0.015141</td>\n      <td>3.0</td>\n    </tr>\n    <tr>\n      <th>2</th>\n      <td>10000024</td>\n      <td>EESTI RAAMAT, OÜ</td>\n      <td>Äriühing</td>\n      <td>jah</td>\n      <td>Harju maakond</td>\n      <td>INFO JA SIDE</td>\n      <td>10468.75</td>\n      <td>10068.65</td>\n      <td>55895.57</td>\n      <td>8.0</td>\n      <td>...</td>\n      <td>1</td>\n      <td>167251.71</td>\n      <td>8.89</td>\n      <td>20537.40</td>\n      <td>60614.38</td>\n      <td>-0.07</td>\n      <td>6986.95</td>\n      <td>0.0</td>\n      <td>0.015141</td>\n      <td>3.0</td>\n    </tr>\n    <tr>\n      <th>3</th>\n      <td>10000024</td>\n      <td>EESTI RAAMAT, OÜ</td>\n      <td>Äriühing</td>\n      <td>jah</td>\n      <td>Harju maakond</td>\n      <td>INFO JA SIDE</td>\n      <td>7887.05</td>\n      <td>7751.34</td>\n      <td>57334.79</td>\n      <td>9.0</td>\n      <td>...</td>\n      <td>1</td>\n      <td>224586.50</td>\n      <td>11.93</td>\n      <td>15638.39</td>\n      <td>76252.77</td>\n      <td>0.03</td>\n      <td>6370.53</td>\n      <td>0.0</td>\n      <td>0.015141</td>\n      <td>3.0</td>\n    </tr>\n    <tr>\n      <th>4</th>\n      <td>10000024</td>\n      <td>EESTI RAAMAT, OÜ</td>\n      <td>Äriühing</td>\n      <td>jah</td>\n      <td>Harju maakond</td>\n      <td>INFO JA SIDE</td>\n      <td>9320.26</td>\n      <td>8757.33</td>\n      <td>59484.22</td>\n      <td>10.0</td>\n      <td>...</td>\n      <td>1</td>\n      <td>284070.72</td>\n      <td>15.09</td>\n      <td>18077.59</td>\n      <td>94330.36</td>\n      <td>0.04</td>\n      <td>5948.42</td>\n      <td>0.0</td>\n      <td>0.015141</td>\n      <td>3.0</td>\n    </tr>\n  </tbody>\n</table>\n<p>5 rows × 26 columns</p>\n</div>"
     },
     "execution_count": 6,
     "metadata": {},
     "output_type": "execute_result"
    }
   ],
   "source": [
    "df = df[~df.Registration_number.isin(df_companies.Reg_no)]\n",
    "df = df.drop('Unnamed: 0', axis=1)\n",
    "df.reset_index(drop=True, inplace=True)\n",
    "df.head()"
   ],
   "metadata": {
    "collapsed": false,
    "pycharm": {
     "name": "#%%\n"
    }
   }
  },
  {
   "cell_type": "code",
   "execution_count": 7,
   "outputs": [
    {
     "data": {
      "text/plain": "(1644634, 26)"
     },
     "execution_count": 7,
     "metadata": {},
     "output_type": "execute_result"
    }
   ],
   "source": [
    "df.shape"
   ],
   "metadata": {
    "collapsed": false,
    "pycharm": {
     "name": "#%%\n"
    }
   }
  },
  {
   "cell_type": "code",
   "execution_count": 8,
   "outputs": [
    {
     "data": {
      "text/plain": "(1617211, 25)"
     },
     "execution_count": 8,
     "metadata": {},
     "output_type": "execute_result"
    }
   ],
   "source": [
    "# Dropping companies that have not registered for VAT as they are very small companies\n",
    "\n",
    "df = df[df['Registered_for_VAT']==\"jah\"]\n",
    "df = df.drop('Registered_for_VAT', axis=1)\n",
    "df.shape"
   ],
   "metadata": {
    "collapsed": false,
    "pycharm": {
     "name": "#%%\n"
    }
   }
  },
  {
   "cell_type": "code",
   "execution_count": 9,
   "outputs": [
    {
     "data": {
      "text/plain": "   Registration_number              Name      Type         County  \\\n0             10000024  EESTI RAAMAT, OÜ  Äriühing  Harju maakond   \n1             10000024  EESTI RAAMAT, OÜ  Äriühing  Harju maakond   \n2             10000024  EESTI RAAMAT, OÜ  Äriühing  Harju maakond   \n3             10000024  EESTI RAAMAT, OÜ  Äriühing  Harju maakond   \n4             10000024  EESTI RAAMAT, OÜ  Äriühing  Harju maakond   \n\n  Business_area_by_EMTAK_system  All_taxes  Labor_taxes  Turnover  \\\n0                  INFO JA SIDE   12126.74     11533.92  51486.75   \n1                  INFO JA SIDE    8484.90      7931.42  59869.39   \n2                  INFO JA SIDE   10468.75     10068.65  55895.57   \n3                  INFO JA SIDE    7887.05      7751.34  57334.79   \n4                  INFO JA SIDE    9320.26      8757.33  59484.22   \n\n   number_of_employees year_quarter  ... Registration_date  Deletion_Date  \\\n0                  9.0       2017_1  ...        1990-07-17              1   \n1                  8.0       2017_2  ...        1990-07-17              1   \n2                  8.0       2017_3  ...        1990-07-17              1   \n3                  9.0       2017_4  ...        1990-07-17              1   \n4                 10.0       2018_1  ...        1990-07-17              1   \n\n  cum_sum_turnover  cum_perc_turnover combined_taxes  cum_sum_combined_taxes  \\\n0         51486.75               2.74       23660.66                23660.66   \n1        111356.14               5.92       16416.32                40076.98   \n2        167251.71               8.89       20537.40                60614.38   \n3        224586.50              11.93       15638.39                76252.77   \n4        284070.72              15.09       18077.59                94330.36   \n\n   revenue_growth  profit_per_employee  emp_growth_rate_CGR  ACE  \n0            0.00              5720.75             0.015141  3.0  \n1            0.16              7483.67             0.015141  3.0  \n2           -0.07              6986.95             0.015141  3.0  \n3            0.03              6370.53             0.015141  3.0  \n4            0.04              5948.42             0.015141  3.0  \n\n[5 rows x 24 columns]",
      "text/html": "<div>\n<style scoped>\n    .dataframe tbody tr th:only-of-type {\n        vertical-align: middle;\n    }\n\n    .dataframe tbody tr th {\n        vertical-align: top;\n    }\n\n    .dataframe thead th {\n        text-align: right;\n    }\n</style>\n<table border=\"1\" class=\"dataframe\">\n  <thead>\n    <tr style=\"text-align: right;\">\n      <th></th>\n      <th>Registration_number</th>\n      <th>Name</th>\n      <th>Type</th>\n      <th>County</th>\n      <th>Business_area_by_EMTAK_system</th>\n      <th>All_taxes</th>\n      <th>Labor_taxes</th>\n      <th>Turnover</th>\n      <th>number_of_employees</th>\n      <th>year_quarter</th>\n      <th>...</th>\n      <th>Registration_date</th>\n      <th>Deletion_Date</th>\n      <th>cum_sum_turnover</th>\n      <th>cum_perc_turnover</th>\n      <th>combined_taxes</th>\n      <th>cum_sum_combined_taxes</th>\n      <th>revenue_growth</th>\n      <th>profit_per_employee</th>\n      <th>emp_growth_rate_CGR</th>\n      <th>ACE</th>\n    </tr>\n  </thead>\n  <tbody>\n    <tr>\n      <th>0</th>\n      <td>10000024</td>\n      <td>EESTI RAAMAT, OÜ</td>\n      <td>Äriühing</td>\n      <td>Harju maakond</td>\n      <td>INFO JA SIDE</td>\n      <td>12126.74</td>\n      <td>11533.92</td>\n      <td>51486.75</td>\n      <td>9.0</td>\n      <td>2017_1</td>\n      <td>...</td>\n      <td>1990-07-17</td>\n      <td>1</td>\n      <td>51486.75</td>\n      <td>2.74</td>\n      <td>23660.66</td>\n      <td>23660.66</td>\n      <td>0.00</td>\n      <td>5720.75</td>\n      <td>0.015141</td>\n      <td>3.0</td>\n    </tr>\n    <tr>\n      <th>1</th>\n      <td>10000024</td>\n      <td>EESTI RAAMAT, OÜ</td>\n      <td>Äriühing</td>\n      <td>Harju maakond</td>\n      <td>INFO JA SIDE</td>\n      <td>8484.90</td>\n      <td>7931.42</td>\n      <td>59869.39</td>\n      <td>8.0</td>\n      <td>2017_2</td>\n      <td>...</td>\n      <td>1990-07-17</td>\n      <td>1</td>\n      <td>111356.14</td>\n      <td>5.92</td>\n      <td>16416.32</td>\n      <td>40076.98</td>\n      <td>0.16</td>\n      <td>7483.67</td>\n      <td>0.015141</td>\n      <td>3.0</td>\n    </tr>\n    <tr>\n      <th>2</th>\n      <td>10000024</td>\n      <td>EESTI RAAMAT, OÜ</td>\n      <td>Äriühing</td>\n      <td>Harju maakond</td>\n      <td>INFO JA SIDE</td>\n      <td>10468.75</td>\n      <td>10068.65</td>\n      <td>55895.57</td>\n      <td>8.0</td>\n      <td>2017_3</td>\n      <td>...</td>\n      <td>1990-07-17</td>\n      <td>1</td>\n      <td>167251.71</td>\n      <td>8.89</td>\n      <td>20537.40</td>\n      <td>60614.38</td>\n      <td>-0.07</td>\n      <td>6986.95</td>\n      <td>0.015141</td>\n      <td>3.0</td>\n    </tr>\n    <tr>\n      <th>3</th>\n      <td>10000024</td>\n      <td>EESTI RAAMAT, OÜ</td>\n      <td>Äriühing</td>\n      <td>Harju maakond</td>\n      <td>INFO JA SIDE</td>\n      <td>7887.05</td>\n      <td>7751.34</td>\n      <td>57334.79</td>\n      <td>9.0</td>\n      <td>2017_4</td>\n      <td>...</td>\n      <td>1990-07-17</td>\n      <td>1</td>\n      <td>224586.50</td>\n      <td>11.93</td>\n      <td>15638.39</td>\n      <td>76252.77</td>\n      <td>0.03</td>\n      <td>6370.53</td>\n      <td>0.015141</td>\n      <td>3.0</td>\n    </tr>\n    <tr>\n      <th>4</th>\n      <td>10000024</td>\n      <td>EESTI RAAMAT, OÜ</td>\n      <td>Äriühing</td>\n      <td>Harju maakond</td>\n      <td>INFO JA SIDE</td>\n      <td>9320.26</td>\n      <td>8757.33</td>\n      <td>59484.22</td>\n      <td>10.0</td>\n      <td>2018_1</td>\n      <td>...</td>\n      <td>1990-07-17</td>\n      <td>1</td>\n      <td>284070.72</td>\n      <td>15.09</td>\n      <td>18077.59</td>\n      <td>94330.36</td>\n      <td>0.04</td>\n      <td>5948.42</td>\n      <td>0.015141</td>\n      <td>3.0</td>\n    </tr>\n  </tbody>\n</table>\n<p>5 rows × 24 columns</p>\n</div>"
     },
     "execution_count": 9,
     "metadata": {},
     "output_type": "execute_result"
    }
   ],
   "source": [
    "df = df.drop('Birch_index', axis=1)\n",
    "df.reset_index(drop=True, inplace=True)\n",
    "df.head()"
   ],
   "metadata": {
    "collapsed": false,
    "pycharm": {
     "name": "#%%\n"
    }
   }
  },
  {
   "cell_type": "code",
   "execution_count": 10,
   "outputs": [
    {
     "data": {
      "text/plain": "array(['INFO JA SIDE',\n       'HULGI- JA JAEKAUBANDUS; MOOTORSŐIDUKITE JA MOOTORRATASTE REMONT',\n       'HULGI- JA JAEKAUBANDUS; MOOTORSÕIDUKITE JA MOOTORRATASTE REMONT',\n       'TÖÖTLEV TÖÖSTUS', 'KUTSE-, TEADUS- JA TEHNIKAALANE TEGEVUS',\n       'EHITUS', 'PŐLLUMAJANDUS, METSAMAJANDUS JA KALAPÜÜK',\n       'PÕLLUMAJANDUS, METSAMAJANDUS JA KALAPÜÜK',\n       'KINNISVARAALANE TEGEVUS', 'HALDUS- JA ABITEGEVUSED',\n       'VEONDUS JA LAONDUS',\n       'VEEVARUSTUS; KANALISATSIOON; JÄÄTME- JA SAASTEKÄITLUS',\n       'MAJUTUS JA TOITLUSTUS', 'FINANTS- JA KINDLUSTUSTEGEVUS',\n       'KUNST, MEELELAHUTUS JA VABA AEG', 'MUUD TEENINDAVAD TEGEVUSED',\n       'MÄETÖÖSTUS',\n       'VEEVARUSTUS; KANALISATSIOON, JÄÄTME- JA SAASTEKÄITLUS',\n       'TERVISHOID JA SOTSIAALHOOLEKANNE',\n       'ELEKTRIENERGIA, GAASI, AURU JA KONDITSIONEERITUD ÕHUGA VARUSTAMINE',\n       'HARIDUS',\n       'ELEKTRIENERGIA, GAASI, AURU JA KONDITSIONEERITUD ŐHUGA VARUSTAMINE',\n       'other',\n       'AVALIK HALDUS JA RIIGIKAITSE; KOHUSTUSLIK SOTSIAALKINDLUSTUS',\n       'KODUMAJAPIDAMISTE KUI TÖÖANDJATE TEGEVUS; KODUMAJAPIDAMISTE OMA TARBEKS MÕELDUD ERISTAMATA KAUPAD',\n       ' AVALIK HALDUS JA RIIGIKAITSE; KOHUSTUSLIK SOTSIAALKINDLUSTUS'],\n      dtype=object)"
     },
     "execution_count": 10,
     "metadata": {},
     "output_type": "execute_result"
    }
   ],
   "source": [
    "# Changing business area as numbered value\n",
    "df.Business_area_by_EMTAK_system.unique()\n"
   ],
   "metadata": {
    "collapsed": false,
    "pycharm": {
     "name": "#%%\n"
    }
   }
  },
  {
   "cell_type": "markdown",
   "source": [
    "Translating business areas as numeric values as following (TO BE CORRECTED:\n",
    "1   'INFO JA SIDE',\n",
    "2   'HULGI- JA JAEKAUBANDUS; MOOTORSŐIDUKITE JA MOOTORRATASTE REMONT',\n",
    "3   'HULGI- JA JAEKAUBANDUS; MOOTORSÕIDUKITE JA MOOTORRATASTE REMONT',\n",
    "4   'TÖÖTLEV TÖÖSTUS'\n",
    "5   'KUTSE-, TEADUS- JA TEHNIKAALANE TEGEVUS',\n",
    "5   'EHITUS', 'PŐLLUMAJANDUS, METSAMAJANDUS JA KALAPÜÜK',\n",
    "6   'PÕLLUMAJANDUS, METSAMAJANDUS JA KALAPÜÜK',\n",
    "7   'KINNISVARAALANE TEGEVUS', 'HALDUS- JA ABITEGEVUSED',\n",
    "8   'VEONDUS JA LAONDUS',\n",
    "9   'VEEVARUSTUS; KANALISATSIOON; JÄÄTME- JA SAASTEKÄITLUS',\n",
    "10  'MAJUTUS JA TOITLUSTUS', 'FINANTS- JA KINDLUSTUSTEGEVUS',\n",
    "11  'KUNST, MEELELAHUTUS JA VABA AEG', 'MUUD TEENINDAVAD TEGEVUSED',\n",
    "12  'MÄETÖÖSTUS',\n",
    "13  'VEEVARUSTUS; KANALISATSIOON, JÄÄTME- JA SAASTEKÄITLUS',\n",
    "14  'TERVISHOID JA SOTSIAALHOOLEKANNE',\n",
    "15  'ELEKTRIENERGIA, GAASI, AURU JA KONDITSIONEERITUD ÕHUGA VARUSTAMINE',\n",
    "16  'HARIDUS',\n",
    "17  'ELEKTRIENERGIA, GAASI, AURU JA KONDITSIONEERITUD ŐHUGA VARUSTAMINE',\n",
    "18  'other',\n",
    "19  'AVALIK HALDUS JA RIIGIKAITSE; KOHUSTUSLIK SOTSIAALKINDLUSTUS',\n",
    "20  'KODUMAJAPIDAMISTE KUI TÖÖANDJATE TEGEVUS; KODUMAJAPIDAMISTE OMA TARBEKS MÕELDUD ERISTAMATA KAUPAD',\n",
    "21  ' AVALIK HALDUS JA RIIGIKAITSE; KOHUSTUSLIK SOTSIAALKINDLUSTUS']"
   ],
   "metadata": {
    "collapsed": false,
    "pycharm": {
     "name": "#%% md\n"
    }
   }
  },
  {
   "cell_type": "code",
   "execution_count": 11,
   "outputs": [],
   "source": [
    "dict = {\"INFO JA SIDE\" : 1,\\\n",
    "        \"HULGI- JA JAEKAUBANDUS; MOOTORSŐIDUKITE JA MOOTORRATASTE REMONT\" : 2,\\\n",
    "        \"HULGI- JA JAEKAUBANDUS; MOOTORSÕIDUKITE JA MOOTORRATASTE REMONT\" : 3,\\\n",
    "        \"TÖÖTLEV TÖÖSTUS\" : 4,\\\n",
    "        \"KUTSE-, TEADUS- JA TEHNIKAALANE TEGEVUS\" : 5,\\\n",
    "        \"EHITUS\" : 6,\\\n",
    "        \"PŐLLUMAJANDUS, METSAMAJANDUS JA KALAPÜÜK\" : 7,\\\n",
    "        \"PÕLLUMAJANDUS, METSAMAJANDUS JA KALAPÜÜK\" : 8,\\\n",
    "        \"KINNISVARAALANE TEGEVUS\" : 9,\\\n",
    "        \"HALDUS- JA ABITEGEVUSED\" : 10,\\\n",
    "        \"VEONDUS JA LAONDUS\" : 11,\\\n",
    "        \"VEEVARUSTUS; KANALISATSIOON; JÄÄTME- JA SAASTEKÄITLUS\" : 12,\\\n",
    "        \"MAJUTUS JA TOITLUSTUS\" : 13,\\\n",
    "        \"FINANTS- JA KINDLUSTUSTEGEVUS\" : 14,\\\n",
    "        \"KUNST, MEELELAHUTUS JA VABA AEG\" : 15,\\\n",
    "        \"MUUD TEENINDAVAD TEGEVUSED\" : 16,\\\n",
    "        \"MÄETÖÖSTUS\" : 17,\\\n",
    "        \"VEEVARUSTUS; KANALISATSIOON, JÄÄTME- JA SAASTEKÄITLUS\" : 18,\\\n",
    "        \"TERVISHOID JA SOTSIAALHOOLEKANNE\" : 19,\\\n",
    "        \"ELEKTRIENERGIA, GAASI, AURU JA KONDITSIONEERITUD ÕHUGA VARUSTAMINE\" : 20,\\\n",
    "        \"HARIDUS\" : 21,\\\n",
    "        \"ELEKTRIENERGIA, GAASI, AURU JA KONDITSIONEERITUD ŐHUGA VARUSTAMINE\" : 22,\\\n",
    "        \"other\" : 23,\\\n",
    "        \"AVALIK HALDUS JA RIIGIKAITSE; KOHUSTUSLIK SOTSIAALKINDLUSTUS\" : 24,\\\n",
    "        \"KODUMAJAPIDAMISTE KUI TÖÖANDJATE TEGEVUS; KODUMAJAPIDAMISTE OMA TARBEKS MÕELDUD ERISTAMATA KAUPAD\" : 25,\\\n",
    "        \" AVALIK HALDUS JA RIIGIKAITSE; KOHUSTUSLIK SOTSIAALKINDLUSTUS\" : 26}"
   ],
   "metadata": {
    "collapsed": false,
    "pycharm": {
     "name": "#%%\n"
    }
   }
  },
  {
   "cell_type": "code",
   "execution_count": 12,
   "outputs": [
    {
     "data": {
      "text/plain": "   Registration_number              Name      Type         County  \\\n0             10000024  EESTI RAAMAT, OÜ  Äriühing  Harju maakond   \n1             10000024  EESTI RAAMAT, OÜ  Äriühing  Harju maakond   \n2             10000024  EESTI RAAMAT, OÜ  Äriühing  Harju maakond   \n3             10000024  EESTI RAAMAT, OÜ  Äriühing  Harju maakond   \n4             10000024  EESTI RAAMAT, OÜ  Äriühing  Harju maakond   \n\n   Business_area_by_EMTAK_system  All_taxes  Labor_taxes  Turnover  \\\n0                              1   12126.74     11533.92  51486.75   \n1                              1    8484.90      7931.42  59869.39   \n2                              1   10468.75     10068.65  55895.57   \n3                              1    7887.05      7751.34  57334.79   \n4                              1    9320.26      8757.33  59484.22   \n\n   number_of_employees year_quarter  ... Registration_date  Deletion_Date  \\\n0                  9.0       2017_1  ...        1990-07-17              1   \n1                  8.0       2017_2  ...        1990-07-17              1   \n2                  8.0       2017_3  ...        1990-07-17              1   \n3                  9.0       2017_4  ...        1990-07-17              1   \n4                 10.0       2018_1  ...        1990-07-17              1   \n\n  cum_sum_turnover  cum_perc_turnover combined_taxes  cum_sum_combined_taxes  \\\n0         51486.75               2.74       23660.66                23660.66   \n1        111356.14               5.92       16416.32                40076.98   \n2        167251.71               8.89       20537.40                60614.38   \n3        224586.50              11.93       15638.39                76252.77   \n4        284070.72              15.09       18077.59                94330.36   \n\n   revenue_growth  profit_per_employee  emp_growth_rate_CGR  ACE  \n0            0.00              5720.75             0.015141  3.0  \n1            0.16              7483.67             0.015141  3.0  \n2           -0.07              6986.95             0.015141  3.0  \n3            0.03              6370.53             0.015141  3.0  \n4            0.04              5948.42             0.015141  3.0  \n\n[5 rows x 24 columns]",
      "text/html": "<div>\n<style scoped>\n    .dataframe tbody tr th:only-of-type {\n        vertical-align: middle;\n    }\n\n    .dataframe tbody tr th {\n        vertical-align: top;\n    }\n\n    .dataframe thead th {\n        text-align: right;\n    }\n</style>\n<table border=\"1\" class=\"dataframe\">\n  <thead>\n    <tr style=\"text-align: right;\">\n      <th></th>\n      <th>Registration_number</th>\n      <th>Name</th>\n      <th>Type</th>\n      <th>County</th>\n      <th>Business_area_by_EMTAK_system</th>\n      <th>All_taxes</th>\n      <th>Labor_taxes</th>\n      <th>Turnover</th>\n      <th>number_of_employees</th>\n      <th>year_quarter</th>\n      <th>...</th>\n      <th>Registration_date</th>\n      <th>Deletion_Date</th>\n      <th>cum_sum_turnover</th>\n      <th>cum_perc_turnover</th>\n      <th>combined_taxes</th>\n      <th>cum_sum_combined_taxes</th>\n      <th>revenue_growth</th>\n      <th>profit_per_employee</th>\n      <th>emp_growth_rate_CGR</th>\n      <th>ACE</th>\n    </tr>\n  </thead>\n  <tbody>\n    <tr>\n      <th>0</th>\n      <td>10000024</td>\n      <td>EESTI RAAMAT, OÜ</td>\n      <td>Äriühing</td>\n      <td>Harju maakond</td>\n      <td>1</td>\n      <td>12126.74</td>\n      <td>11533.92</td>\n      <td>51486.75</td>\n      <td>9.0</td>\n      <td>2017_1</td>\n      <td>...</td>\n      <td>1990-07-17</td>\n      <td>1</td>\n      <td>51486.75</td>\n      <td>2.74</td>\n      <td>23660.66</td>\n      <td>23660.66</td>\n      <td>0.00</td>\n      <td>5720.75</td>\n      <td>0.015141</td>\n      <td>3.0</td>\n    </tr>\n    <tr>\n      <th>1</th>\n      <td>10000024</td>\n      <td>EESTI RAAMAT, OÜ</td>\n      <td>Äriühing</td>\n      <td>Harju maakond</td>\n      <td>1</td>\n      <td>8484.90</td>\n      <td>7931.42</td>\n      <td>59869.39</td>\n      <td>8.0</td>\n      <td>2017_2</td>\n      <td>...</td>\n      <td>1990-07-17</td>\n      <td>1</td>\n      <td>111356.14</td>\n      <td>5.92</td>\n      <td>16416.32</td>\n      <td>40076.98</td>\n      <td>0.16</td>\n      <td>7483.67</td>\n      <td>0.015141</td>\n      <td>3.0</td>\n    </tr>\n    <tr>\n      <th>2</th>\n      <td>10000024</td>\n      <td>EESTI RAAMAT, OÜ</td>\n      <td>Äriühing</td>\n      <td>Harju maakond</td>\n      <td>1</td>\n      <td>10468.75</td>\n      <td>10068.65</td>\n      <td>55895.57</td>\n      <td>8.0</td>\n      <td>2017_3</td>\n      <td>...</td>\n      <td>1990-07-17</td>\n      <td>1</td>\n      <td>167251.71</td>\n      <td>8.89</td>\n      <td>20537.40</td>\n      <td>60614.38</td>\n      <td>-0.07</td>\n      <td>6986.95</td>\n      <td>0.015141</td>\n      <td>3.0</td>\n    </tr>\n    <tr>\n      <th>3</th>\n      <td>10000024</td>\n      <td>EESTI RAAMAT, OÜ</td>\n      <td>Äriühing</td>\n      <td>Harju maakond</td>\n      <td>1</td>\n      <td>7887.05</td>\n      <td>7751.34</td>\n      <td>57334.79</td>\n      <td>9.0</td>\n      <td>2017_4</td>\n      <td>...</td>\n      <td>1990-07-17</td>\n      <td>1</td>\n      <td>224586.50</td>\n      <td>11.93</td>\n      <td>15638.39</td>\n      <td>76252.77</td>\n      <td>0.03</td>\n      <td>6370.53</td>\n      <td>0.015141</td>\n      <td>3.0</td>\n    </tr>\n    <tr>\n      <th>4</th>\n      <td>10000024</td>\n      <td>EESTI RAAMAT, OÜ</td>\n      <td>Äriühing</td>\n      <td>Harju maakond</td>\n      <td>1</td>\n      <td>9320.26</td>\n      <td>8757.33</td>\n      <td>59484.22</td>\n      <td>10.0</td>\n      <td>2018_1</td>\n      <td>...</td>\n      <td>1990-07-17</td>\n      <td>1</td>\n      <td>284070.72</td>\n      <td>15.09</td>\n      <td>18077.59</td>\n      <td>94330.36</td>\n      <td>0.04</td>\n      <td>5948.42</td>\n      <td>0.015141</td>\n      <td>3.0</td>\n    </tr>\n  </tbody>\n</table>\n<p>5 rows × 24 columns</p>\n</div>"
     },
     "execution_count": 12,
     "metadata": {},
     "output_type": "execute_result"
    }
   ],
   "source": [
    "df = df.replace({\"Business_area_by_EMTAK_system\": dict})\n",
    "df.head()"
   ],
   "metadata": {
    "collapsed": false,
    "pycharm": {
     "name": "#%%\n"
    }
   }
  },
  {
   "cell_type": "code",
   "execution_count": 13,
   "outputs": [],
   "source": [
    "# Drop all textual columns\n",
    "\n",
    "df = df.drop('Name', axis=1)\n",
    "df = df.drop('Type', axis=1)\n",
    "df = df.drop('County', axis=1)\n",
    "df = df.drop('EMTAK_by_letter', axis=1)\n",
    "df = df.drop('Institutional_classification', axis=1)\n"
   ],
   "metadata": {
    "collapsed": false,
    "pycharm": {
     "name": "#%%\n"
    }
   }
  },
  {
   "cell_type": "code",
   "execution_count": 14,
   "outputs": [
    {
     "data": {
      "text/plain": "(1617211, 19)"
     },
     "execution_count": 14,
     "metadata": {},
     "output_type": "execute_result"
    }
   ],
   "source": [
    "df.shape\n"
   ],
   "metadata": {
    "collapsed": false,
    "pycharm": {
     "name": "#%%\n"
    }
   }
  },
  {
   "cell_type": "code",
   "execution_count": 15,
   "outputs": [
    {
     "data": {
      "text/plain": "   Registration_number  Business_area_by_EMTAK_system  All_taxes  Labor_taxes  \\\n0             10000024                              1   12126.74     11533.92   \n1             10000024                              1    8484.90      7931.42   \n2             10000024                              1   10468.75     10068.65   \n3             10000024                              1    7887.05      7751.34   \n4             10000024                              1    9320.26      8757.33   \n\n   Turnover  number_of_employees year_quarter  EMTAK_by_number  \\\n0  51486.75                  9.0       2017_1           5811.0   \n1  59869.39                  8.0       2017_2           5811.0   \n2  55895.57                  8.0       2017_3           5811.0   \n3  57334.79                  9.0       2017_4           5811.0   \n4  59484.22                 10.0       2018_1           5811.0   \n\n   Client_ID_by_Eesti_Pank Registration_date  Deletion_Date  cum_sum_turnover  \\\n0                      8.0        1990-07-17              1          51486.75   \n1                      8.0        1990-07-17              1         111356.14   \n2                      8.0        1990-07-17              1         167251.71   \n3                      8.0        1990-07-17              1         224586.50   \n4                      8.0        1990-07-17              1         284070.72   \n\n   cum_perc_turnover  combined_taxes  cum_sum_combined_taxes  revenue_growth  \\\n0               2.74        23660.66                23660.66            0.00   \n1               5.92        16416.32                40076.98            0.16   \n2               8.89        20537.40                60614.38           -0.07   \n3              11.93        15638.39                76252.77            0.03   \n4              15.09        18077.59                94330.36            0.04   \n\n   profit_per_employee  emp_growth_rate_CGR  ACE  \n0              5720.75             0.015141  3.0  \n1              7483.67             0.015141  3.0  \n2              6986.95             0.015141  3.0  \n3              6370.53             0.015141  3.0  \n4              5948.42             0.015141  3.0  ",
      "text/html": "<div>\n<style scoped>\n    .dataframe tbody tr th:only-of-type {\n        vertical-align: middle;\n    }\n\n    .dataframe tbody tr th {\n        vertical-align: top;\n    }\n\n    .dataframe thead th {\n        text-align: right;\n    }\n</style>\n<table border=\"1\" class=\"dataframe\">\n  <thead>\n    <tr style=\"text-align: right;\">\n      <th></th>\n      <th>Registration_number</th>\n      <th>Business_area_by_EMTAK_system</th>\n      <th>All_taxes</th>\n      <th>Labor_taxes</th>\n      <th>Turnover</th>\n      <th>number_of_employees</th>\n      <th>year_quarter</th>\n      <th>EMTAK_by_number</th>\n      <th>Client_ID_by_Eesti_Pank</th>\n      <th>Registration_date</th>\n      <th>Deletion_Date</th>\n      <th>cum_sum_turnover</th>\n      <th>cum_perc_turnover</th>\n      <th>combined_taxes</th>\n      <th>cum_sum_combined_taxes</th>\n      <th>revenue_growth</th>\n      <th>profit_per_employee</th>\n      <th>emp_growth_rate_CGR</th>\n      <th>ACE</th>\n    </tr>\n  </thead>\n  <tbody>\n    <tr>\n      <th>0</th>\n      <td>10000024</td>\n      <td>1</td>\n      <td>12126.74</td>\n      <td>11533.92</td>\n      <td>51486.75</td>\n      <td>9.0</td>\n      <td>2017_1</td>\n      <td>5811.0</td>\n      <td>8.0</td>\n      <td>1990-07-17</td>\n      <td>1</td>\n      <td>51486.75</td>\n      <td>2.74</td>\n      <td>23660.66</td>\n      <td>23660.66</td>\n      <td>0.00</td>\n      <td>5720.75</td>\n      <td>0.015141</td>\n      <td>3.0</td>\n    </tr>\n    <tr>\n      <th>1</th>\n      <td>10000024</td>\n      <td>1</td>\n      <td>8484.90</td>\n      <td>7931.42</td>\n      <td>59869.39</td>\n      <td>8.0</td>\n      <td>2017_2</td>\n      <td>5811.0</td>\n      <td>8.0</td>\n      <td>1990-07-17</td>\n      <td>1</td>\n      <td>111356.14</td>\n      <td>5.92</td>\n      <td>16416.32</td>\n      <td>40076.98</td>\n      <td>0.16</td>\n      <td>7483.67</td>\n      <td>0.015141</td>\n      <td>3.0</td>\n    </tr>\n    <tr>\n      <th>2</th>\n      <td>10000024</td>\n      <td>1</td>\n      <td>10468.75</td>\n      <td>10068.65</td>\n      <td>55895.57</td>\n      <td>8.0</td>\n      <td>2017_3</td>\n      <td>5811.0</td>\n      <td>8.0</td>\n      <td>1990-07-17</td>\n      <td>1</td>\n      <td>167251.71</td>\n      <td>8.89</td>\n      <td>20537.40</td>\n      <td>60614.38</td>\n      <td>-0.07</td>\n      <td>6986.95</td>\n      <td>0.015141</td>\n      <td>3.0</td>\n    </tr>\n    <tr>\n      <th>3</th>\n      <td>10000024</td>\n      <td>1</td>\n      <td>7887.05</td>\n      <td>7751.34</td>\n      <td>57334.79</td>\n      <td>9.0</td>\n      <td>2017_4</td>\n      <td>5811.0</td>\n      <td>8.0</td>\n      <td>1990-07-17</td>\n      <td>1</td>\n      <td>224586.50</td>\n      <td>11.93</td>\n      <td>15638.39</td>\n      <td>76252.77</td>\n      <td>0.03</td>\n      <td>6370.53</td>\n      <td>0.015141</td>\n      <td>3.0</td>\n    </tr>\n    <tr>\n      <th>4</th>\n      <td>10000024</td>\n      <td>1</td>\n      <td>9320.26</td>\n      <td>8757.33</td>\n      <td>59484.22</td>\n      <td>10.0</td>\n      <td>2018_1</td>\n      <td>5811.0</td>\n      <td>8.0</td>\n      <td>1990-07-17</td>\n      <td>1</td>\n      <td>284070.72</td>\n      <td>15.09</td>\n      <td>18077.59</td>\n      <td>94330.36</td>\n      <td>0.04</td>\n      <td>5948.42</td>\n      <td>0.015141</td>\n      <td>3.0</td>\n    </tr>\n  </tbody>\n</table>\n</div>"
     },
     "execution_count": 15,
     "metadata": {},
     "output_type": "execute_result"
    }
   ],
   "source": [
    "df.head()"
   ],
   "metadata": {
    "collapsed": false,
    "pycharm": {
     "name": "#%%\n"
    }
   }
  },
  {
   "cell_type": "code",
   "execution_count": 17,
   "outputs": [],
   "source": [
    "# Saving data to file\n",
    "df.to_csv('././dataframes/full_period_unlabeled.csv')\n"
   ],
   "metadata": {
    "collapsed": false,
    "pycharm": {
     "name": "#%%\n"
    }
   }
  },
  {
   "cell_type": "code",
   "execution_count": 18,
   "outputs": [],
   "source": [
    "\n",
    "# Filter out data that is before 1st quarter of 2020\n",
    "\n",
    "df_before = df.copy(deep=True)"
   ],
   "metadata": {
    "collapsed": false,
    "pycharm": {
     "name": "#%%\n"
    }
   }
  },
  {
   "cell_type": "code",
   "execution_count": 19,
   "outputs": [],
   "source": [
    "df_before = df_before.loc[df_before.apply(lambda x: x.year_quarter in ['2017_1', '2017_2', '2017_3', '2017_4', '2018_1', '2018_2', '2018_3', '2018_4', '2019_1', '2019_2', '2019_3', '2019_4', '2020_1'], axis=1)]"
   ],
   "metadata": {
    "collapsed": false,
    "pycharm": {
     "name": "#%%\n"
    }
   }
  },
  {
   "cell_type": "code",
   "execution_count": 20,
   "outputs": [
    {
     "data": {
      "text/plain": "   Registration_number  Business_area_by_EMTAK_system  All_taxes  Labor_taxes  \\\n0             10000024                              1   12126.74     11533.92   \n1             10000024                              1    8484.90      7931.42   \n2             10000024                              1   10468.75     10068.65   \n3             10000024                              1    7887.05      7751.34   \n4             10000024                              1    9320.26      8757.33   \n\n   Turnover  number_of_employees year_quarter  EMTAK_by_number  \\\n0  51486.75                  9.0       2017_1           5811.0   \n1  59869.39                  8.0       2017_2           5811.0   \n2  55895.57                  8.0       2017_3           5811.0   \n3  57334.79                  9.0       2017_4           5811.0   \n4  59484.22                 10.0       2018_1           5811.0   \n\n   Client_ID_by_Eesti_Pank Registration_date  Deletion_Date  cum_sum_turnover  \\\n0                      8.0        1990-07-17              1          51486.75   \n1                      8.0        1990-07-17              1         111356.14   \n2                      8.0        1990-07-17              1         167251.71   \n3                      8.0        1990-07-17              1         224586.50   \n4                      8.0        1990-07-17              1         284070.72   \n\n   cum_perc_turnover  combined_taxes  cum_sum_combined_taxes  revenue_growth  \\\n0               2.74        23660.66                23660.66            0.00   \n1               5.92        16416.32                40076.98            0.16   \n2               8.89        20537.40                60614.38           -0.07   \n3              11.93        15638.39                76252.77            0.03   \n4              15.09        18077.59                94330.36            0.04   \n\n   profit_per_employee  emp_growth_rate_CGR  ACE  \n0              5720.75             0.015141  3.0  \n1              7483.67             0.015141  3.0  \n2              6986.95             0.015141  3.0  \n3              6370.53             0.015141  3.0  \n4              5948.42             0.015141  3.0  ",
      "text/html": "<div>\n<style scoped>\n    .dataframe tbody tr th:only-of-type {\n        vertical-align: middle;\n    }\n\n    .dataframe tbody tr th {\n        vertical-align: top;\n    }\n\n    .dataframe thead th {\n        text-align: right;\n    }\n</style>\n<table border=\"1\" class=\"dataframe\">\n  <thead>\n    <tr style=\"text-align: right;\">\n      <th></th>\n      <th>Registration_number</th>\n      <th>Business_area_by_EMTAK_system</th>\n      <th>All_taxes</th>\n      <th>Labor_taxes</th>\n      <th>Turnover</th>\n      <th>number_of_employees</th>\n      <th>year_quarter</th>\n      <th>EMTAK_by_number</th>\n      <th>Client_ID_by_Eesti_Pank</th>\n      <th>Registration_date</th>\n      <th>Deletion_Date</th>\n      <th>cum_sum_turnover</th>\n      <th>cum_perc_turnover</th>\n      <th>combined_taxes</th>\n      <th>cum_sum_combined_taxes</th>\n      <th>revenue_growth</th>\n      <th>profit_per_employee</th>\n      <th>emp_growth_rate_CGR</th>\n      <th>ACE</th>\n    </tr>\n  </thead>\n  <tbody>\n    <tr>\n      <th>0</th>\n      <td>10000024</td>\n      <td>1</td>\n      <td>12126.74</td>\n      <td>11533.92</td>\n      <td>51486.75</td>\n      <td>9.0</td>\n      <td>2017_1</td>\n      <td>5811.0</td>\n      <td>8.0</td>\n      <td>1990-07-17</td>\n      <td>1</td>\n      <td>51486.75</td>\n      <td>2.74</td>\n      <td>23660.66</td>\n      <td>23660.66</td>\n      <td>0.00</td>\n      <td>5720.75</td>\n      <td>0.015141</td>\n      <td>3.0</td>\n    </tr>\n    <tr>\n      <th>1</th>\n      <td>10000024</td>\n      <td>1</td>\n      <td>8484.90</td>\n      <td>7931.42</td>\n      <td>59869.39</td>\n      <td>8.0</td>\n      <td>2017_2</td>\n      <td>5811.0</td>\n      <td>8.0</td>\n      <td>1990-07-17</td>\n      <td>1</td>\n      <td>111356.14</td>\n      <td>5.92</td>\n      <td>16416.32</td>\n      <td>40076.98</td>\n      <td>0.16</td>\n      <td>7483.67</td>\n      <td>0.015141</td>\n      <td>3.0</td>\n    </tr>\n    <tr>\n      <th>2</th>\n      <td>10000024</td>\n      <td>1</td>\n      <td>10468.75</td>\n      <td>10068.65</td>\n      <td>55895.57</td>\n      <td>8.0</td>\n      <td>2017_3</td>\n      <td>5811.0</td>\n      <td>8.0</td>\n      <td>1990-07-17</td>\n      <td>1</td>\n      <td>167251.71</td>\n      <td>8.89</td>\n      <td>20537.40</td>\n      <td>60614.38</td>\n      <td>-0.07</td>\n      <td>6986.95</td>\n      <td>0.015141</td>\n      <td>3.0</td>\n    </tr>\n    <tr>\n      <th>3</th>\n      <td>10000024</td>\n      <td>1</td>\n      <td>7887.05</td>\n      <td>7751.34</td>\n      <td>57334.79</td>\n      <td>9.0</td>\n      <td>2017_4</td>\n      <td>5811.0</td>\n      <td>8.0</td>\n      <td>1990-07-17</td>\n      <td>1</td>\n      <td>224586.50</td>\n      <td>11.93</td>\n      <td>15638.39</td>\n      <td>76252.77</td>\n      <td>0.03</td>\n      <td>6370.53</td>\n      <td>0.015141</td>\n      <td>3.0</td>\n    </tr>\n    <tr>\n      <th>4</th>\n      <td>10000024</td>\n      <td>1</td>\n      <td>9320.26</td>\n      <td>8757.33</td>\n      <td>59484.22</td>\n      <td>10.0</td>\n      <td>2018_1</td>\n      <td>5811.0</td>\n      <td>8.0</td>\n      <td>1990-07-17</td>\n      <td>1</td>\n      <td>284070.72</td>\n      <td>15.09</td>\n      <td>18077.59</td>\n      <td>94330.36</td>\n      <td>0.04</td>\n      <td>5948.42</td>\n      <td>0.015141</td>\n      <td>3.0</td>\n    </tr>\n  </tbody>\n</table>\n</div>"
     },
     "execution_count": 20,
     "metadata": {},
     "output_type": "execute_result"
    }
   ],
   "source": [
    "df_before.head()"
   ],
   "metadata": {
    "collapsed": false,
    "pycharm": {
     "name": "#%%\n"
    }
   }
  },
  {
   "cell_type": "code",
   "execution_count": 21,
   "outputs": [
    {
     "data": {
      "text/plain": "(1069895, 19)"
     },
     "execution_count": 21,
     "metadata": {},
     "output_type": "execute_result"
    }
   ],
   "source": [
    "df_before.shape"
   ],
   "metadata": {
    "collapsed": false,
    "pycharm": {
     "name": "#%%\n"
    }
   }
  },
  {
   "cell_type": "code",
   "execution_count": 22,
   "outputs": [],
   "source": [
    "# Save acquired data into a csv\n",
    "\n",
    "df_before.to_csv( \"before_covid_unlabelled.csv\", index=False)"
   ],
   "metadata": {
    "collapsed": false,
    "pycharm": {
     "name": "#%%\n"
    }
   }
  },
  {
   "cell_type": "code",
   "execution_count": 23,
   "outputs": [],
   "source": [
    "# Filter out data that is since 2nd quarter of 2020\n",
    "\n",
    "df_during = df.copy(deep=True)"
   ],
   "metadata": {
    "collapsed": false,
    "pycharm": {
     "name": "#%%\n"
    }
   }
  },
  {
   "cell_type": "code",
   "execution_count": 24,
   "outputs": [],
   "source": [
    "df_during = df_during.loc[df_during.apply(lambda x: x.year_quarter in ['2020_2', '2020_3', '2020_4', '2021_1', '2021_2', '2021_3'], axis=1)]\n"
   ],
   "metadata": {
    "collapsed": false,
    "pycharm": {
     "name": "#%%\n"
    }
   }
  },
  {
   "cell_type": "code",
   "execution_count": 25,
   "outputs": [
    {
     "data": {
      "text/plain": "    Registration_number  Business_area_by_EMTAK_system  All_taxes  \\\n13             10000024                              1   18474.78   \n14             10000024                              1   18969.94   \n15             10000024                              1   20981.29   \n16             10000024                              1   22353.85   \n17             10000024                              1   19685.75   \n\n    Labor_taxes   Turnover  number_of_employees year_quarter  EMTAK_by_number  \\\n13     10983.73  137159.52                  9.0       2020_2           5811.0   \n14     14565.42  107660.58                 10.0       2020_3           5811.0   \n15     15506.56  147818.28                 10.0       2020_4           5811.0   \n16     18034.91  140346.67                 11.0       2021_1           5811.0   \n17     18454.83  162231.81                 12.0       2021_2           5811.0   \n\n    Client_ID_by_Eesti_Pank Registration_date  Deletion_Date  \\\n13                      8.0        1990-07-17              1   \n14                      8.0        1990-07-17              1   \n15                      8.0        1990-07-17              1   \n16                      8.0        1990-07-17              1   \n17                      8.0        1990-07-17              1   \n\n    cum_sum_turnover  cum_perc_turnover  combined_taxes  \\\n13        1179457.60              62.67        29458.51   \n14        1287118.18              68.39        33535.36   \n15        1434936.46              76.25        36487.85   \n16        1575283.13              83.71        40388.76   \n17        1737514.94              92.33        38140.58   \n\n    cum_sum_combined_taxes  revenue_growth  profit_per_employee  \\\n13               350586.87            0.06             15239.95   \n14               384122.23           -0.22             10766.06   \n15               420610.08            0.37             14781.83   \n16               460998.84           -0.05             12758.79   \n17               499139.42            0.16             13519.32   \n\n    emp_growth_rate_CGR  ACE  \n13             0.015141  3.0  \n14             0.015141  3.0  \n15             0.015141  3.0  \n16             0.015141  3.0  \n17             0.015141  3.0  ",
      "text/html": "<div>\n<style scoped>\n    .dataframe tbody tr th:only-of-type {\n        vertical-align: middle;\n    }\n\n    .dataframe tbody tr th {\n        vertical-align: top;\n    }\n\n    .dataframe thead th {\n        text-align: right;\n    }\n</style>\n<table border=\"1\" class=\"dataframe\">\n  <thead>\n    <tr style=\"text-align: right;\">\n      <th></th>\n      <th>Registration_number</th>\n      <th>Business_area_by_EMTAK_system</th>\n      <th>All_taxes</th>\n      <th>Labor_taxes</th>\n      <th>Turnover</th>\n      <th>number_of_employees</th>\n      <th>year_quarter</th>\n      <th>EMTAK_by_number</th>\n      <th>Client_ID_by_Eesti_Pank</th>\n      <th>Registration_date</th>\n      <th>Deletion_Date</th>\n      <th>cum_sum_turnover</th>\n      <th>cum_perc_turnover</th>\n      <th>combined_taxes</th>\n      <th>cum_sum_combined_taxes</th>\n      <th>revenue_growth</th>\n      <th>profit_per_employee</th>\n      <th>emp_growth_rate_CGR</th>\n      <th>ACE</th>\n    </tr>\n  </thead>\n  <tbody>\n    <tr>\n      <th>13</th>\n      <td>10000024</td>\n      <td>1</td>\n      <td>18474.78</td>\n      <td>10983.73</td>\n      <td>137159.52</td>\n      <td>9.0</td>\n      <td>2020_2</td>\n      <td>5811.0</td>\n      <td>8.0</td>\n      <td>1990-07-17</td>\n      <td>1</td>\n      <td>1179457.60</td>\n      <td>62.67</td>\n      <td>29458.51</td>\n      <td>350586.87</td>\n      <td>0.06</td>\n      <td>15239.95</td>\n      <td>0.015141</td>\n      <td>3.0</td>\n    </tr>\n    <tr>\n      <th>14</th>\n      <td>10000024</td>\n      <td>1</td>\n      <td>18969.94</td>\n      <td>14565.42</td>\n      <td>107660.58</td>\n      <td>10.0</td>\n      <td>2020_3</td>\n      <td>5811.0</td>\n      <td>8.0</td>\n      <td>1990-07-17</td>\n      <td>1</td>\n      <td>1287118.18</td>\n      <td>68.39</td>\n      <td>33535.36</td>\n      <td>384122.23</td>\n      <td>-0.22</td>\n      <td>10766.06</td>\n      <td>0.015141</td>\n      <td>3.0</td>\n    </tr>\n    <tr>\n      <th>15</th>\n      <td>10000024</td>\n      <td>1</td>\n      <td>20981.29</td>\n      <td>15506.56</td>\n      <td>147818.28</td>\n      <td>10.0</td>\n      <td>2020_4</td>\n      <td>5811.0</td>\n      <td>8.0</td>\n      <td>1990-07-17</td>\n      <td>1</td>\n      <td>1434936.46</td>\n      <td>76.25</td>\n      <td>36487.85</td>\n      <td>420610.08</td>\n      <td>0.37</td>\n      <td>14781.83</td>\n      <td>0.015141</td>\n      <td>3.0</td>\n    </tr>\n    <tr>\n      <th>16</th>\n      <td>10000024</td>\n      <td>1</td>\n      <td>22353.85</td>\n      <td>18034.91</td>\n      <td>140346.67</td>\n      <td>11.0</td>\n      <td>2021_1</td>\n      <td>5811.0</td>\n      <td>8.0</td>\n      <td>1990-07-17</td>\n      <td>1</td>\n      <td>1575283.13</td>\n      <td>83.71</td>\n      <td>40388.76</td>\n      <td>460998.84</td>\n      <td>-0.05</td>\n      <td>12758.79</td>\n      <td>0.015141</td>\n      <td>3.0</td>\n    </tr>\n    <tr>\n      <th>17</th>\n      <td>10000024</td>\n      <td>1</td>\n      <td>19685.75</td>\n      <td>18454.83</td>\n      <td>162231.81</td>\n      <td>12.0</td>\n      <td>2021_2</td>\n      <td>5811.0</td>\n      <td>8.0</td>\n      <td>1990-07-17</td>\n      <td>1</td>\n      <td>1737514.94</td>\n      <td>92.33</td>\n      <td>38140.58</td>\n      <td>499139.42</td>\n      <td>0.16</td>\n      <td>13519.32</td>\n      <td>0.015141</td>\n      <td>3.0</td>\n    </tr>\n  </tbody>\n</table>\n</div>"
     },
     "execution_count": 25,
     "metadata": {},
     "output_type": "execute_result"
    }
   ],
   "source": [
    "df_during.head()"
   ],
   "metadata": {
    "collapsed": false,
    "pycharm": {
     "name": "#%%\n"
    }
   }
  },
  {
   "cell_type": "code",
   "execution_count": 26,
   "outputs": [
    {
     "data": {
      "text/plain": "(547316, 19)"
     },
     "execution_count": 26,
     "metadata": {},
     "output_type": "execute_result"
    }
   ],
   "source": [
    "df_during.shape"
   ],
   "metadata": {
    "collapsed": false,
    "pycharm": {
     "name": "#%%\n"
    }
   }
  },
  {
   "cell_type": "code",
   "execution_count": 27,
   "outputs": [],
   "source": [
    "# Save acquired data into a csv\n",
    "\n",
    "df_during.to_csv( \"during_covid_unlabelled.csv\", index=False)"
   ],
   "metadata": {
    "collapsed": false,
    "pycharm": {
     "name": "#%%\n"
    }
   }
  },
  {
   "cell_type": "code",
   "execution_count": null,
   "outputs": [],
   "source": [],
   "metadata": {
    "collapsed": false,
    "pycharm": {
     "name": "#%%\n"
    }
   }
  }
 ],
 "metadata": {
  "kernelspec": {
   "display_name": "Python 3",
   "language": "python",
   "name": "python3"
  },
  "language_info": {
   "codemirror_mode": {
    "name": "ipython",
    "version": 2
   },
   "file_extension": ".py",
   "mimetype": "text/x-python",
   "name": "python",
   "nbconvert_exporter": "python",
   "pygments_lexer": "ipython2",
   "version": "2.7.6"
  }
 },
 "nbformat": 4,
 "nbformat_minor": 0
}
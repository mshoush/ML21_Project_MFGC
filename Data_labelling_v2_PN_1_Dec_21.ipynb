{
 "cells": [
  {
   "cell_type": "code",
   "execution_count": 1,
   "outputs": [],
   "source": [
    "# import libraries\n",
    "import pandas as pd\n",
    "import glob\n",
    "import os\n",
    "import numpy as np"
   ],
   "metadata": {
    "collapsed": false,
    "pycharm": {
     "name": "#%%\n"
    }
   }
  },
  {
   "cell_type": "markdown",
   "source": [
    "1. Read data from csv"
   ],
   "metadata": {
    "collapsed": false
   }
  },
  {
   "cell_type": "code",
   "execution_count": 2,
   "outputs": [],
   "source": [
    "os.chdir('./data/dataframes/')\n",
    "df = pd.read_csv('all.csv')\n"
   ],
   "metadata": {
    "collapsed": false,
    "pycharm": {
     "name": "#%%\n"
    }
   }
  },
  {
   "cell_type": "code",
   "execution_count": 3,
   "outputs": [
    {
     "data": {
      "text/plain": "   Registration_number                        Name_x      Type  \\\n0             10000024              EESTI RAAMAT, OÜ  Äriühing   \n1             10000127            ARAVETE APTEEK, TÜ  Äriühing   \n2             10000165         KIVIÕLI KAUBAHOOV, AS  Äriühing   \n3             10000219                      YEAR, AS  Äriühing   \n4             10000248  ITW CONSTRUCTION PRODUCTS OÜ  Äriühing   \n\n  Registered_for_VAT            County  \\\n0                jah     Harju maakond   \n1                jah     Järva maakond   \n2                jah  Ida-Viru maakond   \n3                jah     Harju maakond   \n4                jah     Harju maakond   \n\n                       Business_area_by_EMTAK_system  All_taxes  Labor_taxes  \\\n0                                       INFO JA SIDE   12126.74     11533.92   \n1  HULGI- JA JAEKAUBANDUS; MOOTORSŐIDUKITE JA MOO...    6595.39      3983.36   \n2  HULGI- JA JAEKAUBANDUS; MOOTORSŐIDUKITE JA MOO...   64705.68     39278.43   \n3                                    TÖÖTLEV TÖÖSTUS   21555.48     23840.41   \n4  HULGI- JA JAEKAUBANDUS; MOOTORSŐIDUKITE JA MOO...   92882.60     22990.97   \n\n    Turnover  number_of_employees  ... Deletion_date cum_sum_turnover  \\\n0   51486.75                  9.0  ...             1         51486.75   \n1  106263.62                  2.0  ...             1        106263.62   \n2  501856.24                 33.0  ...             1        501856.24   \n3   90645.11                 34.0  ...             1         90645.11   \n4  888253.22                  5.0  ...             1        888253.22   \n\n   cum_perc_turnover combined_taxes  cum_sum_combined_taxes revenue_growth  \\\n0              100.0       23660.66                23660.66            0.0   \n1              100.0       10578.75                10578.75            0.0   \n2              100.0      103984.11               103984.11            0.0   \n3              100.0       45395.89                45395.89            0.0   \n4              100.0      115873.57               115873.57            0.0   \n\n   profit_per_employee  Birch_index  emp_growth_rate_CGR  ACE  \n0              5720.75          0.0                  0.0  0.0  \n1             53131.81          0.0                  0.0  0.0  \n2             15207.76          0.0                  0.0  0.0  \n3              2666.03          0.0                  0.0  0.0  \n4            177650.64          0.0                  0.0  0.0  \n\n[5 rows x 26 columns]",
      "text/html": "<div>\n<style scoped>\n    .dataframe tbody tr th:only-of-type {\n        vertical-align: middle;\n    }\n\n    .dataframe tbody tr th {\n        vertical-align: top;\n    }\n\n    .dataframe thead th {\n        text-align: right;\n    }\n</style>\n<table border=\"1\" class=\"dataframe\">\n  <thead>\n    <tr style=\"text-align: right;\">\n      <th></th>\n      <th>Registration_number</th>\n      <th>Name_x</th>\n      <th>Type</th>\n      <th>Registered_for_VAT</th>\n      <th>County</th>\n      <th>Business_area_by_EMTAK_system</th>\n      <th>All_taxes</th>\n      <th>Labor_taxes</th>\n      <th>Turnover</th>\n      <th>number_of_employees</th>\n      <th>...</th>\n      <th>Deletion_date</th>\n      <th>cum_sum_turnover</th>\n      <th>cum_perc_turnover</th>\n      <th>combined_taxes</th>\n      <th>cum_sum_combined_taxes</th>\n      <th>revenue_growth</th>\n      <th>profit_per_employee</th>\n      <th>Birch_index</th>\n      <th>emp_growth_rate_CGR</th>\n      <th>ACE</th>\n    </tr>\n  </thead>\n  <tbody>\n    <tr>\n      <th>0</th>\n      <td>10000024</td>\n      <td>EESTI RAAMAT, OÜ</td>\n      <td>Äriühing</td>\n      <td>jah</td>\n      <td>Harju maakond</td>\n      <td>INFO JA SIDE</td>\n      <td>12126.74</td>\n      <td>11533.92</td>\n      <td>51486.75</td>\n      <td>9.0</td>\n      <td>...</td>\n      <td>1</td>\n      <td>51486.75</td>\n      <td>100.0</td>\n      <td>23660.66</td>\n      <td>23660.66</td>\n      <td>0.0</td>\n      <td>5720.75</td>\n      <td>0.0</td>\n      <td>0.0</td>\n      <td>0.0</td>\n    </tr>\n    <tr>\n      <th>1</th>\n      <td>10000127</td>\n      <td>ARAVETE APTEEK, TÜ</td>\n      <td>Äriühing</td>\n      <td>jah</td>\n      <td>Järva maakond</td>\n      <td>HULGI- JA JAEKAUBANDUS; MOOTORSŐIDUKITE JA MOO...</td>\n      <td>6595.39</td>\n      <td>3983.36</td>\n      <td>106263.62</td>\n      <td>2.0</td>\n      <td>...</td>\n      <td>1</td>\n      <td>106263.62</td>\n      <td>100.0</td>\n      <td>10578.75</td>\n      <td>10578.75</td>\n      <td>0.0</td>\n      <td>53131.81</td>\n      <td>0.0</td>\n      <td>0.0</td>\n      <td>0.0</td>\n    </tr>\n    <tr>\n      <th>2</th>\n      <td>10000165</td>\n      <td>KIVIÕLI KAUBAHOOV, AS</td>\n      <td>Äriühing</td>\n      <td>jah</td>\n      <td>Ida-Viru maakond</td>\n      <td>HULGI- JA JAEKAUBANDUS; MOOTORSŐIDUKITE JA MOO...</td>\n      <td>64705.68</td>\n      <td>39278.43</td>\n      <td>501856.24</td>\n      <td>33.0</td>\n      <td>...</td>\n      <td>1</td>\n      <td>501856.24</td>\n      <td>100.0</td>\n      <td>103984.11</td>\n      <td>103984.11</td>\n      <td>0.0</td>\n      <td>15207.76</td>\n      <td>0.0</td>\n      <td>0.0</td>\n      <td>0.0</td>\n    </tr>\n    <tr>\n      <th>3</th>\n      <td>10000219</td>\n      <td>YEAR, AS</td>\n      <td>Äriühing</td>\n      <td>jah</td>\n      <td>Harju maakond</td>\n      <td>TÖÖTLEV TÖÖSTUS</td>\n      <td>21555.48</td>\n      <td>23840.41</td>\n      <td>90645.11</td>\n      <td>34.0</td>\n      <td>...</td>\n      <td>1</td>\n      <td>90645.11</td>\n      <td>100.0</td>\n      <td>45395.89</td>\n      <td>45395.89</td>\n      <td>0.0</td>\n      <td>2666.03</td>\n      <td>0.0</td>\n      <td>0.0</td>\n      <td>0.0</td>\n    </tr>\n    <tr>\n      <th>4</th>\n      <td>10000248</td>\n      <td>ITW CONSTRUCTION PRODUCTS OÜ</td>\n      <td>Äriühing</td>\n      <td>jah</td>\n      <td>Harju maakond</td>\n      <td>HULGI- JA JAEKAUBANDUS; MOOTORSŐIDUKITE JA MOO...</td>\n      <td>92882.60</td>\n      <td>22990.97</td>\n      <td>888253.22</td>\n      <td>5.0</td>\n      <td>...</td>\n      <td>1</td>\n      <td>888253.22</td>\n      <td>100.0</td>\n      <td>115873.57</td>\n      <td>115873.57</td>\n      <td>0.0</td>\n      <td>177650.64</td>\n      <td>0.0</td>\n      <td>0.0</td>\n      <td>0.0</td>\n    </tr>\n  </tbody>\n</table>\n<p>5 rows × 26 columns</p>\n</div>"
     },
     "execution_count": 3,
     "metadata": {},
     "output_type": "execute_result"
    }
   ],
   "source": [
    "df.head()"
   ],
   "metadata": {
    "collapsed": false,
    "pycharm": {
     "name": "#%%\n"
    }
   }
  },
  {
   "cell_type": "code",
   "execution_count": 4,
   "outputs": [
    {
     "data": {
      "text/plain": "        Registration_number                        Name_x      Type  \\\n0                  10000024              EESTI RAAMAT, OÜ  Äriühing   \n1                  10000127            ARAVETE APTEEK, TÜ  Äriühing   \n2                  10000165         KIVIÕLI KAUBAHOOV, AS  Äriühing   \n3                  10000219                      YEAR, AS  Äriühing   \n4                  10000248  ITW CONSTRUCTION PRODUCTS OÜ  Äriühing   \n...                     ...                           ...       ...   \n281776             16127903         EIPPA WSOPERATIONS OÜ  Äriühing   \n281777             16127903         EIPPA WSOPERATIONS OÜ  Äriühing   \n281778             16196755                        KMG OÜ  Äriühing   \n281779             16196755                        KMG OÜ  Äriühing   \n281780             16235461            OPERAIL REPAIRS OÜ  Äriühing   \n\n       Registered_for_VAT             County  \\\n0                     jah      Harju maakond   \n1                     jah      Järva maakond   \n2                     jah   Ida-Viru maakond   \n3                     jah      Harju maakond   \n4                     jah      Harju maakond   \n...                   ...                ...   \n281776                jah  Harju ( Tallinn )   \n281777                jah  Harju ( Tallinn )   \n281778                jah  Harju ( Tallinn )   \n281779                jah  Harju ( Tallinn )   \n281780                jah  Harju ( Tallinn )   \n\n                            Business_area_by_EMTAK_system   All_taxes  \\\n0                                            INFO JA SIDE    12126.74   \n1       HULGI- JA JAEKAUBANDUS; MOOTORSŐIDUKITE JA MOO...     6595.39   \n2       HULGI- JA JAEKAUBANDUS; MOOTORSŐIDUKITE JA MOO...    64705.68   \n3                                         TÖÖTLEV TÖÖSTUS    21555.48   \n4       HULGI- JA JAEKAUBANDUS; MOOTORSŐIDUKITE JA MOO...    92882.60   \n...                                                   ...         ...   \n281776  HULGI- JA JAEKAUBANDUS; MOOTORSÕIDUKITE JA MOO...    71488.78   \n281777  HULGI- JA JAEKAUBANDUS; MOOTORSÕIDUKITE JA MOO...   261333.19   \n281778                                             EHITUS   315204.79   \n281779                                             EHITUS  1084980.06   \n281780                                    TÖÖTLEV TÖÖSTUS   139789.85   \n\n        Labor_taxes     Turnover  number_of_employees  ... Deletion_date  \\\n0          11533.92     51486.75                  9.0  ...             1   \n1           3983.36    106263.62                  2.0  ...             1   \n2          39278.43    501856.24                 33.0  ...             1   \n3          23840.41     90645.11                 34.0  ...             1   \n4          22990.97    888253.22                  5.0  ...             1   \n...             ...          ...                  ...  ...           ...   \n281776     76192.07   1221324.36                229.0  ...             1   \n281777    277445.91    871215.43                346.0  ...             1   \n281778    273426.19   5437446.59                197.0  ...             1   \n281779    705252.97  17291141.71                196.0  ...             1   \n281780     69244.23    746247.48                 81.0  ...             1   \n\n       cum_sum_turnover  cum_perc_turnover combined_taxes  \\\n0              51486.75             100.00       23660.66   \n1             106263.62             100.00       10578.75   \n2             501856.24             100.00      103984.11   \n3              90645.11             100.00       45395.89   \n4             888253.22             100.00      115873.57   \n...                 ...                ...            ...   \n281776       1222484.81              58.39      147680.85   \n281777       2093700.24             100.00      538779.10   \n281778       5437446.59              23.92      588630.98   \n281779      22728588.30             100.00     1790233.03   \n281780        746247.48             100.00      209034.08   \n\n        cum_sum_combined_taxes revenue_growth  profit_per_employee  \\\n0                     23660.66           0.00              5720.75   \n1                     10578.75           0.00             53131.81   \n2                    103984.11           0.00             15207.76   \n3                     45395.89           0.00              2666.03   \n4                    115873.57           0.00            177650.64   \n...                        ...            ...                  ...   \n281776               160115.44        1051.46              5333.29   \n281777               698894.54          -0.29              2517.96   \n281778               588630.98           0.00             27601.25   \n281779              2378864.01           2.18             88220.11   \n281780               209034.08           0.00              9212.93   \n\n        Birch_index  emp_growth_rate_CGR    ACE  \n0               0.0             0.000000    0.0  \n1               0.0             0.000000    0.0  \n2               0.0             0.000000    0.0  \n3               0.0             0.000000    0.0  \n4               0.0             0.000000    0.0  \n...             ...                  ...    ...  \n281776          0.0             0.547249  279.0  \n281777          0.0             0.547249  279.0  \n281778          0.0            -0.002545    1.0  \n281779          0.0            -0.002545    1.0  \n281780          0.0             0.000000    0.0  \n\n[273898 rows x 26 columns]",
      "text/html": "<div>\n<style scoped>\n    .dataframe tbody tr th:only-of-type {\n        vertical-align: middle;\n    }\n\n    .dataframe tbody tr th {\n        vertical-align: top;\n    }\n\n    .dataframe thead th {\n        text-align: right;\n    }\n</style>\n<table border=\"1\" class=\"dataframe\">\n  <thead>\n    <tr style=\"text-align: right;\">\n      <th></th>\n      <th>Registration_number</th>\n      <th>Name_x</th>\n      <th>Type</th>\n      <th>Registered_for_VAT</th>\n      <th>County</th>\n      <th>Business_area_by_EMTAK_system</th>\n      <th>All_taxes</th>\n      <th>Labor_taxes</th>\n      <th>Turnover</th>\n      <th>number_of_employees</th>\n      <th>...</th>\n      <th>Deletion_date</th>\n      <th>cum_sum_turnover</th>\n      <th>cum_perc_turnover</th>\n      <th>combined_taxes</th>\n      <th>cum_sum_combined_taxes</th>\n      <th>revenue_growth</th>\n      <th>profit_per_employee</th>\n      <th>Birch_index</th>\n      <th>emp_growth_rate_CGR</th>\n      <th>ACE</th>\n    </tr>\n  </thead>\n  <tbody>\n    <tr>\n      <th>0</th>\n      <td>10000024</td>\n      <td>EESTI RAAMAT, OÜ</td>\n      <td>Äriühing</td>\n      <td>jah</td>\n      <td>Harju maakond</td>\n      <td>INFO JA SIDE</td>\n      <td>12126.74</td>\n      <td>11533.92</td>\n      <td>51486.75</td>\n      <td>9.0</td>\n      <td>...</td>\n      <td>1</td>\n      <td>51486.75</td>\n      <td>100.00</td>\n      <td>23660.66</td>\n      <td>23660.66</td>\n      <td>0.00</td>\n      <td>5720.75</td>\n      <td>0.0</td>\n      <td>0.000000</td>\n      <td>0.0</td>\n    </tr>\n    <tr>\n      <th>1</th>\n      <td>10000127</td>\n      <td>ARAVETE APTEEK, TÜ</td>\n      <td>Äriühing</td>\n      <td>jah</td>\n      <td>Järva maakond</td>\n      <td>HULGI- JA JAEKAUBANDUS; MOOTORSŐIDUKITE JA MOO...</td>\n      <td>6595.39</td>\n      <td>3983.36</td>\n      <td>106263.62</td>\n      <td>2.0</td>\n      <td>...</td>\n      <td>1</td>\n      <td>106263.62</td>\n      <td>100.00</td>\n      <td>10578.75</td>\n      <td>10578.75</td>\n      <td>0.00</td>\n      <td>53131.81</td>\n      <td>0.0</td>\n      <td>0.000000</td>\n      <td>0.0</td>\n    </tr>\n    <tr>\n      <th>2</th>\n      <td>10000165</td>\n      <td>KIVIÕLI KAUBAHOOV, AS</td>\n      <td>Äriühing</td>\n      <td>jah</td>\n      <td>Ida-Viru maakond</td>\n      <td>HULGI- JA JAEKAUBANDUS; MOOTORSŐIDUKITE JA MOO...</td>\n      <td>64705.68</td>\n      <td>39278.43</td>\n      <td>501856.24</td>\n      <td>33.0</td>\n      <td>...</td>\n      <td>1</td>\n      <td>501856.24</td>\n      <td>100.00</td>\n      <td>103984.11</td>\n      <td>103984.11</td>\n      <td>0.00</td>\n      <td>15207.76</td>\n      <td>0.0</td>\n      <td>0.000000</td>\n      <td>0.0</td>\n    </tr>\n    <tr>\n      <th>3</th>\n      <td>10000219</td>\n      <td>YEAR, AS</td>\n      <td>Äriühing</td>\n      <td>jah</td>\n      <td>Harju maakond</td>\n      <td>TÖÖTLEV TÖÖSTUS</td>\n      <td>21555.48</td>\n      <td>23840.41</td>\n      <td>90645.11</td>\n      <td>34.0</td>\n      <td>...</td>\n      <td>1</td>\n      <td>90645.11</td>\n      <td>100.00</td>\n      <td>45395.89</td>\n      <td>45395.89</td>\n      <td>0.00</td>\n      <td>2666.03</td>\n      <td>0.0</td>\n      <td>0.000000</td>\n      <td>0.0</td>\n    </tr>\n    <tr>\n      <th>4</th>\n      <td>10000248</td>\n      <td>ITW CONSTRUCTION PRODUCTS OÜ</td>\n      <td>Äriühing</td>\n      <td>jah</td>\n      <td>Harju maakond</td>\n      <td>HULGI- JA JAEKAUBANDUS; MOOTORSŐIDUKITE JA MOO...</td>\n      <td>92882.60</td>\n      <td>22990.97</td>\n      <td>888253.22</td>\n      <td>5.0</td>\n      <td>...</td>\n      <td>1</td>\n      <td>888253.22</td>\n      <td>100.00</td>\n      <td>115873.57</td>\n      <td>115873.57</td>\n      <td>0.00</td>\n      <td>177650.64</td>\n      <td>0.0</td>\n      <td>0.000000</td>\n      <td>0.0</td>\n    </tr>\n    <tr>\n      <th>...</th>\n      <td>...</td>\n      <td>...</td>\n      <td>...</td>\n      <td>...</td>\n      <td>...</td>\n      <td>...</td>\n      <td>...</td>\n      <td>...</td>\n      <td>...</td>\n      <td>...</td>\n      <td>...</td>\n      <td>...</td>\n      <td>...</td>\n      <td>...</td>\n      <td>...</td>\n      <td>...</td>\n      <td>...</td>\n      <td>...</td>\n      <td>...</td>\n      <td>...</td>\n      <td>...</td>\n    </tr>\n    <tr>\n      <th>281776</th>\n      <td>16127903</td>\n      <td>EIPPA WSOPERATIONS OÜ</td>\n      <td>Äriühing</td>\n      <td>jah</td>\n      <td>Harju ( Tallinn )</td>\n      <td>HULGI- JA JAEKAUBANDUS; MOOTORSÕIDUKITE JA MOO...</td>\n      <td>71488.78</td>\n      <td>76192.07</td>\n      <td>1221324.36</td>\n      <td>229.0</td>\n      <td>...</td>\n      <td>1</td>\n      <td>1222484.81</td>\n      <td>58.39</td>\n      <td>147680.85</td>\n      <td>160115.44</td>\n      <td>1051.46</td>\n      <td>5333.29</td>\n      <td>0.0</td>\n      <td>0.547249</td>\n      <td>279.0</td>\n    </tr>\n    <tr>\n      <th>281777</th>\n      <td>16127903</td>\n      <td>EIPPA WSOPERATIONS OÜ</td>\n      <td>Äriühing</td>\n      <td>jah</td>\n      <td>Harju ( Tallinn )</td>\n      <td>HULGI- JA JAEKAUBANDUS; MOOTORSÕIDUKITE JA MOO...</td>\n      <td>261333.19</td>\n      <td>277445.91</td>\n      <td>871215.43</td>\n      <td>346.0</td>\n      <td>...</td>\n      <td>1</td>\n      <td>2093700.24</td>\n      <td>100.00</td>\n      <td>538779.10</td>\n      <td>698894.54</td>\n      <td>-0.29</td>\n      <td>2517.96</td>\n      <td>0.0</td>\n      <td>0.547249</td>\n      <td>279.0</td>\n    </tr>\n    <tr>\n      <th>281778</th>\n      <td>16196755</td>\n      <td>KMG OÜ</td>\n      <td>Äriühing</td>\n      <td>jah</td>\n      <td>Harju ( Tallinn )</td>\n      <td>EHITUS</td>\n      <td>315204.79</td>\n      <td>273426.19</td>\n      <td>5437446.59</td>\n      <td>197.0</td>\n      <td>...</td>\n      <td>1</td>\n      <td>5437446.59</td>\n      <td>23.92</td>\n      <td>588630.98</td>\n      <td>588630.98</td>\n      <td>0.00</td>\n      <td>27601.25</td>\n      <td>0.0</td>\n      <td>-0.002545</td>\n      <td>1.0</td>\n    </tr>\n    <tr>\n      <th>281779</th>\n      <td>16196755</td>\n      <td>KMG OÜ</td>\n      <td>Äriühing</td>\n      <td>jah</td>\n      <td>Harju ( Tallinn )</td>\n      <td>EHITUS</td>\n      <td>1084980.06</td>\n      <td>705252.97</td>\n      <td>17291141.71</td>\n      <td>196.0</td>\n      <td>...</td>\n      <td>1</td>\n      <td>22728588.30</td>\n      <td>100.00</td>\n      <td>1790233.03</td>\n      <td>2378864.01</td>\n      <td>2.18</td>\n      <td>88220.11</td>\n      <td>0.0</td>\n      <td>-0.002545</td>\n      <td>1.0</td>\n    </tr>\n    <tr>\n      <th>281780</th>\n      <td>16235461</td>\n      <td>OPERAIL REPAIRS OÜ</td>\n      <td>Äriühing</td>\n      <td>jah</td>\n      <td>Harju ( Tallinn )</td>\n      <td>TÖÖTLEV TÖÖSTUS</td>\n      <td>139789.85</td>\n      <td>69244.23</td>\n      <td>746247.48</td>\n      <td>81.0</td>\n      <td>...</td>\n      <td>1</td>\n      <td>746247.48</td>\n      <td>100.00</td>\n      <td>209034.08</td>\n      <td>209034.08</td>\n      <td>0.00</td>\n      <td>9212.93</td>\n      <td>0.0</td>\n      <td>0.000000</td>\n      <td>0.0</td>\n    </tr>\n  </tbody>\n</table>\n<p>273898 rows × 26 columns</p>\n</div>"
     },
     "execution_count": 4,
     "metadata": {},
     "output_type": "execute_result"
    }
   ],
   "source": [
    "df.groupby(by='Registration_number').head()"
   ],
   "metadata": {
    "collapsed": false,
    "pycharm": {
     "name": "#%%\n"
    }
   }
  },
  {
   "cell_type": "code",
   "execution_count": 5,
   "outputs": [
    {
     "data": {
      "text/plain": "(281781, 26)"
     },
     "execution_count": 5,
     "metadata": {},
     "output_type": "execute_result"
    }
   ],
   "source": [
    "df.shape"
   ],
   "metadata": {
    "collapsed": false,
    "pycharm": {
     "name": "#%%\n"
    }
   }
  },
  {
   "cell_type": "code",
   "execution_count": 6,
   "outputs": [
    {
     "data": {
      "text/plain": "Registration_number                            88800\nName_x                                         89849\nType                                               1\nRegistered_for_VAT                                 2\nCounty                                            95\nBusiness_area_by_EMTAK_system                     24\nAll_taxes                                     196424\nLabor_taxes                                   121231\nTurnover                                      210208\nnumber_of_employees                              480\nyear_quarter                                      19\nBusiness_area_by_EMTAK_system_letter              19\nBusiness_are_by_EMTAK_system_number              544\nInstitutional_classification                      10\nClient_identifyer_by_Estonian_Central_Bank         9\nRegistration_date                               7474\nDeletion_date                                      2\ncum_sum_turnover                              227099\ncum_perc_turnover                              10001\ncombined_taxes                                205230\ncum_sum_combined_taxes                        231226\nrevenue_growth                                 10952\nprofit_per_employee                           207465\nBirch_index                                        1\nemp_growth_rate_CGR                             2356\nACE                                               88\ndtype: int64"
     },
     "execution_count": 6,
     "metadata": {},
     "output_type": "execute_result"
    }
   ],
   "source": [
    "df.nunique()"
   ],
   "metadata": {
    "collapsed": false,
    "pycharm": {
     "name": "#%%\n"
    }
   }
  },
  {
   "cell_type": "code",
   "execution_count": 7,
   "outputs": [
    {
     "data": {
      "text/plain": "      Registration_number     Name_x      Type Registered_for_VAT  \\\n9902             10391131  NORTAL AS  Äriühing                jah   \n9903             10391131  NORTAL AS  Äriühing                jah   \n\n             County Business_area_by_EMTAK_system   All_taxes  Labor_taxes  \\\n9902  Harju maakond                  INFO JA SIDE  1426220.77    994053.02   \n9903  Harju maakond                  INFO JA SIDE  1550912.46   1195574.24   \n\n        Turnover  number_of_employees  ... Deletion_date cum_sum_turnover  \\\n9902  8609633.24                265.0  ...             1       8609633.24   \n9903  4944107.48                290.0  ...             1      13553740.72   \n\n      cum_perc_turnover combined_taxes  cum_sum_combined_taxes revenue_growth  \\\n9902              63.52     2420273.79              2420273.79           0.00   \n9903             100.00     2746486.70              5166760.49          -0.43   \n\n      profit_per_employee  Birch_index  emp_growth_rate_CGR   ACE  \n9902             32489.18          0.0              0.03005  25.0  \n9903             17048.65          0.0              0.03005  25.0  \n\n[2 rows x 26 columns]",
      "text/html": "<div>\n<style scoped>\n    .dataframe tbody tr th:only-of-type {\n        vertical-align: middle;\n    }\n\n    .dataframe tbody tr th {\n        vertical-align: top;\n    }\n\n    .dataframe thead th {\n        text-align: right;\n    }\n</style>\n<table border=\"1\" class=\"dataframe\">\n  <thead>\n    <tr style=\"text-align: right;\">\n      <th></th>\n      <th>Registration_number</th>\n      <th>Name_x</th>\n      <th>Type</th>\n      <th>Registered_for_VAT</th>\n      <th>County</th>\n      <th>Business_area_by_EMTAK_system</th>\n      <th>All_taxes</th>\n      <th>Labor_taxes</th>\n      <th>Turnover</th>\n      <th>number_of_employees</th>\n      <th>...</th>\n      <th>Deletion_date</th>\n      <th>cum_sum_turnover</th>\n      <th>cum_perc_turnover</th>\n      <th>combined_taxes</th>\n      <th>cum_sum_combined_taxes</th>\n      <th>revenue_growth</th>\n      <th>profit_per_employee</th>\n      <th>Birch_index</th>\n      <th>emp_growth_rate_CGR</th>\n      <th>ACE</th>\n    </tr>\n  </thead>\n  <tbody>\n    <tr>\n      <th>9902</th>\n      <td>10391131</td>\n      <td>NORTAL AS</td>\n      <td>Äriühing</td>\n      <td>jah</td>\n      <td>Harju maakond</td>\n      <td>INFO JA SIDE</td>\n      <td>1426220.77</td>\n      <td>994053.02</td>\n      <td>8609633.24</td>\n      <td>265.0</td>\n      <td>...</td>\n      <td>1</td>\n      <td>8609633.24</td>\n      <td>63.52</td>\n      <td>2420273.79</td>\n      <td>2420273.79</td>\n      <td>0.00</td>\n      <td>32489.18</td>\n      <td>0.0</td>\n      <td>0.03005</td>\n      <td>25.0</td>\n    </tr>\n    <tr>\n      <th>9903</th>\n      <td>10391131</td>\n      <td>NORTAL AS</td>\n      <td>Äriühing</td>\n      <td>jah</td>\n      <td>Harju maakond</td>\n      <td>INFO JA SIDE</td>\n      <td>1550912.46</td>\n      <td>1195574.24</td>\n      <td>4944107.48</td>\n      <td>290.0</td>\n      <td>...</td>\n      <td>1</td>\n      <td>13553740.72</td>\n      <td>100.00</td>\n      <td>2746486.70</td>\n      <td>5166760.49</td>\n      <td>-0.43</td>\n      <td>17048.65</td>\n      <td>0.0</td>\n      <td>0.03005</td>\n      <td>25.0</td>\n    </tr>\n  </tbody>\n</table>\n<p>2 rows × 26 columns</p>\n</div>"
     },
     "execution_count": 7,
     "metadata": {},
     "output_type": "execute_result"
    }
   ],
   "source": [
    "df.query('Registration_number == 10391131')"
   ],
   "metadata": {
    "collapsed": false,
    "pycharm": {
     "name": "#%%\n"
    }
   }
  },
  {
   "cell_type": "code",
   "execution_count": 8,
   "outputs": [
    {
     "data": {
      "text/plain": "      Registration_number      Name_x      Type Registered_for_VAT  \\\n8847             10364097  HELMES, AS  Äriühing                jah   \n8848             10364097  HELMES, AS  Äriühing                jah   \n\n             County Business_area_by_EMTAK_system   All_taxes  Labor_taxes  \\\n8847  Harju maakond                  INFO JA SIDE   848140.81    704510.69   \n8848  Harju maakond                  INFO JA SIDE  1330900.61    777375.57   \n\n        Turnover  number_of_employees  ... Deletion_date cum_sum_turnover  \\\n8847  5694583.16                152.0  ...             1       5694583.16   \n8848  7394108.34                153.0  ...             1      13088691.50   \n\n      cum_perc_turnover combined_taxes  cum_sum_combined_taxes revenue_growth  \\\n8847              43.51     1552651.50              1552651.50            0.0   \n8848             100.00     2108276.18              3660927.68            0.3   \n\n      profit_per_employee  Birch_index  emp_growth_rate_CGR  ACE  \n8847             37464.36          0.0             0.002186  1.0  \n8848             48327.51          0.0             0.002186  1.0  \n\n[2 rows x 26 columns]",
      "text/html": "<div>\n<style scoped>\n    .dataframe tbody tr th:only-of-type {\n        vertical-align: middle;\n    }\n\n    .dataframe tbody tr th {\n        vertical-align: top;\n    }\n\n    .dataframe thead th {\n        text-align: right;\n    }\n</style>\n<table border=\"1\" class=\"dataframe\">\n  <thead>\n    <tr style=\"text-align: right;\">\n      <th></th>\n      <th>Registration_number</th>\n      <th>Name_x</th>\n      <th>Type</th>\n      <th>Registered_for_VAT</th>\n      <th>County</th>\n      <th>Business_area_by_EMTAK_system</th>\n      <th>All_taxes</th>\n      <th>Labor_taxes</th>\n      <th>Turnover</th>\n      <th>number_of_employees</th>\n      <th>...</th>\n      <th>Deletion_date</th>\n      <th>cum_sum_turnover</th>\n      <th>cum_perc_turnover</th>\n      <th>combined_taxes</th>\n      <th>cum_sum_combined_taxes</th>\n      <th>revenue_growth</th>\n      <th>profit_per_employee</th>\n      <th>Birch_index</th>\n      <th>emp_growth_rate_CGR</th>\n      <th>ACE</th>\n    </tr>\n  </thead>\n  <tbody>\n    <tr>\n      <th>8847</th>\n      <td>10364097</td>\n      <td>HELMES, AS</td>\n      <td>Äriühing</td>\n      <td>jah</td>\n      <td>Harju maakond</td>\n      <td>INFO JA SIDE</td>\n      <td>848140.81</td>\n      <td>704510.69</td>\n      <td>5694583.16</td>\n      <td>152.0</td>\n      <td>...</td>\n      <td>1</td>\n      <td>5694583.16</td>\n      <td>43.51</td>\n      <td>1552651.50</td>\n      <td>1552651.50</td>\n      <td>0.0</td>\n      <td>37464.36</td>\n      <td>0.0</td>\n      <td>0.002186</td>\n      <td>1.0</td>\n    </tr>\n    <tr>\n      <th>8848</th>\n      <td>10364097</td>\n      <td>HELMES, AS</td>\n      <td>Äriühing</td>\n      <td>jah</td>\n      <td>Harju maakond</td>\n      <td>INFO JA SIDE</td>\n      <td>1330900.61</td>\n      <td>777375.57</td>\n      <td>7394108.34</td>\n      <td>153.0</td>\n      <td>...</td>\n      <td>1</td>\n      <td>13088691.50</td>\n      <td>100.00</td>\n      <td>2108276.18</td>\n      <td>3660927.68</td>\n      <td>0.3</td>\n      <td>48327.51</td>\n      <td>0.0</td>\n      <td>0.002186</td>\n      <td>1.0</td>\n    </tr>\n  </tbody>\n</table>\n<p>2 rows × 26 columns</p>\n</div>"
     },
     "execution_count": 8,
     "metadata": {},
     "output_type": "execute_result"
    }
   ],
   "source": [
    "df.query('Registration_number == 10364097')"
   ],
   "metadata": {
    "collapsed": false,
    "pycharm": {
     "name": "#%%\n"
    }
   }
  },
  {
   "cell_type": "code",
   "execution_count": 9,
   "outputs": [
    {
     "data": {
      "text/plain": "Empty DataFrame\nColumns: [Registration_number, Name_x, Type, Registered_for_VAT, County, Business_area_by_EMTAK_system, All_taxes, Labor_taxes, Turnover, number_of_employees, year_quarter, Business_area_by_EMTAK_system_letter, Business_are_by_EMTAK_system_number, Institutional_classification, Client_identifyer_by_Estonian_Central_Bank, Registration_date, Deletion_date, cum_sum_turnover, cum_perc_turnover, combined_taxes, cum_sum_combined_taxes, revenue_growth, profit_per_employee, Birch_index, emp_growth_rate_CGR, ACE]\nIndex: []\n\n[0 rows x 26 columns]",
      "text/html": "<div>\n<style scoped>\n    .dataframe tbody tr th:only-of-type {\n        vertical-align: middle;\n    }\n\n    .dataframe tbody tr th {\n        vertical-align: top;\n    }\n\n    .dataframe thead th {\n        text-align: right;\n    }\n</style>\n<table border=\"1\" class=\"dataframe\">\n  <thead>\n    <tr style=\"text-align: right;\">\n      <th></th>\n      <th>Registration_number</th>\n      <th>Name_x</th>\n      <th>Type</th>\n      <th>Registered_for_VAT</th>\n      <th>County</th>\n      <th>Business_area_by_EMTAK_system</th>\n      <th>All_taxes</th>\n      <th>Labor_taxes</th>\n      <th>Turnover</th>\n      <th>number_of_employees</th>\n      <th>...</th>\n      <th>Deletion_date</th>\n      <th>cum_sum_turnover</th>\n      <th>cum_perc_turnover</th>\n      <th>combined_taxes</th>\n      <th>cum_sum_combined_taxes</th>\n      <th>revenue_growth</th>\n      <th>profit_per_employee</th>\n      <th>Birch_index</th>\n      <th>emp_growth_rate_CGR</th>\n      <th>ACE</th>\n    </tr>\n  </thead>\n  <tbody>\n  </tbody>\n</table>\n<p>0 rows × 26 columns</p>\n</div>"
     },
     "execution_count": 9,
     "metadata": {},
     "output_type": "execute_result"
    }
   ],
   "source": [
    "df.query('Registration_number == 10000018')\n",
    "\n",
    "# Amserv Auto AS - big company, doubtful if missing\n"
   ],
   "metadata": {
    "collapsed": false,
    "pycharm": {
     "name": "#%%\n"
    }
   }
  },
  {
   "cell_type": "code",
   "execution_count": 9,
   "outputs": [],
   "source": [
    "\n"
   ],
   "metadata": {
    "collapsed": false,
    "pycharm": {
     "name": "#%%\n"
    }
   }
  }
 ],
 "metadata": {
  "kernelspec": {
   "display_name": "Python 3",
   "language": "python",
   "name": "python3"
  },
  "language_info": {
   "codemirror_mode": {
    "name": "ipython",
    "version": 2
   },
   "file_extension": ".py",
   "mimetype": "text/x-python",
   "name": "python",
   "nbconvert_exporter": "python",
   "pygments_lexer": "ipython2",
   "version": "2.7.6"
  }
 },
 "nbformat": 4,
 "nbformat_minor": 0
}